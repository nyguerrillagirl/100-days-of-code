{
 "cells": [
  {
   "cell_type": "code",
   "execution_count": 1,
   "id": "62daffa8-0601-4299-b5d5-62854fbafa27",
   "metadata": {},
   "outputs": [],
   "source": [
    "users = [\n",
    "    { \"id\": 0, \"name\": \"Hero\" },\n",
    "    { \"id\": 1, \"name\": \"Dunn\" },\n",
    "    { \"id\": 2, \"name\": \"Sue\" },\n",
    "    { \"id\": 3, \"name\": \"Chi\" },\n",
    "    { \"id\": 4, \"name\": \"Thor\" },\n",
    "    { \"id\": 5, \"name\": \"Clive\" },\n",
    "    { \"id\": 6, \"name\": \"Hicks\" },\n",
    "    { \"id\": 7, \"name\": \"Devin\" },\n",
    "    { \"id\": 8, \"name\": \"Kate\" },\n",
    "    { \"id\": 9, \"name\": \"Klein\" }\n",
    "]"
   ]
  },
  {
   "cell_type": "code",
   "execution_count": 2,
   "id": "fd0b945a-eae4-47a9-b660-36876eacaebb",
   "metadata": {},
   "outputs": [],
   "source": [
    "friendship_pairs = [(0, 1), (0, 2), (1, 2), (1, 3), (2, 3), (3, 4), \\\n",
    "                    (4, 5), (5, 6), (5, 7), (6, 8), (7, 8), (8, 9)]"
   ]
  },
  {
   "cell_type": "code",
   "execution_count": 3,
   "id": "3b787134-bf03-4a4c-a0b6-8a1fa0ef37ba",
   "metadata": {},
   "outputs": [
    {
     "data": {
      "text/plain": [
       "{0: [], 1: [], 2: [], 3: [], 4: [], 5: [], 6: [], 7: [], 8: [], 9: []}"
      ]
     },
     "execution_count": 3,
     "metadata": {},
     "output_type": "execute_result"
    }
   ],
   "source": [
    "# Initialize the dict with an empty list for each user id:\n",
    "friendships = { users[\"id\"] : [] for users in users }\n",
    "friendships"
   ]
  },
  {
   "cell_type": "code",
   "execution_count": 4,
   "id": "3270db60-7a55-49c7-a961-742ff8389924",
   "metadata": {},
   "outputs": [],
   "source": [
    "# And loop over the friendship pairs to populate it:\n",
    "for i, j in friendship_pairs:\n",
    "    friendships[i].append(j) # Add j as a friend of user i\n",
    "    friendships[j].append(i) # Add i as a friend of user j"
   ]
  },
  {
   "cell_type": "markdown",
   "id": "46b17df1-8e4d-44e2-b987-893efaf23877",
   "metadata": {},
   "source": [
    "### What's the average number of connections?"
   ]
  },
  {
   "cell_type": "code",
   "execution_count": 5,
   "id": "add509b7-2331-43d9-b362-b8a93ad63c15",
   "metadata": {},
   "outputs": [],
   "source": [
    "def number_of_friends(user):\n",
    "    \"\"\"\n",
    "    How many friends does _user_have?\n",
    "    \"\"\"\n",
    "    user_id = user[\"id\"]\n",
    "    friends_ids = friendships[user_id]\n",
    "    return len(friends_ids)"
   ]
  },
  {
   "cell_type": "code",
   "execution_count": 6,
   "id": "406dd31f-1f20-4e97-82c4-5cb3c411aeaa",
   "metadata": {},
   "outputs": [
    {
     "name": "stdout",
     "output_type": "stream",
     "text": [
      "{'id': 0, 'name': 'Hero'}\n",
      "{'id': 1, 'name': 'Dunn'}\n",
      "{'id': 2, 'name': 'Sue'}\n",
      "{'id': 3, 'name': 'Chi'}\n",
      "{'id': 4, 'name': 'Thor'}\n",
      "{'id': 5, 'name': 'Clive'}\n",
      "{'id': 6, 'name': 'Hicks'}\n",
      "{'id': 7, 'name': 'Devin'}\n",
      "{'id': 8, 'name': 'Kate'}\n",
      "{'id': 9, 'name': 'Klein'}\n"
     ]
    }
   ],
   "source": [
    "for user in users:\n",
    "    print(user)"
   ]
  },
  {
   "cell_type": "code",
   "execution_count": 7,
   "id": "79a86d5f-6d70-4ff2-8270-aa23f178ce0f",
   "metadata": {},
   "outputs": [
    {
     "data": {
      "text/plain": [
       "24"
      ]
     },
     "execution_count": 7,
     "metadata": {},
     "output_type": "execute_result"
    }
   ],
   "source": [
    "total_connections = sum([number_of_friends(user) for user in users])\n",
    "total_connections"
   ]
  },
  {
   "cell_type": "code",
   "execution_count": 9,
   "id": "ab93983e-46f7-4653-8b7f-1a91f69dc944",
   "metadata": {},
   "outputs": [
    {
     "data": {
      "text/plain": [
       "2.4"
      ]
     },
     "execution_count": 9,
     "metadata": {},
     "output_type": "execute_result"
    }
   ],
   "source": [
    "num_users = len(users)\n",
    "avg_connections = total_connections / num_users\n",
    "avg_connections"
   ]
  },
  {
   "cell_type": "code",
   "execution_count": null,
   "id": "a8563800-be78-4125-b4cd-fa351a987791",
   "metadata": {},
   "outputs": [],
   "source": [
    "# Create a list"
   ]
  }
 ],
 "metadata": {
  "kernelspec": {
   "display_name": "Python 3 (ipykernel)",
   "language": "python",
   "name": "python3"
  },
  "language_info": {
   "codemirror_mode": {
    "name": "ipython",
    "version": 3
   },
   "file_extension": ".py",
   "mimetype": "text/x-python",
   "name": "python",
   "nbconvert_exporter": "python",
   "pygments_lexer": "ipython3",
   "version": "3.10.16"
  }
 },
 "nbformat": 4,
 "nbformat_minor": 5
}
