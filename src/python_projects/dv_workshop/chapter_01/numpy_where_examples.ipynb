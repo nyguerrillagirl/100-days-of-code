{
 "cells": [
  {
   "cell_type": "markdown",
   "id": "38a12012-74cf-4c01-9cc8-f6c8e5d1f719",
   "metadata": {},
   "source": [
    "### 1. Replace Elements with numpy.where()\n",
    "\n",
    "We'll use a 2 dimensional random array here, and only output the positive elements"
   ]
  },
  {
   "cell_type": "code",
   "execution_count": 4,
   "id": "adee383f-2282-4268-8ec4-afc6feb47e9b",
   "metadata": {},
   "outputs": [
    {
     "name": "stdout",
     "output_type": "stream",
     "text": [
      "[[ 0.08195344  0.12666454  1.0349408 ]\n",
      " [-0.04841144  1.62894323 -0.99378598]]\n"
     ]
    }
   ],
   "source": [
    "import numpy as np\n",
    "\n",
    "# Random initialization of a (2D array)\n",
    "a = np.random.randn(2,3)\n",
    "print (a)"
   ]
  },
  {
   "cell_type": "code",
   "execution_count": 5,
   "id": "a82e849b-9c9e-498b-86a5-5d8e1da22122",
   "metadata": {},
   "outputs": [
    {
     "data": {
      "text/plain": [
       "array([[0.08195344, 0.12666454, 1.0349408 ],\n",
       "       [0.        , 1.62894323, 0.        ]])"
      ]
     },
     "execution_count": 5,
     "metadata": {},
     "output_type": "execute_result"
    }
   ],
   "source": [
    "# b will be all elements of a whenever the condition holds true (i.e. only positive elements)\n",
    "# Otherwise, set it as 0\n",
    "b = np.where(a > 0, a, 0)\n",
    "b"
   ]
  },
  {
   "cell_type": "code",
   "execution_count": 7,
   "id": "02648e2d-0366-4cf6-9387-6068959beaaf",
   "metadata": {},
   "outputs": [
    {
     "name": "stdout",
     "output_type": "stream",
     "text": [
      "[[-0.6640197  -0.61972513  1.67230527]\n",
      " [ 0.82940929  0.91756865  1.05292563]]\n",
      "(array([0, 1, 1, 1], dtype=int64), array([2, 0, 1, 2], dtype=int64))\n"
     ]
    }
   ],
   "source": [
    "import random\n",
    "import numpy as np\n",
    "\n",
    "a = np.random.randn(2, 3)\n",
    "print(a)\n",
    "b = np.where(a > 0)\n",
    "print(b)\n"
   ]
  },
  {
   "cell_type": "code",
   "execution_count": 8,
   "id": "47f4f6c0-812b-424d-a09e-36b102813ca2",
   "metadata": {},
   "outputs": [
    {
     "name": "stdout",
     "output_type": "stream",
     "text": [
      "[0 1 2 3 4 5 6 7 8 9]\n",
      "[ 0  1  2  3  4 50 60 70 80 90]\n"
     ]
    }
   ],
   "source": [
    "import numpy as np\n",
    "\n",
    "a = np.arange(10)\n",
    "\n",
    "b = np.where(a < 5, a, a * 10)\n",
    "\n",
    "print(a)\n",
    "print(b)"
   ]
  },
  {
   "cell_type": "code",
   "execution_count": 9,
   "id": "83ac2005-048e-46d1-8e98-6c269a82786c",
   "metadata": {},
   "outputs": [
    {
     "name": "stdout",
     "output_type": "stream",
     "text": [
      "[[ 0  1  2  3]\n",
      " [ 4  5  6  7]\n",
      " [ 8  9 10 11]]\n",
      "[[0 1 2 3]]\n",
      "[[ 0  1  2  3]\n",
      " [ 4 10 20 30]\n",
      " [ 0 10 20 30]]\n"
     ]
    }
   ],
   "source": [
    "import numpy as np\n",
    "\n",
    "a = np.arange(12).reshape(3, 4)\n",
    "\n",
    "b = np.arange(4).reshape(1, 4)\n",
    "\n",
    "print(a)\n",
    "print(b)\n",
    "\n",
    "# Broadcasts (a < 5, a, and b * 10)\n",
    "# of shape (3, 4), (3, 4) and (1, 4)\n",
    "c = np.where(a < 5, a, b * 10)\n",
    "\n",
    "print(c)"
   ]
  },
  {
   "cell_type": "code",
   "execution_count": 11,
   "id": "1b5283aa-2b8b-426f-a759-47288b0ad085",
   "metadata": {},
   "outputs": [
    {
     "data": {
      "text/plain": [
       "array([1, 2, 3])"
      ]
     },
     "execution_count": 11,
     "metadata": {},
     "output_type": "execute_result"
    }
   ],
   "source": [
    "array_1D = np.array([1,2,3])\n",
    "array_1D"
   ]
  },
  {
   "cell_type": "code",
   "execution_count": 12,
   "id": "1faef241-c800-4c85-b1e0-b3ae721b4806",
   "metadata": {},
   "outputs": [
    {
     "data": {
      "text/plain": [
       "array([[1],\n",
       "       [2],\n",
       "       [3]])"
      ]
     },
     "execution_count": 12,
     "metadata": {},
     "output_type": "execute_result"
    }
   ],
   "source": [
    "column_array_2D = array_1D.reshape((3,1))\n",
    "column_array_2D"
   ]
  },
  {
   "cell_type": "code",
   "execution_count": 13,
   "id": "682031ee-3e9f-4391-b8ec-ed25b11e801b",
   "metadata": {},
   "outputs": [
    {
     "data": {
      "text/plain": [
       "array([[1],\n",
       "       [2],\n",
       "       [3]])"
      ]
     },
     "execution_count": 13,
     "metadata": {},
     "output_type": "execute_result"
    }
   ],
   "source": [
    "my_column_array_2D = array_1D.reshape((-1,1))\n",
    "my_column_array_2D"
   ]
  },
  {
   "cell_type": "code",
   "execution_count": 14,
   "id": "dc150a07-28ec-4c18-9144-192ce2c7f6fa",
   "metadata": {},
   "outputs": [
    {
     "data": {
      "text/plain": [
       "array([[1, 2, 3]])"
      ]
     },
     "execution_count": 14,
     "metadata": {},
     "output_type": "execute_result"
    }
   ],
   "source": [
    "row_array_2D = array_1D.reshape((1,3))\n",
    "row_array_2D"
   ]
  },
  {
   "cell_type": "code",
   "execution_count": null,
   "id": "f74b11f8-707e-4d08-9963-09c1654edbb4",
   "metadata": {},
   "outputs": [],
   "source": []
  }
 ],
 "metadata": {
  "kernelspec": {
   "display_name": "Python 3 (ipykernel)",
   "language": "python",
   "name": "python3"
  },
  "language_info": {
   "codemirror_mode": {
    "name": "ipython",
    "version": 3
   },
   "file_extension": ".py",
   "mimetype": "text/x-python",
   "name": "python",
   "nbconvert_exporter": "python",
   "pygments_lexer": "ipython3",
   "version": "3.12.4"
  }
 },
 "nbformat": 4,
 "nbformat_minor": 5
}
