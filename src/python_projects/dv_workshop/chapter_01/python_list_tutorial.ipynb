{
 "cells": [
  {
   "cell_type": "markdown",
   "id": "3b7eb261-ecbf-4a5f-88a1-790a2bdfb67c",
   "metadata": {},
   "source": [
    "# Python Lists/Array\n",
    "\n",
    "Python does not support arrays but does support the concept of **lists**.  The term list and array is frequently used interchangeably in Python.\n",
    "\n",
    "This notebook is influenced by the material on [w3schools.com](https://www.w3schools.com/python/ref_list_copy.asp)"
   ]
  },
  {
   "cell_type": "code",
   "execution_count": 1,
   "id": "4aa0befb-22e3-4b6a-a2f9-b79e8d2c1b22",
   "metadata": {},
   "outputs": [],
   "source": [
    "# A list of favorite desserts\n",
    "favorite_desserts = [\"Ice Cream\", \"Apple Pie\", \"Jello\"]"
   ]
  },
  {
   "cell_type": "code",
   "execution_count": 2,
   "id": "d7de545b-b648-4a0f-b869-0ba4896ce569",
   "metadata": {},
   "outputs": [
    {
     "data": {
      "text/plain": [
       "'Ice Cream'"
      ]
     },
     "execution_count": 2,
     "metadata": {},
     "output_type": "execute_result"
    }
   ],
   "source": [
    "# You can access any element of the list individually, the indexing starts at 0..len-1\n",
    "# print the first element\n",
    "favorite_desserts[0]"
   ]
  },
  {
   "cell_type": "code",
   "execution_count": 3,
   "id": "4523216e-bea5-4d7a-820d-a9e6b9ba8ede",
   "metadata": {},
   "outputs": [
    {
     "data": {
      "text/plain": [
       "3"
      ]
     },
     "execution_count": 3,
     "metadata": {},
     "output_type": "execute_result"
    }
   ],
   "source": [
    "# The length of the list is obtained by using the len() function\n",
    "len(favorite_desserts)"
   ]
  },
  {
   "cell_type": "code",
   "execution_count": 4,
   "id": "5af3d855-ee6c-457d-9f23-bcc69b5f72f2",
   "metadata": {},
   "outputs": [
    {
     "data": {
      "text/plain": [
       "'Jello'"
      ]
     },
     "execution_count": 4,
     "metadata": {},
     "output_type": "execute_result"
    }
   ],
   "source": [
    "# One way (not recommended) to access the last item in a list, we will get back to a better way later\n",
    "favorite_desserts[len(favorite_desserts)-1]"
   ]
  },
  {
   "cell_type": "code",
   "execution_count": 5,
   "id": "3f8e688d-879c-4276-bd2e-94765f62470f",
   "metadata": {},
   "outputs": [
    {
     "data": {
      "text/plain": [
       "'Apple Pie'"
      ]
     },
     "execution_count": 5,
     "metadata": {},
     "output_type": "execute_result"
    }
   ],
   "source": [
    "# Store a value in the list into a variable\n",
    "my_personal_favorite = favorite_desserts[1]\n",
    "my_personal_favorite"
   ]
  },
  {
   "cell_type": "code",
   "execution_count": 6,
   "id": "4574e4a9-84c4-4866-a06a-a578d394e77d",
   "metadata": {},
   "outputs": [
    {
     "name": "stdout",
     "output_type": "stream",
     "text": [
      "Ice Cream\n",
      "Apple Pie\n",
      "Jello\n"
     ]
    }
   ],
   "source": [
    "# looping through a list\n",
    "for x in favorite_desserts:\n",
    "    print(x)"
   ]
  },
  {
   "cell_type": "code",
   "execution_count": 7,
   "id": "02ea72aa-e81c-4869-bffb-e8b6a8aeab58",
   "metadata": {},
   "outputs": [],
   "source": [
    "# We can add a new dessert to the list. Format list.append(<item>)\n",
    "favorite_desserts.append(\"Maria Cookies\")"
   ]
  },
  {
   "cell_type": "code",
   "execution_count": 8,
   "id": "142a98c4-64b5-4d87-aea6-55a6d97ae0b9",
   "metadata": {},
   "outputs": [
    {
     "data": {
      "text/plain": [
       "['Ice Cream', 'Apple Pie', 'Jello', 'Maria Cookies']"
      ]
     },
     "execution_count": 8,
     "metadata": {},
     "output_type": "execute_result"
    }
   ],
   "source": [
    "favorite_desserts"
   ]
  },
  {
   "cell_type": "code",
   "execution_count": 9,
   "id": "e95a4d6b-7eeb-4d3a-9a89-0932eb07bf7b",
   "metadata": {},
   "outputs": [
    {
     "data": {
      "text/plain": [
       "['Ice Cream', 'Apple Pie', 'Jello']"
      ]
     },
     "execution_count": 9,
     "metadata": {},
     "output_type": "execute_result"
    }
   ],
   "source": [
    "# We can delete items from the list, let's delete the last item \"Maria Cookies\"\n",
    "favorite_desserts.pop()\n",
    "favorite_desserts"
   ]
  },
  {
   "cell_type": "code",
   "execution_count": 10,
   "id": "627d6522-7743-46e7-a0cc-241cccd7ddc6",
   "metadata": {},
   "outputs": [
    {
     "data": {
      "text/plain": [
       "['Ice Cream', 'Apple Pie', 'Maria Cookies']"
      ]
     },
     "execution_count": 10,
     "metadata": {},
     "output_type": "execute_result"
    }
   ],
   "source": [
    "# Let's add \"Maria Cookies\" back\n",
    "favorite_desserts.append(\"Maria Cookies\")\n",
    "# Let's delete a specific item -> \"Jello\" since we are no longer on a diet\n",
    "favorite_desserts.pop(2)\n",
    "favorite_desserts"
   ]
  },
  {
   "cell_type": "code",
   "execution_count": 11,
   "id": "74a4d89d-b071-4edb-a912-f7ab3062d3bf",
   "metadata": {},
   "outputs": [
    {
     "data": {
      "text/plain": [
       "['Ice Cream', 'Maria Cookies']"
      ]
     },
     "execution_count": 11,
     "metadata": {},
     "output_type": "execute_result"
    }
   ],
   "source": [
    "# Another way to remove/delete a specific item\n",
    "favorite_desserts.remove(\"Apple Pie\")\n",
    "favorite_desserts"
   ]
  },
  {
   "cell_type": "markdown",
   "id": "4e20517c-823b-4851-91d1-612ffad06c20",
   "metadata": {},
   "source": [
    "\n",
    "| Method     | Description                                                                   |\n",
    "| ------     | -----------                                                                   |\n",
    "| append()\t | Adds an element at the end of the list                                        |\n",
    "| clear()\t | Removes all the elements from the list                                        |\n",
    "| copy()\t | Returns a copy of the list                                                    |\n",
    "| count()\t | Returns the number of elements with the specified value                       |\n",
    "| extend()\t | Add the elements of a list (or any iterable), to the end of the current list  |\n",
    "| index()\t | Returns the index of the first element with the specified value               |\n",
    "| insert()\t | Adds an element at the specified position                                     |\n",
    "| pop()\t     | Removes the element at the specified position                                 |\n",
    "| remove()\t | Removes the first item with the specified value                               |\n",
    "| reverse()\t | Reverses the order of the list                                                |\n",
    "| sort()\t | Sorts the list                                                                |"
   ]
  },
  {
   "cell_type": "code",
   "execution_count": 12,
   "id": "0857993e-5122-402d-b4b7-1734aff0cc55",
   "metadata": {},
   "outputs": [],
   "source": [
    "# Demo of clear(). Format: list.clear()\n",
    "my_list = [\"a\", \"c\", [\"a\", 0]]"
   ]
  },
  {
   "cell_type": "code",
   "execution_count": 13,
   "id": "2934621b-e89a-4aea-931f-f81102509304",
   "metadata": {},
   "outputs": [
    {
     "data": {
      "text/plain": [
       "['a', 'c', ['a', 0]]"
      ]
     },
     "execution_count": 13,
     "metadata": {},
     "output_type": "execute_result"
    }
   ],
   "source": [
    "my_list"
   ]
  },
  {
   "cell_type": "code",
   "execution_count": 14,
   "id": "1754b008-e4c5-4a11-af38-0aa0197658a7",
   "metadata": {},
   "outputs": [
    {
     "data": {
      "text/plain": [
       "[]"
      ]
     },
     "execution_count": 14,
     "metadata": {},
     "output_type": "execute_result"
    }
   ],
   "source": [
    "my_list.clear()\n",
    "my_list"
   ]
  },
  {
   "cell_type": "code",
   "execution_count": 15,
   "id": "080774f0-da4f-4ce8-a2ef-d1a404c78954",
   "metadata": {},
   "outputs": [],
   "source": [
    "# Demo of copy(). Format: list.copy()\n",
    "my_list = [\"a\", \"c\", [\"a\", 0]]\n",
    "my_list2 = my_list.copy()"
   ]
  },
  {
   "cell_type": "code",
   "execution_count": 16,
   "id": "43d5b901-b6e7-4d3e-bf9e-29298f219954",
   "metadata": {},
   "outputs": [
    {
     "data": {
      "text/plain": [
       "['a', 'c']"
      ]
     },
     "execution_count": 16,
     "metadata": {},
     "output_type": "execute_result"
    }
   ],
   "source": [
    "my_list.pop()\n",
    "my_list"
   ]
  },
  {
   "cell_type": "code",
   "execution_count": 17,
   "id": "31609e44-348d-4172-84c7-0a4243d7a998",
   "metadata": {},
   "outputs": [
    {
     "data": {
      "text/plain": [
       "['a', 'c', ['a', 0]]"
      ]
     },
     "execution_count": 17,
     "metadata": {},
     "output_type": "execute_result"
    }
   ],
   "source": [
    "my_list2"
   ]
  },
  {
   "cell_type": "code",
   "execution_count": 18,
   "id": "eac9b1b6-0915-4def-bd8f-1264445edf21",
   "metadata": {},
   "outputs": [
    {
     "data": {
      "text/plain": [
       "2"
      ]
     },
     "execution_count": 18,
     "metadata": {},
     "output_type": "execute_result"
    }
   ],
   "source": [
    "# Demo of using the function count(). Format: list.count(value)\n",
    "my_list = [1, 2, 2, 1, 4, 6]\n",
    "my_list.count(2)"
   ]
  },
  {
   "cell_type": "code",
   "execution_count": 19,
   "id": "e0b621f6-5bd7-4b77-9080-273c06198aea",
   "metadata": {},
   "outputs": [
    {
     "data": {
      "text/plain": [
       "1"
      ]
     },
     "execution_count": 19,
     "metadata": {},
     "output_type": "execute_result"
    }
   ],
   "source": [
    "my_list.count(4)"
   ]
  },
  {
   "cell_type": "code",
   "execution_count": 20,
   "id": "f3a09a1b-4f53-426f-93cd-48b7b4f9204e",
   "metadata": {},
   "outputs": [],
   "source": [
    "# Demo of extend() function. Format: list.extend(iterable)\n",
    "my_list_1 = [1, 2, 3]\n",
    "my_list_2 = [4, 5, 6]\n",
    "my_list_1.extend(my_list_2)"
   ]
  },
  {
   "cell_type": "code",
   "execution_count": 21,
   "id": "4f49d878-cf90-4598-abcf-604c8c516ea6",
   "metadata": {},
   "outputs": [
    {
     "data": {
      "text/plain": [
       "[1, 2, 3, 4, 5, 6]"
      ]
     },
     "execution_count": 21,
     "metadata": {},
     "output_type": "execute_result"
    }
   ],
   "source": [
    "my_list_1"
   ]
  },
  {
   "cell_type": "code",
   "execution_count": 22,
   "id": "042d9254-c3d0-4a2f-917f-2829faeef06e",
   "metadata": {},
   "outputs": [
    {
     "data": {
      "text/plain": [
       "[4, 5, 6]"
      ]
     },
     "execution_count": 22,
     "metadata": {},
     "output_type": "execute_result"
    }
   ],
   "source": [
    "my_list_2"
   ]
  },
  {
   "cell_type": "code",
   "execution_count": 23,
   "id": "d2a7040b-2671-425f-9865-73c58e495482",
   "metadata": {},
   "outputs": [
    {
     "data": {
      "text/plain": [
       "4"
      ]
     },
     "execution_count": 23,
     "metadata": {},
     "output_type": "execute_result"
    }
   ],
   "source": [
    "# Demo of index()\n",
    "my_list_1.index(5)"
   ]
  },
  {
   "cell_type": "code",
   "execution_count": 24,
   "id": "110fd794-7c45-49d4-b32d-172dd175f85a",
   "metadata": {},
   "outputs": [
    {
     "data": {
      "text/plain": [
       "[4, 5, 7, 6]"
      ]
     },
     "execution_count": 24,
     "metadata": {},
     "output_type": "execute_result"
    }
   ],
   "source": [
    "# Demo of insert(<location>, <item>)\n",
    "my_list_2.insert(2, 7)\n",
    "my_list_2"
   ]
  },
  {
   "cell_type": "code",
   "execution_count": 25,
   "id": "74f9cab5-64fd-4f27-93e8-9386cb5c98d1",
   "metadata": {},
   "outputs": [
    {
     "name": "stdout",
     "output_type": "stream",
     "text": [
      "['cherry', 'banana', 'apple']\n"
     ]
    }
   ],
   "source": [
    "# demo of reverse()\n",
    "fruits = ['apple', 'banana', 'cherry']\n",
    "\n",
    "fruits.reverse()\n",
    "\n",
    "print(fruits)"
   ]
  },
  {
   "cell_type": "code",
   "execution_count": 26,
   "id": "321c95bb-a950-4ddf-aeb9-1ff99fb82842",
   "metadata": {},
   "outputs": [
    {
     "name": "stdout",
     "output_type": "stream",
     "text": [
      "[3, 2, 1]\n"
     ]
    }
   ],
   "source": [
    "# another demo of reverse\n",
    "my_list = [1, 2, 3]\n",
    "my_list.reverse()\n",
    "print(my_list)"
   ]
  },
  {
   "cell_type": "code",
   "execution_count": 27,
   "id": "11b61b75-5ca4-4fc5-bb24-efa5f1eb6bd0",
   "metadata": {},
   "outputs": [
    {
     "data": {
      "text/plain": [
       "[3, 2, 1]"
      ]
     },
     "execution_count": 27,
     "metadata": {},
     "output_type": "execute_result"
    }
   ],
   "source": [
    "# demo of sort\n",
    "my_list"
   ]
  },
  {
   "cell_type": "code",
   "execution_count": 28,
   "id": "89abf7cb-4d3c-4d3b-aec1-fa00368b7dd1",
   "metadata": {},
   "outputs": [
    {
     "data": {
      "text/plain": [
       "[1, 2, 3]"
      ]
     },
     "execution_count": 28,
     "metadata": {},
     "output_type": "execute_result"
    }
   ],
   "source": [
    "my_list.sort()\n",
    "my_list"
   ]
  },
  {
   "cell_type": "markdown",
   "id": "c9087ae3-d7a0-402e-99a8-8e0effb301e3",
   "metadata": {},
   "source": [
    "### What is a Python Iterable?\n",
    "\n",
    "An object is iterable if it implements the __iter__() method, which returns an iterator object. Alternatively, an object can be iterable if it implements the __getitem__() method, allowing access to elements by index.\n",
    "\n",
    "**Common Examples:**\n",
    "\n",
    "- Lists: [1,2,3]\n",
    "- Tuples: (1,2,3)\n",
    "- Strings: \"Hello\"\n",
    "- Dictionaries: {\"a\": 1, \"b\": 2}\n",
    "- Sets: {1,2,3}\n",
    "- File objects: open(\"myfile.txt\")"
   ]
  },
  {
   "cell_type": "code",
   "execution_count": 29,
   "id": "cf1c0858-9dbb-4115-af43-b70e23cc1450",
   "metadata": {},
   "outputs": [
    {
     "data": {
      "text/plain": [
       "[1, 2, 3, 'a', 'b']"
      ]
     },
     "execution_count": 29,
     "metadata": {},
     "output_type": "execute_result"
    }
   ],
   "source": [
    "my_dict = { \"a\": \"Jeans\", \"b\": \"t-shirt\"}\n",
    "my_list = [1,2,3]\n",
    "my_list.extend(my_dict)\n",
    "my_list"
   ]
  },
  {
   "cell_type": "code",
   "execution_count": 30,
   "id": "6bbecb15-8a47-4e32-9401-ec2c52744f7d",
   "metadata": {},
   "outputs": [
    {
     "data": {
      "text/plain": [
       "list"
      ]
     },
     "execution_count": 30,
     "metadata": {},
     "output_type": "execute_result"
    }
   ],
   "source": [
    "# Determining the type() of a list\n",
    "type(my_list)"
   ]
  },
  {
   "cell_type": "code",
   "execution_count": 31,
   "id": "1505f6e7-00a6-4d11-ae43-84ce5c5a7919",
   "metadata": {},
   "outputs": [
    {
     "data": {
      "text/plain": [
       "['one', 'two', 'three']"
      ]
     },
     "execution_count": 31,
     "metadata": {},
     "output_type": "execute_result"
    }
   ],
   "source": [
    "# Example of using the list() constructor when creating a new list\n",
    "my_new_list = list((\"one\", \"two\", \"three\"))\n",
    "my_new_list"
   ]
  },
  {
   "cell_type": "code",
   "execution_count": 32,
   "id": "b16696ca-822c-4c43-9c72-9869065d7f97",
   "metadata": {},
   "outputs": [
    {
     "data": {
      "text/plain": [
       "['a', 'b', 1, True, 10, 11.0]"
      ]
     },
     "execution_count": 32,
     "metadata": {},
     "output_type": "execute_result"
    }
   ],
   "source": [
    "# Creating a list with many different data types as items\n",
    "my_mixed_list = [\"a\", 'b', 1, True, 10, 11.0]\n",
    "my_mixed_list"
   ]
  },
  {
   "cell_type": "code",
   "execution_count": 33,
   "id": "56f7ee6a-d707-43d3-ba4f-b9261ca27f5f",
   "metadata": {},
   "outputs": [
    {
     "data": {
      "text/plain": [
       "int"
      ]
     },
     "execution_count": 33,
     "metadata": {},
     "output_type": "execute_result"
    }
   ],
   "source": [
    "type(my_mixed_list[4])"
   ]
  },
  {
   "cell_type": "code",
   "execution_count": 34,
   "id": "92f1e9e9-cbf1-41a9-a186-1b250ce0e744",
   "metadata": {},
   "outputs": [
    {
     "data": {
      "text/plain": [
       "float"
      ]
     },
     "execution_count": 34,
     "metadata": {},
     "output_type": "execute_result"
    }
   ],
   "source": [
    "type(my_mixed_list[5])"
   ]
  },
  {
   "cell_type": "code",
   "execution_count": 35,
   "id": "b02e248d-622f-4de4-8afa-ad2248e8128c",
   "metadata": {},
   "outputs": [
    {
     "data": {
      "text/plain": [
       "[10, 10, 10]"
      ]
     },
     "execution_count": 35,
     "metadata": {},
     "output_type": "execute_result"
    }
   ],
   "source": [
    "# creating a list with repeated element three times using *\n",
    "a_simple_list = [10] * 3\n",
    "a_simple_list"
   ]
  },
  {
   "cell_type": "code",
   "execution_count": 36,
   "id": "d04b65f8-4e9d-428a-b3a6-832fe4311a64",
   "metadata": {},
   "outputs": [
    {
     "data": {
      "text/plain": [
       "'C++'"
      ]
     },
     "execution_count": 36,
     "metadata": {},
     "output_type": "execute_result"
    }
   ],
   "source": [
    "# The right way to access the last item in a list\n",
    "languages = [\"Java\", \"JavaScript\", \"Python\", \"C++\"]\n",
    "languages[-1]"
   ]
  },
  {
   "cell_type": "code",
   "execution_count": 37,
   "id": "210a68b2-89c7-416d-9810-c1178473f1f3",
   "metadata": {},
   "outputs": [
    {
     "data": {
      "text/plain": [
       "['Kotlin', 'JavaScript', 'Python', 'C++']"
      ]
     },
     "execution_count": 37,
     "metadata": {},
     "output_type": "execute_result"
    }
   ],
   "source": [
    "# demo of updating an element directly in the list\n",
    "languages[0] = \"Kotlin\"\n",
    "languages"
   ]
  },
  {
   "cell_type": "code",
   "execution_count": 38,
   "id": "ed47ddf1-096e-47f6-8e40-71ccc688a3ba",
   "metadata": {},
   "outputs": [
    {
     "data": {
      "text/plain": [
       "['Kotlin', 'JavaScript', 'C++']"
      ]
     },
     "execution_count": 38,
     "metadata": {},
     "output_type": "execute_result"
    }
   ],
   "source": [
    "# Using del to delete a specific element in the list\n",
    "del languages[2]\n",
    "languages"
   ]
  },
  {
   "cell_type": "code",
   "execution_count": 39,
   "id": "74b45282-6047-4634-ab2e-8fb1d0a7164a",
   "metadata": {},
   "outputs": [
    {
     "data": {
      "text/plain": [
       "[[1, 2, 3], [4, 5, 6], [7, 8, 9]]"
      ]
     },
     "execution_count": 39,
     "metadata": {},
     "output_type": "execute_result"
    }
   ],
   "source": [
    "# Demo of a multi-dimensional array/matrix\n",
    "matrix = [ [1, 2, 3], [4, 5, 6], [7, 8, 9]]\n",
    "matrix"
   ]
  },
  {
   "cell_type": "code",
   "execution_count": 42,
   "id": "c75124d2-cdb0-484f-b4d0-3413ed648f4a",
   "metadata": {},
   "outputs": [
    {
     "data": {
      "text/plain": [
       "5"
      ]
     },
     "execution_count": 42,
     "metadata": {},
     "output_type": "execute_result"
    }
   ],
   "source": [
    "# access a specific element in the matrix\n",
    "matrix[1][1]"
   ]
  },
  {
   "cell_type": "code",
   "execution_count": 44,
   "id": "77a469a1-9079-4175-8c68-13cb22ce3829",
   "metadata": {},
   "outputs": [
    {
     "data": {
      "text/plain": [
       "0"
      ]
     },
     "execution_count": 44,
     "metadata": {},
     "output_type": "execute_result"
    }
   ],
   "source": [
    "# Using the built-in max() function\n",
    "long_list =  [3,7,1,9,0,4,8,5,6,2]\n",
    "min(long_list)"
   ]
  },
  {
   "cell_type": "code",
   "execution_count": 45,
   "id": "c7447135-b467-4516-bfbe-36631b71b2fa",
   "metadata": {},
   "outputs": [
    {
     "data": {
      "text/plain": [
       "9"
      ]
     },
     "execution_count": 45,
     "metadata": {},
     "output_type": "execute_result"
    }
   ],
   "source": [
    "max(long_list)"
   ]
  },
  {
   "cell_type": "code",
   "execution_count": 46,
   "id": "13504835-7808-4cc6-8bb8-f7be5c45bb35",
   "metadata": {},
   "outputs": [
    {
     "data": {
      "text/plain": [
       "[10, 20, 30, 40, 50]"
      ]
     },
     "execution_count": 46,
     "metadata": {},
     "output_type": "execute_result"
    }
   ],
   "source": [
    "# The old way to swap items in a list\n",
    "a = [10, 20, 30, 40, 50]\n",
    "a"
   ]
  },
  {
   "cell_type": "code",
   "execution_count": 47,
   "id": "786ff5e3-2162-4432-9396-e7f288df4600",
   "metadata": {},
   "outputs": [
    {
     "data": {
      "text/plain": [
       "[40, 20, 30, 10, 50]"
      ]
     },
     "execution_count": 47,
     "metadata": {},
     "output_type": "execute_result"
    }
   ],
   "source": [
    "# Swap index 0 and 3\n",
    "temp = a[0]\n",
    "a[0] = a[3]\n",
    "a[3] = temp\n",
    "a"
   ]
  },
  {
   "cell_type": "code",
   "execution_count": 48,
   "id": "ad6ac411-9203-42a7-8594-0b434f097726",
   "metadata": {},
   "outputs": [
    {
     "data": {
      "text/plain": [
       "[10, 20, 30, 40, 50]"
      ]
     },
     "execution_count": 48,
     "metadata": {},
     "output_type": "execute_result"
    }
   ],
   "source": [
    "# A better way to swap\n",
    "a = [10, 20, 30, 40, 50]\n",
    "a"
   ]
  },
  {
   "cell_type": "code",
   "execution_count": 49,
   "id": "6d08a219-9626-4031-8d49-5264b9f0632e",
   "metadata": {},
   "outputs": [
    {
     "data": {
      "text/plain": [
       "[40, 20, 30, 10, 50]"
      ]
     },
     "execution_count": 49,
     "metadata": {},
     "output_type": "execute_result"
    }
   ],
   "source": [
    "a[0], a[3] = a[3], a[0]\n",
    "a"
   ]
  },
  {
   "cell_type": "code",
   "execution_count": 50,
   "id": "a05ee2bf-2230-49c0-992c-08badfa28313",
   "metadata": {},
   "outputs": [
    {
     "data": {
      "text/plain": [
       "[10, 20, 30, 40, 50]"
      ]
     },
     "execution_count": 50,
     "metadata": {},
     "output_type": "execute_result"
    }
   ],
   "source": [
    "# Swapping first and last item in a list\n",
    "a = [10, 20, 30, 40, 50]\n",
    "a"
   ]
  },
  {
   "cell_type": "code",
   "execution_count": 51,
   "id": "d808cf08-003c-400b-9df4-8666de02a406",
   "metadata": {},
   "outputs": [
    {
     "data": {
      "text/plain": [
       "[50, 20, 30, 40, 10]"
      ]
     },
     "execution_count": 51,
     "metadata": {},
     "output_type": "execute_result"
    }
   ],
   "source": [
    "a[0], a[-1] = a[-1], a[0]\n",
    "a"
   ]
  },
  {
   "cell_type": "markdown",
   "id": "b7d3fe1b-a289-4171-b5de-c72c314b0c93",
   "metadata": {},
   "source": [
    "### Slicing and Dicing...\n",
    "\n",
    "Format list_name[start : end : step] \n",
    "\n",
    "Parameters:\n",
    "\n",
    "**start** (optional): Index to begin the slize (inclusive). Defaults to 0 if ommited.\n",
    "\n",
    "**end** (optional): Index to end the slice (exclusive). Defaults to the length of list if omitted.\n",
    "\n",
    "**step** (optional): Step size, specifying the interval between elements. Default to 1 if ommitted.\n"
   ]
  },
  {
   "cell_type": "code",
   "execution_count": 52,
   "id": "f90d4541-2d18-4b0e-86e7-af32c2707563",
   "metadata": {},
   "outputs": [
    {
     "data": {
      "text/plain": [
       "[10, 20, 30, 40, 50, 60, 70, 80, 90]"
      ]
     },
     "execution_count": 52,
     "metadata": {},
     "output_type": "execute_result"
    }
   ],
   "source": [
    "# Our test list\n",
    "a = [10, 20, 30, 40, 50, 60, 70, 80, 90]\n",
    "a"
   ]
  },
  {
   "cell_type": "code",
   "execution_count": 54,
   "id": "95e32111-2e72-4ff8-940d-2bd6d2f14a68",
   "metadata": {},
   "outputs": [
    {
     "data": {
      "text/plain": [
       "[10, 20, 30, 40, 50, 60, 70, 80, 90]"
      ]
     },
     "execution_count": 54,
     "metadata": {},
     "output_type": "execute_result"
    }
   ],
   "source": [
    "# Straightforward use\n",
    "a[:]"
   ]
  },
  {
   "cell_type": "code",
   "execution_count": 55,
   "id": "1d83c6a2-728a-410e-8afa-1277a4f3634d",
   "metadata": {},
   "outputs": [
    {
     "data": {
      "text/plain": [
       "[10, 20, 30, 40, 50]"
      ]
     },
     "execution_count": 55,
     "metadata": {},
     "output_type": "execute_result"
    }
   ],
   "source": [
    "# first five items\n",
    "a[:5]"
   ]
  },
  {
   "cell_type": "code",
   "execution_count": 56,
   "id": "a6e7dc13-237d-48d3-ae1a-075f572d7f78",
   "metadata": {},
   "outputs": [
    {
     "data": {
      "text/plain": [
       "[30, 40, 50, 60, 70]"
      ]
     },
     "execution_count": 56,
     "metadata": {},
     "output_type": "execute_result"
    }
   ],
   "source": [
    "# a middle slice\n",
    "a[2:7]"
   ]
  },
  {
   "cell_type": "code",
   "execution_count": 58,
   "id": "0e67e167-70f4-44d8-863a-e20278072ce7",
   "metadata": {},
   "outputs": [
    {
     "data": {
      "text/plain": [
       "[10, 30, 50, 70, 90]"
      ]
     },
     "execution_count": 58,
     "metadata": {},
     "output_type": "execute_result"
    }
   ],
   "source": [
    "# every other item\n",
    "a[0::2]"
   ]
  },
  {
   "cell_type": "code",
   "execution_count": 59,
   "id": "9d5433a7-a69c-43f1-a1f6-2ef9bb5e3444",
   "metadata": {},
   "outputs": [
    {
     "data": {
      "text/plain": [
       "[70, 80, 90]"
      ]
     },
     "execution_count": 59,
     "metadata": {},
     "output_type": "execute_result"
    }
   ],
   "source": [
    "# the last three\n",
    "a[-3:]"
   ]
  },
  {
   "cell_type": "code",
   "execution_count": 60,
   "id": "c1f7c618-78b7-48d4-b7bb-a11c51d4dc27",
   "metadata": {},
   "outputs": [
    {
     "name": "stdout",
     "output_type": "stream",
     "text": [
      "Yeah we found it!\n"
     ]
    }
   ],
   "source": [
    "# Checking if an item exist\n",
    "if 50 in a:\n",
    "    print(\"Yeah we found it!\")\n",
    "else:\n",
    "    print(\"50 is no where in the list! Huh?\")\n",
    "    "
   ]
  },
  {
   "cell_type": "code",
   "execution_count": 63,
   "id": "d3752aa5-d934-458c-a49b-573ab285176e",
   "metadata": {},
   "outputs": [
    {
     "data": {
      "text/plain": [
       "[90, 80, 70, 60, 50, 40, 30, 20, 10]"
      ]
     },
     "execution_count": 63,
     "metadata": {},
     "output_type": "execute_result"
    }
   ],
   "source": [
    "# another way to reverse a list\n",
    "rev = a[-1::-1]\n",
    "rev"
   ]
  },
  {
   "cell_type": "code",
   "execution_count": 64,
   "id": "4ebe70db-69d2-493a-bcba-1beec015041f",
   "metadata": {},
   "outputs": [
    {
     "data": {
      "text/plain": [
       "450"
      ]
     },
     "execution_count": 64,
     "metadata": {},
     "output_type": "execute_result"
    }
   ],
   "source": [
    "# sum of a list\n",
    "sum(a)"
   ]
  },
  {
   "cell_type": "code",
   "execution_count": null,
   "id": "b174846d-5f47-4dfe-acc9-9a58239c3908",
   "metadata": {},
   "outputs": [],
   "source": []
  }
 ],
 "metadata": {
  "kernelspec": {
   "display_name": "Python 3 (ipykernel)",
   "language": "python",
   "name": "python3"
  },
  "language_info": {
   "codemirror_mode": {
    "name": "ipython",
    "version": 3
   },
   "file_extension": ".py",
   "mimetype": "text/x-python",
   "name": "python",
   "nbconvert_exporter": "python",
   "pygments_lexer": "ipython3",
   "version": "3.12.4"
  }
 },
 "nbformat": 4,
 "nbformat_minor": 5
}
