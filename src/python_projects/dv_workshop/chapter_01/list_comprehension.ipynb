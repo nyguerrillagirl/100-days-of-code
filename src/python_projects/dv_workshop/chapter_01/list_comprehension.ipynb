{
 "cells": [
  {
   "cell_type": "markdown",
   "id": "251b5d52-a4f3-4ca1-9a2a-673d43e37957",
   "metadata": {},
   "source": [
    "### Examples on List Comprehension\n",
    "\n",
    "**List comprehension** is a way to create lists using concise syntax. It allows us to generate a new list by applying an **expression** to each item in an existing **iterable** (such as a **list** or **range**). "
   ]
  },
  {
   "cell_type": "markdown",
   "id": "de1bb2c6-d70f-4400-acd0-44a64b5da5a5",
   "metadata": {},
   "source": [
    "### Syntax of list comprehension\n",
    "\n",
    "[**expression** for **item** in **iterable** if **condition**]\n",
    "\n",
    "- **expression**: The transformation or value to be included in the new list.\n",
    "- **item**: The current element taken from the iterable\n",
    "- **iterable**: A sequence of collection (e.g. list, typle, set).\n",
    "- **if condition (optional)**: A filtering condition that decides whether the current item should be included."
   ]
  },
  {
   "cell_type": "code",
   "execution_count": 1,
   "id": "3dd5753f-ddac-403d-b15f-6e2b36d08338",
   "metadata": {},
   "outputs": [
    {
     "data": {
      "text/plain": [
       "[2, 4, 6, 8, 10]"
      ]
     },
     "execution_count": 1,
     "metadata": {},
     "output_type": "execute_result"
    }
   ],
   "source": [
    "# Example using a for loop\n",
    "a = [1, 2, 3, 4, 5]\n",
    "res = []\n",
    "for val in a:\n",
    "    res.append(val * 2)\n",
    "\n",
    "res"
   ]
  },
  {
   "cell_type": "code",
   "execution_count": 2,
   "id": "c0029000-a608-4213-9ecb-b0da42c6b59e",
   "metadata": {},
   "outputs": [
    {
     "data": {
      "text/plain": [
       "[2, 4, 6, 8, 10]"
      ]
     },
     "execution_count": 2,
     "metadata": {},
     "output_type": "execute_result"
    }
   ],
   "source": [
    "# Same example using list comprehension\n",
    "a = [1, 2, 3, 4, 5]\n",
    "res = [ val * 2 for val in a]\n",
    "res"
   ]
  },
  {
   "cell_type": "code",
   "execution_count": 4,
   "id": "151a78d0-0e01-4df2-920f-3ea45f834155",
   "metadata": {},
   "outputs": [
    {
     "data": {
      "text/plain": [
       "[2, 4]"
      ]
     },
     "execution_count": 4,
     "metadata": {},
     "output_type": "execute_result"
    }
   ],
   "source": [
    "# Example with conditional, extract even numbers\n",
    "a = [1, 2, 3, 4, 5]\n",
    "res = [ val for val in a if val % 2 == 0]\n",
    "res"
   ]
  },
  {
   "cell_type": "code",
   "execution_count": 6,
   "id": "ec6fe2f5-4986-4fc7-a605-5170c34550b9",
   "metadata": {},
   "outputs": [
    {
     "data": {
      "text/plain": [
       "[0, 1, 2, 3, 4, 5, 6, 7, 8, 9]"
      ]
     },
     "execution_count": 6,
     "metadata": {},
     "output_type": "execute_result"
    }
   ],
   "source": [
    "# Creating a list from a range\n",
    "a = [ i for i in range(10)]\n",
    "a"
   ]
  },
  {
   "cell_type": "code",
   "execution_count": 7,
   "id": "b711f064-0609-4c0d-baf6-ab2b0637957b",
   "metadata": {},
   "outputs": [
    {
     "data": {
      "text/plain": [
       "[(0, 0), (0, 1), (0, 2), (1, 0), (1, 1), (1, 2), (2, 0), (2, 1), (2, 2)]"
      ]
     },
     "execution_count": 7,
     "metadata": {},
     "output_type": "execute_result"
    }
   ],
   "source": [
    "# An example of using list comprehension with nested loops\n",
    "coordinates = [ (x,y) for x in range(3) for y in range(3) ]\n",
    "coordinates"
   ]
  },
  {
   "cell_type": "code",
   "execution_count": 8,
   "id": "e90e9c41-b534-434f-adef-efd3b5d846f5",
   "metadata": {},
   "outputs": [
    {
     "data": {
      "text/plain": [
       "[1, 2, 3, 4, 5, 6, 7, 8, 9]"
      ]
     },
     "execution_count": 8,
     "metadata": {},
     "output_type": "execute_result"
    }
   ],
   "source": [
    "# An example of converting a list of lists into a single list\n",
    "mat = [[1, 2, 3], [4, 5, 6], [7, 8, 9]]\n",
    "res = [val for row in mat for val in row]\n",
    "res"
   ]
  },
  {
   "cell_type": "code",
   "execution_count": null,
   "id": "b5bba9c7-8c00-4b40-b390-c6dcca99cb0a",
   "metadata": {},
   "outputs": [],
   "source": []
  }
 ],
 "metadata": {
  "kernelspec": {
   "display_name": "Python 3 (ipykernel)",
   "language": "python",
   "name": "python3"
  },
  "language_info": {
   "codemirror_mode": {
    "name": "ipython",
    "version": 3
   },
   "file_extension": ".py",
   "mimetype": "text/x-python",
   "name": "python",
   "nbconvert_exporter": "python",
   "pygments_lexer": "ipython3",
   "version": "3.12.4"
  }
 },
 "nbformat": 4,
 "nbformat_minor": 5
}
