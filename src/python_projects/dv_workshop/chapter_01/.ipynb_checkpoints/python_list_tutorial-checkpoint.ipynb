{
 "cells": [
  {
   "cell_type": "markdown",
   "id": "3b7eb261-ecbf-4a5f-88a1-790a2bdfb67c",
   "metadata": {},
   "source": [
    "# Python Lists/Array\n",
    "\n",
    "Python does not support arrays but does support the concept of **lists**.  The term list and array is frequently used interchangeably in Python."
   ]
  },
  {
   "cell_type": "code",
   "execution_count": 4,
   "id": "4aa0befb-22e3-4b6a-a2f9-b79e8d2c1b22",
   "metadata": {},
   "outputs": [],
   "source": [
    "# A list of favorite desserts\n",
    "favorite_desserts = [\"Ice Cream\", \"Apple Pie\", \"Jello\"]"
   ]
  },
  {
   "cell_type": "code",
   "execution_count": 6,
   "id": "d7de545b-b648-4a0f-b869-0ba4896ce569",
   "metadata": {},
   "outputs": [
    {
     "data": {
      "text/plain": [
       "'Ice Cream'"
      ]
     },
     "execution_count": 6,
     "metadata": {},
     "output_type": "execute_result"
    }
   ],
   "source": [
    "# You can access any element of the list individually, the indexing starts at 0..len-1\n",
    "# print the first element\n",
    "favorite_desserts[0]"
   ]
  },
  {
   "cell_type": "code",
   "execution_count": 8,
   "id": "4523216e-bea5-4d7a-820d-a9e6b9ba8ede",
   "metadata": {},
   "outputs": [
    {
     "data": {
      "text/plain": [
       "3"
      ]
     },
     "execution_count": 8,
     "metadata": {},
     "output_type": "execute_result"
    }
   ],
   "source": [
    "# The length of the list is obtained by using the len() function\n",
    "len(favorite_desserts)"
   ]
  },
  {
   "cell_type": "code",
   "execution_count": 12,
   "id": "5af3d855-ee6c-457d-9f23-bcc69b5f72f2",
   "metadata": {},
   "outputs": [
    {
     "data": {
      "text/plain": [
       "'Jello'"
      ]
     },
     "execution_count": 12,
     "metadata": {},
     "output_type": "execute_result"
    }
   ],
   "source": [
    "# One way (not recommended) to access the last item in a list, we will get back to a better way later\n",
    "favorite_desserts[len(favorite_desserts)-1]"
   ]
  },
  {
   "cell_type": "code",
   "execution_count": 14,
   "id": "3f8e688d-879c-4276-bd2e-94765f62470f",
   "metadata": {},
   "outputs": [
    {
     "data": {
      "text/plain": [
       "'Apple Pie'"
      ]
     },
     "execution_count": 14,
     "metadata": {},
     "output_type": "execute_result"
    }
   ],
   "source": [
    "# Store a value in the list into a variable\n",
    "my_personal_favorite = favorite_desserts[1]\n",
    "my_personal_favorite"
   ]
  },
  {
   "cell_type": "code",
   "execution_count": null,
   "id": "4574e4a9-84c4-4866-a06a-a578d394e77d",
   "metadata": {},
   "outputs": [],
   "source": []
  }
 ],
 "metadata": {
  "kernelspec": {
   "display_name": "Python 3 (ipykernel)",
   "language": "python",
   "name": "python3"
  },
  "language_info": {
   "codemirror_mode": {
    "name": "ipython",
    "version": 3
   },
   "file_extension": ".py",
   "mimetype": "text/x-python",
   "name": "python",
   "nbconvert_exporter": "python",
   "pygments_lexer": "ipython3",
   "version": "3.12.4"
  }
 },
 "nbformat": 4,
 "nbformat_minor": 5
}
