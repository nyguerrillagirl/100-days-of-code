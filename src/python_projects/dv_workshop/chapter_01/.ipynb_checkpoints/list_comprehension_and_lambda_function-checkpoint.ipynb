{
 "cells": [
  {
   "cell_type": "markdown",
   "id": "2a06b08c-bc45-43bf-9c33-cfed6180fc31",
   "metadata": {},
   "source": [
    "### List Comprehension and Lambda Function in Python\n",
    "\n",
    "List comprehension is an elegant way to define a create a list in Python. We can create lists like mathmatical statements in one line only.\n",
    "\n",
    "The syntax of list compreshension is easier to grasp.\n",
    "A list comprehension generally consists of these parts:\n",
    "- Output expression\n",
    "- Input sequence\n",
    "- A variable representing a member of the input sequence and\n",
    "- An optional predicate part\n",
    "\n",
    "List = [ expression(i) for i in another_list if filter(i) ]"
   ]
  },
  {
   "cell_type": "code",
   "execution_count": 3,
   "id": "16fe54a1-5b42-43c1-afd8-f99862b2bd6c",
   "metadata": {},
   "outputs": [
    {
     "data": {
      "text/plain": [
       "[1, 9, 25, 49, 81]"
      ]
     },
     "execution_count": 3,
     "metadata": {},
     "output_type": "execute_result"
    }
   ],
   "source": [
    "lst = [ x ** 2 for x in range(1,11) if x % 2 == 1 ]\n",
    "lst"
   ]
  },
  {
   "cell_type": "markdown",
   "id": "f49dc496-fdb4-4a62-85ac-97cd75f8eef5",
   "metadata": {},
   "source": [
    "### Lambda Function in Python\n",
    "\n",
    "lambda arguments : expression"
   ]
  },
  {
   "cell_type": "markdown",
   "id": "1a9a6dc2-a8b9-463d-8f64-6a6d9b8f0b66",
   "metadata": {},
   "source": [
    "#### Python map() function\n",
    "\n",
    "The **map()** function is used to apply a given function to every item of an iterable, such as a list or tuple and returns a **map object** (which is an iterator). "
   ]
  },
  {
   "cell_type": "code",
   "execution_count": 4,
   "id": "9a4ccbf0-241c-45ad-a27a-3f78c3f15223",
   "metadata": {},
   "outputs": [
    {
     "data": {
      "text/plain": [
       "[1, 2, 3, 4]"
      ]
     },
     "execution_count": 4,
     "metadata": {},
     "output_type": "execute_result"
    }
   ],
   "source": [
    "s = ['1', '2', '3', '4']\n",
    "res = map(int, s)\n",
    "list(res)"
   ]
  },
  {
   "cell_type": "markdown",
   "id": "d2cb0569-36f1-4ad2-8ee9-b78b328bb529",
   "metadata": {},
   "source": [
    "#### Syntax of the map() function\n",
    "\n",
    "map(function, iterable)\n",
    "\n",
    "- **function**: The function we want to apply to every element of the iterable\n",
    "- **iterable**: The iterable whose elements we want to process\n",
    "\n",
    "Note: We can also pass multiple iterables if our function accepts multiple arguments.\n",
    "\n",
    "By default, the **map()** function returns a **map object**, which is an iterator. In many cases, we will need to convert this **iterator** to a **list** to work with results directly."
   ]
  },
  {
   "cell_type": "code",
   "execution_count": 5,
   "id": "9763249f-3bee-41ea-93c1-726a8c9be78d",
   "metadata": {},
   "outputs": [
    {
     "data": {
      "text/plain": [
       "[2, 4, 6, 8]"
      ]
     },
     "execution_count": 5,
     "metadata": {},
     "output_type": "execute_result"
    }
   ],
   "source": [
    "a = [1, 2, 3, 4]\n",
    "\n",
    "def double(val):\n",
    "    return val * 2\n",
    "\n",
    "res = list(map(double, a))\n",
    "res"
   ]
  },
  {
   "cell_type": "markdown",
   "id": "b738aa78-68c3-4154-955b-e3c3d3b9ff57",
   "metadata": {},
   "source": [
    "#### map() with lambda\n",
    "\n",
    "We can use a lambda function instead of a custom function with **map()** to make the code shorter and easier. "
   ]
  },
  {
   "cell_type": "code",
   "execution_count": 6,
   "id": "f90dafe0-1269-4af7-8721-480b1979d819",
   "metadata": {},
   "outputs": [
    {
     "data": {
      "text/plain": [
       "[2, 4, 6, 8]"
      ]
     },
     "execution_count": 6,
     "metadata": {},
     "output_type": "execute_result"
    }
   ],
   "source": [
    "a = [1, 2, 3, 4]\n",
    "res = list(map(lambda x: x * 2, a))\n",
    "res"
   ]
  },
  {
   "cell_type": "code",
   "execution_count": 7,
   "id": "855e185f-7f4e-4309-9068-6ec39fbdc36f",
   "metadata": {},
   "outputs": [
    {
     "data": {
      "text/plain": [
       "[5, 7, 9]"
      ]
     },
     "execution_count": 7,
     "metadata": {},
     "output_type": "execute_result"
    }
   ],
   "source": [
    "# Example of using map() with multiple iterables\n",
    "a = [1, 2, 3]\n",
    "b = [4, 5, 6]\n",
    "res = map(lambda x, y: x + y, a, b)\n",
    "list(res)"
   ]
  },
  {
   "cell_type": "code",
   "execution_count": 9,
   "id": "b56b241e-824c-4539-a584-744099407ced",
   "metadata": {},
   "outputs": [
    {
     "data": {
      "text/plain": [
       "['BANANA', 'GRAPEFRUIT', 'APPLE']"
      ]
     },
     "execution_count": 9,
     "metadata": {},
     "output_type": "execute_result"
    }
   ],
   "source": [
    "# Example of using map() to convert a list to all upper case\n",
    "fruits = [ 'banana', 'grapefruit', 'apple']\n",
    "\n",
    "res = map(str.upper, fruits)\n",
    "list(res)"
   ]
  },
  {
   "cell_type": "code",
   "execution_count": 10,
   "id": "612aa2d8-3a0b-4a51-8930-782088936e12",
   "metadata": {},
   "outputs": [
    {
     "data": {
      "text/plain": [
       "['a', 'b', 'c']"
      ]
     },
     "execution_count": 10,
     "metadata": {},
     "output_type": "execute_result"
    }
   ],
   "source": [
    "# example to extract the first character from strings\n",
    "words = [ 'apple', 'banana', 'cherry']\n",
    "res = map(lambda s: s[0], words)\n",
    "list(res)"
   ]
  },
  {
   "cell_type": "code",
   "execution_count": 12,
   "id": "b4856944-7fb9-407a-ad89-6971c094017b",
   "metadata": {},
   "outputs": [
    {
     "name": "stdout",
     "output_type": "stream",
     "text": [
      "Original list:  [0, 1, 2, 3, 4, 5, 6, 7, 8, 9]\n",
      "Lambda list:  [0, 2, 4, 6, 8, 10, 12, 14, 16, 18]\n",
      "List comp:  [0, 2, 4, 6, 8, 10, 12, 14, 16, 18]\n"
     ]
    }
   ],
   "source": [
    "# An example that wraps it all up\n",
    "list_ = [0, 1, 2, 3, 4, 5, 6, 7, 8, 9]\n",
    "print(\"Original list: \" , list_)\n",
    "\n",
    "lambda_list = list(map(lambda x: x * 2, list_))\n",
    "print(\"Lambda list: \" , lambda_list)\n",
    "\n",
    "list_comp = [val*2 for val in list_]\n",
    "print(\"List comp: \" , list_comp)\n"
   ]
  },
  {
   "cell_type": "code",
   "execution_count": null,
   "id": "7a8f6d81-98e1-426d-b1de-80df136641cd",
   "metadata": {},
   "outputs": [],
   "source": []
  }
 ],
 "metadata": {
  "kernelspec": {
   "display_name": "Python 3 (ipykernel)",
   "language": "python",
   "name": "python3"
  },
  "language_info": {
   "codemirror_mode": {
    "name": "ipython",
    "version": 3
   },
   "file_extension": ".py",
   "mimetype": "text/x-python",
   "name": "python",
   "nbconvert_exporter": "python",
   "pygments_lexer": "ipython3",
   "version": "3.12.4"
  }
 },
 "nbformat": 4,
 "nbformat_minor": 5
}
