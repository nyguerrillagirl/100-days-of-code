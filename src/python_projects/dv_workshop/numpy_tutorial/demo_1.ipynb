{
 "cells": [
  {
   "cell_type": "code",
   "execution_count": 29,
   "id": "42aa81fc-b12b-4b47-bb1b-387692a7f70b",
   "metadata": {},
   "outputs": [],
   "source": [
    "arr = [1, 2, 3]"
   ]
  },
  {
   "cell_type": "code",
   "execution_count": 30,
   "id": "662bb3e8-46b7-48e6-965a-b80b1d0afb13",
   "metadata": {},
   "outputs": [],
   "source": [
    "list1 = [60, 60.5, 61, 61, 61.5,63.5, 63.5, 63.5,64, 64, 64, 64, 64, 64, 64, 64.5, 64.5, 64.5, 64.5]\n",
    "list2 = [64.5, 64.5, 64.5, 64.5,66, 66, 66, 66, 66, 66, 66, 66, 66, 66, 66.5, 66.5, 66.5, 66.5, 66.5]\n",
    "list3 = [66.5, 66.5, 66.5, 66.5, 66.5, 66.5, 67, 67, 67, 67,67, 67, 67, 67, 67, 67, 67, 67, 67.5, 67.5]\n",
    "list4 = [67.5, 67.5, 67.5, 67.5, 67.5,68, 68, 69, 69, 69, 69, 69, 69, 69, 69, 69, 69, 69.5, 69.5, 69.5, 69.5, 69.5]\n",
    "list5 = [70, 70, 70, 70, 70, 70, 70.5, 70.5, 70.5, 71, 71, 71,72, 72, 72, 72.5, 72.5, 73, 73.5,74]"
   ]
  },
  {
   "cell_type": "code",
   "execution_count": 31,
   "id": "55142593-3597-410f-a4de-62d0d5828d4f",
   "metadata": {},
   "outputs": [],
   "source": [
    "# combine into one list\n",
    "arr = list1 + list2 + list3 + list4 + list5"
   ]
  },
  {
   "cell_type": "code",
   "execution_count": 32,
   "id": "047bad87-f137-4c09-bd26-1643277b4cf2",
   "metadata": {},
   "outputs": [],
   "source": [
    "import numpy as np\n",
    "my_array = np.array(arr)\n",
    "reshaped_array = my_array.reshape(10,10)"
   ]
  },
  {
   "cell_type": "code",
   "execution_count": 33,
   "id": "03d82df0-f8d0-466e-bfcd-6df6dc7006e3",
   "metadata": {},
   "outputs": [
    {
     "data": {
      "text/plain": [
       "array([[60. , 60.5, 61. , 61. , 61.5, 63.5, 63.5, 63.5, 64. , 64. ],\n",
       "       [64. , 64. , 64. , 64. , 64. , 64.5, 64.5, 64.5, 64.5, 64.5],\n",
       "       [64.5, 64.5, 64.5, 66. , 66. , 66. , 66. , 66. , 66. , 66. ],\n",
       "       [66. , 66. , 66. , 66.5, 66.5, 66.5, 66.5, 66.5, 66.5, 66.5],\n",
       "       [66.5, 66.5, 66.5, 66.5, 67. , 67. , 67. , 67. , 67. , 67. ],\n",
       "       [67. , 67. , 67. , 67. , 67. , 67. , 67.5, 67.5, 67.5, 67.5],\n",
       "       [67.5, 67.5, 67.5, 68. , 68. , 69. , 69. , 69. , 69. , 69. ],\n",
       "       [69. , 69. , 69. , 69. , 69. , 69.5, 69.5, 69.5, 69.5, 69.5],\n",
       "       [70. , 70. , 70. , 70. , 70. , 70. , 70.5, 70.5, 70.5, 71. ],\n",
       "       [71. , 71. , 72. , 72. , 72. , 72.5, 72.5, 73. , 73.5, 74. ]])"
      ]
     },
     "execution_count": 33,
     "metadata": {},
     "output_type": "execute_result"
    }
   ],
   "source": [
    "reshaped_array "
   ]
  },
  {
   "cell_type": "code",
   "execution_count": 34,
   "id": "19a15f4e-2ebd-438b-826d-0c27777f73b9",
   "metadata": {},
   "outputs": [],
   "source": [
    "# scramble the list\n",
    "import random\n",
    "random.shuffle(arr)"
   ]
  },
  {
   "cell_type": "code",
   "execution_count": 17,
   "id": "07ba7ce1-0088-4c30-8960-3859bafa98df",
   "metadata": {},
   "outputs": [
    {
     "data": {
      "text/plain": [
       "[69,\n",
       " 66,\n",
       " 69.5,\n",
       " 72,\n",
       " 67,\n",
       " 64.5,\n",
       " 69,\n",
       " 66.5,\n",
       " 64.5,\n",
       " 64,\n",
       " 72.5,\n",
       " 64.5,\n",
       " 70.5,\n",
       " 61.5,\n",
       " 69,\n",
       " 70,\n",
       " 66.5,\n",
       " 67,\n",
       " 66.5,\n",
       " 73,\n",
       " 69,\n",
       " 64,\n",
       " 63.5,\n",
       " 67.5,\n",
       " 67.5,\n",
       " 67.5,\n",
       " 71,\n",
       " 67,\n",
       " 70,\n",
       " 68,\n",
       " 66.5,\n",
       " 69.5,\n",
       " 67.5,\n",
       " 74,\n",
       " 64.5,\n",
       " 69,\n",
       " 66.5,\n",
       " 70,\n",
       " 67,\n",
       " 69.5,\n",
       " 71,\n",
       " 67,\n",
       " 70,\n",
       " 69,\n",
       " 68,\n",
       " 66.5,\n",
       " 72,\n",
       " 71,\n",
       " 67,\n",
       " 61,\n",
       " 66,\n",
       " 69,\n",
       " 72.5,\n",
       " 63.5,\n",
       " 64,\n",
       " 67,\n",
       " 64,\n",
       " 66,\n",
       " 66,\n",
       " 69.5,\n",
       " 69,\n",
       " 66.5,\n",
       " 70.5,\n",
       " 67,\n",
       " 66.5,\n",
       " 66.5,\n",
       " 64,\n",
       " 67,\n",
       " 61,\n",
       " 66,\n",
       " 63.5,\n",
       " 66,\n",
       " 69.5,\n",
       " 64.5,\n",
       " 72,\n",
       " 60.5,\n",
       " 67,\n",
       " 66,\n",
       " 66,\n",
       " 60,\n",
       " 64.5,\n",
       " 67,\n",
       " 67,\n",
       " 66,\n",
       " 64.5,\n",
       " 66.5,\n",
       " 69,\n",
       " 67.5,\n",
       " 67.5,\n",
       " 64,\n",
       " 69,\n",
       " 70.5,\n",
       " 64.5,\n",
       " 66,\n",
       " 66.5,\n",
       " 73.5,\n",
       " 70,\n",
       " 67.5,\n",
       " 64,\n",
       " 70]"
      ]
     },
     "execution_count": 17,
     "metadata": {},
     "output_type": "execute_result"
    }
   ],
   "source": [
    "arr"
   ]
  },
  {
   "cell_type": "code",
   "execution_count": 35,
   "id": "b81fd5a3-6cdd-45f4-b35e-94c0035b08c9",
   "metadata": {},
   "outputs": [
    {
     "data": {
      "text/plain": [
       "100"
      ]
     },
     "execution_count": 35,
     "metadata": {},
     "output_type": "execute_result"
    }
   ],
   "source": [
    "len(arr)"
   ]
  },
  {
   "cell_type": "code",
   "execution_count": 36,
   "id": "8a053aae-2fb6-4dca-add2-2adb3c5371b5",
   "metadata": {},
   "outputs": [],
   "source": [
    "import numpy as np\n",
    "my_array = np.array(arr)\n",
    "reshaped_array = my_array.reshape(10,10)"
   ]
  },
  {
   "cell_type": "code",
   "execution_count": 37,
   "id": "4eb953bf-5b31-4a73-a8ca-ac3dee986223",
   "metadata": {},
   "outputs": [
    {
     "data": {
      "text/plain": [
       "array([[64. , 66. , 73. , 67.5, 61. , 64.5, 64.5, 67. , 70. , 67. ],\n",
       "       [69. , 69. , 66. , 66.5, 66. , 66.5, 72.5, 64.5, 66.5, 67. ],\n",
       "       [69.5, 66.5, 64.5, 64.5, 71. , 66.5, 70. , 67. , 60.5, 66.5],\n",
       "       [70. , 70. , 67. , 69. , 68. , 64. , 67.5, 64. , 72. , 69. ],\n",
       "       [69. , 70.5, 67. , 67. , 66. , 64. , 69. , 69.5, 67. , 73.5],\n",
       "       [66. , 67.5, 71. , 69. , 61. , 67. , 72. , 64.5, 70.5, 67. ],\n",
       "       [67.5, 66. , 66.5, 66. , 69.5, 66. , 64. , 69. , 72.5, 63.5],\n",
       "       [70.5, 68. , 67.5, 70. , 63.5, 69.5, 69. , 74. , 63.5, 66.5],\n",
       "       [69. , 64.5, 71. , 66.5, 60. , 67.5, 66.5, 61.5, 67. , 64. ],\n",
       "       [66. , 66.5, 72. , 69.5, 66. , 64. , 70. , 67.5, 67. , 64.5]])"
      ]
     },
     "execution_count": 37,
     "metadata": {},
     "output_type": "execute_result"
    }
   ],
   "source": [
    "reshaped_array"
   ]
  },
  {
   "cell_type": "code",
   "execution_count": 42,
   "id": "78c8db6f-a179-43f5-ba62-0a1df3cb2f6b",
   "metadata": {},
   "outputs": [],
   "source": [
    "# Let's create a histogram\n",
    "import matplotlib.pyplot as plt\n",
    "%matplotlib inline\n",
    "import seaborn as sns"
   ]
  },
  {
   "cell_type": "code",
   "execution_count": 53,
   "id": "4ca4edd1-982d-47aa-81c0-4e693ce8d0d0",
   "metadata": {},
   "outputs": [
    {
     "data": {
      "image/png": "[encoded data removed]",
      "text/plain": [
       "<Figure size 640x480 with 1 Axes>"
      ]
     },
     "metadata": {},
     "output_type": "display_data"
    }
   ],
   "source": [
    "sns.histplot(data=my_array, bins=10, binwidth=2)\n",
    "plt.xlabel('Heights')\n",
    "plt.ylabel('Count')\n",
    "plt.title('Heights of Semi-Professional Soccer Playeys')\n",
    "plt.show()"
   ]
  },
  {
   "cell_type": "code",
   "execution_count": 55,
   "id": "f4da4518-c532-4cb2-950c-0f2dd1f82b27",
   "metadata": {},
   "outputs": [
    {
     "data": {
      "image/png": "[encoded data removed]",
      "text/plain": [
       "<Figure size 640x480 with 1 Axes>"
      ]
     },
     "metadata": {},
     "output_type": "display_data"
    }
   ],
   "source": [
    "sns.histplot(data=my_array, bins=14)\n",
    "plt.xlabel('Heights')\n",
    "plt.ylabel('Count')\n",
    "plt.title('Heights of Semi-Professional Soccer Playeys')\n",
    "plt.show()"
   ]
  },
  {
   "cell_type": "code",
   "execution_count": null,
   "id": "d3c17097-b100-41da-99e3-8565e630dd2e",
   "metadata": {},
   "outputs": [],
   "source": []
  }
 ],
 "metadata": {
  "kernelspec": {
   "display_name": "Python 3 (ipykernel)",
   "language": "python",
   "name": "python3"
  },
  "language_info": {
   "codemirror_mode": {
    "name": "ipython",
    "version": 3
   },
   "file_extension": ".py",
   "mimetype": "text/x-python",
   "name": "python",
   "nbconvert_exporter": "python",
   "pygments_lexer": "ipython3",
   "version": "3.12.4"
  }
 },
 "nbformat": 4,
 "nbformat_minor": 5
}
