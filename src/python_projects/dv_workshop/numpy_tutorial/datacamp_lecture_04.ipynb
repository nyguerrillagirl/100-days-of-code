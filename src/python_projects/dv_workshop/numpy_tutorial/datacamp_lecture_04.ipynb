{
 "cells": [
  {
   "cell_type": "code",
   "execution_count": 3,
   "id": "5979ff13-9fbb-4036-8557-d592476b567d",
   "metadata": {},
   "outputs": [],
   "source": [
    "import numpy as np\n",
    "rgb = np.array([[[255, 0, 0], [255, 255, 0], [255, 255, 255]], \\\n",
    "                [[255, 0, 255], [0, 255, 0], [0, 255, 255]], \\\n",
    "                [[0, 0, 0], [0, 255, 255], [0, 0, 255]]]) "
   ]
  },
  {
   "cell_type": "code",
   "execution_count": 5,
   "id": "732c084f-a899-4bb9-9e9e-6fa234fb55ce",
   "metadata": {},
   "outputs": [
    {
     "data": {
      "text/plain": [
       "array([[255, 255, 255],\n",
       "       [255,   0,   0],\n",
       "       [  0,   0,   0]])"
      ]
     },
     "execution_count": 5,
     "metadata": {},
     "output_type": "execute_result"
    }
   ],
   "source": [
    "red_array = rgb[:,:,0]\n",
    "red_array"
   ]
  },
  {
   "cell_type": "code",
   "execution_count": 6,
   "id": "d68689a6-4c0e-43a4-bf21-dc396d2a3d1b",
   "metadata": {},
   "outputs": [
    {
     "data": {
      "text/plain": [
       "array([[255,   0,   0],\n",
       "       [255, 255,   0],\n",
       "       [255, 255, 255]])"
      ]
     },
     "execution_count": 6,
     "metadata": {},
     "output_type": "execute_result"
    }
   ],
   "source": [
    "rgb[0]"
   ]
  },
  {
   "cell_type": "code",
   "execution_count": 7,
   "id": "96717f7a-605a-4ac5-8440-e157c4a6d20b",
   "metadata": {},
   "outputs": [
    {
     "data": {
      "text/plain": [
       "255"
      ]
     },
     "execution_count": 7,
     "metadata": {},
     "output_type": "execute_result"
    }
   ],
   "source": [
    "rgb[0,0,0]"
   ]
  },
  {
   "cell_type": "code",
   "execution_count": 8,
   "id": "61b18f91-f3ae-437f-8f0a-0bcf9c4928d1",
   "metadata": {},
   "outputs": [
    {
     "data": {
      "text/plain": [
       "255"
      ]
     },
     "execution_count": 8,
     "metadata": {},
     "output_type": "execute_result"
    }
   ],
   "source": [
    "rgb[0,1,0]"
   ]
  },
  {
   "cell_type": "code",
   "execution_count": 9,
   "id": "11def243-afe8-4af7-9de8-c76c3c98cd7c",
   "metadata": {},
   "outputs": [
    {
     "data": {
      "text/plain": [
       "(3, 3)"
      ]
     },
     "execution_count": 9,
     "metadata": {},
     "output_type": "execute_result"
    }
   ],
   "source": [
    "red_array.shape"
   ]
  },
  {
   "cell_type": "code",
   "execution_count": 10,
   "id": "847d68ac-1a03-4316-a817-2d7bdb716bac",
   "metadata": {},
   "outputs": [
    {
     "data": {
      "text/plain": [
       "array([[[255],\n",
       "        [255],\n",
       "        [255]],\n",
       "\n",
       "       [[255],\n",
       "        [  0],\n",
       "        [  0]],\n",
       "\n",
       "       [[  0],\n",
       "        [  0],\n",
       "        [  0]]])"
      ]
     },
     "execution_count": 10,
     "metadata": {},
     "output_type": "execute_result"
    }
   ],
   "source": [
    "red_array, green_array, blue_array = np.split(rgb, 3, axis=2)\n",
    "red_array"
   ]
  },
  {
   "cell_type": "code",
   "execution_count": 11,
   "id": "d70328cd-5134-4bba-913f-b86702c6f990",
   "metadata": {},
   "outputs": [
    {
     "data": {
      "text/plain": [
       "(3, 3, 1)"
      ]
     },
     "execution_count": 11,
     "metadata": {},
     "output_type": "execute_result"
    }
   ],
   "source": [
    "red_array.shape"
   ]
  },
  {
   "cell_type": "code",
   "execution_count": 12,
   "id": "d5611c13-3297-41d9-8570-6ba1776164af",
   "metadata": {},
   "outputs": [
    {
     "data": {
      "text/plain": [
       "array([[255, 255, 255],\n",
       "       [255,   0,   0],\n",
       "       [  0,   0,   0]])"
      ]
     },
     "execution_count": 12,
     "metadata": {},
     "output_type": "execute_result"
    }
   ],
   "source": [
    "red_array_2D = red_array.reshape((3,3))\n",
    "red_array_2D"
   ]
  },
  {
   "cell_type": "code",
   "execution_count": null,
   "id": "af198818-df32-4edb-a613-aa0ad91a2152",
   "metadata": {},
   "outputs": [],
   "source": []
  }
 ],
 "metadata": {
  "kernelspec": {
   "display_name": "Python 3 (ipykernel)",
   "language": "python",
   "name": "python3"
  },
  "language_info": {
   "codemirror_mode": {
    "name": "ipython",
    "version": 3
   },
   "file_extension": ".py",
   "mimetype": "text/x-python",
   "name": "python",
   "nbconvert_exporter": "python",
   "pygments_lexer": "ipython3",
   "version": "3.12.4"
  }
 },
 "nbformat": 4,
 "nbformat_minor": 5
}
