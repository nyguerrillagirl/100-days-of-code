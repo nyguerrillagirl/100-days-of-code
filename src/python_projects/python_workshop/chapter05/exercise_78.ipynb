{
 "cells": [
  {
   "cell_type": "markdown",
   "id": "f7b91bdc-8d99-4206-b47a-6324dbbaf794",
   "metadata": {},
   "source": [
    "### Exercise 78: Extending Our Pet Class with Class Methods"
   ]
  },
  {
   "cell_type": "code",
   "execution_count": 3,
   "id": "ba6f2e55-f05f-4a3b-ae12-9090801ecaab",
   "metadata": {},
   "outputs": [],
   "source": [
    "import random\n",
    "class Pet():\n",
    "    def __init__(self, height):\n",
    "        self.height = height\n",
    "    \n",
    "    is_human = False\n",
    "    owner = 'Michael Smith'\n",
    "\n",
    "    @classmethod\n",
    "    def owned_by_smith_family(cls):\n",
    "        return 'Smith' in cls.owner\n",
    "\n",
    "    @classmethod\n",
    "    def create_random_height_pet(cls):\n",
    "        height = random.randrange(0,100)\n",
    "        return cls(height)"
   ]
  },
  {
   "cell_type": "code",
   "execution_count": 5,
   "id": "b14aa8f8-84c5-4e41-87c3-9d46ffd61835",
   "metadata": {},
   "outputs": [
    {
     "name": "stdout",
     "output_type": "stream",
     "text": [
      "87\n",
      "0\n",
      "16\n",
      "85\n",
      "54\n"
     ]
    }
   ],
   "source": [
    "for i in range(5):\n",
    "    pet = Pet.create_random_height_pet()\n",
    "    print(pet.height)"
   ]
  },
  {
   "cell_type": "code",
   "execution_count": null,
   "id": "25db2f03-f06e-459f-b804-49116ad591b2",
   "metadata": {},
   "outputs": [],
   "source": []
  }
 ],
 "metadata": {
  "kernelspec": {
   "display_name": "Python 3 (ipykernel)",
   "language": "python",
   "name": "python3"
  },
  "language_info": {
   "codemirror_mode": {
    "name": "ipython",
    "version": 3
   },
   "file_extension": ".py",
   "mimetype": "text/x-python",
   "name": "python",
   "nbconvert_exporter": "python",
   "pygments_lexer": "ipython3",
   "version": "3.12.4"
  }
 },
 "nbformat": 4,
 "nbformat_minor": 5
}
