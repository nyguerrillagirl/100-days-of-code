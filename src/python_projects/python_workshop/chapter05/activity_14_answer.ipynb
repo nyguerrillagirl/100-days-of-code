{
 "cells": [
  {
   "cell_type": "code",
   "execution_count": 38,
   "id": "26ae03ff-6cfc-457f-9553-f9d4b791ed66",
   "metadata": {},
   "outputs": [],
   "source": [
    "class Polygon():\n",
    "    \"\"\"A class to capture common utilities for dealing with shapes\"\"\"\n",
    "    def __init__(self, side_lengths):\n",
    "        self.side_lengths = side_lengths\n",
    "        \n",
    "    def __str__(self):\n",
    "        return 'Polygon with %s sides' % self.num_sides \n",
    "        \n",
    "    @property\n",
    "    def perimeter(self):\n",
    "        return sum(self.side_lengths)    \n",
    "        \n",
    "    @property\n",
    "    def num_sides(self):\n",
    "        return len(self.side_lengths)"
   ]
  },
  {
   "cell_type": "markdown",
   "id": "7a01088a-378b-470c-98d0-e1a8804ae3c3",
   "metadata": {},
   "source": [
    "- The Activity did not specify that the argument to the constructor would be a list of side values!"
   ]
  },
  {
   "cell_type": "code",
   "execution_count": 39,
   "id": "6d8cce82-59a7-44ad-94dd-3049da510205",
   "metadata": {},
   "outputs": [],
   "source": [
    "class Rectangle(Polygon):\n",
    "    def __init__(self, height, width):\n",
    "        super().__init__([height, width, height, width])\n",
    "        \n",
    "    @property\n",
    "    def area(self):\n",
    "        return self.side_lengths[0] * self.side_lengths[1]"
   ]
  },
  {
   "cell_type": "code",
   "execution_count": 40,
   "id": "92c223aa-f295-4315-8d8f-78c8bb47f785",
   "metadata": {},
   "outputs": [
    {
     "data": {
      "text/plain": [
       "(5, 12)"
      ]
     },
     "execution_count": 40,
     "metadata": {},
     "output_type": "execute_result"
    }
   ],
   "source": [
    "r = Rectangle(1,5)\n",
    "r.area, r.perimeter"
   ]
  },
  {
   "cell_type": "raw",
   "id": "587fea65-baa5-42ff-8448-135050bf8496",
   "metadata": {},
   "source": [
    "r.perimeter"
   ]
  },
  {
   "cell_type": "code",
   "execution_count": 41,
   "id": "dc5c53b9-0a14-47a4-a133-7135fbf34597",
   "metadata": {},
   "outputs": [
    {
     "data": {
      "text/plain": [
       "4"
      ]
     },
     "execution_count": 41,
     "metadata": {},
     "output_type": "execute_result"
    }
   ],
   "source": [
    "r.num_sides"
   ]
  },
  {
   "cell_type": "code",
   "execution_count": 43,
   "id": "d8e93d70-b6ef-4b49-92ae-60d68bf61ac9",
   "metadata": {},
   "outputs": [],
   "source": [
    "class Square(Rectangle):\n",
    "    def __init__(self, height):\n",
    "        super().__init__(height, height)"
   ]
  },
  {
   "cell_type": "code",
   "execution_count": 44,
   "id": "82c2a5a5-6f07-4412-a08c-ef72ed0a5ad9",
   "metadata": {},
   "outputs": [],
   "source": [
    "s = Square(5)"
   ]
  },
  {
   "cell_type": "code",
   "execution_count": 45,
   "id": "e0ec09c7-edfd-4181-8aa2-e67564004a0b",
   "metadata": {},
   "outputs": [
    {
     "data": {
      "text/plain": [
       "(25, 20)"
      ]
     },
     "execution_count": 45,
     "metadata": {},
     "output_type": "execute_result"
    }
   ],
   "source": [
    "s.area, s.perimeter"
   ]
  },
  {
   "cell_type": "code",
   "execution_count": 46,
   "id": "80d40c9d-f155-4dca-a97f-b2571295ead2",
   "metadata": {},
   "outputs": [
    {
     "data": {
      "text/plain": [
       "25"
      ]
     },
     "execution_count": 46,
     "metadata": {},
     "output_type": "execute_result"
    }
   ],
   "source": [
    "s.area"
   ]
  },
  {
   "cell_type": "code",
   "execution_count": 47,
   "id": "5dce32e1-2f1b-47bc-b34f-b3c90fbfef75",
   "metadata": {},
   "outputs": [
    {
     "data": {
      "text/plain": [
       "20"
      ]
     },
     "execution_count": 47,
     "metadata": {},
     "output_type": "execute_result"
    }
   ],
   "source": [
    "s.perimeter"
   ]
  },
  {
   "cell_type": "code",
   "execution_count": 48,
   "id": "b4a9f0ba-9718-4dcc-bff7-68063cb2fb82",
   "metadata": {},
   "outputs": [
    {
     "data": {
      "text/plain": [
       "5"
      ]
     },
     "execution_count": 48,
     "metadata": {},
     "output_type": "execute_result"
    }
   ],
   "source": [
    "r.area"
   ]
  },
  {
   "cell_type": "code",
   "execution_count": 49,
   "id": "7494c285-ec40-4e9c-b344-63b20e4f0d1f",
   "metadata": {},
   "outputs": [
    {
     "data": {
      "text/plain": [
       "12"
      ]
     },
     "execution_count": 49,
     "metadata": {},
     "output_type": "execute_result"
    }
   ],
   "source": [
    "r.perimeter"
   ]
  },
  {
   "cell_type": "code",
   "execution_count": null,
   "id": "02ad6c1f-a5fa-429f-9fd8-1223917535c4",
   "metadata": {},
   "outputs": [],
   "source": []
  }
 ],
 "metadata": {
  "kernelspec": {
   "display_name": "Python 3 (ipykernel)",
   "language": "python",
   "name": "python3"
  },
  "language_info": {
   "codemirror_mode": {
    "name": "ipython",
    "version": 3
   },
   "file_extension": ".py",
   "mimetype": "text/x-python",
   "name": "python",
   "nbconvert_exporter": "python",
   "pygments_lexer": "ipython3",
   "version": "3.12.4"
  }
 },
 "nbformat": 4,
 "nbformat_minor": 5
}
