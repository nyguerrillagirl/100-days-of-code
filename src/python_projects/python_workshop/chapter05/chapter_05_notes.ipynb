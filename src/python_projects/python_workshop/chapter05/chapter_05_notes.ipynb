{
 "cells": [
  {
   "cell_type": "markdown",
   "id": "1e6b78a2-b14e-4b37-a95c-43af8f9e7068",
   "metadata": {},
   "source": [
    "# Chapter 5 - Constructing Python - Classes and Methods"
   ]
  },
  {
   "cell_type": "code",
   "execution_count": 1,
   "id": "54fe4a38-ac45-4324-ab54-08404ea699a5",
   "metadata": {},
   "outputs": [
    {
     "data": {
      "text/plain": [
       "10"
      ]
     },
     "execution_count": 1,
     "metadata": {},
     "output_type": "execute_result"
    }
   ],
   "source": [
    "x = 10\n",
    "x"
   ]
  },
  {
   "cell_type": "code",
   "execution_count": 2,
   "id": "b0eafdfe-1df8-4daa-9271-2322e5e72528",
   "metadata": {},
   "outputs": [
    {
     "data": {
      "text/plain": [
       "int"
      ]
     },
     "execution_count": 2,
     "metadata": {},
     "output_type": "execute_result"
    }
   ],
   "source": [
    "type(x)"
   ]
  },
  {
   "cell_type": "code",
   "execution_count": 3,
   "id": "b631b336-6e74-4c69-a9d6-50dd1390100d",
   "metadata": {},
   "outputs": [
    {
     "data": {
      "text/plain": [
       "4"
      ]
     },
     "execution_count": 3,
     "metadata": {},
     "output_type": "execute_result"
    }
   ],
   "source": [
    "x.bit_length()"
   ]
  },
  {
   "cell_type": "code",
   "execution_count": 4,
   "id": "5753b6a7-372a-49b0-bb47-f0bbea52cbce",
   "metadata": {},
   "outputs": [
    {
     "name": "stdout",
     "output_type": "stream",
     "text": [
      "int([x]) -> integer\n",
      "int(x, base=10) -> integer\n",
      "\n",
      "Convert a number or string to an integer, or return 0 if no arguments\n",
      "are given.  If x is a number, return x.__int__().  For floating point\n",
      "numbers, this truncates towards zero.\n",
      "\n",
      "If x is not a number or if base is given, then x must be a string,\n",
      "bytes, or bytearray instance representing an integer literal in the\n",
      "given base.  The literal can be preceded by '+' or '-' and be surrounded\n",
      "by whitespace.  The base defaults to 10.  Valid bases are 0 and 2-36.\n",
      "Base 0 means to interpret the base from the string as an integer literal.\n",
      ">>> int('0b100', base=0)\n",
      "4\n"
     ]
    }
   ],
   "source": [
    "print(x.__doc__)"
   ]
  },
  {
   "cell_type": "code",
   "execution_count": 5,
   "id": "094b9970-fd79-41e5-a5c0-1378fd2a8ff7",
   "metadata": {},
   "outputs": [],
   "source": [
    "class Australian():\n",
    "    is_human = True\n",
    "    enjoys_sport = True"
   ]
  },
  {
   "cell_type": "code",
   "execution_count": 6,
   "id": "08b1e02d-6278-4f25-b617-1a485d83ffb7",
   "metadata": {},
   "outputs": [],
   "source": [
    "john = Australian()"
   ]
  },
  {
   "cell_type": "code",
   "execution_count": 7,
   "id": "103c81bb-e005-471f-b047-e80aa51f4d63",
   "metadata": {},
   "outputs": [
    {
     "data": {
      "text/plain": [
       "__main__.Australian"
      ]
     },
     "execution_count": 7,
     "metadata": {},
     "output_type": "execute_result"
    }
   ],
   "source": [
    "type(john)"
   ]
  },
  {
   "cell_type": "code",
   "execution_count": 8,
   "id": "c466414c-a192-4e3c-9100-082cc954db49",
   "metadata": {},
   "outputs": [
    {
     "data": {
      "text/plain": [
       "True"
      ]
     },
     "execution_count": 8,
     "metadata": {},
     "output_type": "execute_result"
    }
   ],
   "source": [
    "john.is_human"
   ]
  },
  {
   "cell_type": "code",
   "execution_count": 9,
   "id": "5626686e-8948-4e02-80b0-41563efeeec9",
   "metadata": {},
   "outputs": [
    {
     "data": {
      "text/plain": [
       "True"
      ]
     },
     "execution_count": 9,
     "metadata": {},
     "output_type": "execute_result"
    }
   ],
   "source": [
    "john.enjoys_sport"
   ]
  },
  {
   "cell_type": "code",
   "execution_count": 10,
   "id": "10343356-cc62-4490-9820-06062a897ba7",
   "metadata": {},
   "outputs": [],
   "source": [
    "ming = Australian()"
   ]
  },
  {
   "cell_type": "code",
   "execution_count": 11,
   "id": "ca91bb1f-aaac-4f8c-8a2d-8d8f8b1a662f",
   "metadata": {},
   "outputs": [
    {
     "data": {
      "text/plain": [
       "True"
      ]
     },
     "execution_count": 11,
     "metadata": {},
     "output_type": "execute_result"
    }
   ],
   "source": [
    "ming.is_human"
   ]
  },
  {
   "cell_type": "code",
   "execution_count": 12,
   "id": "3381a669-f96d-4e51-a78e-7b33b7cd7550",
   "metadata": {},
   "outputs": [],
   "source": [
    "import math\n",
    "class Circle():\n",
    "    is_shape = True\n",
    "\n",
    "    def __init__(self, radius, color='red'):\n",
    "        self.radius = radius\n",
    "        self.color = color\n",
    "\n",
    "    def area(self):\n",
    "        return math.pi * self.radius ** 2"
   ]
  },
  {
   "cell_type": "code",
   "execution_count": 13,
   "id": "18f0747f-395c-4c9b-9c34-01a40423e82d",
   "metadata": {},
   "outputs": [],
   "source": [
    "circle = Circle(3)"
   ]
  },
  {
   "cell_type": "code",
   "execution_count": 14,
   "id": "1024c969-1f6f-430a-8a3e-ef056caa6aff",
   "metadata": {},
   "outputs": [
    {
     "data": {
      "text/plain": [
       "28.274333882308138"
      ]
     },
     "execution_count": 14,
     "metadata": {},
     "output_type": "execute_result"
    }
   ],
   "source": [
    "circle.area()"
   ]
  },
  {
   "cell_type": "code",
   "execution_count": 15,
   "id": "4b19541a-1106-4e9f-b15d-f936c15f4913",
   "metadata": {},
   "outputs": [],
   "source": [
    "circle.radius = 2"
   ]
  },
  {
   "cell_type": "code",
   "execution_count": 16,
   "id": "94110173-ca67-4a6d-85fb-2e5a1588317f",
   "metadata": {},
   "outputs": [
    {
     "data": {
      "text/plain": [
       "12.566370614359172"
      ]
     },
     "execution_count": 16,
     "metadata": {},
     "output_type": "execute_result"
    }
   ],
   "source": [
    "circle.area()"
   ]
  },
  {
   "cell_type": "code",
   "execution_count": 18,
   "id": "5572d92b-464d-445d-a174-8cdb308d476e",
   "metadata": {},
   "outputs": [],
   "source": [
    "class Pet():\n",
    "    def __init__(self, height, name):\n",
    "        self.height = height\n",
    "        self.name = name\n",
    "    \n",
    "    is_human = False\n",
    "    owner = 'Michael Smith' \n",
    "    \n",
    "    def __str__(self):\n",
    "        return '%s (height: %s cm)' % (self.name, self.height)"
   ]
  },
  {
   "cell_type": "code",
   "execution_count": 19,
   "id": "0b021712-4b76-4a4b-93cd-2bfe8e38768c",
   "metadata": {},
   "outputs": [
    {
     "name": "stdout",
     "output_type": "stream",
     "text": [
      "Rudolf (height: 40 cm)\n"
     ]
    }
   ],
   "source": [
    "my_other_pet = Pet(40, 'Rudolf')\n",
    "print(my_other_pet)"
   ]
  },
  {
   "cell_type": "code",
   "execution_count": 20,
   "id": "cff3aca8-9a8d-4e54-afcd-90e8ebf752f3",
   "metadata": {},
   "outputs": [],
   "source": [
    "class Pet():\n",
    "    def __init__(self, height):\n",
    "        self.height = height\n",
    "    \n",
    "    is_human = False\n",
    "    owner = 'Michael Smith'\n",
    "\n",
    "    @staticmethod\n",
    "    def owned_by_smith_family():\n",
    "        return 'Smith' in Pet.owner"
   ]
  },
  {
   "cell_type": "code",
   "execution_count": 21,
   "id": "8dd4dd71-23a4-4b9e-b8f2-928b0985a5c2",
   "metadata": {},
   "outputs": [],
   "source": [
    "nibbles = Pet(100)"
   ]
  },
  {
   "cell_type": "code",
   "execution_count": 22,
   "id": "2e464e5a-0641-409e-82d5-f5ba7ac825b2",
   "metadata": {},
   "outputs": [
    {
     "data": {
      "text/plain": [
       "True"
      ]
     },
     "execution_count": 22,
     "metadata": {},
     "output_type": "execute_result"
    }
   ],
   "source": [
    "nibbles.owned_by_smith_family()"
   ]
  },
  {
   "cell_type": "code",
   "execution_count": 23,
   "id": "5d2a6f1e-5eb7-4c00-bb5f-6c471072338e",
   "metadata": {},
   "outputs": [],
   "source": [
    "class Australian():\n",
    "    is_human = True\n",
    "    enjoys_sport = True\n",
    "    \n",
    "    @classmethod\n",
    "    def is_sporty_human(cls):\n",
    "        return cls.is_human and cls.enjoys_sport "
   ]
  },
  {
   "cell_type": "code",
   "execution_count": 24,
   "id": "ff17cce4-1542-4a68-a479-70e35743b71e",
   "metadata": {},
   "outputs": [],
   "source": [
    "john = Australian()"
   ]
  },
  {
   "cell_type": "code",
   "execution_count": 25,
   "id": "20a9fded-0d33-447f-9446-e07238c99dbb",
   "metadata": {},
   "outputs": [
    {
     "data": {
      "text/plain": [
       "True"
      ]
     },
     "execution_count": 25,
     "metadata": {},
     "output_type": "execute_result"
    }
   ],
   "source": [
    "john.is_sporty_human()"
   ]
  },
  {
   "cell_type": "code",
   "execution_count": 26,
   "id": "9af0857a-9729-4295-aa9b-23b3fb82ec89",
   "metadata": {},
   "outputs": [
    {
     "data": {
      "text/plain": [
       "True"
      ]
     },
     "execution_count": 26,
     "metadata": {},
     "output_type": "execute_result"
    }
   ],
   "source": [
    "Australian.is_sporty_human()"
   ]
  },
  {
   "cell_type": "code",
   "execution_count": 33,
   "id": "5e915123-0da5-4e73-912b-dc9b43e5ad44",
   "metadata": {},
   "outputs": [],
   "source": [
    "class Country():\n",
    "    def __init__(self, name='Unspecified', population=None, size_kmsq=None):\n",
    "        self.name = name\n",
    "        self.population = population\n",
    "        self.size_kmsq = size_kmsq\n",
    "        \n",
    "    @classmethod\n",
    "    def create_with_msq(cls, name, population, size_msq):\n",
    "        size_kmsq = size_msq / 0.621371 ** 2\n",
    "        return cls(name, population, size_kmsq)"
   ]
  },
  {
   "cell_type": "code",
   "execution_count": 34,
   "id": "f7c3e30c-593e-4734-93bf-c7286512b7e4",
   "metadata": {},
   "outputs": [],
   "source": [
    "mexico = Country.create_with_msq('Mexico', 150e6, 760000)"
   ]
  },
  {
   "cell_type": "code",
   "execution_count": 35,
   "id": "bfc478c7-ed9c-4ac5-8390-aa2e49c81431",
   "metadata": {},
   "outputs": [
    {
     "data": {
      "text/plain": [
       "1968392.1818017708"
      ]
     },
     "execution_count": 35,
     "metadata": {},
     "output_type": "execute_result"
    }
   ],
   "source": [
    "mexico.size_kmsq"
   ]
  },
  {
   "cell_type": "code",
   "execution_count": 37,
   "id": "2087294e-1455-4cc8-b605-24c13f4655b1",
   "metadata": {},
   "outputs": [],
   "source": [
    "class Temperature():\n",
    "    def __init__(self, celsius, fahrenheit):\n",
    "        self.celsius = celsius\n",
    "        self.fahrenheit = fahrenheit"
   ]
  },
  {
   "cell_type": "code",
   "execution_count": 38,
   "id": "7e120dd6-4791-45d2-b646-ef9732da70a9",
   "metadata": {},
   "outputs": [
    {
     "data": {
      "text/plain": [
       "32"
      ]
     },
     "execution_count": 38,
     "metadata": {},
     "output_type": "execute_result"
    }
   ],
   "source": [
    "freezing = Temperature(0, 32)\n",
    "freezing.fahrenheit"
   ]
  },
  {
   "cell_type": "code",
   "execution_count": 39,
   "id": "ad8ae7cc-1706-4186-92fa-82fa1b6e100a",
   "metadata": {},
   "outputs": [],
   "source": [
    "class Temperature():\n",
    "    def __init__(self, celsius):\n",
    "        self.celsius = celsius\n",
    "    \n",
    "    def fahrenheit(self):\n",
    "        return self.celsius * 9 / 5 + 32"
   ]
  },
  {
   "cell_type": "code",
   "execution_count": 41,
   "id": "90decb9e-a210-4a43-9268-75f163677d42",
   "metadata": {},
   "outputs": [
    {
     "name": "stdout",
     "output_type": "stream",
     "text": [
      "32.0\n"
     ]
    }
   ],
   "source": [
    "my_temp = Temperature(0)\n",
    "print(my_temp.fahrenheit())"
   ]
  },
  {
   "cell_type": "code",
   "execution_count": 42,
   "id": "e89197aa-ccb8-433f-97a3-8035b81e7fa5",
   "metadata": {},
   "outputs": [
    {
     "name": "stdout",
     "output_type": "stream",
     "text": [
      "14.0\n"
     ]
    }
   ],
   "source": [
    "my_temp.celsius = -10\n",
    "print(my_temp.fahrenheit())"
   ]
  },
  {
   "cell_type": "code",
   "execution_count": 43,
   "id": "d34ae4a2-9a56-416b-9722-28d324080728",
   "metadata": {},
   "outputs": [],
   "source": [
    "class Temperature():\n",
    "    def __init__(self, celsius):\n",
    "        self.celsius = celsius\n",
    "\n",
    "    @property\n",
    "    def fahrenheit(self):\n",
    "        return self.celsius * 9 / 5 + 32"
   ]
  },
  {
   "cell_type": "code",
   "execution_count": 44,
   "id": "6733440c-64d1-4389-b544-c67ffec2c31e",
   "metadata": {},
   "outputs": [
    {
     "data": {
      "text/plain": [
       "212.0"
      ]
     },
     "execution_count": 44,
     "metadata": {},
     "output_type": "execute_result"
    }
   ],
   "source": [
    "freezing = Temperature(100)\n",
    "freezing.fahrenheit"
   ]
  },
  {
   "cell_type": "code",
   "execution_count": 45,
   "id": "05e35b9b-5ab2-4e76-a933-896d70475e9d",
   "metadata": {},
   "outputs": [],
   "source": [
    "class Cat():\n",
    "    is_feline = True\n",
    "\n",
    "    def __init__(self, name, weight):\n",
    "        self.name = name\n",
    "        self.weight = weight"
   ]
  },
  {
   "cell_type": "code",
   "execution_count": 46,
   "id": "668f9e5e-6a27-48d2-9174-4bc66488993a",
   "metadata": {},
   "outputs": [],
   "source": [
    "class Dog():\n",
    "    is_feline = False\n",
    "\n",
    "    def __init__(self, name, weight):\n",
    "        self.name = name\n",
    "        self.weight = weight"
   ]
  },
  {
   "cell_type": "code",
   "execution_count": 47,
   "id": "6d5a0c09-078b-40c9-81eb-15cdf4eb5e81",
   "metadata": {},
   "outputs": [],
   "source": [
    "class Pet():\n",
    "    def __init__(self, name, weight):\n",
    "        self.name = name\n",
    "        self.weight = weight"
   ]
  },
  {
   "cell_type": "code",
   "execution_count": 48,
   "id": "77b34ce0-4a3e-44bf-b4b5-78f327b13fa9",
   "metadata": {},
   "outputs": [],
   "source": [
    "class Cat(Pet):\n",
    "    is_feline = True"
   ]
  },
  {
   "cell_type": "code",
   "execution_count": 49,
   "id": "1903223f-e475-41b9-b93b-a9308e5e35ec",
   "metadata": {},
   "outputs": [],
   "source": [
    "class Dog(Pet):\n",
    "    is_feline = False"
   ]
  },
  {
   "cell_type": "code",
   "execution_count": 50,
   "id": "824a69b1-600c-4871-8f28-0404c9f768b5",
   "metadata": {},
   "outputs": [
    {
     "data": {
      "text/plain": [
       "'Kibbles'"
      ]
     },
     "execution_count": 50,
     "metadata": {},
     "output_type": "execute_result"
    }
   ],
   "source": [
    "my_cat = Cat('Kibbles', 8)\n",
    "my_cat.name"
   ]
  },
  {
   "cell_type": "code",
   "execution_count": 51,
   "id": "1ace9222-d7de-4efd-98c1-30963da14e17",
   "metadata": {},
   "outputs": [],
   "source": [
    "class MyInt(int):\n",
    "    def is_divisible_by(self, x):\n",
    "        return self % x == 0"
   ]
  },
  {
   "cell_type": "code",
   "execution_count": 53,
   "id": "b7b5bb3e-755d-40e3-9aa1-289ee7f85be9",
   "metadata": {},
   "outputs": [
    {
     "data": {
      "text/plain": [
       "True"
      ]
     },
     "execution_count": 53,
     "metadata": {},
     "output_type": "execute_result"
    }
   ],
   "source": [
    "a = MyInt(8)\n",
    "a.is_divisible_by(2)"
   ]
  },
  {
   "cell_type": "code",
   "execution_count": 1,
   "id": "7aa2eec4-cc00-4456-ab27-7f24140f98f0",
   "metadata": {},
   "outputs": [],
   "source": [
    "class Person():\n",
    "    def __init__(self, first_name, last_name):\n",
    "        self.first_name = first_name\n",
    "        self.last_name = last_name\n",
    "    \n",
    "    @property\n",
    "    def full_name(self):\n",
    "        return '%s %s' % (self.first_name, self.last_name)\n",
    "    \n",
    "    @full_name.setter\n",
    "    def full_name(self, name):\n",
    "        first, last = name.split(' ')\n",
    "        self.first_name = first\n",
    "        self.last_name = last"
   ]
  },
  {
   "cell_type": "code",
   "execution_count": 2,
   "id": "495a1ccf-cb44-4568-93a4-a005be7a81e6",
   "metadata": {},
   "outputs": [
    {
     "ename": "ValueError",
     "evalue": "too many values to unpack (expected 2)",
     "output_type": "error",
     "traceback": [
      "\u001b[1;31m---------------------------------------------------------------------------\u001b[0m",
      "\u001b[1;31mValueError\u001b[0m                                Traceback (most recent call last)",
      "Cell \u001b[1;32mIn[2], line 2\u001b[0m\n\u001b[0;32m      1\u001b[0m my_person \u001b[38;5;241m=\u001b[39m Person(\u001b[38;5;124m'\u001b[39m\u001b[38;5;124mMary\u001b[39m\u001b[38;5;124m'\u001b[39m, \u001b[38;5;124m'\u001b[39m\u001b[38;5;124mSmith\u001b[39m\u001b[38;5;124m'\u001b[39m)\n\u001b[1;32m----> 2\u001b[0m my_person\u001b[38;5;241m.\u001b[39mfull_name \u001b[38;5;241m=\u001b[39m \u001b[38;5;124m'\u001b[39m\u001b[38;5;124mMary Anne Smith\u001b[39m\u001b[38;5;124m'\u001b[39m\n",
      "Cell \u001b[1;32mIn[1], line 12\u001b[0m, in \u001b[0;36mPerson.full_name\u001b[1;34m(self, name)\u001b[0m\n\u001b[0;32m     10\u001b[0m \u001b[38;5;129m@full_name\u001b[39m\u001b[38;5;241m.\u001b[39msetter\n\u001b[0;32m     11\u001b[0m \u001b[38;5;28;01mdef\u001b[39;00m \u001b[38;5;21mfull_name\u001b[39m(\u001b[38;5;28mself\u001b[39m, name):\n\u001b[1;32m---> 12\u001b[0m     first, last \u001b[38;5;241m=\u001b[39m name\u001b[38;5;241m.\u001b[39msplit(\u001b[38;5;124m'\u001b[39m\u001b[38;5;124m \u001b[39m\u001b[38;5;124m'\u001b[39m)\n\u001b[0;32m     13\u001b[0m     \u001b[38;5;28mself\u001b[39m\u001b[38;5;241m.\u001b[39mfirst_name \u001b[38;5;241m=\u001b[39m first\n\u001b[0;32m     14\u001b[0m     \u001b[38;5;28mself\u001b[39m\u001b[38;5;241m.\u001b[39mlast_name \u001b[38;5;241m=\u001b[39m last\n",
      "\u001b[1;31mValueError\u001b[0m: too many values to unpack (expected 2)"
     ]
    }
   ],
   "source": [
    "my_person = Person('Mary', 'Smith')\n",
    "my_person.full_name = 'Mary Anne Smith'"
   ]
  },
  {
   "cell_type": "code",
   "execution_count": 3,
   "id": "55683a31-01c6-4193-adf5-e94b47d8fd8a",
   "metadata": {},
   "outputs": [],
   "source": [
    "class BetterPerson(Person):\n",
    "    @property\n",
    "    def full_name(self):\n",
    "        return '%s %s' % (self.firt_name, self.last_name)\n",
    "\n",
    "    @full_name.setter\n",
    "    def full_name(self, name):\n",
    "        names = name.split(' ')\n",
    "        self.first_name = names[0]\n",
    "        if len(names) > 2:\n",
    "            self.last_name = ' '.join(names[1:])\n",
    "        elif len(names) == 2:\n",
    "            self.last_name = names[1]"
   ]
  },
  {
   "cell_type": "code",
   "execution_count": 4,
   "id": "19dbe638-283d-4b04-81a3-fcf6f288e4b7",
   "metadata": {},
   "outputs": [],
   "source": [
    "my_person = BetterPerson('Mary', 'Smith')\n",
    "my_person.full_name = 'Mary Anne Smith'"
   ]
  },
  {
   "cell_type": "code",
   "execution_count": 5,
   "id": "02359b33-6000-470a-8282-16c589f10f46",
   "metadata": {},
   "outputs": [
    {
     "name": "stdout",
     "output_type": "stream",
     "text": [
      "Mary\n"
     ]
    }
   ],
   "source": [
    "print(my_person.first_name)"
   ]
  },
  {
   "cell_type": "code",
   "execution_count": 7,
   "id": "23775433-1f69-4bdf-be72-817477a81f7b",
   "metadata": {},
   "outputs": [
    {
     "name": "stdout",
     "output_type": "stream",
     "text": [
      "Anne Smith\n"
     ]
    }
   ],
   "source": [
    "print(my_person.last_name)"
   ]
  },
  {
   "cell_type": "code",
   "execution_count": 9,
   "id": "50f34a51-fbc4-45b8-940f-27d3c4a2961e",
   "metadata": {},
   "outputs": [],
   "source": [
    "class Person():\n",
    "    def __init__(self, first_name, last_name):\n",
    "        self.first_name = first_name\n",
    "        self.last_name = last_name\n",
    "\n",
    "    def speak(self):\n",
    "        print(\"Hello, my name is %s\" % self.first_name)"
   ]
  },
  {
   "cell_type": "code",
   "execution_count": 10,
   "id": "bf25a5d5-8b5f-402b-9439-da3e355d4eae",
   "metadata": {},
   "outputs": [],
   "source": [
    "class TalkativePerson(Person):\n",
    "    def speak(self):\n",
    "        print('Hello, my name is %s' % self.first_name)\n",
    "        print('It is a pleasure to meet you!')"
   ]
  },
  {
   "cell_type": "code",
   "execution_count": 11,
   "id": "95076a41-22f6-49d5-9811-5df875862b45",
   "metadata": {},
   "outputs": [],
   "source": [
    "john = TalkativePerson('John', 'Tomic')"
   ]
  },
  {
   "cell_type": "code",
   "execution_count": 12,
   "id": "dca1ff04-7111-4e39-bb4c-0313d134077b",
   "metadata": {},
   "outputs": [
    {
     "name": "stdout",
     "output_type": "stream",
     "text": [
      "Hello, my name is John\n",
      "It is a pleasure to meet you!\n"
     ]
    }
   ],
   "source": [
    "john.speak()"
   ]
  },
  {
   "cell_type": "code",
   "execution_count": 13,
   "id": "696d1b48-ceb0-4de2-b730-4e0d995f311d",
   "metadata": {},
   "outputs": [],
   "source": [
    "class TalkativePerson(Person):\n",
    "    def speak(self):\n",
    "        super().speak()\n",
    "        print('It is a pleasure to meet you!')"
   ]
  },
  {
   "cell_type": "code",
   "execution_count": 14,
   "id": "94b1fc6b-cd57-455b-b493-e86dc84962e4",
   "metadata": {},
   "outputs": [
    {
     "name": "stdout",
     "output_type": "stream",
     "text": [
      "Hello, my name is John\n",
      "It is a pleasure to meet you!\n"
     ]
    }
   ],
   "source": [
    "john = TalkativePerson('John', 'Tomic')\n",
    "john.speak()"
   ]
  },
  {
   "cell_type": "code",
   "execution_count": 15,
   "id": "ecf49dd3-9655-4356-be1e-6256187dcaca",
   "metadata": {},
   "outputs": [],
   "source": [
    "class Dog():\n",
    "    def make_sound(self):\n",
    "        print('Woof!')"
   ]
  },
  {
   "cell_type": "code",
   "execution_count": 16,
   "id": "a187d4fb-6c0e-4672-988f-80ebaf3f3f4a",
   "metadata": {},
   "outputs": [],
   "source": [
    "class Cat():\n",
    "    def make_sound(self):\n",
    "        print('Miaw!')\n",
    "class DogCat(Dog, Cat):\n",
    "    pass"
   ]
  },
  {
   "cell_type": "code",
   "execution_count": 17,
   "id": "02b07f19-7c40-43a1-b98d-57372968e32b",
   "metadata": {},
   "outputs": [
    {
     "name": "stdout",
     "output_type": "stream",
     "text": [
      "Woof!\n"
     ]
    }
   ],
   "source": [
    "my_pet = DogCat()\n",
    "my_pet.make_sound()"
   ]
  },
  {
   "cell_type": "code",
   "execution_count": 18,
   "id": "65123b86-ff6e-4c14-9dd0-655ef69d5336",
   "metadata": {},
   "outputs": [],
   "source": [
    "class DogCat(Cat, Dog):\n",
    "    pass"
   ]
  },
  {
   "cell_type": "code",
   "execution_count": 19,
   "id": "0185fd60-5376-45d8-bdb9-e0474cf8ba4b",
   "metadata": {},
   "outputs": [
    {
     "name": "stdout",
     "output_type": "stream",
     "text": [
      "Miaw!\n"
     ]
    }
   ],
   "source": [
    "my_pet = DogCat()\n",
    "my_pet.make_sound()"
   ]
  },
  {
   "cell_type": "code",
   "execution_count": 20,
   "id": "04fdb5fe-e452-4241-a79d-a2a2072b2d07",
   "metadata": {},
   "outputs": [],
   "source": [
    "class DogCat(Dog, Cat):\n",
    "    def make_sound(self):\n",
    "        for i in range(3):\n",
    "            super().make_sound()"
   ]
  },
  {
   "cell_type": "code",
   "execution_count": 21,
   "id": "db3b7442-fce5-4dad-ad1a-74b905eb7a81",
   "metadata": {},
   "outputs": [
    {
     "name": "stdout",
     "output_type": "stream",
     "text": [
      "Woof!\n",
      "Woof!\n",
      "Woof!\n"
     ]
    }
   ],
   "source": [
    "my_pet = DogCat()\n",
    "my_pet.make_sound()"
   ]
  },
  {
   "cell_type": "code",
   "execution_count": null,
   "id": "3fb297c0-0ec5-48ec-b437-93f13b29b874",
   "metadata": {},
   "outputs": [],
   "source": []
  }
 ],
 "metadata": {
  "kernelspec": {
   "display_name": "Python 3 (ipykernel)",
   "language": "python",
   "name": "python3"
  },
  "language_info": {
   "codemirror_mode": {
    "name": "ipython",
    "version": 3
   },
   "file_extension": ".py",
   "mimetype": "text/x-python",
   "name": "python",
   "nbconvert_exporter": "python",
   "pygments_lexer": "ipython3",
   "version": "3.12.4"
  }
 },
 "nbformat": 4,
 "nbformat_minor": 5
}
