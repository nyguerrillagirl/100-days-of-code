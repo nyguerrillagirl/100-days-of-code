{
 "cells": [
  {
   "cell_type": "markdown",
   "id": "ff8c83fa-715d-42ca-8176-ffcbe605ca33",
   "metadata": {},
   "source": [
    "### Exercise 79: The Full Name Property"
   ]
  },
  {
   "cell_type": "code",
   "execution_count": 1,
   "id": "47559e00-824c-49e6-b3cd-b9978dcc29c1",
   "metadata": {},
   "outputs": [],
   "source": [
    "class Person():\n",
    "    def __init__(self, first_name, last_name):\n",
    "        self.first_name = first_name\n",
    "        self.last_name = last_name\n",
    "\n",
    "    @property\n",
    "    def full_name(self):\n",
    "        return '%s %s' % (self.first_name, self.last_name)"
   ]
  },
  {
   "cell_type": "code",
   "execution_count": 2,
   "id": "09958a29-3ada-4e31-a8b4-fa3c3a876e72",
   "metadata": {},
   "outputs": [
    {
     "data": {
      "text/plain": [
       "'Mary Lou'"
      ]
     },
     "execution_count": 2,
     "metadata": {},
     "output_type": "execute_result"
    }
   ],
   "source": [
    "customer = Person('Mary', 'Lou')\n",
    "customer.full_name"
   ]
  },
  {
   "cell_type": "code",
   "execution_count": 3,
   "id": "3a803295-cae6-41d3-98d1-6b4aef19048c",
   "metadata": {},
   "outputs": [
    {
     "ename": "AttributeError",
     "evalue": "property 'full_name' of 'Person' object has no setter",
     "output_type": "error",
     "traceback": [
      "\u001b[1;31m---------------------------------------------------------------------------\u001b[0m",
      "\u001b[1;31mAttributeError\u001b[0m                            Traceback (most recent call last)",
      "Cell \u001b[1;32mIn[3], line 1\u001b[0m\n\u001b[1;32m----> 1\u001b[0m customer\u001b[38;5;241m.\u001b[39mfull_name \u001b[38;5;241m=\u001b[39m \u001b[38;5;124m'\u001b[39m\u001b[38;5;124mMary Schmidt\u001b[39m\u001b[38;5;124m'\u001b[39m\n",
      "\u001b[1;31mAttributeError\u001b[0m: property 'full_name' of 'Person' object has no setter"
     ]
    }
   ],
   "source": [
    "customer.full_name = 'Mary Schmidt'"
   ]
  },
  {
   "cell_type": "code",
   "execution_count": 6,
   "id": "cddafe67-6ca4-4964-bc04-736fb6b49406",
   "metadata": {},
   "outputs": [],
   "source": [
    "class Person():\n",
    "    def __init__(self, first_name, last_name):\n",
    "        self.first_name = first_name\n",
    "        self.last_name = last_name\n",
    "\n",
    "    @property\n",
    "    def full_name(self):\n",
    "        return '%s %s' % (self.first_name, self.last_name)\n",
    "\n",
    "    @full_name.setter\n",
    "    def full_name(self, name):\n",
    "        first, last = name.split(' ')\n",
    "        self.first_name = first\n",
    "        self.last_name = last"
   ]
  },
  {
   "cell_type": "code",
   "execution_count": 8,
   "id": "cc036105-a9a1-4338-a692-4af7668efd56",
   "metadata": {},
   "outputs": [
    {
     "name": "stdout",
     "output_type": "stream",
     "text": [
      "full_name #1 Mary Lou\n",
      "full_name #2 Mary Schmidt\n"
     ]
    }
   ],
   "source": [
    "customer = Person('Mary', 'Lou')\n",
    "print('full_name #1', customer.full_name)\n",
    "customer.full_name = 'Mary Schmidt'\n",
    "print('full_name #2', customer.full_name)"
   ]
  },
  {
   "cell_type": "code",
   "execution_count": 9,
   "id": "9790c5b9-dd46-45f8-9bd3-6781d962cdc4",
   "metadata": {},
   "outputs": [
    {
     "data": {
      "text/plain": [
       "'Schmidt'"
      ]
     },
     "execution_count": 9,
     "metadata": {},
     "output_type": "execute_result"
    }
   ],
   "source": [
    "customer.last_name"
   ]
  },
  {
   "cell_type": "code",
   "execution_count": null,
   "id": "b38861f3-05e4-458e-9951-5b05f4725379",
   "metadata": {},
   "outputs": [],
   "source": []
  }
 ],
 "metadata": {
  "kernelspec": {
   "display_name": "Python 3 (ipykernel)",
   "language": "python",
   "name": "python3"
  },
  "language_info": {
   "codemirror_mode": {
    "name": "ipython",
    "version": 3
   },
   "file_extension": ".py",
   "mimetype": "text/x-python",
   "name": "python",
   "nbconvert_exporter": "python",
   "pygments_lexer": "ipython3",
   "version": "3.12.4"
  }
 },
 "nbformat": 4,
 "nbformat_minor": 5
}
