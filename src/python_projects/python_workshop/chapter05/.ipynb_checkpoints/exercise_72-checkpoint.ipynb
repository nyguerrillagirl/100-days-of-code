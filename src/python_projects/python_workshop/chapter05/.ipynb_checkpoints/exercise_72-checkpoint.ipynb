{
 "cells": [
  {
   "cell_type": "markdown",
   "id": "a08011d5-ae21-4082-bae4-8e21fa49e21a",
   "metadata": {},
   "source": [
    "### Exercise 72: Creating a Circle Class"
   ]
  },
  {
   "cell_type": "code",
   "execution_count": 1,
   "id": "5f637250-3b72-42d5-bf72-30a8472e82de",
   "metadata": {},
   "outputs": [],
   "source": [
    "class Circle():\n",
    "    is_shape = True\n",
    "\n",
    "    def __init__(self, radius, color):\n",
    "        self.radius = radius\n",
    "        self.color = color"
   ]
  },
  {
   "cell_type": "code",
   "execution_count": 2,
   "id": "ce3f18b4-079b-4764-a8a7-5dbd5c0cd0c6",
   "metadata": {},
   "outputs": [],
   "source": [
    "first_circle = Circle(1, 'blue')\n",
    "second_circle = Circle(3, 'red')"
   ]
  },
  {
   "cell_type": "code",
   "execution_count": 3,
   "id": "5491bbb8-8dfa-4076-9a59-f9fe583c9db9",
   "metadata": {},
   "outputs": [
    {
     "data": {
      "text/plain": [
       "'blue'"
      ]
     },
     "execution_count": 3,
     "metadata": {},
     "output_type": "execute_result"
    }
   ],
   "source": [
    "first_circle.color"
   ]
  },
  {
   "cell_type": "code",
   "execution_count": 4,
   "id": "921eaceb-105b-4695-99de-8202a095d326",
   "metadata": {},
   "outputs": [
    {
     "data": {
      "text/plain": [
       "'red'"
      ]
     },
     "execution_count": 4,
     "metadata": {},
     "output_type": "execute_result"
    }
   ],
   "source": [
    "second_circle.color  "
   ]
  },
  {
   "cell_type": "code",
   "execution_count": 5,
   "id": "09c05edb-7c5e-4b32-89b9-eb9e0bc30690",
   "metadata": {},
   "outputs": [
    {
     "data": {
      "text/plain": [
       "True"
      ]
     },
     "execution_count": 5,
     "metadata": {},
     "output_type": "execute_result"
    }
   ],
   "source": [
    "first_circle.is_shape"
   ]
  },
  {
   "cell_type": "code",
   "execution_count": null,
   "id": "808c7024-d265-4851-aada-ba6719250e8f",
   "metadata": {},
   "outputs": [],
   "source": []
  }
 ],
 "metadata": {
  "kernelspec": {
   "display_name": "Python 3 (ipykernel)",
   "language": "python",
   "name": "python3"
  },
  "language_info": {
   "codemirror_mode": {
    "name": "ipython",
    "version": 3
   },
   "file_extension": ".py",
   "mimetype": "text/x-python",
   "name": "python",
   "nbconvert_exporter": "python",
   "pygments_lexer": "ipython3",
   "version": "3.12.4"
  }
 },
 "nbformat": 4,
 "nbformat_minor": 5
}
