{
 "cells": [
  {
   "cell_type": "markdown",
   "id": "bcc4f96d-4854-486d-b39a-5e2c71d2c896",
   "metadata": {},
   "source": [
    "### Exercise 80: Writing a Setter Method"
   ]
  },
  {
   "cell_type": "code",
   "execution_count": 10,
   "id": "bd620e73-8a53-4f2f-8f9e-cb00142bc42e",
   "metadata": {},
   "outputs": [],
   "source": [
    "class Temperature():\n",
    "    def __init__(self, celsius):\n",
    "        self.celsius = celsius\n",
    "    \n",
    "    @property\n",
    "    def fahrenheit(self):\n",
    "        return self.celsius * 9 / 5 + 32\n",
    "\n",
    "    @fahrenheit.setter\n",
    "    def fahrenheit(self, value):\n",
    "        self.celsius = (value - 32) * 5 / 9"
   ]
  },
  {
   "cell_type": "code",
   "execution_count": 11,
   "id": "78191f6a-a63c-4daf-9f80-fa36a23173bb",
   "metadata": {},
   "outputs": [
    {
     "data": {
      "text/plain": [
       "41.0"
      ]
     },
     "execution_count": 11,
     "metadata": {},
     "output_type": "execute_result"
    }
   ],
   "source": [
    "temp = Temperature(5)\n",
    "temp.fahrenheit"
   ]
  },
  {
   "cell_type": "code",
   "execution_count": 12,
   "id": "408e4d8a-3a10-4317-904e-bc214a27a1b0",
   "metadata": {},
   "outputs": [
    {
     "data": {
      "text/plain": [
       "0.0"
      ]
     },
     "execution_count": 12,
     "metadata": {},
     "output_type": "execute_result"
    }
   ],
   "source": [
    "temp.fahrenheit = 32\n",
    "temp.celsius"
   ]
  },
  {
   "cell_type": "code",
   "execution_count": 16,
   "id": "1eb36124-4f74-4b05-8eb7-c6ae597012c6",
   "metadata": {},
   "outputs": [],
   "source": [
    "class Temperature():\n",
    "    def __init__(self, celsius):\n",
    "        self.celsius = celsius\n",
    "    \n",
    "    @property\n",
    "    def fahrenheit(self, value):\n",
    "        return self.celsius * 9 / 5 + 32\n",
    "\n",
    "    @fahrenheit.setter\n",
    "    def fahrenheit(self, value):\n",
    "        if value < -460:\n",
    "            raise ValueError('Temperature less than -460F are not possible')\n",
    "        self.celsius = (value - 32) * 5 / 9"
   ]
  },
  {
   "cell_type": "code",
   "execution_count": 17,
   "id": "80f9d52b-1616-4ef4-a880-1137544064ec",
   "metadata": {},
   "outputs": [],
   "source": [
    "temp = Temperature(5)"
   ]
  },
  {
   "cell_type": "code",
   "execution_count": 18,
   "id": "78f637c5-7881-4171-b28f-8f0e51284f7a",
   "metadata": {},
   "outputs": [
    {
     "ename": "ValueError",
     "evalue": "Temperature less than -460F are not possible",
     "output_type": "error",
     "traceback": [
      "\u001b[1;31m---------------------------------------------------------------------------\u001b[0m",
      "\u001b[1;31mValueError\u001b[0m                                Traceback (most recent call last)",
      "Cell \u001b[1;32mIn[18], line 1\u001b[0m\n\u001b[1;32m----> 1\u001b[0m temp\u001b[38;5;241m.\u001b[39mfahrenheit \u001b[38;5;241m=\u001b[39m \u001b[38;5;241m-\u001b[39m\u001b[38;5;241m500\u001b[39m\n",
      "Cell \u001b[1;32mIn[16], line 12\u001b[0m, in \u001b[0;36mTemperature.fahrenheit\u001b[1;34m(self, value)\u001b[0m\n\u001b[0;32m      9\u001b[0m \u001b[38;5;129m@fahrenheit\u001b[39m\u001b[38;5;241m.\u001b[39msetter\n\u001b[0;32m     10\u001b[0m \u001b[38;5;28;01mdef\u001b[39;00m \u001b[38;5;21mfahrenheit\u001b[39m(\u001b[38;5;28mself\u001b[39m, value):\n\u001b[0;32m     11\u001b[0m     \u001b[38;5;28;01mif\u001b[39;00m value \u001b[38;5;241m<\u001b[39m \u001b[38;5;241m-\u001b[39m\u001b[38;5;241m460\u001b[39m:\n\u001b[1;32m---> 12\u001b[0m         \u001b[38;5;28;01mraise\u001b[39;00m \u001b[38;5;167;01mValueError\u001b[39;00m(\u001b[38;5;124m'\u001b[39m\u001b[38;5;124mTemperature less than -460F are not possible\u001b[39m\u001b[38;5;124m'\u001b[39m)\n\u001b[0;32m     13\u001b[0m     \u001b[38;5;28mself\u001b[39m\u001b[38;5;241m.\u001b[39mcelsius \u001b[38;5;241m=\u001b[39m (value \u001b[38;5;241m-\u001b[39m \u001b[38;5;241m32\u001b[39m) \u001b[38;5;241m*\u001b[39m \u001b[38;5;241m5\u001b[39m \u001b[38;5;241m/\u001b[39m \u001b[38;5;241m9\u001b[39m\n",
      "\u001b[1;31mValueError\u001b[0m: Temperature less than -460F are not possible"
     ]
    }
   ],
   "source": [
    "temp.fahrenheit = -500"
   ]
  },
  {
   "cell_type": "code",
   "execution_count": null,
   "id": "3dd037cd-5ab1-4456-97c4-e086f767387f",
   "metadata": {},
   "outputs": [],
   "source": []
  }
 ],
 "metadata": {
  "kernelspec": {
   "display_name": "Python 3 (ipykernel)",
   "language": "python",
   "name": "python3"
  },
  "language_info": {
   "codemirror_mode": {
    "name": "ipython",
    "version": 3
   },
   "file_extension": ".py",
   "mimetype": "text/x-python",
   "name": "python",
   "nbconvert_exporter": "python",
   "pygments_lexer": "ipython3",
   "version": "3.12.4"
  }
 },
 "nbformat": 4,
 "nbformat_minor": 5
}
