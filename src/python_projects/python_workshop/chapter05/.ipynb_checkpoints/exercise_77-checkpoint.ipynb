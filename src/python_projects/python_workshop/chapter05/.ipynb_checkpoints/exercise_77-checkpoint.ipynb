{
 "cells": [
  {
   "cell_type": "markdown",
   "id": "2e786e0f-d7ce-4195-b213-3746bc135cb3",
   "metadata": {},
   "source": [
    "### Exercise 77: Refactoring Instance Methods Using a Static Method"
   ]
  },
  {
   "cell_type": "code",
   "execution_count": 1,
   "id": "821a1faa-e4bf-4ea8-8baf-a73eaad837e7",
   "metadata": {},
   "outputs": [],
   "source": [
    "import datetime\n",
    "class Diary():\n",
    "    def __init__(self, birthday, christmas):\n",
    "        self.birthday = birthday\n",
    "        self.christmas = christmas\n",
    "\n",
    "    def show_birthday(self):\n",
    "        return self.birthday.strftime('%d-%b-%y')\n",
    "\n",
    "    def show_christmas(self):\n",
    "        return self.christmas.strftime('%d-%b-%y')"
   ]
  },
  {
   "cell_type": "code",
   "execution_count": 2,
   "id": "082d436e-365f-45a8-ac7b-fbff787a87ee",
   "metadata": {},
   "outputs": [],
   "source": [
    "my_diary = Diary(datetime.date(2020,5,14), datetime.date(2020, 12, 25))\n",
    "                            "
   ]
  },
  {
   "cell_type": "code",
   "execution_count": 3,
   "id": "33127f43-14ea-48d2-87ca-c19329320b64",
   "metadata": {},
   "outputs": [
    {
     "data": {
      "text/plain": [
       "'14-May-20'"
      ]
     },
     "execution_count": 3,
     "metadata": {},
     "output_type": "execute_result"
    }
   ],
   "source": [
    "my_diary.show_birthday()"
   ]
  },
  {
   "cell_type": "code",
   "execution_count": 4,
   "id": "0b16891a-53f3-4cd4-9427-07e322155f21",
   "metadata": {},
   "outputs": [],
   "source": [
    "import datetime\n",
    "class Diary():\n",
    "    def __init__(self, birthday, christmas):\n",
    "        self.birthday = birthday\n",
    "        self.christmas = christmas\n",
    "\n",
    "    @staticmethod\n",
    "    def format_date(date):\n",
    "        return date.strftime('%d-%b-%y')\n",
    "        \n",
    "    def show_birthday(self):\n",
    "        return self.format_date(self.birthday)\n",
    "\n",
    "    def show_christmas(self):\n",
    "        return self.format_date(self.birthday)"
   ]
  },
  {
   "cell_type": "code",
   "execution_count": null,
   "id": "cf673681-962b-42c7-8090-7781fda22d7e",
   "metadata": {},
   "outputs": [],
   "source": []
  }
 ],
 "metadata": {
  "kernelspec": {
   "display_name": "Python 3 (ipykernel)",
   "language": "python",
   "name": "python3"
  },
  "language_info": {
   "codemirror_mode": {
    "name": "ipython",
    "version": 3
   },
   "file_extension": ".py",
   "mimetype": "text/x-python",
   "name": "python",
   "nbconvert_exporter": "python",
   "pygments_lexer": "ipython3",
   "version": "3.12.4"
  }
 },
 "nbformat": 4,
 "nbformat_minor": 5
}
