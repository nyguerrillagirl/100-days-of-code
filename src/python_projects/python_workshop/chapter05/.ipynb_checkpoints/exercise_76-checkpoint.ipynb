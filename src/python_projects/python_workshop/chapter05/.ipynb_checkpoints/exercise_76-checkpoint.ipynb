{
 "cells": [
  {
   "cell_type": "markdown",
   "id": "ccf4fdcb-146a-4243-a250-796eb560eabc",
   "metadata": {},
   "source": [
    "### Exercise 76: Adding an __str__ Method to the Country Class"
   ]
  },
  {
   "cell_type": "code",
   "execution_count": 1,
   "id": "d04e904b-b2be-455e-b134-f95c8447bce4",
   "metadata": {},
   "outputs": [],
   "source": [
    "class Country():\n",
    "    def __init__(self, name='Unspecified', population=None, size_kmsq=None):\n",
    "        self.name = name\n",
    "        self.population = population\n",
    "        self.size_kmsq = size_kmsq\n",
    "\n",
    "    def __str__(self):\n",
    "        return self.name"
   ]
  },
  {
   "cell_type": "code",
   "execution_count": 2,
   "id": "11be803d-ed32-4f12-a9ae-a274854fdc38",
   "metadata": {},
   "outputs": [
    {
     "name": "stdout",
     "output_type": "stream",
     "text": [
      "Chad\n"
     ]
    }
   ],
   "source": [
    "chad = Country(name='Chad')\n",
    "print(chad)"
   ]
  },
  {
   "cell_type": "code",
   "execution_count": 4,
   "id": "91c850f1-6deb-40ad-b42a-2d365ef77d7e",
   "metadata": {},
   "outputs": [],
   "source": [
    "class Country():\n",
    "    def __init__(self, name='Unspecified', population=None, size_kmsq=None):\n",
    "        self.name = name\n",
    "        self.population = population\n",
    "        self.size_kmsq = size_kmsq\n",
    "\n",
    "    def __str__(self):\n",
    "        label = self.name\n",
    "        if self.population:\n",
    "            label = '%s, population: %s' % (label, self.population)\n",
    "        if self.size_kmsq:\n",
    "            label = '%s, size_kmsq: %s' % (label, self.size_kmsq)\n",
    "        return label"
   ]
  },
  {
   "cell_type": "code",
   "execution_count": 5,
   "id": "bc04fa2b-97a9-4b00-8243-0f074b1a36e5",
   "metadata": {},
   "outputs": [
    {
     "name": "stdout",
     "output_type": "stream",
     "text": [
      "Chad, population: 100\n"
     ]
    }
   ],
   "source": [
    "chad = Country(name='Chad', population=100)\n",
    "print(chad)"
   ]
  },
  {
   "cell_type": "code",
   "execution_count": null,
   "id": "a15efbef-765b-45a8-b374-b7c744c9106c",
   "metadata": {},
   "outputs": [],
   "source": []
  }
 ],
 "metadata": {
  "kernelspec": {
   "display_name": "Python 3 (ipykernel)",
   "language": "python",
   "name": "python3"
  },
  "language_info": {
   "codemirror_mode": {
    "name": "ipython",
    "version": 3
   },
   "file_extension": ".py",
   "mimetype": "text/x-python",
   "name": "python",
   "nbconvert_exporter": "python",
   "pygments_lexer": "ipython3",
   "version": "3.12.4"
  }
 },
 "nbformat": 4,
 "nbformat_minor": 5
}
