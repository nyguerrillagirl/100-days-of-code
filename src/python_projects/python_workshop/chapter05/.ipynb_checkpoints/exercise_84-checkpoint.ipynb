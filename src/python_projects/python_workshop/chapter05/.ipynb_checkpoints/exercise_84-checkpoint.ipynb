{
 "cells": [
  {
   "cell_type": "markdown",
   "id": "266b5deb-b335-40d0-bc58-15bed6522a8d",
   "metadata": {},
   "source": [
    "### Exercise 84: Creating a Consultation Appointment System"
   ]
  },
  {
   "cell_type": "code",
   "execution_count": 1,
   "id": "f1d900f5-398a-4a34-937a-324bdc5073d7",
   "metadata": {},
   "outputs": [],
   "source": [
    "import datetime"
   ]
  },
  {
   "cell_type": "code",
   "execution_count": 2,
   "id": "dfccf2d5-bf20-4b58-85b2-a02b501776e0",
   "metadata": {},
   "outputs": [],
   "source": [
    "class Person():\n",
    "    def __init__(self, first_name, last_name):\n",
    "        self.first_name = first_name\n",
    "        self.last_name = last_name\n",
    "        \n",
    "class Baby(Person):\n",
    "    def speak(self):\n",
    "        print('Blah blah blah')\n",
    "        \n",
    "class Adult(Person):\n",
    "    def speak(self):\n",
    "        print('Hello, my name is %s' % self.first_name)"
   ]
  },
  {
   "cell_type": "code",
   "execution_count": 3,
   "id": "a84d1c31-ec2d-43b4-a44c-bc537fb274ac",
   "metadata": {},
   "outputs": [],
   "source": [
    "class Calendar():\n",
    "    def book_appointment(self, date):\n",
    "        print('Booking appointment for date %s' % date)"
   ]
  },
  {
   "cell_type": "code",
   "execution_count": 4,
   "id": "bee15c99-749c-4f75-b4a8-821b1f58237b",
   "metadata": {},
   "outputs": [],
   "source": [
    "class OrganizedAdult(Adult, Calendar):\n",
    "    pass\n",
    "\n",
    "class OrganizedBaby(Baby, Calendar):\n",
    "    pass"
   ]
  },
  {
   "cell_type": "code",
   "execution_count": 5,
   "id": "4c974c85-2028-4617-a1f6-c1cab19bd7ba",
   "metadata": {},
   "outputs": [
    {
     "name": "stdout",
     "output_type": "stream",
     "text": [
      "Hello, my name is Andres\n",
      "Blah blah blah\n",
      "Booking appointment for date 2018-01-01\n"
     ]
    }
   ],
   "source": [
    "andres = OrganizedAdult('Andres', 'Gomez')\n",
    "boris = OrganizedBaby('Boris', 'Bumblebutton')\n",
    "andres.speak()\n",
    "boris.speak()\n",
    "boris.book_appointment(datetime.date(2018, 1,1))"
   ]
  },
  {
   "cell_type": "code",
   "execution_count": 6,
   "id": "5ab9690b-6b04-48be-8f41-bcbc7858a804",
   "metadata": {},
   "outputs": [],
   "source": [
    "class OrganizedBaby(Baby, Calendar):\n",
    "    def book_appointment(self, date):\n",
    "        print('Note that you are booking an appointment with a baby.')\n",
    "        super().book_appointment(date)"
   ]
  },
  {
   "cell_type": "code",
   "execution_count": 7,
   "id": "b963c6bd-b342-402c-9104-710c0ff8eb39",
   "metadata": {},
   "outputs": [
    {
     "name": "stdout",
     "output_type": "stream",
     "text": [
      "Note that you are booking an appointment with a baby.\n",
      "Booking appointment for date 2018-01-01\n"
     ]
    }
   ],
   "source": [
    "boris = OrganizedBaby('Boris', 'Bumblebutton')\n",
    "boris.book_appointment(datetime.date(2018,1,1))"
   ]
  },
  {
   "cell_type": "code",
   "execution_count": null,
   "id": "5153d99a-9d69-44ef-94b9-76aa170284a8",
   "metadata": {},
   "outputs": [],
   "source": []
  }
 ],
 "metadata": {
  "kernelspec": {
   "display_name": "Python 3 (ipykernel)",
   "language": "python",
   "name": "python3"
  },
  "language_info": {
   "codemirror_mode": {
    "name": "ipython",
    "version": 3
   },
   "file_extension": ".py",
   "mimetype": "text/x-python",
   "name": "python",
   "nbconvert_exporter": "python",
   "pygments_lexer": "ipython3",
   "version": "3.12.4"
  }
 },
 "nbformat": 4,
 "nbformat_minor": 5
}
