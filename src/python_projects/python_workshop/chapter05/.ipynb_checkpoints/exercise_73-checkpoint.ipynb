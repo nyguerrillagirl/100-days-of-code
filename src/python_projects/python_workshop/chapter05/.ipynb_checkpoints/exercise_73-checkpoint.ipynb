{
 "cells": [
  {
   "cell_type": "markdown",
   "id": "96c09016-9ab4-4c80-b665-229f7ce49237",
   "metadata": {},
   "source": [
    "### Exercise 73: The Country Class with Keyword Arguments"
   ]
  },
  {
   "cell_type": "code",
   "execution_count": 1,
   "id": "2ea60067-7af2-4b7c-aa50-7d532d91e726",
   "metadata": {},
   "outputs": [],
   "source": [
    "class Country():\n",
    "    def __init__(self, name=\"Unspecified\", population=None, size_kmsq=None):\n",
    "        self.name = name\n",
    "        self.population = population\n",
    "        self.size_kmsq = size_kmsq"
   ]
  },
  {
   "cell_type": "code",
   "execution_count": 2,
   "id": "c1de5f5e-cafa-42a4-a0ba-738079bee851",
   "metadata": {},
   "outputs": [],
   "source": [
    "usa = Country(name='United States of America', size_kmsq=9.8e6)"
   ]
  },
  {
   "cell_type": "code",
   "execution_count": 3,
   "id": "75e3e669-2529-4086-9524-5415abf49a85",
   "metadata": {},
   "outputs": [
    {
     "data": {
      "text/plain": [
       "{'name': 'United States of America',\n",
       " 'population': None,\n",
       " 'size_kmsq': 9800000.0}"
      ]
     },
     "execution_count": 3,
     "metadata": {},
     "output_type": "execute_result"
    }
   ],
   "source": [
    "usa.__dict__"
   ]
  },
  {
   "cell_type": "code",
   "execution_count": null,
   "id": "8e00eda0-637a-4f2c-bef3-eb332455e64a",
   "metadata": {},
   "outputs": [],
   "source": []
  }
 ],
 "metadata": {
  "kernelspec": {
   "display_name": "Python 3 (ipykernel)",
   "language": "python",
   "name": "python3"
  },
  "language_info": {
   "codemirror_mode": {
    "name": "ipython",
    "version": 3
   },
   "file_extension": ".py",
   "mimetype": "text/x-python",
   "name": "python",
   "nbconvert_exporter": "python",
   "pygments_lexer": "ipython3",
   "version": "3.12.4"
  }
 },
 "nbformat": 4,
 "nbformat_minor": 5
}
