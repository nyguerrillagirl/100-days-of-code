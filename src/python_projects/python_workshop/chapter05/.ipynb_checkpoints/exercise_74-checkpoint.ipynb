{
 "cells": [
  {
   "cell_type": "markdown",
   "id": "acdcdb3a-5cb5-4a51-aaf2-60af87370f8b",
   "metadata": {},
   "source": [
    "### Exercise 74: Adding an Instance Method to Our Pet Class"
   ]
  },
  {
   "cell_type": "code",
   "execution_count": 1,
   "id": "9eb152f4-dcab-46df-b424-709559e2a028",
   "metadata": {},
   "outputs": [],
   "source": [
    "class Pet():\n",
    "    def __init__(self, height):\n",
    "        self.height = height\n",
    "\n",
    "    is_human = False\n",
    "    owner = 'Michael Smith'\n",
    "\n",
    "    def is_tall(self):\n",
    "        return self.height > 50"
   ]
  },
  {
   "cell_type": "code",
   "execution_count": 2,
   "id": "a5cefab9-617b-4fb1-9110-ccd5bf93af0d",
   "metadata": {},
   "outputs": [
    {
     "data": {
      "text/plain": [
       "False"
      ]
     },
     "execution_count": 2,
     "metadata": {},
     "output_type": "execute_result"
    }
   ],
   "source": [
    "bowser = Pet(40)\n",
    "bowser.is_tall()"
   ]
  },
  {
   "cell_type": "code",
   "execution_count": 3,
   "id": "ba6b0664-1855-4c1a-868d-a10b08db462b",
   "metadata": {},
   "outputs": [
    {
     "data": {
      "text/plain": [
       "True"
      ]
     },
     "execution_count": 3,
     "metadata": {},
     "output_type": "execute_result"
    }
   ],
   "source": [
    "bowser.height = 60\n",
    "bowser.is_tall()"
   ]
  },
  {
   "cell_type": "code",
   "execution_count": 4,
   "id": "dbe3598c-7c50-45ed-97d4-8765eea7ca12",
   "metadata": {},
   "outputs": [],
   "source": [
    "class Pet():\n",
    "    def __init__(self, height):\n",
    "        self.height = height\n",
    "\n",
    "    is_human = False\n",
    "    owner = 'Michael Smith'\n",
    "\n",
    "    def is_tall(self, tall_if_at_least):\n",
    "        return self.height > tall_if_at_least"
   ]
  },
  {
   "cell_type": "code",
   "execution_count": 5,
   "id": "2663b848-beac-4e91-bded-e443e73ac799",
   "metadata": {},
   "outputs": [
    {
     "data": {
      "text/plain": [
       "True"
      ]
     },
     "execution_count": 5,
     "metadata": {},
     "output_type": "execute_result"
    }
   ],
   "source": [
    "bowser = Pet(40)\n",
    "bowser.is_tall(30)"
   ]
  },
  {
   "cell_type": "code",
   "execution_count": 6,
   "id": "70ce12b1-ba8d-4c4e-a92c-6ec93540ded5",
   "metadata": {},
   "outputs": [
    {
     "data": {
      "text/plain": [
       "False"
      ]
     },
     "execution_count": 6,
     "metadata": {},
     "output_type": "execute_result"
    }
   ],
   "source": [
    "bowser.is_tall(50)"
   ]
  },
  {
   "cell_type": "code",
   "execution_count": null,
   "id": "5c633647-eabe-4982-8c48-c16a70cd7d23",
   "metadata": {},
   "outputs": [],
   "source": []
  }
 ],
 "metadata": {
  "kernelspec": {
   "display_name": "Python 3 (ipykernel)",
   "language": "python",
   "name": "python3"
  },
  "language_info": {
   "codemirror_mode": {
    "name": "ipython",
    "version": 3
   },
   "file_extension": ".py",
   "mimetype": "text/x-python",
   "name": "python",
   "nbconvert_exporter": "python",
   "pygments_lexer": "ipython3",
   "version": "3.12.4"
  }
 },
 "nbformat": 4,
 "nbformat_minor": 5
}
