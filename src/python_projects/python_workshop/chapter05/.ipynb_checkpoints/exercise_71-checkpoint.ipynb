{
 "cells": [
  {
   "cell_type": "markdown",
   "id": "3cb2206e-cadf-4e24-b433-18cdaa680f55",
   "metadata": {},
   "source": [
    "### Exercise 71: Creating a Pet Class"
   ]
  },
  {
   "cell_type": "code",
   "execution_count": 1,
   "id": "f7c14db8-e5a3-4682-b7ea-ff1339fa2aa9",
   "metadata": {},
   "outputs": [],
   "source": [
    "class Pet():\n",
    "    \"\"\"\n",
    "    A class to capture useful information regarding my pets, just in case \n",
    "    I lose track of them.\n",
    "    \"\"\"\n",
    "    is_human = False\n",
    "    owner = 'Michael Smith'"
   ]
  },
  {
   "cell_type": "code",
   "execution_count": 2,
   "id": "04243398-e551-4650-a0bb-5e792d42fcbc",
   "metadata": {},
   "outputs": [],
   "source": [
    "chubbles = Pet()"
   ]
  },
  {
   "cell_type": "code",
   "execution_count": 3,
   "id": "ca93695c-96e1-4a21-b2a3-3544e5d09742",
   "metadata": {},
   "outputs": [
    {
     "data": {
      "text/plain": [
       "False"
      ]
     },
     "execution_count": 3,
     "metadata": {},
     "output_type": "execute_result"
    }
   ],
   "source": [
    "chubbles.is_human"
   ]
  },
  {
   "cell_type": "code",
   "execution_count": 6,
   "id": "2a228205-fd8b-4fdd-9bc6-bc2b8b819802",
   "metadata": {},
   "outputs": [
    {
     "data": {
      "text/plain": [
       "'Michael Smith'"
      ]
     },
     "execution_count": 6,
     "metadata": {},
     "output_type": "execute_result"
    }
   ],
   "source": [
    "chubbles.owner"
   ]
  },
  {
   "cell_type": "code",
   "execution_count": 5,
   "id": "25f6b91d-d9c1-414b-9f20-66b4db9451c2",
   "metadata": {},
   "outputs": [
    {
     "name": "stdout",
     "output_type": "stream",
     "text": [
      "\n",
      "    A class to capture useful information regarding my pets, just in case \n",
      "    I lose track of them.\n",
      "    \n"
     ]
    }
   ],
   "source": [
    "print(chubbles.__doc__)"
   ]
  },
  {
   "cell_type": "code",
   "execution_count": 7,
   "id": "9292188e-83b6-4ce5-9848-89c9b443779b",
   "metadata": {},
   "outputs": [],
   "source": [
    "class Pet():\n",
    "    \"\"\"\n",
    "    A class to capture useful information regarding my pets, just in case \n",
    "    I lose track of them.\n",
    "    \"\"\"\n",
    "    def __init__(self, height):\n",
    "        self.height = height\n",
    "        \n",
    "    is_human = False\n",
    "    owner = 'Michael Smith'"
   ]
  },
  {
   "cell_type": "code",
   "execution_count": 8,
   "id": "b3e702b0-0c27-41e4-b1e7-aa24f21b65e5",
   "metadata": {},
   "outputs": [],
   "source": [
    "chubbles = Pet(height=5)"
   ]
  },
  {
   "cell_type": "code",
   "execution_count": 9,
   "id": "2f97ba42-8bac-4876-ad06-4ab3069fe970",
   "metadata": {},
   "outputs": [
    {
     "data": {
      "text/plain": [
       "5"
      ]
     },
     "execution_count": 9,
     "metadata": {},
     "output_type": "execute_result"
    }
   ],
   "source": [
    "chubbles.height"
   ]
  },
  {
   "cell_type": "code",
   "execution_count": null,
   "id": "7a3c17c1-fdc8-4a2e-8b9f-fd9ea9c2bff6",
   "metadata": {},
   "outputs": [],
   "source": []
  }
 ],
 "metadata": {
  "kernelspec": {
   "display_name": "Python 3 (ipykernel)",
   "language": "python",
   "name": "python3"
  },
  "language_info": {
   "codemirror_mode": {
    "name": "ipython",
    "version": 3
   },
   "file_extension": ".py",
   "mimetype": "text/x-python",
   "name": "python",
   "nbconvert_exporter": "python",
   "pygments_lexer": "ipython3",
   "version": "3.12.4"
  }
 },
 "nbformat": 4,
 "nbformat_minor": 5
}
