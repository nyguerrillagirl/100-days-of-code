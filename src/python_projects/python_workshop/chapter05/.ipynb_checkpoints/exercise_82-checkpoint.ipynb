{
 "cells": [
  {
   "cell_type": "markdown",
   "id": "dc4efa83-6cc1-4023-b07c-aadcc8efce83",
   "metadata": {},
   "source": [
    "### Exercise 82: Sub-Classing the datetime.date Class"
   ]
  },
  {
   "cell_type": "code",
   "execution_count": 1,
   "id": "e40ab593-cce9-411f-8173-a9b7a1b3c364",
   "metadata": {},
   "outputs": [],
   "source": [
    "import datetime"
   ]
  },
  {
   "cell_type": "code",
   "execution_count": 2,
   "id": "1e5f6be3-0be2-4960-8bbc-0258e826d618",
   "metadata": {},
   "outputs": [],
   "source": [
    "class MyDate(datetime.date):\n",
    "    def add_days(self, n):\n",
    "        return self + datetime.timedelta(n)"
   ]
  },
  {
   "cell_type": "code",
   "execution_count": 3,
   "id": "ef5af907-052b-48cd-b329-fbaedc63378c",
   "metadata": {},
   "outputs": [],
   "source": [
    "d = MyDate(2019, 12,1)"
   ]
  },
  {
   "cell_type": "code",
   "execution_count": 4,
   "id": "015d3565-8585-45f0-97ee-23c10ad56699",
   "metadata": {},
   "outputs": [
    {
     "name": "stdout",
     "output_type": "stream",
     "text": [
      "2020-01-10\n"
     ]
    }
   ],
   "source": [
    "print(d.add_days(40))"
   ]
  },
  {
   "cell_type": "code",
   "execution_count": 5,
   "id": "59c2f1e4-c4bb-49f5-b5ba-e677f9440744",
   "metadata": {},
   "outputs": [
    {
     "name": "stdout",
     "output_type": "stream",
     "text": [
      "2021-01-04\n"
     ]
    }
   ],
   "source": [
    "print(d.add_days(400))"
   ]
  },
  {
   "cell_type": "code",
   "execution_count": null,
   "id": "e146c2e3-2c3e-462a-8e87-e1e607746592",
   "metadata": {},
   "outputs": [],
   "source": []
  }
 ],
 "metadata": {
  "kernelspec": {
   "display_name": "Python 3 (ipykernel)",
   "language": "python",
   "name": "python3"
  },
  "language_info": {
   "codemirror_mode": {
    "name": "ipython",
    "version": 3
   },
   "file_extension": ".py",
   "mimetype": "text/x-python",
   "name": "python",
   "nbconvert_exporter": "python",
   "pygments_lexer": "ipython3",
   "version": "3.12.4"
  }
 },
 "nbformat": 4,
 "nbformat_minor": 5
}
