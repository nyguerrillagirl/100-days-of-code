{
 "cells": [
  {
   "cell_type": "markdown",
   "id": "445dbe4c-804b-4a36-ac25-7ced63e4665e",
   "metadata": {},
   "source": [
    "# Activity 14: Creating Classes and Inheriting from a Parent Class\n",
    "\n",
    "The aim of this activity is to create classes that can be used to represent a rectangle and a square. These two classes will inherit from a parent class called Polygon. The \n",
    "Rectangle and Square classes will have a property for computing the number of sides,\r\n",
    "perimeter, and area of the shape:"
   ]
  },
  {
   "cell_type": "code",
   "execution_count": 14,
   "id": "ecb90da1-4a79-4134-92be-b9bd68db50e6",
   "metadata": {},
   "outputs": [],
   "source": [
    "class Polygon():\n",
    "    ''' Base class for basic polygons like Rectangle and Squares '''\n",
    "    def __init__(self, num_sides):\n",
    "        self._num_sides = num_sides\n",
    "        \n",
    "    @property\n",
    "    def num_sides(self):\n",
    "        return self._num_sides\n",
    "\n",
    "    @num_sides.setter\n",
    "    def num_sides(self, value):\n",
    "        if value > 2:\n",
    "            raise ValueError(\"Number of sides in a polygon must be greater 2\")\n",
    "        self._num_sides = value\n",
    "\n",
    "    def __str__(self):\n",
    "        return f\"Polygon with {self._num_sides} sides\"\n",
    "        \n",
    "    @property\n",
    "    def perimeter(self):\n",
    "        pass\n",
    "    "
   ]
  },
  {
   "cell_type": "code",
   "execution_count": 15,
   "id": "f289206b-c53f-42ab-b4e4-821c04038bd9",
   "metadata": {},
   "outputs": [],
   "source": [
    "class Rectangle(Polygon):\n",
    "    def __init__(self, width, height):\n",
    "        self._width = width\n",
    "        self._height = height\n",
    "        super().__init__(4)\n",
    "\n",
    "    @property\n",
    "    def width(self):\n",
    "        return self._width\n",
    "\n",
    "    @width.setter\n",
    "    def width(self, value):\n",
    "        if value <= 0:\n",
    "            raise ValueError(\"Width must be positive\")\n",
    "        self._width = value\n",
    "\n",
    "    @property\n",
    "    def height(self):\n",
    "        return self._height\n",
    "\n",
    "    @height.setter\n",
    "    def height(self, value):\n",
    "        if value <= 0:\n",
    "            raise ValueError(\"Height must be positive\")\n",
    "        self._height = value\n",
    "\n",
    "    @property\n",
    "    def area(self):\n",
    "        return self._width * self._height\n",
    "\n",
    "    def perimeter(self):\n",
    "        return 2 * (self._width + self._height)"
   ]
  },
  {
   "cell_type": "code",
   "execution_count": 16,
   "id": "d130c408-34b2-4cfc-8e2c-d96875511d8a",
   "metadata": {},
   "outputs": [],
   "source": [
    "my_rect = Rectangle(10,10)"
   ]
  },
  {
   "cell_type": "code",
   "execution_count": 17,
   "id": "7faad2de-27c3-42e5-acb9-a699c70216a4",
   "metadata": {},
   "outputs": [
    {
     "data": {
      "text/plain": [
       "4"
      ]
     },
     "execution_count": 17,
     "metadata": {},
     "output_type": "execute_result"
    }
   ],
   "source": [
    "my_rect.num_sides"
   ]
  },
  {
   "cell_type": "code",
   "execution_count": 18,
   "id": "7653b278-699e-4d9f-8645-f1f0e1808b9a",
   "metadata": {},
   "outputs": [
    {
     "data": {
      "text/plain": [
       "40"
      ]
     },
     "execution_count": 18,
     "metadata": {},
     "output_type": "execute_result"
    }
   ],
   "source": [
    "my_rect.perimeter()"
   ]
  },
  {
   "cell_type": "code",
   "execution_count": 19,
   "id": "787e5334-f1a8-4fd7-8c8c-f22671a6322c",
   "metadata": {},
   "outputs": [
    {
     "name": "stdout",
     "output_type": "stream",
     "text": [
      "Polygon with 4 sides\n"
     ]
    }
   ],
   "source": [
    "print(my_rect)"
   ]
  },
  {
   "cell_type": "code",
   "execution_count": 20,
   "id": "6a5227ec-2aaf-48db-9a15-30a12f6e6655",
   "metadata": {},
   "outputs": [],
   "source": [
    "class Square(Rectangle):\n",
    "    def __init__(self, side):\n",
    "        self._side = side\n",
    "        super().__init__(side, side)"
   ]
  },
  {
   "cell_type": "code",
   "execution_count": 21,
   "id": "d3e39d33-0ccf-4274-9466-f140baecacea",
   "metadata": {},
   "outputs": [],
   "source": [
    "my_square = Square(10)"
   ]
  },
  {
   "cell_type": "code",
   "execution_count": 22,
   "id": "24bef36d-e560-4292-9bcf-50d7619fc3a9",
   "metadata": {},
   "outputs": [
    {
     "data": {
      "text/plain": [
       "40"
      ]
     },
     "execution_count": 22,
     "metadata": {},
     "output_type": "execute_result"
    }
   ],
   "source": [
    "my_square.perimeter()"
   ]
  },
  {
   "cell_type": "code",
   "execution_count": 23,
   "id": "372c15dd-8412-475a-b752-5ab328bf7182",
   "metadata": {},
   "outputs": [
    {
     "data": {
      "text/plain": [
       "100"
      ]
     },
     "execution_count": 23,
     "metadata": {},
     "output_type": "execute_result"
    }
   ],
   "source": [
    "my_square.area"
   ]
  },
  {
   "cell_type": "code",
   "execution_count": null,
   "id": "43caaf12-c424-402a-8464-2ebc40dfe7c0",
   "metadata": {},
   "outputs": [],
   "source": []
  }
 ],
 "metadata": {
  "kernelspec": {
   "display_name": "Python 3 (ipykernel)",
   "language": "python",
   "name": "python3"
  },
  "language_info": {
   "codemirror_mode": {
    "name": "ipython",
    "version": 3
   },
   "file_extension": ".py",
   "mimetype": "text/x-python",
   "name": "python",
   "nbconvert_exporter": "python",
   "pygments_lexer": "ipython3",
   "version": "3.12.4"
  }
 },
 "nbformat": 4,
 "nbformat_minor": 5
}
