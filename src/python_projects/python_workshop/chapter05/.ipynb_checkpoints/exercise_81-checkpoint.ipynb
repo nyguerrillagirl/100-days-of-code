{
 "cells": [
  {
   "cell_type": "markdown",
   "id": "7f5a6ebe-308b-4e1e-bcea-86c64a4abb8d",
   "metadata": {},
   "source": [
    "### Exercise 81: Inheriting from the Person Class"
   ]
  },
  {
   "cell_type": "code",
   "execution_count": 1,
   "id": "8942a851-e678-4bfc-bd6c-9c403e9b6cf8",
   "metadata": {},
   "outputs": [],
   "source": [
    "class Person():\n",
    "    def __init__(self, first_name, last_name):\n",
    "        self.first_name = first_name\n",
    "        self.last_name = last_name"
   ]
  },
  {
   "cell_type": "code",
   "execution_count": 2,
   "id": "e889eb53-6792-442a-9b58-e75b90f582ef",
   "metadata": {},
   "outputs": [],
   "source": [
    "class Baby(Person):\n",
    "    def speak(self):\n",
    "        print('Blah blah blah')"
   ]
  },
  {
   "cell_type": "code",
   "execution_count": 3,
   "id": "9f3aada4-94ad-4bdd-931c-d43ef64ec1e9",
   "metadata": {},
   "outputs": [],
   "source": [
    "class Adult(Person):\n",
    "    def speak(self):\n",
    "        print('Hello, my name is %s' % self.first_name)"
   ]
  },
  {
   "cell_type": "code",
   "execution_count": 4,
   "id": "4499fb30-e20f-4112-b037-41754ed8eb1a",
   "metadata": {},
   "outputs": [
    {
     "name": "stdout",
     "output_type": "stream",
     "text": [
      "Blah blah blah\n",
      "Hello, my name is Thomas\n"
     ]
    }
   ],
   "source": [
    "jess = Baby('Jessie', 'Mcdonald')\n",
    "tom = Adult('Thomas', 'Smith')\n",
    "jess.speak()\n",
    "tom.speak()"
   ]
  },
  {
   "cell_type": "code",
   "execution_count": null,
   "id": "bd314b6e-4fc9-4efc-b0b6-3553f13e8d95",
   "metadata": {},
   "outputs": [],
   "source": []
  }
 ],
 "metadata": {
  "kernelspec": {
   "display_name": "Python 3 (ipykernel)",
   "language": "python",
   "name": "python3"
  },
  "language_info": {
   "codemirror_mode": {
    "name": "ipython",
    "version": 3
   },
   "file_extension": ".py",
   "mimetype": "text/x-python",
   "name": "python",
   "nbconvert_exporter": "python",
   "pygments_lexer": "ipython3",
   "version": "3.12.4"
  }
 },
 "nbformat": 4,
 "nbformat_minor": 5
}
