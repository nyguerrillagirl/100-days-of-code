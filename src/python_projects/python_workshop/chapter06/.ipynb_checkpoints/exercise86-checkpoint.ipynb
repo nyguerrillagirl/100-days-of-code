{
 "cells": [
  {
   "cell_type": "markdown",
   "id": "4fe4606a-2827-44c0-956f-97e5fc08ef52",
   "metadata": {},
   "source": [
    "### Exercise 86: Extending the echo.py Example"
   ]
  },
  {
   "cell_type": "code",
   "execution_count": null,
   "id": "685807c0-c408-4a1b-95fc-bc61f0797c40",
   "metadata": {},
   "outputs": [],
   "source": [
    "# See echo2.py"
   ]
  }
 ],
 "metadata": {
  "kernelspec": {
   "display_name": "Python 3 (ipykernel)",
   "language": "python",
   "name": "python3"
  },
  "language_info": {
   "codemirror_mode": {
    "name": "ipython",
    "version": 3
   },
   "file_extension": ".py",
   "mimetype": "text/x-python",
   "name": "python",
   "nbconvert_exporter": "python",
   "pygments_lexer": "ipython3",
   "version": "3.12.4"
  }
 },
 "nbformat": 4,
 "nbformat_minor": 5
}
