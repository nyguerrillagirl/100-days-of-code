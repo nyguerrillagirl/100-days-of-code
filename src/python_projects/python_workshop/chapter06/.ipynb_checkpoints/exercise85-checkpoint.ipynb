{
 "cells": [
  {
   "cell_type": "markdown",
   "id": "fbe7e27c-d084-4c6e-a652-0f79a1a95647",
   "metadata": {},
   "source": [
    "### Exercise 85: Using the dataclass Module"
   ]
  },
  {
   "cell_type": "code",
   "execution_count": 1,
   "id": "c74d6f43-918c-4e5a-bdcc-07b4b90f297b",
   "metadata": {},
   "outputs": [],
   "source": [
    "import dataclasses"
   ]
  },
  {
   "cell_type": "code",
   "execution_count": 3,
   "id": "c5e91c10-12c5-480b-b28c-38896c5f1518",
   "metadata": {},
   "outputs": [],
   "source": [
    "@dataclasses.dataclass\n",
    "class Point:\n",
    "    x: int\n",
    "    y: int"
   ]
  },
  {
   "cell_type": "code",
   "execution_count": 4,
   "id": "430b2740-907c-444d-ac8d-ef52bea1fd51",
   "metadata": {},
   "outputs": [],
   "source": [
    "p = Point(x=10, y=20)"
   ]
  },
  {
   "cell_type": "code",
   "execution_count": 5,
   "id": "06c61149-4292-465a-8060-87e9444ae413",
   "metadata": {},
   "outputs": [
    {
     "name": "stdout",
     "output_type": "stream",
     "text": [
      "Point(x=10, y=20)\n"
     ]
    }
   ],
   "source": [
    "print(p)"
   ]
  },
  {
   "cell_type": "code",
   "execution_count": 7,
   "id": "8c85c819-9bf7-47d1-95f0-22f8f40d15c6",
   "metadata": {},
   "outputs": [],
   "source": [
    "p2 = Point(x=10, y=20)"
   ]
  },
  {
   "cell_type": "code",
   "execution_count": 8,
   "id": "a9dd8862-a525-42e2-90f6-e5e0f2850290",
   "metadata": {},
   "outputs": [
    {
     "data": {
      "text/plain": [
       "True"
      ]
     },
     "execution_count": 8,
     "metadata": {},
     "output_type": "execute_result"
    }
   ],
   "source": [
    "p == p2"
   ]
  },
  {
   "cell_type": "code",
   "execution_count": 9,
   "id": "27f98306-38dd-4850-8c5a-1906e8729029",
   "metadata": {},
   "outputs": [
    {
     "data": {
      "text/plain": [
       "{'x': 10, 'y': 20}"
      ]
     },
     "execution_count": 9,
     "metadata": {},
     "output_type": "execute_result"
    }
   ],
   "source": [
    "dataclasses.asdict(p)"
   ]
  },
  {
   "cell_type": "code",
   "execution_count": null,
   "id": "c5f015c3-49d4-40e2-a3a2-71187fdb0cc0",
   "metadata": {},
   "outputs": [],
   "source": []
  }
 ],
 "metadata": {
  "kernelspec": {
   "display_name": "Python 3 (ipykernel)",
   "language": "python",
   "name": "python3"
  },
  "language_info": {
   "codemirror_mode": {
    "name": "ipython",
    "version": 3
   },
   "file_extension": ".py",
   "mimetype": "text/x-python",
   "name": "python",
   "nbconvert_exporter": "python",
   "pygments_lexer": "ipython3",
   "version": "3.12.4"
  }
 },
 "nbformat": 4,
 "nbformat_minor": 5
}
