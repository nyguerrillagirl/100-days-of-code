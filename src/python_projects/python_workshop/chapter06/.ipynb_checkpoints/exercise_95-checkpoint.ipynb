{
 "cells": [
  {
   "cell_type": "markdown",
   "id": "2639b839-f883-4876-9735-c010ec6c2e60",
   "metadata": {},
   "source": [
    "### Exercise 95: Counting Words in a Text Document\n",
    "In this exercise, you will use a counter to count the occurrences of words in the text document [file url no longer exists]"
   ]
  },
  {
   "cell_type": "code",
   "execution_count": 8,
   "id": "fa0e3fdf-aa0d-4366-bdb8-a35067af0aa0",
   "metadata": {},
   "outputs": [],
   "source": [
    "import urllib.request\n",
    "url = 'http://brainycode.com/THE_LION_AND_THE_DEMON.txt'\n",
    "response = urllib.request.urlopen(url)"
   ]
  },
  {
   "cell_type": "code",
   "execution_count": 9,
   "id": "6c970f1c-330c-4ee3-93cd-c7eb3ed7ef19",
   "metadata": {},
   "outputs": [],
   "source": [
    "words = response.read().decode().split()"
   ]
  },
  {
   "cell_type": "code",
   "execution_count": 10,
   "id": "0868cd8b-bbaf-4488-8b8d-7bc8bd50d827",
   "metadata": {},
   "outputs": [
    {
     "data": {
      "text/plain": [
       "451"
      ]
     },
     "execution_count": 10,
     "metadata": {},
     "output_type": "execute_result"
    }
   ],
   "source": [
    "len(words)"
   ]
  },
  {
   "cell_type": "code",
   "execution_count": 11,
   "id": "5f2e450b-22a0-4516-a38f-301bd3f17199",
   "metadata": {},
   "outputs": [],
   "source": [
    "import collections\n",
    "word_counter = collections.Counter(words)"
   ]
  },
  {
   "cell_type": "code",
   "execution_count": 12,
   "id": "ffdc9f27-551e-4f5f-b0d8-0a87a54f35b2",
   "metadata": {},
   "outputs": [
    {
     "name": "stdout",
     "output_type": "stream",
     "text": [
      "* - 14\n",
      "Cost: - 11\n",
      "Gold - 11\n",
      "to - 10\n",
      "the - 8\n"
     ]
    }
   ],
   "source": [
    "for word, count in word_counter.most_common(5):\n",
    "    print(word, \"-\", count)"
   ]
  },
  {
   "cell_type": "code",
   "execution_count": 13,
   "id": "c5e24a90-e123-469e-84f6-e26cececfd6c",
   "metadata": {},
   "outputs": [
    {
     "name": "stdout",
     "output_type": "stream",
     "text": [
      "Chemistry - 1\n"
     ]
    }
   ],
   "source": [
    "print(\"Chemistry\", \"-\", word_counter[\"Chemistry\"])"
   ]
  },
  {
   "cell_type": "code",
   "execution_count": 17,
   "id": "723627d5-9da9-4cce-b283-e846a28b8043",
   "metadata": {},
   "outputs": [
    {
     "name": "stdout",
     "output_type": "stream",
     "text": [
      "Mamelukes - 3\n"
     ]
    }
   ],
   "source": [
    "print(\"Mamelukes\", \"-\", word_counter[\"Mamelukes\"])"
   ]
  },
  {
   "cell_type": "code",
   "execution_count": 18,
   "id": "22aec662-854c-46cb-9dc8-4692a0e101d4",
   "metadata": {},
   "outputs": [
    {
     "name": "stdout",
     "output_type": "stream",
     "text": [
      "The Zen of Python, by Tim Peters\n",
      "\n",
      "Beautiful is better than ugly.\n",
      "Explicit is better than implicit.\n",
      "Simple is better than complex.\n",
      "Complex is better than complicated.\n",
      "Flat is better than nested.\n",
      "Sparse is better than dense.\n",
      "Readability counts.\n",
      "Special cases aren't special enough to break the rules.\n",
      "Although practicality beats purity.\n",
      "Errors should never pass silently.\n",
      "Unless explicitly silenced.\n",
      "In the face of ambiguity, refuse the temptation to guess.\n",
      "There should be one-- and preferably only one --obvious way to do it.\n",
      "Although that way may not be obvious at first unless you're Dutch.\n",
      "Now is better than never.\n",
      "Although never is often better than *right* now.\n",
      "If the implementation is hard to explain, it's a bad idea.\n",
      "If the implementation is easy to explain, it may be a good idea.\n",
      "Namespaces are one honking great idea -- let's do more of those!\n"
     ]
    }
   ],
   "source": [
    "import this"
   ]
  },
  {
   "cell_type": "code",
   "execution_count": 19,
   "id": "699af74f-0ec4-4bb7-8651-03ede96cd55d",
   "metadata": {},
   "outputs": [],
   "source": [
    "import collections"
   ]
  },
  {
   "cell_type": "code",
   "execution_count": 20,
   "id": "e9b33b63-106d-4d9a-a112-447179f12b62",
   "metadata": {},
   "outputs": [],
   "source": [
    "d = collections.defaultdict(int)\n",
    "\n",
    "def function(x):\n",
    "    d[x] += 1"
   ]
  },
  {
   "cell_type": "code",
   "execution_count": 21,
   "id": "f0e41aab-6813-4adc-84ff-7f02a414f118",
   "metadata": {},
   "outputs": [],
   "source": [
    "function(100)"
   ]
  },
  {
   "cell_type": "code",
   "execution_count": 22,
   "id": "03dbaa3f-b758-4987-b9f3-bfda5d327bf7",
   "metadata": {},
   "outputs": [
    {
     "name": "stdout",
     "output_type": "stream",
     "text": [
      "1\n"
     ]
    }
   ],
   "source": [
    "print(d[100])"
   ]
  },
  {
   "cell_type": "code",
   "execution_count": 23,
   "id": "a5e6c019-e728-47a4-a2ba-040b2fbe31ef",
   "metadata": {},
   "outputs": [
    {
     "name": "stdout",
     "output_type": "stream",
     "text": [
      "2\n"
     ]
    }
   ],
   "source": [
    "function(100)\n",
    "print(d[100])"
   ]
  },
  {
   "cell_type": "code",
   "execution_count": null,
   "id": "f20ae0a2-3dc8-454c-89ee-cb3282817542",
   "metadata": {},
   "outputs": [],
   "source": []
  }
 ],
 "metadata": {
  "kernelspec": {
   "display_name": "Python 3 (ipykernel)",
   "language": "python",
   "name": "python3"
  },
  "language_info": {
   "codemirror_mode": {
    "name": "ipython",
    "version": 3
   },
   "file_extension": ".py",
   "mimetype": "text/x-python",
   "name": "python",
   "nbconvert_exporter": "python",
   "pygments_lexer": "ipython3",
   "version": "3.12.4"
  }
 },
 "nbformat": 4,
 "nbformat_minor": 5
}
