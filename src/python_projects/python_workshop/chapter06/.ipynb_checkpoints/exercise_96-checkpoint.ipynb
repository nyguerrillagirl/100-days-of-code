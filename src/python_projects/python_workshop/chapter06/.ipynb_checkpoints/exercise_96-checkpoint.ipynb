{
 "cells": [
  {
   "cell_type": "markdown",
   "id": "0da78681-43c7-4790-bddd-c5f872ec002a",
   "metadata": {},
   "source": [
    "### Exercise 96: Refactoring Code with defaultdict"
   ]
  },
  {
   "cell_type": "code",
   "execution_count": 1,
   "id": "ab08ea65-409f-4b77-b211-83d97acf0b62",
   "metadata": {},
   "outputs": [],
   "source": [
    "_audit = {}"
   ]
  },
  {
   "cell_type": "code",
   "execution_count": 2,
   "id": "c0509c05-80d0-44c5-87c0-ed17d3b206b4",
   "metadata": {},
   "outputs": [],
   "source": [
    "def add_audit(area, action):\n",
    "    if area in _audit:\n",
    "        _audit[area].append(action)\n",
    "    else:\n",
    "        _audit[area] = [action]"
   ]
  },
  {
   "cell_type": "code",
   "execution_count": 5,
   "id": "62cd1f60-c1cb-423f-9051-5383dc93616d",
   "metadata": {},
   "outputs": [],
   "source": [
    "def report_audit():\n",
    "    for area, actions in _audit.items():\n",
    "        print(f\"{area} audit:\")\n",
    "        for action in actions:\n",
    "            print(f\"-{action}\")\n",
    "    print()"
   ]
  },
  {
   "cell_type": "code",
   "execution_count": 6,
   "id": "a0afb923-fcc0-4ced-8a4c-ad4bb16038bd",
   "metadata": {},
   "outputs": [],
   "source": [
    "add_audit(\"HR\", \"Hired Sam\")"
   ]
  },
  {
   "cell_type": "code",
   "execution_count": 7,
   "id": "673ec49c-7cc6-4e69-9035-d8cb62fc200c",
   "metadata": {},
   "outputs": [],
   "source": [
    "add_audit(\"Finance\", \"Used $1000\")"
   ]
  },
  {
   "cell_type": "code",
   "execution_count": 8,
   "id": "89bf0854-516b-435e-abd1-c3e1d7bf7f7f",
   "metadata": {},
   "outputs": [],
   "source": [
    "add_audit(\"HR\", \"Hired Tom\")"
   ]
  },
  {
   "cell_type": "code",
   "execution_count": 9,
   "id": "f8af32cb-916c-47e4-b060-29f7b56dc859",
   "metadata": {},
   "outputs": [
    {
     "name": "stdout",
     "output_type": "stream",
     "text": [
      "HR audit:\n",
      "-Hired Sam\n",
      "-Hired Tom\n",
      "Finance audit:\n",
      "-Used $1000\n",
      "\n"
     ]
    }
   ],
   "source": [
    "report_audit()"
   ]
  },
  {
   "cell_type": "code",
   "execution_count": 10,
   "id": "c3fd118b-fa55-46e5-be28-76d208eaf4f0",
   "metadata": {},
   "outputs": [],
   "source": [
    "# Using defaultdict\n",
    "import collections\n",
    "_audit = collections.defaultdict(list)"
   ]
  },
  {
   "cell_type": "code",
   "execution_count": 11,
   "id": "b4806489-13f8-4834-8ed1-9a8b7f005757",
   "metadata": {},
   "outputs": [],
   "source": [
    "def add_audit(area, action):\n",
    "    _audit[area].append(action)"
   ]
  },
  {
   "cell_type": "code",
   "execution_count": 12,
   "id": "81905111-ffe1-4b53-b9f4-4fc796e2aa25",
   "metadata": {},
   "outputs": [],
   "source": [
    "def report_audit():\n",
    "    for area, actions in _audit.items():\n",
    "        print(f\"{area} audit:\")\n",
    "        for action in actions:\n",
    "            print(f\"-{action}\")\n",
    "    print()"
   ]
  },
  {
   "cell_type": "code",
   "execution_count": 13,
   "id": "a1fe18c1-36cc-4372-b99f-fd60ae955ca0",
   "metadata": {},
   "outputs": [],
   "source": [
    "add_audit(\"HR\", \"Hired Sam\")\n",
    "add_audit(\"Finance\", \"Used $1000\")\n",
    "add_audit(\"HR\", \"Hired Tom\")"
   ]
  },
  {
   "cell_type": "code",
   "execution_count": 14,
   "id": "b38bc9c6-e167-41ab-aeb4-033cebfe684b",
   "metadata": {},
   "outputs": [
    {
     "name": "stdout",
     "output_type": "stream",
     "text": [
      "HR audit:\n",
      "-Hired Sam\n",
      "-Hired Tom\n",
      "Finance audit:\n",
      "-Used $1000\n",
      "\n"
     ]
    }
   ],
   "source": [
    "report_audit()"
   ]
  },
  {
   "cell_type": "code",
   "execution_count": 15,
   "id": "8265764e-c70b-4936-875b-93d06bb08a95",
   "metadata": {},
   "outputs": [],
   "source": [
    "import collections"
   ]
  },
  {
   "cell_type": "code",
   "execution_count": 19,
   "id": "b65fcb72-59b8-4507-aeaf-307960ae25b5",
   "metadata": {},
   "outputs": [],
   "source": [
    "_defaults = {\n",
    "    \"appetizers\": \"Hummus\",\n",
    "    \"main\" : \"Pizza\",\n",
    "    \"dessert\" : \"Chocolate Cake\",\n",
    "    \"drink\" : \"water\",\n",
    "}"
   ]
  },
  {
   "cell_type": "code",
   "execution_count": 20,
   "id": "7c76a574-eb03-4267-8151-50f1b1ffae36",
   "metadata": {},
   "outputs": [],
   "source": [
    "def prepare_menu(customizations):\n",
    "    return collections.ChainMap(customizations, _defaults)"
   ]
  },
  {
   "cell_type": "code",
   "execution_count": 21,
   "id": "b861015e-a907-42c5-b1a1-ef1a077f9be9",
   "metadata": {},
   "outputs": [],
   "source": [
    "def print_menu(menu):\n",
    "    for key, value in menu.items():\n",
    "        print(f\"As {key}: {value}.\")"
   ]
  },
  {
   "cell_type": "code",
   "execution_count": 22,
   "id": "028c8c33-50a9-4333-a7f0-c1dc665e1851",
   "metadata": {},
   "outputs": [
    {
     "name": "stdout",
     "output_type": "stream",
     "text": [
      "As appetizers: Hummus.\n",
      "As main: Pizza.\n",
      "As dessert: Chocolate Cake.\n",
      "As drink: water.\n"
     ]
    }
   ],
   "source": [
    "menu1 = prepare_menu({})\n",
    "print_menu(menu1)"
   ]
  },
  {
   "cell_type": "code",
   "execution_count": 23,
   "id": "4dab8bc2-95c8-44aa-90eb-907aee97b787",
   "metadata": {},
   "outputs": [
    {
     "name": "stdout",
     "output_type": "stream",
     "text": [
      "As appetizers: Hummus.\n",
      "As main: Pizza.\n",
      "As dessert: Chocolate Cake.\n",
      "As drink: water.\n",
      "As side: French fries.\n"
     ]
    }
   ],
   "source": [
    "menu3 = prepare_menu({\"side\": \"French fries\"})\n",
    "print_menu(menu3)"
   ]
  },
  {
   "cell_type": "code",
   "execution_count": 24,
   "id": "62fec72f-e47c-48a7-8a0b-428e5f1bdb6b",
   "metadata": {},
   "outputs": [
    {
     "name": "stdout",
     "output_type": "stream",
     "text": [
      "As appetizers: Hummus.\n",
      "As main: Pasta.\n",
      "As dessert: Chocolate Cake.\n",
      "As drink: water.\n",
      "As side: French fries.\n"
     ]
    }
   ],
   "source": [
    "_defaults[\"main\"] = \"Pasta\"\n",
    "print_menu(menu3)"
   ]
  },
  {
   "cell_type": "code",
   "execution_count": null,
   "id": "2ed2d4b2-b645-49aa-8194-7143d05907c6",
   "metadata": {},
   "outputs": [],
   "source": []
  }
 ],
 "metadata": {
  "kernelspec": {
   "display_name": "Python 3 (ipykernel)",
   "language": "python",
   "name": "python3"
  },
  "language_info": {
   "codemirror_mode": {
    "name": "ipython",
    "version": 3
   },
   "file_extension": ".py",
   "mimetype": "text/x-python",
   "name": "python",
   "nbconvert_exporter": "python",
   "pygments_lexer": "ipython3",
   "version": "3.12.4"
  }
 },
 "nbformat": 4,
 "nbformat_minor": 5
}
