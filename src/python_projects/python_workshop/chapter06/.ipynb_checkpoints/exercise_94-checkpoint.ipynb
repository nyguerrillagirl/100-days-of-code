{
 "cells": [
  {
   "cell_type": "markdown",
   "id": "9a5c0246-35f1-4587-bb34-ac5c5369d0a3",
   "metadata": {},
   "source": [
    "### Exercise 94: Configuring the Logging Stack"
   ]
  },
  {
   "cell_type": "code",
   "execution_count": 1,
   "id": "31cb2d92-abb3-461b-830c-ed87b411b5df",
   "metadata": {},
   "outputs": [],
   "source": [
    "import logging\n",
    "import sys"
   ]
  },
  {
   "cell_type": "code",
   "execution_count": 2,
   "id": "3d544f14-0169-476e-8f8f-ec579351b3ad",
   "metadata": {},
   "outputs": [],
   "source": [
    "root_logger = logging.getLogger()\n",
    "handler = logging.StreamHandler(sys.stdout)\n",
    "formatter = logging.Formatter(\"%(levelname)s: %(message)s\")\n",
    "handler.setFormatter(formatter)\n",
    "root_logger.addHandler(handler)\n",
    "root_logger.setLevel(\"INFO\")"
   ]
  },
  {
   "cell_type": "code",
   "execution_count": 3,
   "id": "ecd45b89-2a44-4d6e-9ea4-8da40fd6ea24",
   "metadata": {},
   "outputs": [
    {
     "name": "stdout",
     "output_type": "stream",
     "text": [
      "INFO: Hello logging world\n"
     ]
    }
   ],
   "source": [
    "logging.info(\"Hello logging world\")"
   ]
  },
  {
   "cell_type": "code",
   "execution_count": 1,
   "id": "e52ece41-5175-44ae-85a3-9cd63bd70dff",
   "metadata": {},
   "outputs": [],
   "source": [
    "# restarted kernel\n",
    "import sys\n",
    "import logging"
   ]
  },
  {
   "cell_type": "code",
   "execution_count": 2,
   "id": "5f5fa3c8-cda9-40da-8bd6-8168e75d5d5d",
   "metadata": {},
   "outputs": [],
   "source": [
    "logging.basicConfig(\n",
    "    level=\"INFO\",\n",
    "    format=\"%(levelname)s: FIGGY %(message)s\",\n",
    "    stream=sys.stdout\n",
    ")"
   ]
  },
  {
   "cell_type": "code",
   "execution_count": 3,
   "id": "2b3705be-c62b-4b71-85fb-e7cf650f0b65",
   "metadata": {},
   "outputs": [
    {
     "name": "stdout",
     "output_type": "stream",
     "text": [
      "INFO: FIGGY Hello there!\n"
     ]
    }
   ],
   "source": [
    "logging.info(\"Hello there!\")"
   ]
  },
  {
   "cell_type": "code",
   "execution_count": 1,
   "id": "96d7ea82-c959-4d98-8429-624805a5d570",
   "metadata": {},
   "outputs": [],
   "source": [
    "# restarted kernel\n",
    "import logging"
   ]
  },
  {
   "cell_type": "code",
   "execution_count": 2,
   "id": "2ced8720-bdcb-4883-b5f0-c3c033b45560",
   "metadata": {},
   "outputs": [],
   "source": [
    "logging.basicConfig(filename=\"logs.log\", filemode=\"w\", format=\"%(name)s → %(levelname)s: %(message)s\")"
   ]
  },
  {
   "cell_type": "code",
   "execution_count": 3,
   "id": "e3fbe21d-d854-4be5-bceb-96d57418a45d",
   "metadata": {},
   "outputs": [],
   "source": [
    "logging.warning(\"warning\")"
   ]
  },
  {
   "cell_type": "code",
   "execution_count": null,
   "id": "360aac57-9e46-4950-9f26-a3896396134a",
   "metadata": {},
   "outputs": [],
   "source": [
    "\n"
   ]
  }
 ],
 "metadata": {
  "kernelspec": {
   "display_name": "Python 3 (ipykernel)",
   "language": "python",
   "name": "python3"
  },
  "language_info": {
   "codemirror_mode": {
    "name": "ipython",
    "version": 3
   },
   "file_extension": ".py",
   "mimetype": "text/x-python",
   "name": "python",
   "nbconvert_exporter": "python",
   "pygments_lexer": "ipython3",
   "version": "3.12.4"
  }
 },
 "nbformat": 4,
 "nbformat_minor": 5
}
