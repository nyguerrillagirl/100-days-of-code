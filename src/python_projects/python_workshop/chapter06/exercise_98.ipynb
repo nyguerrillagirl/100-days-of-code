{
 "cells": [
  {
   "cell_type": "markdown",
   "id": "84bc6d77-cc2c-4fab-a4c6-ca4a9cac4e7c",
   "metadata": {},
   "source": [
    "### Exercise 98: Creating a print Function that Writes to stderr"
   ]
  },
  {
   "cell_type": "code",
   "execution_count": 1,
   "id": "078bf617-b289-4ce4-9818-5468268bc575",
   "metadata": {},
   "outputs": [
    {
     "name": "stdout",
     "output_type": "stream",
     "text": [
      "Help on built-in function print in module builtins:\n",
      "\n",
      "print(*args, sep=' ', end='\\n', file=None, flush=False)\n",
      "    Prints the values to a stream, or to sys.stdout by default.\n",
      "\n",
      "    sep\n",
      "      string inserted between values, default a space.\n",
      "    end\n",
      "      string appended after the last value, default a newline.\n",
      "    file\n",
      "      a file-like object (stream); defaults to the current sys.stdout.\n",
      "    flush\n",
      "      whether to forcibly flush the stream.\n",
      "\n"
     ]
    }
   ],
   "source": [
    "help(print)"
   ]
  },
  {
   "cell_type": "code",
   "execution_count": 2,
   "id": "539f7657-e8fa-48af-8279-7d8d7332ace0",
   "metadata": {},
   "outputs": [
    {
     "name": "stderr",
     "output_type": "stream",
     "text": [
      "Hello stderr\n"
     ]
    }
   ],
   "source": [
    "import sys\n",
    "print(\"Hello stderr\", file=sys.stderr)"
   ]
  },
  {
   "cell_type": "code",
   "execution_count": 3,
   "id": "83c0cf10-4bf5-4fa4-b4e4-4f0d4bacb7ef",
   "metadata": {},
   "outputs": [],
   "source": [
    "import functools\n",
    "print_stderr = functools.partial(print, file=sys.stderr)"
   ]
  },
  {
   "cell_type": "code",
   "execution_count": 6,
   "id": "15cd6c3a-d296-4fc1-b0cf-e14ed85c65b4",
   "metadata": {},
   "outputs": [
    {
     "name": "stderr",
     "output_type": "stream",
     "text": [
      "Hello stderr\n"
     ]
    }
   ],
   "source": [
    "print_stderr(\"Hello stderr\")"
   ]
  },
  {
   "cell_type": "code",
   "execution_count": null,
   "id": "c9e57bbb-71fb-4dff-a032-0d3a9a9453aa",
   "metadata": {},
   "outputs": [],
   "source": []
  }
 ],
 "metadata": {
  "kernelspec": {
   "display_name": "Python 3 (ipykernel)",
   "language": "python",
   "name": "python3"
  },
  "language_info": {
   "codemirror_mode": {
    "name": "ipython",
    "version": 3
   },
   "file_extension": ".py",
   "mimetype": "text/x-python",
   "name": "python",
   "nbconvert_exporter": "python",
   "pygments_lexer": "ipython3",
   "version": "3.12.4"
  }
 },
 "nbformat": 4,
 "nbformat_minor": 5
}
