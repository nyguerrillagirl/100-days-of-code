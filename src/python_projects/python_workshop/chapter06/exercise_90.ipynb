{
 "cells": [
  {
   "cell_type": "markdown",
   "id": "8938e6be-1b45-4c0e-8052-6af02fe5e378",
   "metadata": {},
   "source": [
    "### Exercise 90: Inspecting the Current Process Information"
   ]
  },
  {
   "cell_type": "code",
   "execution_count": 1,
   "id": "014f76bc-6269-4fbf-97b1-c29f74f800f2",
   "metadata": {},
   "outputs": [],
   "source": [
    "import platform\n",
    "import os\n",
    "import sys"
   ]
  },
  {
   "cell_type": "code",
   "execution_count": 2,
   "id": "9c6a4f6e-9bca-47f8-a0cd-a774d8dda793",
   "metadata": {},
   "outputs": [
    {
     "name": "stdout",
     "output_type": "stream",
     "text": [
      "Process id: 39176\n"
     ]
    }
   ],
   "source": [
    "print(\"Process id:\", os.getpid())"
   ]
  },
  {
   "cell_type": "code",
   "execution_count": 4,
   "id": "45e20a74-faa1-459b-bdc3-4b4b38a52c39",
   "metadata": {},
   "outputs": [
    {
     "name": "stdout",
     "output_type": "stream",
     "text": [
      "Parent process id: 10900\n"
     ]
    }
   ],
   "source": [
    "print(\"Parent process id:\", os.getppid())"
   ]
  },
  {
   "cell_type": "code",
   "execution_count": 5,
   "id": "6bb63c84-682f-4e47-a3de-54641c54b8e2",
   "metadata": {},
   "outputs": [
    {
     "name": "stdout",
     "output_type": "stream",
     "text": [
      "Machine network name: FIGGYS_XPS\n"
     ]
    }
   ],
   "source": [
    "print(\"Machine network name:\", platform.node())"
   ]
  },
  {
   "cell_type": "code",
   "execution_count": 6,
   "id": "3bbfa66f-51e2-4cfd-ad04-b79ad028e89a",
   "metadata": {},
   "outputs": [
    {
     "name": "stdout",
     "output_type": "stream",
     "text": [
      "Python version: 3.12.4\n"
     ]
    }
   ],
   "source": [
    "print(\"Python version:\", platform.python_version())"
   ]
  },
  {
   "cell_type": "code",
   "execution_count": 8,
   "id": "c6d3ec2e-ec2c-43c8-bda7-bcc336f638d4",
   "metadata": {},
   "outputs": [
    {
     "name": "stdout",
     "output_type": "stream",
     "text": [
      "System: Windows\n"
     ]
    }
   ],
   "source": [
    "print(\"System:\", platform.system())"
   ]
  },
  {
   "cell_type": "code",
   "execution_count": 9,
   "id": "9f03f2b9-8dea-49b6-b0d6-0a27b785f2a4",
   "metadata": {},
   "outputs": [
    {
     "name": "stdout",
     "output_type": "stream",
     "text": [
      "Python module lookup path: ['C:\\\\python_projects\\\\python_workshop\\\\chapter06', 'C:\\\\Users\\\\lorra\\\\anaconda3\\\\envs\\\\pwkb01\\\\python312.zip', 'C:\\\\Users\\\\lorra\\\\anaconda3\\\\envs\\\\pwkb01\\\\DLLs', 'C:\\\\Users\\\\lorra\\\\anaconda3\\\\envs\\\\pwkb01\\\\Lib', 'C:\\\\Users\\\\lorra\\\\anaconda3\\\\envs\\\\pwkb01', '', 'C:\\\\Users\\\\lorra\\\\anaconda3\\\\envs\\\\pwkb01\\\\Lib\\\\site-packages', 'C:\\\\Users\\\\lorra\\\\anaconda3\\\\envs\\\\pwkb01\\\\Lib\\\\site-packages\\\\win32', 'C:\\\\Users\\\\lorra\\\\anaconda3\\\\envs\\\\pwkb01\\\\Lib\\\\site-packages\\\\win32\\\\lib', 'C:\\\\Users\\\\lorra\\\\anaconda3\\\\envs\\\\pwkb01\\\\Lib\\\\site-packages\\\\Pythonwin', 'C:\\\\Users\\\\lorra\\\\anaconda3\\\\envs\\\\pwkb01\\\\Lib\\\\site-packages\\\\setuptools\\\\_vendor']\n"
     ]
    }
   ],
   "source": [
    "print(\"Python module lookup path:\", sys.path)"
   ]
  },
  {
   "cell_type": "code",
   "execution_count": 10,
   "id": "70b28276-01b3-4231-bcc9-3cfa4ea6439f",
   "metadata": {},
   "outputs": [
    {
     "name": "stdout",
     "output_type": "stream",
     "text": [
      "Command to run Python: ['C:\\\\Users\\\\lorra\\\\anaconda3\\\\envs\\\\pwkb01\\\\Lib\\\\site-packages\\\\ipykernel_launcher.py', '-f', 'C:\\\\Users\\\\lorra\\\\AppData\\\\Roaming\\\\jupyter\\\\runtime\\\\kernel-f28c3b68-db4d-479e-9640-1385f560c7a3.json']\n"
     ]
    }
   ],
   "source": [
    "print(\"Command to run Python:\", sys.argv)"
   ]
  },
  {
   "cell_type": "code",
   "execution_count": 11,
   "id": "f28bc6c6-4eab-49f9-ac03-5b5a7d362a25",
   "metadata": {},
   "outputs": [
    {
     "name": "stdout",
     "output_type": "stream",
     "text": [
      "USERNAME environment variable: lorra\n"
     ]
    }
   ],
   "source": [
    "print(\"USERNAME environment variable:\", os.environ[\"USERNAME\"])"
   ]
  },
  {
   "cell_type": "code",
   "execution_count": 12,
   "id": "7bd1ba10-b8a7-42ea-a411-dbcbd36a595e",
   "metadata": {},
   "outputs": [
    {
     "name": "stdout",
     "output_type": "stream",
     "text": [
      "WindowsPath('.')\n"
     ]
    }
   ],
   "source": [
    "import pathlib\n",
    "path = pathlib.Path()\n",
    "print(repr(path))"
   ]
  },
  {
   "cell_type": "code",
   "execution_count": 13,
   "id": "1ecf0170-239f-4d13-a203-c6810eacb282",
   "metadata": {},
   "outputs": [],
   "source": [
    "new_path = path / \"folder\" / \"folder\" / \"example.py\""
   ]
  },
  {
   "cell_type": "code",
   "execution_count": 14,
   "id": "a91ed31e-cb32-42c0-b7df-f015bd5e0631",
   "metadata": {},
   "outputs": [
    {
     "data": {
      "text/plain": [
       "WindowsPath('folder/folder/example.py')"
      ]
     },
     "execution_count": 14,
     "metadata": {},
     "output_type": "execute_result"
    }
   ],
   "source": [
    "new_path"
   ]
  },
  {
   "cell_type": "code",
   "execution_count": null,
   "id": "ada687e8-5865-401d-9afb-37cb82db74e1",
   "metadata": {},
   "outputs": [],
   "source": []
  }
 ],
 "metadata": {
  "kernelspec": {
   "display_name": "Python 3 (ipykernel)",
   "language": "python",
   "name": "python3"
  },
  "language_info": {
   "codemirror_mode": {
    "name": "ipython",
    "version": 3
   },
   "file_extension": ".py",
   "mimetype": "text/x-python",
   "name": "python",
   "nbconvert_exporter": "python",
   "pygments_lexer": "ipython3",
   "version": "3.12.4"
  }
 },
 "nbformat": 4,
 "nbformat_minor": 5
}
