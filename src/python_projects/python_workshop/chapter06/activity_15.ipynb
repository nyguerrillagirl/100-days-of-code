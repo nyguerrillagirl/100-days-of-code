{
 "cells": [
  {
   "cell_type": "markdown",
   "id": "bf0033f8-56d8-4f2f-8772-8596af2f0dd2",
   "metadata": {},
   "source": [
    "### Activity 15: Calculating the Time Elapsed to Run a Loop\n",
    "\n",
    "You are part of an IT department, and you are asked to inspect an application that \r\n",
    "outputs random numbers but with a delay. In order to investigate this delayed \r\n",
    "output, you check the code as there have been updates to the application where the \r\n",
    "development team has added a new line of code to get a list of random numbers. You \r\n",
    "are asked to confirm this by checking the time it takes to run that line of code using the \r\n",
    "time module."
   ]
  },
  {
   "cell_type": "code",
   "execution_count": 23,
   "id": "45ebed9b-5733-4d9b-9f65-bbdefbace5c2",
   "metadata": {},
   "outputs": [],
   "source": [
    "import time\n",
    "import random"
   ]
  },
  {
   "cell_type": "code",
   "execution_count": 24,
   "id": "d4ad9a57-a09d-4a11-8a6c-81e898a63856",
   "metadata": {},
   "outputs": [],
   "source": [
    "time_before_run = time.time()\n",
    "l = [random.randint(1,999) for _ in range(10*8)]\n",
    "time_after_run = time.time()"
   ]
  },
  {
   "cell_type": "code",
   "execution_count": 25,
   "id": "9aa1d13e-9e32-4e83-a156-5d304d0190e0",
   "metadata": {},
   "outputs": [],
   "source": [
    "diff = time_after_run - time_before_run"
   ]
  },
  {
   "cell_type": "code",
   "execution_count": 26,
   "id": "b32ded17-060f-4ab2-9190-a91729061ca1",
   "metadata": {},
   "outputs": [
    {
     "name": "stdout",
     "output_type": "stream",
     "text": [
      "0.001018524169921875\n"
     ]
    }
   ],
   "source": [
    "print(diff)"
   ]
  },
  {
   "cell_type": "code",
   "execution_count": 27,
   "id": "ab974d11-6e85-408f-ac5a-1fd5bc8d1556",
   "metadata": {},
   "outputs": [
    {
     "data": {
      "text/plain": [
       "1729270278.7059698"
      ]
     },
     "execution_count": 27,
     "metadata": {},
     "output_type": "execute_result"
    }
   ],
   "source": [
    "time_before_run"
   ]
  },
  {
   "cell_type": "code",
   "execution_count": 28,
   "id": "c3fd8ce2-a56c-4801-8852-5d4562a7d172",
   "metadata": {},
   "outputs": [
    {
     "data": {
      "text/plain": [
       "1729270278.7069883"
      ]
     },
     "execution_count": 28,
     "metadata": {},
     "output_type": "execute_result"
    }
   ],
   "source": [
    "time_after_run"
   ]
  },
  {
   "cell_type": "code",
   "execution_count": 31,
   "id": "a1549f33-d475-49ed-9212-033cede83b39",
   "metadata": {},
   "outputs": [
    {
     "name": "stdout",
     "output_type": "stream",
     "text": [
      "0\n"
     ]
    }
   ],
   "source": [
    "start = time.time_ns()\n",
    "l = [random.randint(1,999) for _ in range(10*8)]\n",
    "end = time.time_ns()\n",
    "print(end-start)"
   ]
  },
  {
   "cell_type": "markdown",
   "id": "dd169790-7621-4970-a4d2-cc40ee9f0d07",
   "metadata": {},
   "source": [
    "### This did not work out."
   ]
  },
  {
   "cell_type": "code",
   "execution_count": null,
   "id": "4219e1f9-0f33-4008-af60-d8b080b29a89",
   "metadata": {},
   "outputs": [],
   "source": []
  }
 ],
 "metadata": {
  "kernelspec": {
   "display_name": "Python 3 (ipykernel)",
   "language": "python",
   "name": "python3"
  },
  "language_info": {
   "codemirror_mode": {
    "name": "ipython",
    "version": 3
   },
   "file_extension": ".py",
   "mimetype": "text/x-python",
   "name": "python",
   "nbconvert_exporter": "python",
   "pygments_lexer": "ipython3",
   "version": "3.12.4"
  }
 },
 "nbformat": 4,
 "nbformat_minor": 5
}
