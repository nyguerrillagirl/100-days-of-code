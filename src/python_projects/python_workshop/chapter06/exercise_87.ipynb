{
 "cells": [
  {
   "cell_type": "markdown",
   "id": "c6b04f8d-cd47-4000-92c0-643aa63acf16",
   "metadata": {},
   "source": [
    "### Exercise 87: Comparing datetime across Time Zones"
   ]
  },
  {
   "cell_type": "code",
   "execution_count": 1,
   "id": "0c9a9f43-8774-4ce8-9868-f4d0884918c5",
   "metadata": {},
   "outputs": [],
   "source": [
    "import datetime \n",
    "from dateutil import tz"
   ]
  },
  {
   "cell_type": "code",
   "execution_count": 2,
   "id": "1b585bf2-033e-45fe-8e0e-bddbba729c89",
   "metadata": {},
   "outputs": [],
   "source": [
    "d1 = datetime.datetime(1989, 4, 24, hour=11, tzinfo=tz.gettz(\"Europe/Madrid\"))"
   ]
  },
  {
   "cell_type": "code",
   "execution_count": 5,
   "id": "700d6822-aa9d-48cc-8a7d-3faea2716b3f",
   "metadata": {},
   "outputs": [],
   "source": [
    "d2 = datetime.datetime(1989, 4, 24, hour=8, tzinfo=tz.gettz(\"America/Los_Angeles\"))"
   ]
  },
  {
   "cell_type": "code",
   "execution_count": 6,
   "id": "46052046-7d1f-453d-98a7-ab6e77abd37c",
   "metadata": {},
   "outputs": [
    {
     "name": "stdout",
     "output_type": "stream",
     "text": [
      "True\n"
     ]
    }
   ],
   "source": [
    "print(d1.hour > d2.hour)"
   ]
  },
  {
   "cell_type": "code",
   "execution_count": 7,
   "id": "2efe3dcd-10be-45ce-babf-208a46927804",
   "metadata": {},
   "outputs": [
    {
     "name": "stdout",
     "output_type": "stream",
     "text": [
      "False\n"
     ]
    }
   ],
   "source": [
    "print(d1 > d2)"
   ]
  },
  {
   "cell_type": "code",
   "execution_count": 8,
   "id": "68069d12-a9b9-4c68-9cf1-d4c09d581043",
   "metadata": {},
   "outputs": [
    {
     "name": "stdout",
     "output_type": "stream",
     "text": [
      "17\n"
     ]
    }
   ],
   "source": [
    "d2_madrid = d2.astimezone(tz.gettz(\"Europe/Madrid\"))\n",
    "print(d2_madrid.hour)"
   ]
  },
  {
   "cell_type": "code",
   "execution_count": null,
   "id": "45c06533-4f55-40e8-8f7a-6f23928489a6",
   "metadata": {},
   "outputs": [],
   "source": []
  }
 ],
 "metadata": {
  "kernelspec": {
   "display_name": "Python 3 (ipykernel)",
   "language": "python",
   "name": "python3"
  },
  "language_info": {
   "codemirror_mode": {
    "name": "ipython",
    "version": 3
   },
   "file_extension": ".py",
   "mimetype": "text/x-python",
   "name": "python",
   "nbconvert_exporter": "python",
   "pygments_lexer": "ipython3",
   "version": "3.12.4"
  }
 },
 "nbformat": 4,
 "nbformat_minor": 5
}
