{
 "cells": [
  {
   "cell_type": "markdown",
   "id": "4dda1ee5-b03e-4727-a243-fccb3c0d0bd5",
   "metadata": {},
   "source": [
    "### Exercise 93: Using a logger Object"
   ]
  },
  {
   "cell_type": "code",
   "execution_count": 1,
   "id": "dd64c860-5941-4719-9394-b30259db2762",
   "metadata": {},
   "outputs": [],
   "source": [
    "import logging"
   ]
  },
  {
   "cell_type": "code",
   "execution_count": 2,
   "id": "319b3039-c503-49b9-9335-903178c9796e",
   "metadata": {},
   "outputs": [],
   "source": [
    "logger = logging.getLogger(\"logger_name\")"
   ]
  },
  {
   "cell_type": "code",
   "execution_count": 3,
   "id": "a6958fb5-c4d3-40b5-a4c2-5b9551fb101a",
   "metadata": {},
   "outputs": [
    {
     "name": "stderr",
     "output_type": "stream",
     "text": [
      "Logging at warning\n",
      "Logging at error\n",
      "Logging at fatal\n"
     ]
    }
   ],
   "source": [
    "logger.debug(\"Logging at debug\")\n",
    "logger.info(\"Logging at info\")\n",
    "logger.warning(\"Logging at warning\")\n",
    "logger.error(\"Logging at error\")\n",
    "logger.fatal(\"Logging at fatal\")"
   ]
  },
  {
   "cell_type": "code",
   "execution_count": 4,
   "id": "27eeaf4d-5f5c-4e35-97ce-edef8f67a76b",
   "metadata": {},
   "outputs": [
    {
     "name": "stderr",
     "output_type": "stream",
     "text": [
      "0 errors reported in moon\n",
      "1 errors reported in moon\n",
      "2 errors reported in moon\n"
     ]
    }
   ],
   "source": [
    "system = \"moon\"\n",
    "for number in range(3):\n",
    "    logger.warning(\"%d errors reported in %s\", number, system)"
   ]
  },
  {
   "cell_type": "code",
   "execution_count": 5,
   "id": "e528b879-abb4-4421-b32e-d0062da444f9",
   "metadata": {},
   "outputs": [
    {
     "name": "stderr",
     "output_type": "stream",
     "text": [
      "ERROR:root:Something bad happened\n",
      "Traceback (most recent call last):\n",
      "  File \"C:\\Users\\lorra\\AppData\\Local\\Temp\\ipykernel_7480\\65779821.py\", line 2, in <module>\n",
      "    int(\"nope\")\n",
      "ValueError: invalid literal for int() with base 10: 'nope'\n"
     ]
    }
   ],
   "source": [
    "try:\n",
    "    int(\"nope\")\n",
    "except Exception:\n",
    "    logging.error(\"Something bad happened\", exc_info=True)"
   ]
  },
  {
   "cell_type": "code",
   "execution_count": null,
   "id": "429da17d-f18b-4285-998b-11b8a7afe7bd",
   "metadata": {},
   "outputs": [],
   "source": []
  }
 ],
 "metadata": {
  "kernelspec": {
   "display_name": "Python 3 (ipykernel)",
   "language": "python",
   "name": "python3"
  },
  "language_info": {
   "codemirror_mode": {
    "name": "ipython",
    "version": 3
   },
   "file_extension": ".py",
   "mimetype": "text/x-python",
   "name": "python",
   "nbconvert_exporter": "python",
   "pygments_lexer": "ipython3",
   "version": "3.12.4"
  }
 },
 "nbformat": 4,
 "nbformat_minor": 5
}
