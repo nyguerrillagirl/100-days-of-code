{
 "cells": [
  {
   "cell_type": "markdown",
   "id": "49baf1f7-8945-4d05-9c3d-03e71475ebd7",
   "metadata": {},
   "source": [
    "### Exercise 97: Using lru_cache to Speed Up Our Code"
   ]
  },
  {
   "cell_type": "code",
   "execution_count": 1,
   "id": "e9a1a24f-7c6f-467c-b37c-d0b99bad6b86",
   "metadata": {},
   "outputs": [],
   "source": [
    "import time"
   ]
  },
  {
   "cell_type": "code",
   "execution_count": 2,
   "id": "843f0a18-a0ba-4d9e-8dcb-93459c2ae516",
   "metadata": {},
   "outputs": [],
   "source": [
    "def func(x):\n",
    "    time.sleep(1)\n",
    "    print(f\"Heavy operation for {x}\")\n",
    "    return x * 10"
   ]
  },
  {
   "cell_type": "code",
   "execution_count": 3,
   "id": "e24fe9df-de64-417b-9dbb-37c2a56536c4",
   "metadata": {},
   "outputs": [
    {
     "name": "stdout",
     "output_type": "stream",
     "text": [
      "Heavy operation for 1\n",
      "func returned:  10\n",
      "Heavy operation for 1\n",
      "func returned:  10\n"
     ]
    }
   ],
   "source": [
    "print(\"func returned: \", func(1))\n",
    "print(\"func returned: \", func(1))"
   ]
  },
  {
   "cell_type": "code",
   "execution_count": 4,
   "id": "94e481ca-7c12-488e-bbd7-d798b62441f0",
   "metadata": {},
   "outputs": [],
   "source": [
    "import functools\n",
    "import time"
   ]
  },
  {
   "cell_type": "code",
   "execution_count": 5,
   "id": "084986ee-bfe6-423e-99e6-d6bda3446f64",
   "metadata": {},
   "outputs": [],
   "source": [
    "@functools.lru_cache()\n",
    "def func(x):\n",
    "    time.sleep(1)\n",
    "    print(f\"Heavy operation for {x}\")\n",
    "    return x * 10"
   ]
  },
  {
   "cell_type": "code",
   "execution_count": 6,
   "id": "31865643-97a6-468b-8d81-3706ead415b7",
   "metadata": {},
   "outputs": [
    {
     "name": "stdout",
     "output_type": "stream",
     "text": [
      "Heavy operation for 1\n",
      "func returned:  10\n",
      "func returned:  10\n",
      "Heavy operation for 2\n",
      "func returned:  20\n"
     ]
    }
   ],
   "source": [
    "print(\"func returned: \", func(1))\n",
    "print(\"func returned: \", func(1))\n",
    "print(\"func returned: \", func(2))"
   ]
  },
  {
   "cell_type": "code",
   "execution_count": 7,
   "id": "a27a4696-02d7-43e3-97c0-c2ac4827caca",
   "metadata": {},
   "outputs": [],
   "source": [
    "@functools.lru_cache(maxsize=2)\n",
    "def func(x):\n",
    "    time.sleep(1)\n",
    "    print(f\"Heavy operation for {x}\")\n",
    "    return x * 10"
   ]
  },
  {
   "cell_type": "code",
   "execution_count": 8,
   "id": "0ed9aac6-9fa4-4978-88dc-879daa557ff5",
   "metadata": {},
   "outputs": [
    {
     "name": "stdout",
     "output_type": "stream",
     "text": [
      "Heavy operation for 1\n",
      "Func returned: 10\n",
      "Heavy operation for 2\n",
      "Func returned: 20\n",
      "Heavy operation for 3\n",
      "Func returned: 30\n",
      "Func returned: 30\n",
      "Func returned: 20\n",
      "Heavy operation for 1\n",
      "Func returned: 10\n"
     ]
    }
   ],
   "source": [
    "print(\"Func returned:\", func(1))\n",
    "print(\"Func returned:\", func(2))\n",
    "print(\"Func returned:\", func(3))\n",
    "print(\"Func returned:\", func(3))\n",
    "print(\"Func returned:\", func(2))\n",
    "print(\"Func returned:\", func(1))"
   ]
  },
  {
   "cell_type": "code",
   "execution_count": 9,
   "id": "afa71c17-953c-478e-8bbf-e8ddc7b426fb",
   "metadata": {},
   "outputs": [],
   "source": [
    "import functools\n",
    "import time\n",
    "def func(x):\n",
    "    time.sleep(1)\n",
    "    print(f\"Heavy operation for {x}\")\n",
    "    return x * 10"
   ]
  },
  {
   "cell_type": "code",
   "execution_count": 10,
   "id": "0546a3f5-412f-4775-9e7e-6f3f52836076",
   "metadata": {},
   "outputs": [],
   "source": [
    "cached_func = functools.lru_cache()(func)"
   ]
  },
  {
   "cell_type": "code",
   "execution_count": 11,
   "id": "5dda153f-8a4a-4979-9255-db381166f123",
   "metadata": {},
   "outputs": [
    {
     "name": "stdout",
     "output_type": "stream",
     "text": [
      "Heavy operation for 1\n",
      "Cached func returned: 10\n",
      "Cached func returned: 10\n",
      "Heavy operation for 1\n",
      "Func returned: 10\n",
      "Heavy operation for 1\n",
      "Func returned: 10\n"
     ]
    }
   ],
   "source": [
    "print(\"Cached func returned:\", cached_func(1))\n",
    "print(\"Cached func returned:\", cached_func(1))\n",
    "print(\"Func returned:\", func(1))\n",
    "print(\"Func returned:\", func(1))"
   ]
  },
  {
   "cell_type": "markdown",
   "id": "41847ea6-1330-466e-9cbd-8d441a669382",
   "metadata": {},
   "source": [
    "### Partial"
   ]
  },
  {
   "cell_type": "code",
   "execution_count": 12,
   "id": "e5225031-7eb2-475c-b6fa-f6973a27811c",
   "metadata": {},
   "outputs": [],
   "source": [
    "def func(x, y, z):\n",
    "    print(\"x:\", x)\n",
    "    print(\"y:\", y)\n",
    "    print(\"z:\", z)"
   ]
  },
  {
   "cell_type": "code",
   "execution_count": 13,
   "id": "64eb6838-4bbe-43ab-9536-b8e1b61459af",
   "metadata": {},
   "outputs": [
    {
     "name": "stdout",
     "output_type": "stream",
     "text": [
      "x: 1\n",
      "y: 2\n",
      "z: 3\n"
     ]
    }
   ],
   "source": [
    "func(1,2,3)"
   ]
  },
  {
   "cell_type": "code",
   "execution_count": 14,
   "id": "8b7dcc69-ff57-4431-9d7f-9690c6ff0fbe",
   "metadata": {},
   "outputs": [],
   "source": [
    "# Use partial to transform this function to take fewer arguments\n",
    "import functools\n",
    "new_func = functools.partial(func, z='Wops')"
   ]
  },
  {
   "cell_type": "code",
   "execution_count": 15,
   "id": "091de6c4-8f7a-4cd3-a7cb-cc7e4cdadb87",
   "metadata": {},
   "outputs": [
    {
     "name": "stdout",
     "output_type": "stream",
     "text": [
      "x: 1\n",
      "y: 2\n",
      "z: Wops\n"
     ]
    }
   ],
   "source": [
    "new_func(1,2)"
   ]
  },
  {
   "cell_type": "code",
   "execution_count": 16,
   "id": "9926ccfa-5190-4961-b746-631d6267b2aa",
   "metadata": {},
   "outputs": [],
   "source": [
    "# Using positional only the arguments will bind from left to right\n",
    "import functools\n",
    "new_func = functools.partial(func, 'Wops')"
   ]
  },
  {
   "cell_type": "code",
   "execution_count": 17,
   "id": "4db552b0-c966-4f1a-8502-fbfc4c0f4be2",
   "metadata": {},
   "outputs": [
    {
     "name": "stdout",
     "output_type": "stream",
     "text": [
      "x: Wops\n",
      "y: 1\n",
      "z: 2\n"
     ]
    }
   ],
   "source": [
    "new_func(1,2)"
   ]
  },
  {
   "cell_type": "code",
   "execution_count": null,
   "id": "8efe586f-5891-4f76-8b9d-4f8bab780669",
   "metadata": {},
   "outputs": [],
   "source": []
  }
 ],
 "metadata": {
  "kernelspec": {
   "display_name": "Python 3 (ipykernel)",
   "language": "python",
   "name": "python3"
  },
  "language_info": {
   "codemirror_mode": {
    "name": "ipython",
    "version": 3
   },
   "file_extension": ".py",
   "mimetype": "text/x-python",
   "name": "python",
   "nbconvert_exporter": "python",
   "pygments_lexer": "ipython3",
   "version": "3.12.4"
  }
 },
 "nbformat": 4,
 "nbformat_minor": 5
}
