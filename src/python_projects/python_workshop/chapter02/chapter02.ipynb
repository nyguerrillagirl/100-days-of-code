{
 "cells": [
  {
   "cell_type": "code",
   "execution_count": 1,
   "id": "6c521128-95a7-445a-b455-d921e81b0ca9",
   "metadata": {},
   "outputs": [],
   "source": [
    "todo = [\"pick up laundry\", \"buy Groceries\", \"pay electric bills\"]"
   ]
  },
  {
   "cell_type": "code",
   "execution_count": 2,
   "id": "a52ab3f9-8232-4eb4-af91-85de128d6290",
   "metadata": {},
   "outputs": [
    {
     "name": "stdout",
     "output_type": "stream",
     "text": [
      "['pick up laundry', 'buy Groceries', 'pay electric bills']\n"
     ]
    }
   ],
   "source": [
    "print(todo)"
   ]
  },
  {
   "cell_type": "code",
   "execution_count": 3,
   "id": "d5d9a999-3f60-4138-a21a-eed747b8d557",
   "metadata": {},
   "outputs": [],
   "source": [
    "User = {\n",
    "    \"first_name\" : \"Jack\",\n",
    "    \"last_name\" : \"White\",\n",
    "    \"age\" : 41,\n",
    "    \"email\" : \"jack.white@gmail.com\"\n",
    "}"
   ]
  },
  {
   "cell_type": "code",
   "execution_count": 4,
   "id": "c28aaa80-02e4-4a4e-b3c9-39b2df3134ab",
   "metadata": {},
   "outputs": [
    {
     "name": "stdout",
     "output_type": "stream",
     "text": [
      "{'first_name': 'Jack', 'last_name': 'White', 'age': 41, 'email': 'jack.white@gmail.com'}\n"
     ]
    }
   ],
   "source": [
    "print(User)"
   ]
  },
  {
   "cell_type": "code",
   "execution_count": 5,
   "id": "6319e13b-c943-464b-96d9-3b99af559c33",
   "metadata": {},
   "outputs": [],
   "source": [
    "mixed_list = [\"one\", 2, 3.0]"
   ]
  },
  {
   "cell_type": "code",
   "execution_count": 6,
   "id": "75b242eb-ddf6-4818-b906-960b999847d6",
   "metadata": {},
   "outputs": [
    {
     "name": "stdout",
     "output_type": "stream",
     "text": [
      "['one', 2, 3.0]\n"
     ]
    }
   ],
   "source": [
    "print(mixed_list)"
   ]
  },
  {
   "cell_type": "markdown",
   "id": "49a1bd0b-20bc-497c-9373-173fd7723b53",
   "metadata": {},
   "source": [
    "### Exercise 21: Working with Python Lists"
   ]
  },
  {
   "cell_type": "code",
   "execution_count": 7,
   "id": "fffda329-110e-464d-98b7-4e4416b68277",
   "metadata": {},
   "outputs": [
    {
     "name": "stdout",
     "output_type": "stream",
     "text": [
      "['bread', 'milk', 'eggs']\n"
     ]
    }
   ],
   "source": [
    "shopping = [\"bread\", \"milk\", \"eggs\"]\n",
    "print(shopping)"
   ]
  },
  {
   "cell_type": "code",
   "execution_count": 8,
   "id": "34296bda-6bbc-41b6-bc7e-2adb70c2d0ec",
   "metadata": {},
   "outputs": [
    {
     "name": "stdout",
     "output_type": "stream",
     "text": [
      "bread\n",
      "milk\n",
      "eggs\n"
     ]
    }
   ],
   "source": [
    "for item in shopping:\n",
    "    print(item)"
   ]
  },
  {
   "cell_type": "code",
   "execution_count": 9,
   "id": "bdb1fae3-7309-480c-8453-e432f2c09caf",
   "metadata": {},
   "outputs": [
    {
     "name": "stdout",
     "output_type": "stream",
     "text": [
      "[365, 'days', True]\n"
     ]
    }
   ],
   "source": [
    "mixed = [365, \"days\", True]\n",
    "print(mixed)"
   ]
  },
  {
   "cell_type": "markdown",
   "id": "90551260-8285-4fc0-a59c-73f5ca3a0f9a",
   "metadata": {},
   "source": [
    "### Exercise 22: Using a Nested List to Store Data from a Matrix"
   ]
  },
  {
   "cell_type": "code",
   "execution_count": 10,
   "id": "61ecbdd8-280d-4855-bd09-aef6b5682e94",
   "metadata": {},
   "outputs": [],
   "source": [
    "m = [ [1, 2, 3], [4,5,6]]"
   ]
  },
  {
   "cell_type": "code",
   "execution_count": 12,
   "id": "bd904538-ff78-445d-b8f7-2feb500d4468",
   "metadata": {},
   "outputs": [
    {
     "name": "stdout",
     "output_type": "stream",
     "text": [
      "5\n"
     ]
    }
   ],
   "source": [
    "# [row]pcolumn]\n",
    "print(m[1][1])"
   ]
  },
  {
   "cell_type": "code",
   "execution_count": 13,
   "id": "6cd3873d-9ea3-49b3-abf0-c406c5aa5e7f",
   "metadata": {},
   "outputs": [
    {
     "name": "stdout",
     "output_type": "stream",
     "text": [
      "1\n",
      "2\n",
      "3\n",
      "4\n",
      "5\n",
      "6\n"
     ]
    }
   ],
   "source": [
    "for i in range(len(m)):\n",
    "    for j in range(len(m[i])):\n",
    "        print(m[i][j])"
   ]
  },
  {
   "cell_type": "code",
   "execution_count": 14,
   "id": "e4e18082-4a8a-4e4b-ad37-b35cd913ddff",
   "metadata": {},
   "outputs": [
    {
     "name": "stdout",
     "output_type": "stream",
     "text": [
      "1\n",
      "2\n",
      "3\n",
      "4\n",
      "5\n",
      "6\n"
     ]
    }
   ],
   "source": [
    "for row in m:\n",
    "    for col in row:\n",
    "        print(col)"
   ]
  },
  {
   "cell_type": "code",
   "execution_count": 15,
   "id": "93da025b-60ce-4ebf-aabb-95368fe54c93",
   "metadata": {},
   "outputs": [
    {
     "name": "stdout",
     "output_type": "stream",
     "text": [
      "[1, 2, 3]\n",
      "[4, 5, 6]\n"
     ]
    }
   ],
   "source": [
    "for row in m:\n",
    "    print(row)"
   ]
  },
  {
   "cell_type": "markdown",
   "id": "e8484f33-418e-41d2-a443-a0acea2f82c4",
   "metadata": {},
   "source": [
    "# Activity 6: Using a Nested List to Store Employee Data"
   ]
  },
  {
   "cell_type": "code",
   "execution_count": 16,
   "id": "4ec28979-eecb-4c61-afd7-8c7946ac5959",
   "metadata": {},
   "outputs": [],
   "source": [
    "name_index, age_index, dept_index = 0, 1, 2"
   ]
  },
  {
   "cell_type": "code",
   "execution_count": 17,
   "id": "6ec29cc5-31c7-444a-bc14-3be82f0438b9",
   "metadata": {},
   "outputs": [],
   "source": [
    "employees = [ [\"John McKee\", 38, \"Sales\"], [\"Lisa Crawford\", 29, \"Marketing\"], [\"Sujan Patel\", 33, \"HR\"]]"
   ]
  },
  {
   "cell_type": "code",
   "execution_count": 18,
   "id": "a982900b-356c-4488-bbec-25f2c766f7a6",
   "metadata": {},
   "outputs": [
    {
     "name": "stdout",
     "output_type": "stream",
     "text": [
      "[['John McKee', 38, 'Sales'], ['Lisa Crawford', 29, 'Marketing'], ['Sujan Patel', 33, 'HR']]\n"
     ]
    }
   ],
   "source": [
    "print (employees)"
   ]
  },
  {
   "cell_type": "code",
   "execution_count": 20,
   "id": "763e63dc-c2b9-4b56-8c80-2bec986502f0",
   "metadata": {},
   "outputs": [
    {
     "name": "stdout",
     "output_type": "stream",
     "text": [
      "['John McKee', 38, 'Sales']\n",
      "['Lisa Crawford', 29, 'Marketing']\n",
      "['Sujan Patel', 33, 'HR']\n"
     ]
    }
   ],
   "source": [
    "for employee in employees:\n",
    "    print(employee)"
   ]
  },
  {
   "cell_type": "code",
   "execution_count": 21,
   "id": "b7e30cae-8985-4ac5-96ff-b77472d50b47",
   "metadata": {},
   "outputs": [
    {
     "name": "stdout",
     "output_type": "stream",
     "text": [
      "['John McKee', 38, 'Sales']\n",
      "Name: John McKee\n",
      "Age: 38\n",
      "Department: Sales\n",
      "['Lisa Crawford', 29, 'Marketing']\n",
      "Name: Lisa Crawford\n",
      "Age: 29\n",
      "Department: Marketing\n",
      "['Sujan Patel', 33, 'HR']\n",
      "Name: Sujan Patel\n",
      "Age: 33\n",
      "Department: HR\n"
     ]
    }
   ],
   "source": [
    "for employee in employees:\n",
    "    print(employee)\n",
    "    print(\"Name:\",employee[name_index])\n",
    "    print(\"Age:\", employee[age_index])\n",
    "    print(\"Department:\", employee[dept_index])"
   ]
  },
  {
   "cell_type": "code",
   "execution_count": 22,
   "id": "e0dcb1d3-0f3d-45d3-9f52-b37ce23475a3",
   "metadata": {},
   "outputs": [
    {
     "name": "stdout",
     "output_type": "stream",
     "text": [
      "['Lisa Crawford', 29, 'Marketing']\n",
      "Name: Lisa Crawford\n",
      "Age: 29\n",
      "Department: Marketing\n"
     ]
    }
   ],
   "source": [
    "    print(employees[1])\n",
    "    print(\"Name:\",employees[1][name_index])\n",
    "    print(\"Age:\", employees[1][age_index])\n",
    "    print(\"Department:\", employees[1][dept_index])"
   ]
  },
  {
   "cell_type": "markdown",
   "id": "6cda3e5c-0053-4a31-907b-800732be9c52",
   "metadata": {},
   "source": [
    "### Excerise 23: Implementing Matrix Operations (Addition and Subtraction)"
   ]
  },
  {
   "cell_type": "code",
   "execution_count": 23,
   "id": "05a3ca65-311a-44b1-b268-0a1b89ab39b6",
   "metadata": {},
   "outputs": [],
   "source": [
    "X = [ [1, 2, 3], [4, 5, 6], [7, 8, 9]]\n",
    "Y = [ [10, 11, 12], [13, 14, 15], [16, 17, 18] ]"
   ]
  },
  {
   "cell_type": "code",
   "execution_count": 24,
   "id": "8595ef72-d250-4fc9-9e00-76caa9c7b10b",
   "metadata": {},
   "outputs": [],
   "source": [
    "result = [ [0,0,0], [0,0,0], [0,0,0] ]"
   ]
  },
  {
   "cell_type": "code",
   "execution_count": 26,
   "id": "7005ee06-f3dc-4796-86a2-3b4490716ace",
   "metadata": {},
   "outputs": [
    {
     "name": "stdout",
     "output_type": "stream",
     "text": [
      "[[11, 13, 15], [17, 19, 21], [23, 25, 27]]\n"
     ]
    }
   ],
   "source": [
    "# iterate through rows\n",
    "for i in range(len(X)):\n",
    "    # iterate through the columns\n",
    "    for j in range(len(X[0])):\n",
    "        result[i][j] = X[i][j] + Y[i][j]\n",
    "\n",
    "print(result)"
   ]
  },
  {
   "cell_type": "code",
   "execution_count": 28,
   "id": "5cd47ee7-b7e8-43a6-b319-faf3196275bc",
   "metadata": {},
   "outputs": [
    {
     "name": "stdout",
     "output_type": "stream",
     "text": [
      "[[9, 9, 9], [9, 9, 9], [9, 9, 9]]\n"
     ]
    }
   ],
   "source": [
    "# Do subtraction\n",
    "X = [ [10, 11, 12], [13, 14, 15], [16, 17, 18] ]\n",
    "Y = [ [1, 2, 3], [4, 5, 6], [7, 8, 9]]\n",
    "result = [ [0,0,0], [0,0,0], [0,0,0] ]\n",
    "# iterate through rows\n",
    "for i in range(len(X)):\n",
    "    # iterate through the columns\n",
    "    for j in range(len(X[0])):\n",
    "        result[i][j] = X[i][j] - Y[i][j]\n",
    "\n",
    "print(result)"
   ]
  },
  {
   "cell_type": "markdown",
   "id": "cc793f3a-0940-42a0-b4cc-2f6cfe2c7c91",
   "metadata": {},
   "source": [
    "### Exercise 24: Implementing Matrix Operations (Multiplication)"
   ]
  },
  {
   "cell_type": "code",
   "execution_count": 29,
   "id": "a01fcd1d-5f17-41ea-b5e3-3ca384f4128b",
   "metadata": {},
   "outputs": [],
   "source": [
    "X = [ [1,2], [4,5], [3,6] ]\n",
    "Y = [ [1,2,3,4], [5,6,7,8] ]"
   ]
  },
  {
   "cell_type": "code",
   "execution_count": 30,
   "id": "48a3582c-8965-47e6-a7cd-e86683105168",
   "metadata": {},
   "outputs": [],
   "source": [
    "result = [ [0,0,0,0], [0,0,0,0], [0,0,0,0] ]"
   ]
  },
  {
   "cell_type": "code",
   "execution_count": 32,
   "id": "af38bf26-5268-4de6-b6c3-2ba6f1f27dab",
   "metadata": {},
   "outputs": [],
   "source": [
    "# implement the matrix multiplication algorithm to compute the result:\n",
    "# iterating by row X\n",
    "for i in range(len(X)):\n",
    "    # iterating by column by Y\n",
    "    for j in range(len(Y[0])):\n",
    "\n",
    "        #iterating by rows of Y\n",
    "        for k in range(len(Y)):\n",
    "            result[i][j] += X[i][k] * Y[k][j]"
   ]
  },
  {
   "cell_type": "code",
   "execution_count": 33,
   "id": "41bf6097-ed89-4407-81e0-e46a1973fa20",
   "metadata": {},
   "outputs": [
    {
     "name": "stdout",
     "output_type": "stream",
     "text": [
      "[11, 14, 17, 20]\n",
      "[29, 38, 47, 56]\n",
      "[33, 42, 51, 60]\n"
     ]
    }
   ],
   "source": [
    "for r in result:\n",
    "    print(r)"
   ]
  },
  {
   "cell_type": "markdown",
   "id": "e506b0a4-bb67-43c8-8596-3fb0bfe091fc",
   "metadata": {},
   "source": [
    "### Exercise 25: Basic List Operations"
   ]
  },
  {
   "cell_type": "code",
   "execution_count": 34,
   "id": "49faf908-61dc-4e31-8db6-ead090a3b613",
   "metadata": {},
   "outputs": [],
   "source": [
    "shopping = [\"bread\", \"milk\", \"eggs\"]"
   ]
  },
  {
   "cell_type": "code",
   "execution_count": 35,
   "id": "483c6719-dcbe-43de-9d8c-fb02b983ce53",
   "metadata": {},
   "outputs": [
    {
     "name": "stdout",
     "output_type": "stream",
     "text": [
      "3\n"
     ]
    }
   ],
   "source": [
    "print(len(shopping))"
   ]
  },
  {
   "cell_type": "code",
   "execution_count": 36,
   "id": "838289a7-34b8-419c-8a69-b4fd92a4cff8",
   "metadata": {},
   "outputs": [
    {
     "name": "stdout",
     "output_type": "stream",
     "text": [
      "[1, 2, 3, 4, 5, 6]\n"
     ]
    }
   ],
   "source": [
    "list1 = [1,2,3]\n",
    "list2 = [4,5,6]\n",
    "final_list = list1 + list2\n",
    "print(final_list)"
   ]
  },
  {
   "cell_type": "code",
   "execution_count": 37,
   "id": "4a9c6293-41de-4064-ab5c-3583becc9eda",
   "metadata": {},
   "outputs": [
    {
     "name": "stdout",
     "output_type": "stream",
     "text": [
      "['oi', 'oi', 'oi']\n"
     ]
    }
   ],
   "source": [
    "list3 = ['oi']\n",
    "print(list3*3)"
   ]
  },
  {
   "cell_type": "markdown",
   "id": "9bc02c3c-2b8a-4847-aee7-5916afd590ea",
   "metadata": {},
   "source": [
    "### Exercise 26: Accessing an Item from Shopping List Data"
   ]
  },
  {
   "cell_type": "code",
   "execution_count": 38,
   "id": "94c241a7-3c30-472a-b4c7-d10e8331eba1",
   "metadata": {},
   "outputs": [
    {
     "name": "stdout",
     "output_type": "stream",
     "text": [
      "milk\n"
     ]
    }
   ],
   "source": [
    "shopping = [\"bread\", \"milk\", \"eggs\"]\n",
    "print(shopping[1])"
   ]
  },
  {
   "cell_type": "code",
   "execution_count": 39,
   "id": "c6f0159d-83ce-4d1f-9bee-10b96998ddd7",
   "metadata": {},
   "outputs": [
    {
     "name": "stdout",
     "output_type": "stream",
     "text": [
      "['bread', 'banana', 'eggs']\n"
     ]
    }
   ],
   "source": [
    "shopping[1] = \"banana\"\n",
    "print(shopping)"
   ]
  },
  {
   "cell_type": "code",
   "execution_count": 40,
   "id": "4be75159-4ebc-43ef-963c-2f93acb11aac",
   "metadata": {},
   "outputs": [
    {
     "name": "stdout",
     "output_type": "stream",
     "text": [
      "eggs\n"
     ]
    }
   ],
   "source": [
    "print(shopping[-1])"
   ]
  },
  {
   "cell_type": "code",
   "execution_count": 41,
   "id": "56bd59e7-4aa0-49e0-b657-0d4e96086c54",
   "metadata": {},
   "outputs": [
    {
     "name": "stdout",
     "output_type": "stream",
     "text": [
      "['bread', 'banana']\n"
     ]
    }
   ],
   "source": [
    "print(shopping[0:2])"
   ]
  },
  {
   "cell_type": "code",
   "execution_count": 42,
   "id": "24d2e748-196c-4a09-bdd6-28c0fc0e6f4c",
   "metadata": {},
   "outputs": [
    {
     "name": "stdout",
     "output_type": "stream",
     "text": [
      "['bread', 'banana', 'eggs']\n"
     ]
    }
   ],
   "source": [
    "print(shopping[:3])"
   ]
  },
  {
   "cell_type": "code",
   "execution_count": 43,
   "id": "31c86de1-503c-47d1-bd4d-e3bd81d495c2",
   "metadata": {},
   "outputs": [
    {
     "name": "stdout",
     "output_type": "stream",
     "text": [
      "['bread', 'banana', 'eggs']\n"
     ]
    }
   ],
   "source": [
    "print(shopping[:10])"
   ]
  },
  {
   "cell_type": "code",
   "execution_count": 44,
   "id": "b347ab14-4dde-48f5-9155-1947e54a3414",
   "metadata": {},
   "outputs": [
    {
     "name": "stdout",
     "output_type": "stream",
     "text": [
      "['banana', 'eggs']\n"
     ]
    }
   ],
   "source": [
    "print(shopping[1:])"
   ]
  },
  {
   "cell_type": "markdown",
   "id": "fee47fa2-5339-406d-a7d6-5f5dd00a949e",
   "metadata": {},
   "source": [
    "### Exercise 27: Adding Items to Our Shopping List"
   ]
  },
  {
   "cell_type": "code",
   "execution_count": 45,
   "id": "ec3f46ab-4390-462b-ac4c-432f760025ff",
   "metadata": {},
   "outputs": [
    {
     "name": "stdout",
     "output_type": "stream",
     "text": [
      "['bread', 'milk', 'eggs', 'apple']\n"
     ]
    }
   ],
   "source": [
    "shopping = [\"bread\", \"milk\", \"eggs\"]\n",
    "shopping.append(\"apple\")\n",
    "print(shopping)"
   ]
  },
  {
   "cell_type": "code",
   "execution_count": 46,
   "id": "86f50b74-67fb-49eb-ac7b-85a2e0b5c277",
   "metadata": {},
   "outputs": [
    {
     "name": "stdout",
     "output_type": "stream",
     "text": [
      "['bread', 'milk', 'eggs', 'apple']\n"
     ]
    }
   ],
   "source": [
    "shopping = []\n",
    "shopping.append('bread')\n",
    "shopping.append('milk')\n",
    "shopping.append('eggs')\n",
    "shopping.append('apple')\n",
    "print(shopping)"
   ]
  },
  {
   "cell_type": "code",
   "execution_count": 47,
   "id": "31b02305-9aac-4d20-b99e-eb04cce97b02",
   "metadata": {},
   "outputs": [
    {
     "name": "stdout",
     "output_type": "stream",
     "text": [
      "['bread', 'milk', 'ham', 'eggs', 'apple']\n"
     ]
    }
   ],
   "source": [
    "shopping.insert(2, 'ham')\n",
    "print(shopping)"
   ]
  },
  {
   "cell_type": "markdown",
   "id": "b60b97cf-5ed7-4f1a-9773-a5c46b7e704f",
   "metadata": {},
   "source": [
    "### Exercise 28: Using a Dictionary to Store a Movie Record"
   ]
  },
  {
   "cell_type": "code",
   "execution_count": 48,
   "id": "9ea5e664-7531-4338-a65e-99653b443530",
   "metadata": {},
   "outputs": [],
   "source": [
    "movie = {\n",
    "    \"title\" : \"The Godfather\",\n",
    "    \"directory\" : \"Francis Ford Coppola\",\n",
    "    \"year\" : 1972,\n",
    "    \"rating\" : 9.2\n",
    "}"
   ]
  },
  {
   "cell_type": "code",
   "execution_count": 49,
   "id": "f0c7e429-76da-4250-b260-26cc911ca427",
   "metadata": {},
   "outputs": [
    {
     "name": "stdout",
     "output_type": "stream",
     "text": [
      "1972\n"
     ]
    }
   ],
   "source": [
    "print(movie['year'])"
   ]
  },
  {
   "cell_type": "code",
   "execution_count": 50,
   "id": "564b248d-27cd-4422-ab28-24fd9283d04d",
   "metadata": {},
   "outputs": [
    {
     "name": "stdout",
     "output_type": "stream",
     "text": [
      "9.25\n"
     ]
    }
   ],
   "source": [
    "movie['rating'] = (movie['rating'] + 9.3)/2\n",
    "print(movie['rating'])"
   ]
  },
  {
   "cell_type": "code",
   "execution_count": 51,
   "id": "8a92f68d-2732-483e-9b1a-21139e09d231",
   "metadata": {},
   "outputs": [],
   "source": [
    "movie = {}\n",
    "movie['title'] = 'The Godfather'\n",
    "movie['director'] = 'Francis Ford Coppola'\n",
    "movie['year'] = 1972\n",
    "movie['rating'] = 9.2"
   ]
  },
  {
   "cell_type": "code",
   "execution_count": 52,
   "id": "edeea97e-df04-47e8-877b-85dbf6e89833",
   "metadata": {},
   "outputs": [
    {
     "name": "stdout",
     "output_type": "stream",
     "text": [
      "{'title': 'The Godfather', 'director': 'Francis Ford Coppola', 'year': 1972, 'rating': 9.2}\n"
     ]
    }
   ],
   "source": [
    "print(movie)"
   ]
  },
  {
   "cell_type": "code",
   "execution_count": 53,
   "id": "737afa93-0ad2-47ef-bdb2-4f5a02068791",
   "metadata": {},
   "outputs": [
    {
     "name": "stdout",
     "output_type": "stream",
     "text": [
      "{'title': 'The Godfather', 'director': 'Francis Ford Coppola', 'year': 1972, 'rating': 9.2, 'actors': ['Marlon Brando', 'Al Pacino', 'James Caan'], 'other_details': {'runtime': 175, 'language': 'English'}}\n"
     ]
    }
   ],
   "source": [
    "movie['actors'] = ['Marlon Brando', 'Al Pacino', 'James Caan']\n",
    "movie['other_details'] = {\n",
    "    'runtime' : 175,\n",
    "    'language' : 'English'\n",
    "}\n",
    "print(movie)"
   ]
  },
  {
   "cell_type": "markdown",
   "id": "602e4964-9a85-4aec-a770-29c712dd3358",
   "metadata": {},
   "source": [
    "# Activity 7: Storing Company Employee Table Data Using a List and a Dictionary"
   ]
  },
  {
   "cell_type": "code",
   "execution_count": 55,
   "id": "3f8804c2-c4d9-4d3d-a306-ef56a98b6af9",
   "metadata": {},
   "outputs": [
    {
     "name": "stdout",
     "output_type": "stream",
     "text": [
      "[{'name': 'John Mckee', 'age': 38, 'department': 'Sales'}, {'name': 'Lisa Crawford', 'age': 29, 'department': 'Marketing'}, {'name': 'Sujan Patel', 'age': 33, 'department': 'HR'}]\n"
     ]
    }
   ],
   "source": [
    "employees = []\n",
    "employees.append( {\n",
    "    \"name\" : \"John Mckee\",\n",
    "    \"age\" : 38,\n",
    "    \"department\" : \"Sales\"\n",
    "})\n",
    "employees.append( {\n",
    "    \"name\" : \"Lisa Crawford\",\n",
    "    \"age\" : 29,\n",
    "    \"department\" : \"Marketing\"\n",
    "});\n",
    "employees.append( {\n",
    "    \"name\" : \"Sujan Patel\",\n",
    "    \"age\" : 33,\n",
    "    \"department\" : \"HR\"\n",
    "})\n",
    "print(employees)"
   ]
  },
  {
   "cell_type": "code",
   "execution_count": 56,
   "id": "03ec529e-ae5f-4fc7-a88a-8340d5579ed3",
   "metadata": {},
   "outputs": [
    {
     "name": "stdout",
     "output_type": "stream",
     "text": [
      "Name: John Mckee\n",
      "Age: 38\n",
      "Department: Sales\n",
      "------------------------------------\n",
      "Name: Lisa Crawford\n",
      "Age: 29\n",
      "Department: Marketing\n",
      "------------------------------------\n",
      "Name: Sujan Patel\n",
      "Age: 33\n",
      "Department: HR\n",
      "------------------------------------\n"
     ]
    }
   ],
   "source": [
    "for employee in employees:\n",
    "    print(\"Name:\", employee['name'])\n",
    "    print(\"Age:\", employee['age'])\n",
    "    print(\"Department:\", employee['department'])\n",
    "    print(\"------------------------------------\")\n",
    "    "
   ]
  },
  {
   "cell_type": "markdown",
   "id": "c98d0148-49a5-46dd-871a-2011f9f9a55d",
   "metadata": {},
   "source": [
    "### Excercise 29: Using the zip() Method to Manipluate Dictionaries"
   ]
  },
  {
   "cell_type": "code",
   "execution_count": 57,
   "id": "b3efbcb1-b8a9-4c90-a197-c5707386744d",
   "metadata": {},
   "outputs": [],
   "source": [
    "items = ['apple', 'orange', 'banana']\n",
    "quantity = [5,3,2]"
   ]
  },
  {
   "cell_type": "code",
   "execution_count": 58,
   "id": "70bb4e76-6ef0-41a4-ab10-f1f0eaa06962",
   "metadata": {},
   "outputs": [
    {
     "name": "stdout",
     "output_type": "stream",
     "text": [
      "<zip object at 0x00000286E8229E80>\n"
     ]
    }
   ],
   "source": [
    "orders = zip(items, quantity)\n",
    "print(orders)"
   ]
  },
  {
   "cell_type": "code",
   "execution_count": 59,
   "id": "8d2f8c3c-b002-48de-8e77-eff52ad217d8",
   "metadata": {},
   "outputs": [
    {
     "name": "stdout",
     "output_type": "stream",
     "text": [
      "[('apple', 5), ('orange', 3), ('banana', 2)]\n"
     ]
    }
   ],
   "source": [
    "orders = zip(items, quantity)\n",
    "print(list(orders))"
   ]
  },
  {
   "cell_type": "code",
   "execution_count": 60,
   "id": "2d0c0ee3-12fe-45df-8085-705a8259f5ba",
   "metadata": {},
   "outputs": [
    {
     "name": "stdout",
     "output_type": "stream",
     "text": [
      "(('apple', 5), ('orange', 3), ('banana', 2))\n"
     ]
    }
   ],
   "source": [
    "orders = zip(items, quantity)\n",
    "print(tuple(orders))"
   ]
  },
  {
   "cell_type": "code",
   "execution_count": 61,
   "id": "4ad5026b-a532-40b0-ad49-442503ac5741",
   "metadata": {},
   "outputs": [
    {
     "name": "stdout",
     "output_type": "stream",
     "text": [
      "{'apple': 5, 'orange': 3, 'banana': 2}\n"
     ]
    }
   ],
   "source": [
    "orders = zip(items, quantity)\n",
    "print(dict(orders))"
   ]
  },
  {
   "cell_type": "markdown",
   "id": "a3abd034-0c90-4559-a9ae-3023cf1228fd",
   "metadata": {},
   "source": [
    "### Exercise 30: Accessing a Dictionary Using Dictionary Methods"
   ]
  },
  {
   "cell_type": "code",
   "execution_count": 1,
   "id": "61bb9128-52a7-4031-a0d6-a83fdae825a6",
   "metadata": {},
   "outputs": [
    {
     "name": "stdout",
     "output_type": "stream",
     "text": [
      "dict_values([5, 3, 2])\n",
      "[5, 3, 2]\n"
     ]
    }
   ],
   "source": [
    "orders = {'apple': 5, 'orange': 3, 'banana':2}\n",
    "print(orders.values())\n",
    "print(list(orders.values()))"
   ]
  },
  {
   "cell_type": "code",
   "execution_count": 2,
   "id": "1feb074c-bb6e-4cbb-8404-e27a1e008a27",
   "metadata": {},
   "outputs": [
    {
     "name": "stdout",
     "output_type": "stream",
     "text": [
      "['apple', 'orange', 'banana']\n"
     ]
    }
   ],
   "source": [
    "print(list(orders.keys()))"
   ]
  },
  {
   "cell_type": "code",
   "execution_count": 3,
   "id": "b79a4de2-b411-44a3-a991-c6db2d1d5db0",
   "metadata": {},
   "outputs": [
    {
     "name": "stdout",
     "output_type": "stream",
     "text": [
      "('apple', 5)\n",
      "('orange', 3)\n",
      "('banana', 2)\n"
     ]
    }
   ],
   "source": [
    "for tuple in list(orders.items()):\n",
    "    print(tuple)"
   ]
  },
  {
   "cell_type": "code",
   "execution_count": 4,
   "id": "c29816b5-befc-40f2-8943-d16ab2f5ea33",
   "metadata": {},
   "outputs": [],
   "source": [
    "weekdays_list = ['Monday', 'Tuesday', 'Wednesday', 'Thursday', 'Friday', 'Saturday', 'Sunday']"
   ]
  },
  {
   "cell_type": "code",
   "execution_count": 6,
   "id": "d28d0fc2-51cf-4eb1-8dff-9e31ceb0853d",
   "metadata": {},
   "outputs": [],
   "source": [
    "weekdays_tuple = ('Monday', 'Tuesday', 'Wednesday', 'Thursday', 'Friday', 'Saturday', 'Sunday')"
   ]
  },
  {
   "cell_type": "markdown",
   "id": "2e25eab5-b577-46a5-afd2-8f9500f4dc53",
   "metadata": {},
   "source": [
    "### Exercise 31: Exploring Tuple Properties in Our Shopping List"
   ]
  },
  {
   "cell_type": "code",
   "execution_count": 7,
   "id": "5139bf7d-0fae-4155-b25f-7e742cb121e5",
   "metadata": {},
   "outputs": [
    {
     "name": "stdout",
     "output_type": "stream",
     "text": [
      "3\n"
     ]
    }
   ],
   "source": [
    "t = ('bread', 'milk', 'eggs')\n",
    "print(len(t))"
   ]
  },
  {
   "cell_type": "code",
   "execution_count": 8,
   "id": "74168790-ffde-4166-b00b-186f4e8a85f3",
   "metadata": {},
   "outputs": [
    {
     "ename": "AttributeError",
     "evalue": "'tuple' object has no attribute 'append'",
     "output_type": "error",
     "traceback": [
      "\u001b[1;31m---------------------------------------------------------------------------\u001b[0m",
      "\u001b[1;31mAttributeError\u001b[0m                            Traceback (most recent call last)",
      "Cell \u001b[1;32mIn[8], line 1\u001b[0m\n\u001b[1;32m----> 1\u001b[0m t\u001b[38;5;241m.\u001b[39mappend(\u001b[38;5;124m'\u001b[39m\u001b[38;5;124mapple\u001b[39m\u001b[38;5;124m'\u001b[39m)\n",
      "\u001b[1;31mAttributeError\u001b[0m: 'tuple' object has no attribute 'append'"
     ]
    }
   ],
   "source": [
    "t.append('apple')"
   ]
  },
  {
   "cell_type": "code",
   "execution_count": 9,
   "id": "65acee8c-43e1-48d5-aa77-b8621e92c717",
   "metadata": {},
   "outputs": [
    {
     "ename": "TypeError",
     "evalue": "'tuple' object does not support item assignment",
     "output_type": "error",
     "traceback": [
      "\u001b[1;31m---------------------------------------------------------------------------\u001b[0m",
      "\u001b[1;31mTypeError\u001b[0m                                 Traceback (most recent call last)",
      "Cell \u001b[1;32mIn[9], line 1\u001b[0m\n\u001b[1;32m----> 1\u001b[0m t[\u001b[38;5;241m2\u001b[39m] \u001b[38;5;241m=\u001b[39m \u001b[38;5;124m'\u001b[39m\u001b[38;5;124mapple\u001b[39m\u001b[38;5;124m'\u001b[39m\n",
      "\u001b[1;31mTypeError\u001b[0m: 'tuple' object does not support item assignment"
     ]
    }
   ],
   "source": [
    "t[2] = 'apple'"
   ]
  },
  {
   "cell_type": "code",
   "execution_count": 10,
   "id": "e7cd3bcd-c7e1-4a0b-98aa-1cda07e76429",
   "metadata": {},
   "outputs": [
    {
     "name": "stdout",
     "output_type": "stream",
     "text": [
      "('bread', 'milk', 'eggs', 'apple', 'orange')\n"
     ]
    }
   ],
   "source": [
    "newTuple = t + ('apple', 'orange')\n",
    "print(newTuple)"
   ]
  },
  {
   "cell_type": "code",
   "execution_count": 11,
   "id": "0c409b41-2992-47ce-94fd-9c9c66c266e1",
   "metadata": {},
   "outputs": [
    {
     "name": "stdout",
     "output_type": "stream",
     "text": [
      "('apple', True, 3)\n",
      "(('apple', 3), ('orange', 2), ('banana', 5))\n"
     ]
    }
   ],
   "source": [
    "t_mixed = 'apple', True, 3\n",
    "print(t_mixed)\n",
    "t_shopping = ('apple', 3), ('orange',2), ('banana', 5)\n",
    "print(t_shopping)"
   ]
  },
  {
   "cell_type": "code",
   "execution_count": 12,
   "id": "5e8348bc-072d-4c8a-a107-5d988e0e09ac",
   "metadata": {},
   "outputs": [
    {
     "name": "stdout",
     "output_type": "stream",
     "text": [
      "{1, 2, 3, 4, 5, 6}\n",
      "{1, 2, 3, 4, 5, 6}\n",
      "{1, 2, 3, 4, 5, 6}\n"
     ]
    }
   ],
   "source": [
    "s1 = set([1,2,3,4,5,6])\n",
    "print(s1)\n",
    "s2 = set([1,2,2,3,4,4,5,6,6])\n",
    "print(s2)\n",
    "s3 = set([3,4,5,6,6,6,1,1,2])\n",
    "print(s3)"
   ]
  },
  {
   "cell_type": "code",
   "execution_count": 13,
   "id": "9e6f43e1-4c0a-4542-a32d-be57740eff26",
   "metadata": {},
   "outputs": [
    {
     "name": "stdout",
     "output_type": "stream",
     "text": [
      "{'banana', 'orange', 'apple'}\n"
     ]
    }
   ],
   "source": [
    "s4 = {\"apple\", \"orange\", \"banana\"}\n",
    "print(s4)"
   ]
  },
  {
   "cell_type": "code",
   "execution_count": 14,
   "id": "1335b30e-059f-493c-a6ac-04a6ea8b7085",
   "metadata": {},
   "outputs": [
    {
     "name": "stdout",
     "output_type": "stream",
     "text": [
      "{'banana', 'orange', 'apple', 'pineapple'}\n"
     ]
    }
   ],
   "source": [
    "s4.add('pineapple')\n",
    "print(s4)"
   ]
  },
  {
   "cell_type": "markdown",
   "id": "21734430-ee13-4e1f-b10e-e75b5c1bae09",
   "metadata": {},
   "source": [
    "### Exercise 33: Implementing Set Operations"
   ]
  },
  {
   "cell_type": "code",
   "execution_count": 15,
   "id": "e7cb41ad-e00e-4ac6-91b8-15c340d7a693",
   "metadata": {},
   "outputs": [],
   "source": [
    "s5 = {1, 2, 3, 4}\n",
    "s6 = {3, 4, 5, 6 }"
   ]
  },
  {
   "cell_type": "code",
   "execution_count": 16,
   "id": "1b0d46d7-8489-437d-abea-fedc77e2b646",
   "metadata": {},
   "outputs": [
    {
     "name": "stdout",
     "output_type": "stream",
     "text": [
      "{1, 2, 3, 4, 5, 6}\n"
     ]
    }
   ],
   "source": [
    "print(s5 | s6)"
   ]
  },
  {
   "cell_type": "code",
   "execution_count": 17,
   "id": "89d6a8af-d56f-4af5-a4ae-ddeb1db4ee1b",
   "metadata": {},
   "outputs": [
    {
     "name": "stdout",
     "output_type": "stream",
     "text": [
      "{1, 2, 3, 4, 5, 6}\n"
     ]
    }
   ],
   "source": [
    "print(s5.union(s6))"
   ]
  },
  {
   "cell_type": "code",
   "execution_count": 18,
   "id": "0b5444ac-5470-4c83-9a0e-bed83b74a065",
   "metadata": {},
   "outputs": [
    {
     "name": "stdout",
     "output_type": "stream",
     "text": [
      "{3, 4}\n",
      "{3, 4}\n"
     ]
    }
   ],
   "source": [
    "print(s5 & s6)\n",
    "print(s5.intersection(s6))"
   ]
  },
  {
   "cell_type": "code",
   "execution_count": 19,
   "id": "86f3a3f1-2605-47f0-a1c6-91b931574843",
   "metadata": {},
   "outputs": [
    {
     "name": "stdout",
     "output_type": "stream",
     "text": [
      "{1, 2}\n",
      "{1, 2}\n"
     ]
    }
   ],
   "source": [
    "print(s5 - s6)\n",
    "print(s5.difference(s6))"
   ]
  },
  {
   "cell_type": "code",
   "execution_count": 20,
   "id": "63469447-190d-4084-ba72-bedd57d0b9e7",
   "metadata": {},
   "outputs": [
    {
     "name": "stdout",
     "output_type": "stream",
     "text": [
      "False\n",
      "False\n",
      "True\n",
      "True\n"
     ]
    }
   ],
   "source": [
    "print(s5 <= s6)\n",
    "print(s5.issubset(s6))\n",
    "s7 = {1,2,3}\n",
    "s8 = {1,2,3,4,5}\n",
    "print(s7 <= s8)\n",
    "print(s7.issubset(s8))"
   ]
  },
  {
   "cell_type": "code",
   "execution_count": 21,
   "id": "46cb1684-a198-4273-b2ab-17f2c60939ff",
   "metadata": {},
   "outputs": [
    {
     "name": "stdout",
     "output_type": "stream",
     "text": [
      "True\n",
      "False\n",
      "False\n"
     ]
    }
   ],
   "source": [
    "print(s7 < s8)\n",
    "s9 = {1,2,3}\n",
    "s10 = {1,2,3}\n",
    "print(s9 < s10)\n",
    "print(s9 < s9)"
   ]
  },
  {
   "cell_type": "code",
   "execution_count": 22,
   "id": "a30d207e-bdfc-4575-a5b0-bea763f8f6cc",
   "metadata": {},
   "outputs": [
    {
     "name": "stdout",
     "output_type": "stream",
     "text": [
      "True\n"
     ]
    }
   ],
   "source": [
    "print(s9 <= s9)"
   ]
  },
  {
   "cell_type": "code",
   "execution_count": 24,
   "id": "2dbcd0cc-6833-4b5c-a515-14251b283b35",
   "metadata": {},
   "outputs": [
    {
     "name": "stdout",
     "output_type": "stream",
     "text": [
      "s7:  {1, 2, 3}\n"
     ]
    }
   ],
   "source": [
    "print(\"s7: \", s7)"
   ]
  },
  {
   "cell_type": "code",
   "execution_count": 25,
   "id": "564eb112-7ba3-4f9c-b8b9-e629d6f46a41",
   "metadata": {},
   "outputs": [
    {
     "name": "stdout",
     "output_type": "stream",
     "text": [
      "s8:  {1, 2, 3, 4, 5}\n"
     ]
    }
   ],
   "source": [
    "print(\"s8: \", s8) "
   ]
  },
  {
   "cell_type": "code",
   "execution_count": 26,
   "id": "422c5f67-06be-4360-8955-5e061dc7dc3e",
   "metadata": {},
   "outputs": [
    {
     "name": "stdout",
     "output_type": "stream",
     "text": [
      "True\n",
      "True\n",
      "True\n",
      "False\n"
     ]
    }
   ],
   "source": [
    "print(s8 >= s7)\n",
    "print(s8.issuperset(s7))\n",
    "print(s8 > s7)\n",
    "print(s8 > s8)"
   ]
  },
  {
   "cell_type": "code",
   "execution_count": null,
   "id": "b8ad7a94-bdea-4271-aede-928937e6da53",
   "metadata": {},
   "outputs": [],
   "source": []
  }
 ],
 "metadata": {
  "kernelspec": {
   "display_name": "Python 3 (ipykernel)",
   "language": "python",
   "name": "python3"
  },
  "language_info": {
   "codemirror_mode": {
    "name": "ipython",
    "version": 3
   },
   "file_extension": ".py",
   "mimetype": "text/x-python",
   "name": "python",
   "nbconvert_exporter": "python",
   "pygments_lexer": "ipython3",
   "version": "3.12.4"
  }
 },
 "nbformat": 4,
 "nbformat_minor": 5
}
