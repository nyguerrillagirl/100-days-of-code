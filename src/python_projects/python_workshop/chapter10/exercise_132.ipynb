{
 "cells": [
  {
   "cell_type": "markdown",
   "id": "fefe2ae2-ddc6-4d64-b820-303d6c53f58c",
   "metadata": {},
   "source": [
    "### Exercise 132: Matrices"
   ]
  },
  {
   "cell_type": "code",
   "execution_count": 1,
   "id": "2961805b-a4eb-4ec0-a608-3e6c063c84ad",
   "metadata": {},
   "outputs": [
    {
     "data": {
      "text/plain": [
       "array([[0.30087333, 0.18694582, 0.32318268, 0.66574957, 0.5669708 ],\n",
       "       [0.39825396, 0.37941492, 0.01058154, 0.1703656 , 0.12339337],\n",
       "       [0.69240128, 0.87444156, 0.3373969 , 0.99245923, 0.13154007],\n",
       "       [0.50032984, 0.28662051, 0.22058485, 0.50208555, 0.63606254],\n",
       "       [0.63567694, 0.08043309, 0.58143375, 0.83919086, 0.29301825]])"
      ]
     },
     "execution_count": 1,
     "metadata": {},
     "output_type": "execute_result"
    }
   ],
   "source": [
    "import numpy as np\n",
    "np.random.seed(seed=60)\n",
    "random_square = np.random.rand(5,5)\n",
    "random_square"
   ]
  },
  {
   "cell_type": "code",
   "execution_count": 2,
   "id": "614e1481-5dc4-4530-b37c-557ba9b58938",
   "metadata": {},
   "outputs": [
    {
     "data": {
      "text/plain": [
       "array([0.30087333, 0.18694582, 0.32318268, 0.66574957, 0.5669708 ])"
      ]
     },
     "execution_count": 2,
     "metadata": {},
     "output_type": "execute_result"
    }
   ],
   "source": [
    "# First row\n",
    "random_square[0]"
   ]
  },
  {
   "cell_type": "code",
   "execution_count": 3,
   "id": "80832a4f-ef6d-4840-9350-1f1e8287e6ef",
   "metadata": {},
   "outputs": [
    {
     "data": {
      "text/plain": [
       "array([0.30087333, 0.39825396, 0.69240128, 0.50032984, 0.63567694])"
      ]
     },
     "execution_count": 3,
     "metadata": {},
     "output_type": "execute_result"
    }
   ],
   "source": [
    "# First column\n",
    "random_square[:,0]"
   ]
  },
  {
   "cell_type": "code",
   "execution_count": 4,
   "id": "b9fcdbac-793c-4199-b0ef-2d51210ea8d8",
   "metadata": {},
   "outputs": [
    {
     "data": {
      "text/plain": [
       "0.30087333004661876"
      ]
     },
     "execution_count": 4,
     "metadata": {},
     "output_type": "execute_result"
    }
   ],
   "source": [
    "# First entry\n",
    "random_square[0,0]"
   ]
  },
  {
   "cell_type": "code",
   "execution_count": 5,
   "id": "56d7fae9-1f63-4423-b99c-14fbe838e1f2",
   "metadata": {},
   "outputs": [
    {
     "data": {
      "text/plain": [
       "0.30087333004661876"
      ]
     },
     "execution_count": 5,
     "metadata": {},
     "output_type": "execute_result"
    }
   ],
   "source": [
    "# Alternative first entry\n",
    "random_square[0][0]"
   ]
  },
  {
   "cell_type": "code",
   "execution_count": 6,
   "id": "05d9ad8a-51e0-424e-9135-0e63425f0905",
   "metadata": {},
   "outputs": [
    {
     "data": {
      "text/plain": [
       "0.9924592256795676"
      ]
     },
     "execution_count": 6,
     "metadata": {},
     "output_type": "execute_result"
    }
   ],
   "source": [
    "# Entry 2nd row, 3rd column\n",
    "random_square[2,3]"
   ]
  },
  {
   "cell_type": "code",
   "execution_count": 7,
   "id": "48f23f45-9e3f-4e7a-b01a-318737c3c5b2",
   "metadata": {},
   "outputs": [
    {
     "data": {
      "text/plain": [
       "0.42917627159618377"
      ]
     },
     "execution_count": 7,
     "metadata": {},
     "output_type": "execute_result"
    }
   ],
   "source": [
    "random_square.mean()"
   ]
  },
  {
   "cell_type": "code",
   "execution_count": 8,
   "id": "d2171ede-a5f5-4a5c-bf39-ab22b65c6c39",
   "metadata": {},
   "outputs": [
    {
     "data": {
      "text/plain": [
       "0.4087444389228477"
      ]
     },
     "execution_count": 8,
     "metadata": {},
     "output_type": "execute_result"
    }
   ],
   "source": [
    "# Mean entry for the first row\n",
    "random_square[0].mean()"
   ]
  },
  {
   "cell_type": "code",
   "execution_count": 12,
   "id": "e75c3eef-361a-45cd-811d-e70c986f2c4e",
   "metadata": {},
   "outputs": [
    {
     "data": {
      "text/plain": [
       "0.4087444389228477"
      ]
     },
     "execution_count": 12,
     "metadata": {},
     "output_type": "execute_result"
    }
   ],
   "source": [
    "random_square[0,:].mean()"
   ]
  },
  {
   "cell_type": "code",
   "execution_count": null,
   "id": "7e0006b3-4908-40f8-b72d-4567399b3997",
   "metadata": {},
   "outputs": [],
   "source": []
  }
 ],
 "metadata": {
  "kernelspec": {
   "display_name": "Python 3 (ipykernel)",
   "language": "python",
   "name": "python3"
  },
  "language_info": {
   "codemirror_mode": {
    "name": "ipython",
    "version": 3
   },
   "file_extension": ".py",
   "mimetype": "text/x-python",
   "name": "python",
   "nbconvert_exporter": "python",
   "pygments_lexer": "ipython3",
   "version": "3.12.4"
  }
 },
 "nbformat": 4,
 "nbformat_minor": 5
}
