{
 "cells": [
  {
   "cell_type": "markdown",
   "id": "0085e6cf-633d-424e-bf20-7d2c1ff13079",
   "metadata": {},
   "source": [
    "### Exercise 128: Converting Lists in NumPy Arrays\n",
    "In this exercise, you will convert a list to a **numpy** array."
   ]
  },
  {
   "cell_type": "code",
   "execution_count": 1,
   "id": "6dc9bd02-54c6-4bd7-b530-cd4bcd611987",
   "metadata": {},
   "outputs": [],
   "source": [
    "import numpy as np"
   ]
  },
  {
   "cell_type": "code",
   "execution_count": 2,
   "id": "4326f76c-37eb-4c41-9f90-8da792abd043",
   "metadata": {},
   "outputs": [
    {
     "data": {
      "text/plain": [
       "list"
      ]
     },
     "execution_count": 2,
     "metadata": {},
     "output_type": "execute_result"
    }
   ],
   "source": [
    "test_scores = [70, 65, 95, 88]\n",
    "type(test_scores)"
   ]
  },
  {
   "cell_type": "code",
   "execution_count": 3,
   "id": "95f5c168-c53f-4a31-a9c4-811401c3b355",
   "metadata": {},
   "outputs": [
    {
     "data": {
      "text/plain": [
       "numpy.ndarray"
      ]
     },
     "execution_count": 3,
     "metadata": {},
     "output_type": "execute_result"
    }
   ],
   "source": [
    "scores = np.array(test_scores)\n",
    "type(scores)"
   ]
  },
  {
   "cell_type": "code",
   "execution_count": null,
   "id": "5410ad93-0201-4e12-8d26-ea943d03ea52",
   "metadata": {},
   "outputs": [],
   "source": []
  }
 ],
 "metadata": {
  "kernelspec": {
   "display_name": "Python 3 (ipykernel)",
   "language": "python",
   "name": "python3"
  },
  "language_info": {
   "codemirror_mode": {
    "name": "ipython",
    "version": 3
   },
   "file_extension": ".py",
   "mimetype": "text/x-python",
   "name": "python",
   "nbconvert_exporter": "python",
   "pygments_lexer": "ipython3",
   "version": "3.12.4"
  }
 },
 "nbformat": 4,
 "nbformat_minor": 5
}
