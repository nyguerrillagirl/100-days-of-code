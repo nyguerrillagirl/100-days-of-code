{
 "cells": [
  {
   "cell_type": "markdown",
   "id": "9cc9184c-1929-48eb-bb65-d3f5eb4d84a6",
   "metadata": {},
   "source": [
    "### Exercise 135: DataFrame Computations with the Student testscore Data\n",
    "In this exercise, you will rename the columns of the DataFrame, and you will then select the data to display"
   ]
  },
  {
   "cell_type": "code",
   "execution_count": 3,
   "id": "4689bfd5-e999-4a79-81ec-d8610d60b9af",
   "metadata": {},
   "outputs": [],
   "source": [
    "import pandas as pd"
   ]
  },
  {
   "cell_type": "code",
   "execution_count": 5,
   "id": "1cdaecfa-15ac-4aa8-a14f-820fcdd577b6",
   "metadata": {},
   "outputs": [],
   "source": [
    "# Create dictionary of test scores\n",
    "test_dict = {'Corey':[63,75,88], 'Kevin':[48,98,92], 'Akshay': [87, 86, 85]}\n",
    "# Create DataFrame\n",
    "df = pd.DataFrame(test_dict)\n",
    "df = df.T"
   ]
  },
  {
   "cell_type": "code",
   "execution_count": 7,
   "id": "3a9557fa-8def-4bb1-b9d9-b9970aff910e",
   "metadata": {},
   "outputs": [
    {
     "data": {
      "text/html": [
       "<div>\n",
       "<style scoped>\n",
       "    .dataframe tbody tr th:only-of-type {\n",
       "        vertical-align: middle;\n",
       "    }\n",
       "\n",
       "    .dataframe tbody tr th {\n",
       "        vertical-align: top;\n",
       "    }\n",
       "\n",
       "    .dataframe thead th {\n",
       "        text-align: right;\n",
       "    }\n",
       "</style>\n",
       "<table border=\"1\" class=\"dataframe\">\n",
       "  <thead>\n",
       "    <tr style=\"text-align: right;\">\n",
       "      <th></th>\n",
       "      <th>0</th>\n",
       "      <th>1</th>\n",
       "      <th>2</th>\n",
       "    </tr>\n",
       "  </thead>\n",
       "  <tbody>\n",
       "    <tr>\n",
       "      <th>Corey</th>\n",
       "      <td>63</td>\n",
       "      <td>75</td>\n",
       "      <td>88</td>\n",
       "    </tr>\n",
       "    <tr>\n",
       "      <th>Kevin</th>\n",
       "      <td>48</td>\n",
       "      <td>98</td>\n",
       "      <td>92</td>\n",
       "    </tr>\n",
       "    <tr>\n",
       "      <th>Akshay</th>\n",
       "      <td>87</td>\n",
       "      <td>86</td>\n",
       "      <td>85</td>\n",
       "    </tr>\n",
       "  </tbody>\n",
       "</table>\n",
       "</div>"
      ],
      "text/plain": [
       "         0   1   2\n",
       "Corey   63  75  88\n",
       "Kevin   48  98  92\n",
       "Akshay  87  86  85"
      ]
     },
     "execution_count": 7,
     "metadata": {},
     "output_type": "execute_result"
    }
   ],
   "source": [
    "df"
   ]
  },
  {
   "cell_type": "code",
   "execution_count": 11,
   "id": "bd3134b8-69e7-49bc-84e2-770b94fe53a0",
   "metadata": {},
   "outputs": [],
   "source": [
    "# Rename Columns\n",
    "df.columns = ['Quiz_1', 'Quiz_2', 'Quiz_3']"
   ]
  },
  {
   "cell_type": "code",
   "execution_count": 13,
   "id": "6b6ae9d5-f349-4dd0-bd81-ea0a580fbe86",
   "metadata": {},
   "outputs": [
    {
     "data": {
      "text/html": [
       "<div>\n",
       "<style scoped>\n",
       "    .dataframe tbody tr th:only-of-type {\n",
       "        vertical-align: middle;\n",
       "    }\n",
       "\n",
       "    .dataframe tbody tr th {\n",
       "        vertical-align: top;\n",
       "    }\n",
       "\n",
       "    .dataframe thead th {\n",
       "        text-align: right;\n",
       "    }\n",
       "</style>\n",
       "<table border=\"1\" class=\"dataframe\">\n",
       "  <thead>\n",
       "    <tr style=\"text-align: right;\">\n",
       "      <th></th>\n",
       "      <th>Quiz_1</th>\n",
       "      <th>Quiz_2</th>\n",
       "      <th>Quiz_3</th>\n",
       "    </tr>\n",
       "  </thead>\n",
       "  <tbody>\n",
       "    <tr>\n",
       "      <th>Corey</th>\n",
       "      <td>63</td>\n",
       "      <td>75</td>\n",
       "      <td>88</td>\n",
       "    </tr>\n",
       "    <tr>\n",
       "      <th>Kevin</th>\n",
       "      <td>48</td>\n",
       "      <td>98</td>\n",
       "      <td>92</td>\n",
       "    </tr>\n",
       "    <tr>\n",
       "      <th>Akshay</th>\n",
       "      <td>87</td>\n",
       "      <td>86</td>\n",
       "      <td>85</td>\n",
       "    </tr>\n",
       "  </tbody>\n",
       "</table>\n",
       "</div>"
      ],
      "text/plain": [
       "        Quiz_1  Quiz_2  Quiz_3\n",
       "Corey       63      75      88\n",
       "Kevin       48      98      92\n",
       "Akshay      87      86      85"
      ]
     },
     "execution_count": 13,
     "metadata": {},
     "output_type": "execute_result"
    }
   ],
   "source": [
    "df"
   ]
  },
  {
   "cell_type": "code",
   "execution_count": 15,
   "id": "594ca74b-94c9-45fc-b32d-972639ee245e",
   "metadata": {},
   "outputs": [
    {
     "data": {
      "text/plain": [
       "Quiz_1    63\n",
       "Quiz_2    75\n",
       "Quiz_3    88\n",
       "Name: Corey, dtype: int64"
      ]
     },
     "execution_count": 15,
     "metadata": {},
     "output_type": "execute_result"
    }
   ],
   "source": [
    "# Access first row by index number\n",
    "df.iloc[0]"
   ]
  },
  {
   "cell_type": "code",
   "execution_count": 17,
   "id": "cb30922d-1327-4bef-b338-980aa4e6f5d2",
   "metadata": {},
   "outputs": [
    {
     "data": {
      "text/plain": [
       "Corey     63\n",
       "Kevin     48\n",
       "Akshay    87\n",
       "Name: Quiz_1, dtype: int64"
      ]
     },
     "execution_count": 17,
     "metadata": {},
     "output_type": "execute_result"
    }
   ],
   "source": [
    "df['Quiz_1']"
   ]
  },
  {
   "cell_type": "code",
   "execution_count": 19,
   "id": "391552f6-958c-41e4-ac74-c2a31659186e",
   "metadata": {},
   "outputs": [
    {
     "data": {
      "text/plain": [
       "Corey     63\n",
       "Kevin     48\n",
       "Akshay    87\n",
       "Name: Quiz_1, dtype: int64"
      ]
     },
     "execution_count": 19,
     "metadata": {},
     "output_type": "execute_result"
    }
   ],
   "source": [
    "# Access first column using dot notation\n",
    "df.Quiz_1"
   ]
  },
  {
   "cell_type": "code",
   "execution_count": null,
   "id": "f7e1c134-61b2-42ee-8352-25993ca81a77",
   "metadata": {},
   "outputs": [],
   "source": []
  }
 ],
 "metadata": {
  "kernelspec": {
   "display_name": "Python 3 (ipykernel)",
   "language": "python",
   "name": "python3"
  },
  "language_info": {
   "codemirror_mode": {
    "name": "ipython",
    "version": 3
   },
   "file_extension": ".py",
   "mimetype": "text/x-python",
   "name": "python",
   "nbconvert_exporter": "python",
   "pygments_lexer": "ipython3",
   "version": "3.12.4"
  }
 },
 "nbformat": 4,
 "nbformat_minor": 5
}
