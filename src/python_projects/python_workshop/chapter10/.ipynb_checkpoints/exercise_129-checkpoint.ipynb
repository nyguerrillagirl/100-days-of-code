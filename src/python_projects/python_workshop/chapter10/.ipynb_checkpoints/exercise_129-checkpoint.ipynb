{
 "cells": [
  {
   "cell_type": "markdown",
   "id": "9b771857-0f25-4a55-8f1d-490a908107ff",
   "metadata": {},
   "source": [
    "### Exercise 129: Calculating the Mean of the Test Score"
   ]
  },
  {
   "cell_type": "code",
   "execution_count": 1,
   "id": "3538476f-f3f0-42cb-aa9c-0e0212bdf697",
   "metadata": {},
   "outputs": [],
   "source": [
    "import numpy as np"
   ]
  },
  {
   "cell_type": "code",
   "execution_count": 2,
   "id": "2c8f595a-fe7a-49de-afb7-83838ffaff6d",
   "metadata": {},
   "outputs": [],
   "source": [
    "scores = np.array([70, 65, 95, 88])"
   ]
  },
  {
   "cell_type": "code",
   "execution_count": 3,
   "id": "d91bfd46-53cf-4268-8d53-3e08263f1466",
   "metadata": {},
   "outputs": [
    {
     "data": {
      "text/plain": [
       "79.5"
      ]
     },
     "execution_count": 3,
     "metadata": {},
     "output_type": "execute_result"
    }
   ],
   "source": [
    "scores.mean()"
   ]
  },
  {
   "cell_type": "code",
   "execution_count": null,
   "id": "9277bb6a-84cf-431c-8a04-8c6875789d86",
   "metadata": {},
   "outputs": [],
   "source": []
  }
 ],
 "metadata": {
  "kernelspec": {
   "display_name": "Python 3 (ipykernel)",
   "language": "python",
   "name": "python3"
  },
  "language_info": {
   "codemirror_mode": {
    "name": "ipython",
    "version": 3
   },
   "file_extension": ".py",
   "mimetype": "text/x-python",
   "name": "python",
   "nbconvert_exporter": "python",
   "pygments_lexer": "ipython3",
   "version": "3.12.4"
  }
 },
 "nbformat": 4,
 "nbformat_minor": 5
}
