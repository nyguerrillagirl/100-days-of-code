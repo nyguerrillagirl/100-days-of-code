{
 "cells": [
  {
   "cell_type": "markdown",
   "id": "006ad52b-d85d-43c7-977c-20110a7ffea0",
   "metadata": {},
   "source": [
    "### Exercise 130: Finding the Median from a Collection of Income Data\n",
    "In this exercise, you will be finding the median from a collection of income data for a neighborhood and help a millionaire decide whether he should build his dream house in the neighorhood based on the income data. The **median** function here is a method of **numpy**"
   ]
  },
  {
   "cell_type": "code",
   "execution_count": 1,
   "id": "3b0ce227-0242-40ba-9ccf-dd6f1340b477",
   "metadata": {},
   "outputs": [],
   "source": [
    "import numpy as np\n",
    "income = np.array([75000, 55000, 88000, 125000, 64000, 97000])"
   ]
  },
  {
   "cell_type": "code",
   "execution_count": 2,
   "id": "5f710b31-fbf9-46b0-9db4-117b1c39707b",
   "metadata": {},
   "outputs": [
    {
     "data": {
      "text/plain": [
       "84000.0"
      ]
     },
     "execution_count": 2,
     "metadata": {},
     "output_type": "execute_result"
    }
   ],
   "source": [
    "income.mean()"
   ]
  },
  {
   "cell_type": "code",
   "execution_count": 3,
   "id": "3f220771-c5da-413c-b27f-37208583c49c",
   "metadata": {},
   "outputs": [
    {
     "data": {
      "text/plain": [
       "1786285.7142857143"
      ]
     },
     "execution_count": 3,
     "metadata": {},
     "output_type": "execute_result"
    }
   ],
   "source": [
    "income = np.append(income, 12000000)\n",
    "income.mean()"
   ]
  },
  {
   "cell_type": "code",
   "execution_count": 4,
   "id": "70d8218e-333b-4ce4-a271-d8650b3f86b7",
   "metadata": {},
   "outputs": [
    {
     "data": {
      "text/plain": [
       "88000.0"
      ]
     },
     "execution_count": 4,
     "metadata": {},
     "output_type": "execute_result"
    }
   ],
   "source": [
    "np.median(income)"
   ]
  },
  {
   "cell_type": "markdown",
   "id": "06c046ec-e17f-43ab-b896-ddc399e06b10",
   "metadata": {},
   "source": [
    "### Exercise 131: Finding the Standard Deviation from Income Data"
   ]
  },
  {
   "cell_type": "code",
   "execution_count": 5,
   "id": "8511021e-b879-4049-9a78-c5d199f7f477",
   "metadata": {},
   "outputs": [
    {
     "data": {
      "text/plain": [
       "4169786.007331644"
      ]
     },
     "execution_count": 5,
     "metadata": {},
     "output_type": "execute_result"
    }
   ],
   "source": [
    "income.std()"
   ]
  },
  {
   "cell_type": "code",
   "execution_count": 6,
   "id": "44a2abec-ecee-465f-8abc-d2671f17a42d",
   "metadata": {},
   "outputs": [],
   "source": [
    "test_scores = [70, 65, 95, 88]"
   ]
  },
  {
   "cell_type": "code",
   "execution_count": 7,
   "id": "1586bd47-cd47-4f52-a16a-4f9da6477223",
   "metadata": {},
   "outputs": [],
   "source": [
    "scores = np.array(test_scores)"
   ]
  },
  {
   "cell_type": "code",
   "execution_count": 8,
   "id": "31b86f08-6beb-4c9d-b40f-2e2b5d58e400",
   "metadata": {},
   "outputs": [
    {
     "data": {
      "text/plain": [
       "12.379418403139947"
      ]
     },
     "execution_count": 8,
     "metadata": {},
     "output_type": "execute_result"
    }
   ],
   "source": [
    "scores.std()"
   ]
  },
  {
   "cell_type": "code",
   "execution_count": 9,
   "id": "0c324beb-aa5b-40b6-ae3a-dc7100843a0b",
   "metadata": {},
   "outputs": [
    {
     "data": {
      "text/plain": [
       "79.5"
      ]
     },
     "execution_count": 9,
     "metadata": {},
     "output_type": "execute_result"
    }
   ],
   "source": [
    "scores.mean()"
   ]
  },
  {
   "cell_type": "code",
   "execution_count": 10,
   "id": "c36af45d-1cb4-48d6-ae73-8c770152cacc",
   "metadata": {},
   "outputs": [
    {
     "data": {
      "text/plain": [
       "95"
      ]
     },
     "execution_count": 10,
     "metadata": {},
     "output_type": "execute_result"
    }
   ],
   "source": [
    "scores.max()"
   ]
  },
  {
   "cell_type": "code",
   "execution_count": 11,
   "id": "ccc823a6-55a7-44ca-80ea-4bddd0b38c60",
   "metadata": {},
   "outputs": [
    {
     "data": {
      "text/plain": [
       "65"
      ]
     },
     "execution_count": 11,
     "metadata": {},
     "output_type": "execute_result"
    }
   ],
   "source": [
    "scores.min()"
   ]
  },
  {
   "cell_type": "code",
   "execution_count": 12,
   "id": "f0a53ebf-71f2-4fb0-893f-f21e877c26ce",
   "metadata": {},
   "outputs": [
    {
     "data": {
      "text/plain": [
       "318"
      ]
     },
     "execution_count": 12,
     "metadata": {},
     "output_type": "execute_result"
    }
   ],
   "source": [
    "scores.sum()"
   ]
  },
  {
   "cell_type": "code",
   "execution_count": null,
   "id": "ca1c8d70-3454-42d7-ae1a-a7e76bb8fb9e",
   "metadata": {},
   "outputs": [],
   "source": []
  }
 ],
 "metadata": {
  "kernelspec": {
   "display_name": "Python 3 (ipykernel)",
   "language": "python",
   "name": "python3"
  },
  "language_info": {
   "codemirror_mode": {
    "name": "ipython",
    "version": 3
   },
   "file_extension": ".py",
   "mimetype": "text/x-python",
   "name": "python",
   "nbconvert_exporter": "python",
   "pygments_lexer": "ipython3",
   "version": "3.12.4"
  }
 },
 "nbformat": 4,
 "nbformat_minor": 5
}
