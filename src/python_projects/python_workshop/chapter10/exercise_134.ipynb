{
 "cells": [
  {
   "cell_type": "markdown",
   "id": "c63341ea-fc26-4557-b4e4-a0a23e55dbc9",
   "metadata": {},
   "source": [
    "### Exercise 134: Using DataFrames to Manipulate Stored Student testscore Data\n",
    "In this exercise, you will create a **dictionary**, which is one of many ways to create a **pandas** DataFrame."
   ]
  },
  {
   "cell_type": "code",
   "execution_count": 1,
   "id": "5bb2e776-bd07-4771-8e14-0883872af444",
   "metadata": {},
   "outputs": [],
   "source": [
    "import pandas as pd"
   ]
  },
  {
   "cell_type": "code",
   "execution_count": null,
   "id": "9f4cfab8-548d-44f7-addc-7c810d9b7a50",
   "metadata": {},
   "outputs": [],
   "source": []
  }
 ],
 "metadata": {
  "kernelspec": {
   "display_name": "Python 3 (ipykernel)",
   "language": "python",
   "name": "python3"
  },
  "language_info": {
   "codemirror_mode": {
    "name": "ipython",
    "version": 3
   },
   "file_extension": ".py",
   "mimetype": "text/x-python",
   "name": "python",
   "nbconvert_exporter": "python",
   "pygments_lexer": "ipython3",
   "version": "3.12.4"
  }
 },
 "nbformat": 4,
 "nbformat_minor": 5
}
