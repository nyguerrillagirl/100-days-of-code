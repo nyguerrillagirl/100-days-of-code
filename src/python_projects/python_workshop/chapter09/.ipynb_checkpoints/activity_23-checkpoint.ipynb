{
 "cells": [
  {
   "cell_type": "markdown",
   "id": "41921948-086a-4838-b283-bb2aefccc8eb",
   "metadata": {},
   "source": [
    "# Activity 23: Generating a List of Random Numbers in a Python Virtual Environment\n",
    "\n",
    "You work for a sports betting website and want to simulate random events in a \r\n",
    "particular betting market. In order to do so, your goal will be to create a program that is \r\n",
    "able to generate long lists of random numbers using multiprocessing.\r\n",
    "In this activity, the aim is to create a new Python environment, install the relevant \r\n",
    "packages, and write a function using the threading library to generate a list of random \r\n",
    "numbers."
   ]
  },
  {
   "cell_type": "code",
   "execution_count": null,
   "id": "851443b9-7c47-4a8d-85ce-1540fd78dc02",
   "metadata": {},
   "outputs": [],
   "source": [
    "import numpy\n",
    "import cProfile\n",
    "import itertools\n",
    "import threading"
   ]
  },
  {
   "cell_type": "code",
   "execution_count": null,
   "id": "f7ca47a3-3447-4f80-8916-f7db2ee2c588",
   "metadata": {},
   "outputs": [],
   "source": [
    "import queue\n",
    "import random"
   ]
  },
  {
   "cell_type": "code",
   "execution_count": null,
   "id": "21c13c40-76b9-4af2-9b79-09eceac8d490",
   "metadata": {},
   "outputs": [],
   "source": [
    "in_queue = queue.Queue()\n",
    "out_queue = queue.Queue()"
   ]
  },
  {
   "cell_type": "code",
   "execution_count": null,
   "id": "f0561f8d-3926-4d28-91df-de2d4a1f0211",
   "metadata": {},
   "outputs": [],
   "source": [
    "# Function that generates n number of random numbers based on the n it receives from the queue\n",
    "def generate_random_threading():\n",
    "    # Check the queue\n",
    "    n = in_queue.get()\n",
    "    for _ in range(n+1):\n",
    "        # Generate and queue up a random number - from 1..6 (simulating a die)\n",
    "        die = random.randint(1, 6)\n",
    "        out_queue.put(die)"
   ]
  },
  {
   "cell_type": "code",
   "execution_count": null,
   "id": "1e8d5fff-b435-43f3-b557-c29a94ac859a",
   "metadata": {},
   "outputs": [],
   "source": [
    "# test things out\n",
    "thread = threading.Thread(target=generate_random_threading)\n",
    "thread.start()"
   ]
  },
  {
   "cell_type": "code",
   "execution_count": null,
   "id": "7c18d9ed-6f9c-432c-95de-432fea3c3434",
   "metadata": {},
   "outputs": [],
   "source": [
    "def kick_off_things(n):\n",
    "    number_of_throws = n\n",
    "    in_queue.put(number_of_throws)\n",
    "    die_count = 0\n",
    "    while die_count < number_of_throws:\n",
    "        # get random number\n",
    "        dieValue = out_queue.get()\n",
    "        print(f\"the {die_count} is {dieValue}\")\n",
    "        die_count += 1\n",
    "    \n",
    "    thread.join()\n",
    "    print(\"Closing shop...\")\n",
    "    "
   ]
  },
  {
   "cell_type": "code",
   "execution_count": null,
   "id": "44de371f-ac44-43e9-86c9-725d3de39c81",
   "metadata": {},
   "outputs": [],
   "source": [
    "kick_off_things(5)"
   ]
  }
 ],
 "metadata": {
  "kernelspec": {
   "display_name": "Python 3 (ipykernel)",
   "language": "python",
   "name": "python3"
  },
  "language_info": {
   "codemirror_mode": {
    "name": "ipython",
    "version": 3
   },
   "file_extension": ".py",
   "mimetype": "text/x-python",
   "name": "python",
   "nbconvert_exporter": "python",
   "pygments_lexer": "ipython3",
   "version": "3.12.4"
  }
 },
 "nbformat": 4,
 "nbformat_minor": 5
}
