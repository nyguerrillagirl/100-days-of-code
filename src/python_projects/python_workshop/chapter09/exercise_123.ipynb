{
 "cells": [
  {
   "cell_type": "markdown",
   "id": "3431cb47-6b21-4129-bbbb-95b978512a9c",
   "metadata": {},
   "source": [
    "### Exercise 123: Using the Threading Package"
   ]
  },
  {
   "cell_type": "code",
   "execution_count": 1,
   "id": "1239f6e6-77a4-42f2-aa76-b2898b291a67",
   "metadata": {},
   "outputs": [],
   "source": [
    "import threading"
   ]
  },
  {
   "cell_type": "code",
   "execution_count": 2,
   "id": "045489b3-4b1c-4a41-a461-25a2da521e35",
   "metadata": {},
   "outputs": [],
   "source": [
    "import queue"
   ]
  },
  {
   "cell_type": "code",
   "execution_count": 3,
   "id": "073cb733-cd82-4ec7-b68c-6db2f5f814cb",
   "metadata": {},
   "outputs": [],
   "source": [
    "in_queue = queue.Queue()\n",
    "out_queue = queue.Queue()"
   ]
  },
  {
   "cell_type": "code",
   "execution_count": 4,
   "id": "f9cb2069-ae08-4b64-894d-9d64e3993886",
   "metadata": {},
   "outputs": [],
   "source": [
    "def square_threading():\n",
    "    while True:\n",
    "        n = in_queue.get()\n",
    "        if n == 'STOP':\n",
    "            return\n",
    "        n_squared = n**2\n",
    "        out_queue.put(n_squared)"
   ]
  },
  {
   "cell_type": "code",
   "execution_count": 6,
   "id": "7bd7daf7-b8db-407f-adc3-1ff7e8de53dd",
   "metadata": {},
   "outputs": [],
   "source": [
    "thread = threading.Thread(target=square_threading)\n",
    "thread.start()"
   ]
  },
  {
   "cell_type": "code",
   "execution_count": 7,
   "id": "4398be58-3782-4bbc-8386-70903f074cb4",
   "metadata": {},
   "outputs": [
    {
     "name": "stdout",
     "output_type": "stream",
     "text": [
      "0 squared is 0\n",
      "1 squared is 1\n",
      "2 squared is 4\n",
      "3 squared is 9\n",
      "4 squared is 16\n",
      "5 squared is 25\n",
      "6 squared is 36\n",
      "7 squared is 49\n",
      "8 squared is 64\n",
      "9 squared is 81\n"
     ]
    }
   ],
   "source": [
    "for i in range(10):\n",
    "    in_queue.put(i)\n",
    "    i_squared = out_queue.get()\n",
    "    print(f\"{i} squared is {i_squared}\")\n",
    "\n",
    "in_queue.put('STOP')\n",
    "thread.join()"
   ]
  },
  {
   "cell_type": "code",
   "execution_count": null,
   "id": "498c57da-b9b4-4a1a-9369-e61a3dc5349b",
   "metadata": {},
   "outputs": [],
   "source": []
  }
 ],
 "metadata": {
  "kernelspec": {
   "display_name": "Python 3 (ipykernel)",
   "language": "python",
   "name": "python3"
  },
  "language_info": {
   "codemirror_mode": {
    "name": "ipython",
    "version": 3
   },
   "file_extension": ".py",
   "mimetype": "text/x-python",
   "name": "python",
   "nbconvert_exporter": "python",
   "pygments_lexer": "ipython3",
   "version": "3.12.4"
  }
 },
 "nbformat": 4,
 "nbformat_minor": 5
}
