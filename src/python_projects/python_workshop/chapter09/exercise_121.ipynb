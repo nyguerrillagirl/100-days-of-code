{
 "cells": [
  {
   "cell_type": "markdown",
   "id": "275261e3-3ba0-418b-90b3-17f1aba1d829",
   "metadata": {},
   "source": [
    "### Exercise 121: Working with execnet to Execute a Simple Python Squaring Program"
   ]
  },
  {
   "cell_type": "code",
   "execution_count": 1,
   "id": "17ecfb05-470e-4a74-8161-b7b6216571e0",
   "metadata": {},
   "outputs": [],
   "source": [
    "import execnet"
   ]
  },
  {
   "cell_type": "code",
   "execution_count": 2,
   "id": "d4fccce7-fa07-4606-b531-9bf0e5eaad6b",
   "metadata": {},
   "outputs": [],
   "source": [
    "def square(channel):\n",
    "    while not channel.isclosed():\n",
    "        number = channel.receive()\n",
    "        number_squared = number**2\n",
    "        channel.send(number_squared)"
   ]
  },
  {
   "cell_type": "code",
   "execution_count": 3,
   "id": "3bf44c8b-90af-475f-981f-d8d7ed39f0b2",
   "metadata": {},
   "outputs": [],
   "source": [
    "gateway = execnet.makegateway()\n",
    "channel = gateway.remote_exec(square)"
   ]
  },
  {
   "cell_type": "code",
   "execution_count": 4,
   "id": "82fbe418-dd68-4e5c-b14c-82952f16a2b8",
   "metadata": {},
   "outputs": [
    {
     "name": "stdout",
     "output_type": "stream",
     "text": [
      "0 squared is 0\n",
      "1 squared is 1\n",
      "2 squared is 4\n",
      "3 squared is 9\n",
      "4 squared is 16\n",
      "5 squared is 25\n",
      "6 squared is 36\n",
      "7 squared is 49\n",
      "8 squared is 64\n",
      "9 squared is 81\n"
     ]
    }
   ],
   "source": [
    "for i in range(10):\n",
    "    channel.send(i)\n",
    "    i_squared = channel.receive()\n",
    "    print(f\"{i} squared is {i_squared}\")"
   ]
  },
  {
   "cell_type": "code",
   "execution_count": 5,
   "id": "2cedb29e-9e17-4e1e-8e88-1af22a9151f8",
   "metadata": {},
   "outputs": [],
   "source": [
    "gateway.exit()"
   ]
  },
  {
   "cell_type": "code",
   "execution_count": null,
   "id": "79642a41-9d0d-4dcd-a1dc-1e8bc2343c62",
   "metadata": {},
   "outputs": [],
   "source": []
  }
 ],
 "metadata": {
  "kernelspec": {
   "display_name": "Python 3 (ipykernel)",
   "language": "python",
   "name": "python3"
  },
  "language_info": {
   "codemirror_mode": {
    "name": "ipython",
    "version": 3
   },
   "file_extension": ".py",
   "mimetype": "text/x-python",
   "name": "python",
   "nbconvert_exporter": "python",
   "pygments_lexer": "ipython3",
   "version": "3.12.4"
  }
 },
 "nbformat": 4,
 "nbformat_minor": 5
}
