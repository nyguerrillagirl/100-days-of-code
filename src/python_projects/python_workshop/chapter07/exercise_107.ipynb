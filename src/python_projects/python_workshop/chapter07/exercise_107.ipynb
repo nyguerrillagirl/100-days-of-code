{
 "cells": [
  {
   "cell_type": "markdown",
   "id": "80d9fec3-e631-4278-b2d9-9f7fe7832338",
   "metadata": {},
   "source": [
    "### Exercise 107: Using Infinite Sequences and takewhile"
   ]
  },
  {
   "cell_type": "code",
   "execution_count": 8,
   "id": "12d9b45c-8220-4ec8-bbda-5a95c2311ba0",
   "metadata": {},
   "outputs": [],
   "source": [
    "class Primes:\n",
    "    def __init__(self):\n",
    "        self.current = 2\n",
    "\n",
    "    def __iter__(self):\n",
    "        return self\n",
    "\n",
    "    def __next__(self):\n",
    "        while True:\n",
    "            current = self.current\n",
    "            square_root = int(current ** 0.5)\n",
    "            is_prime = True\n",
    "            if square_root >= 2:\n",
    "                for i in range(2, square_root + 1):\n",
    "                    if current % i == 0:\n",
    "                        is_prime = False\n",
    "                        break\n",
    "            self.current += 1\n",
    "            if is_prime:\n",
    "                return current"
   ]
  },
  {
   "cell_type": "code",
   "execution_count": 2,
   "id": "caa675bd-ad7b-4295-a421-aee42cbd7bb3",
   "metadata": {},
   "outputs": [
    {
     "ename": "KeyboardInterrupt",
     "evalue": "",
     "output_type": "error",
     "traceback": [
      "\u001b[1;31m---------------------------------------------------------------------------\u001b[0m",
      "\u001b[1;31mKeyboardInterrupt\u001b[0m                         Traceback (most recent call last)",
      "Cell \u001b[1;32mIn[2], line 1\u001b[0m\n\u001b[1;32m----> 1\u001b[0m [p \u001b[38;5;28;01mfor\u001b[39;00m p \u001b[38;5;129;01min\u001b[39;00m Primes() \u001b[38;5;28;01mif\u001b[39;00m p \u001b[38;5;241m<\u001b[39m \u001b[38;5;241m100\u001b[39m]\n",
      "Cell \u001b[1;32mIn[1], line 9\u001b[0m, in \u001b[0;36mPrimes.__next__\u001b[1;34m(self)\u001b[0m\n\u001b[0;32m      8\u001b[0m \u001b[38;5;28;01mdef\u001b[39;00m \u001b[38;5;21m__next__\u001b[39m(\u001b[38;5;28mself\u001b[39m):\n\u001b[1;32m----> 9\u001b[0m     \u001b[38;5;28;01mwhile\u001b[39;00m \u001b[38;5;28;01mTrue\u001b[39;00m:\n\u001b[0;32m     10\u001b[0m         current \u001b[38;5;241m=\u001b[39m \u001b[38;5;28mself\u001b[39m\u001b[38;5;241m.\u001b[39mcurrent\n\u001b[0;32m     11\u001b[0m         square_root \u001b[38;5;241m=\u001b[39m \u001b[38;5;28mint\u001b[39m(current \u001b[38;5;241m*\u001b[39m\u001b[38;5;241m*\u001b[39m \u001b[38;5;241m0.5\u001b[39m)\n",
      "\u001b[1;31mKeyboardInterrupt\u001b[0m: "
     ]
    }
   ],
   "source": [
    "[p for p in Primes() if p < 100]"
   ]
  },
  {
   "cell_type": "code",
   "execution_count": 9,
   "id": "bd8f7e43-9236-4e78-a4ff-f81221af67cf",
   "metadata": {},
   "outputs": [],
   "source": [
    "import itertools"
   ]
  },
  {
   "cell_type": "code",
   "execution_count": 10,
   "id": "ce5c23db-b55c-4524-886c-faaec08a5243",
   "metadata": {},
   "outputs": [
    {
     "name": "stdout",
     "output_type": "stream",
     "text": [
      "[2, 3, 5, 7, 11, 13, 17, 19, 23, 29, 31, 37, 41, 43, 47, 53, 59, 61, 67, 71, 73, 79, 83, 89, 97]\n"
     ]
    }
   ],
   "source": [
    "print([p for p in itertools.takewhile(lambda x: x<100, Primes())])"
   ]
  },
  {
   "cell_type": "code",
   "execution_count": null,
   "id": "491c038c-5814-4138-a7c8-7d08fa1931ec",
   "metadata": {},
   "outputs": [],
   "source": []
  }
 ],
 "metadata": {
  "kernelspec": {
   "display_name": "Python 3 (ipykernel)",
   "language": "python",
   "name": "python3"
  },
  "language_info": {
   "codemirror_mode": {
    "name": "ipython",
    "version": 3
   },
   "file_extension": ".py",
   "mimetype": "text/x-python",
   "name": "python",
   "nbconvert_exporter": "python",
   "pygments_lexer": "ipython3",
   "version": "3.12.4"
  }
 },
 "nbformat": 4,
 "nbformat_minor": 5
}
