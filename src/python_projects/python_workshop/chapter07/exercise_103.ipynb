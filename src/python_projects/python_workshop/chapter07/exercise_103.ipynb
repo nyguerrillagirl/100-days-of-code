{
 "cells": [
  {
   "cell_type": "markdown",
   "id": "589bd3b3-10f2-403c-8359-066c25b4e0a8",
   "metadata": {},
   "source": [
    "### Exercise 103: Adopting a Default Dict"
   ]
  },
  {
   "cell_type": "code",
   "execution_count": 1,
   "id": "2c8aebe9-fe3e-4458-88fb-1a653c09c631",
   "metadata": {},
   "outputs": [],
   "source": [
    "john = { 'first_name' : 'John', 'surname' : 'Cleese' }"
   ]
  },
  {
   "cell_type": "code",
   "execution_count": 2,
   "id": "7d185539-c85a-42d0-bc8f-255eb35e83d9",
   "metadata": {},
   "outputs": [
    {
     "ename": "KeyError",
     "evalue": "'middle_name'",
     "output_type": "error",
     "traceback": [
      "\u001b[1;31m---------------------------------------------------------------------------\u001b[0m",
      "\u001b[1;31mKeyError\u001b[0m                                  Traceback (most recent call last)",
      "Cell \u001b[1;32mIn[2], line 1\u001b[0m\n\u001b[1;32m----> 1\u001b[0m john[\u001b[38;5;124m'\u001b[39m\u001b[38;5;124mmiddle_name\u001b[39m\u001b[38;5;124m'\u001b[39m]\n",
      "\u001b[1;31mKeyError\u001b[0m: 'middle_name'"
     ]
    }
   ],
   "source": [
    "john['middle_name']"
   ]
  },
  {
   "cell_type": "code",
   "execution_count": 4,
   "id": "2d941e4b-c19c-4b5e-ab2c-9769c6a1e768",
   "metadata": {},
   "outputs": [],
   "source": [
    "from collections import defaultdict\n",
    "safe_john = defaultdict(str, john)"
   ]
  },
  {
   "cell_type": "code",
   "execution_count": 5,
   "id": "12a78712-eb2f-4d30-a8c6-442d7e9d1203",
   "metadata": {},
   "outputs": [
    {
     "name": "stdout",
     "output_type": "stream",
     "text": [
      "\n"
     ]
    }
   ],
   "source": [
    "print( safe_john['middle_name'])"
   ]
  },
  {
   "cell_type": "code",
   "execution_count": 7,
   "id": "350fc75f-676c-4efe-8810-4e60f1562255",
   "metadata": {},
   "outputs": [],
   "source": [
    "from collections import defaultdict\n",
    "courses = defaultdict(lambda: 'No!')\n",
    "courses['Java'] = 'This is Java'"
   ]
  },
  {
   "cell_type": "code",
   "execution_count": 8,
   "id": "de945170-ab98-4e23-9e5a-4ccfc6f7da40",
   "metadata": {},
   "outputs": [
    {
     "name": "stdout",
     "output_type": "stream",
     "text": [
      "No!\n"
     ]
    }
   ],
   "source": [
    "print(courses['Python'])"
   ]
  },
  {
   "cell_type": "code",
   "execution_count": 9,
   "id": "c2935f68-92aa-4d8b-94c6-627f5ecaa6b0",
   "metadata": {},
   "outputs": [
    {
     "name": "stdout",
     "output_type": "stream",
     "text": [
      "This is Java\n"
     ]
    }
   ],
   "source": [
    "print(courses['Java'])"
   ]
  },
  {
   "cell_type": "code",
   "execution_count": null,
   "id": "946777d7-f330-4072-a7c8-97b9a6bbe71f",
   "metadata": {},
   "outputs": [],
   "source": []
  }
 ],
 "metadata": {
  "kernelspec": {
   "display_name": "Python 3 (ipykernel)",
   "language": "python",
   "name": "python3"
  },
  "language_info": {
   "codemirror_mode": {
    "name": "ipython",
    "version": 3
   },
   "file_extension": ".py",
   "mimetype": "text/x-python",
   "name": "python",
   "nbconvert_exporter": "python",
   "pygments_lexer": "ipython3",
   "version": "3.12.4"
  }
 },
 "nbformat": 4,
 "nbformat_minor": 5
}
