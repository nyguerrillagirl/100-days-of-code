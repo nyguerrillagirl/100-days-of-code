{
 "cells": [
  {
   "cell_type": "markdown",
   "id": "a589d520-75b3-49ef-88e6-d4be7aed4128",
   "metadata": {},
   "source": [
    "### Exercise 106: Controlling the Iteration\n",
    "\n",
    "In this exercise, you will print the prime numbers below 5. An error should be raised\r\n",
    "when the object runs out of prime numbers. To do this, you will use the PrimesBelow\r\n",
    "class created in the previous exercise:"
   ]
  },
  {
   "cell_type": "code",
   "execution_count": 1,
   "id": "e00c207a-eebe-4dc1-a65f-d4f9ade95ecc",
   "metadata": {},
   "outputs": [],
   "source": [
    "class PrimesBelow:\n",
    "    def __init__(self, bound):\n",
    "        self.candidate_numbers = list(range(2, bound))\n",
    "\n",
    "    def __iter__(self):\n",
    "        return self\n",
    "\n",
    "    def __next__(self):\n",
    "        if len(self.candidate_numbers) == 0:\n",
    "            raise StopIteration\n",
    "        next_prime = self.candidate_numbers[0]\n",
    "        self.candidate_numbers = [x for x in self.candidate_numbers if x % next_prime != 0]\n",
    "        return next_prime"
   ]
  },
  {
   "cell_type": "code",
   "execution_count": 2,
   "id": "620fd1b4-5e64-4786-b442-cb589b83a267",
   "metadata": {},
   "outputs": [],
   "source": [
    "primes_under_five = iter(PrimesBelow(5))"
   ]
  },
  {
   "cell_type": "code",
   "execution_count": 3,
   "id": "584c7ce1-eb40-4d62-88d4-345e5376eac1",
   "metadata": {},
   "outputs": [
    {
     "data": {
      "text/plain": [
       "2"
      ]
     },
     "execution_count": 3,
     "metadata": {},
     "output_type": "execute_result"
    }
   ],
   "source": [
    "next(primes_under_five)"
   ]
  },
  {
   "cell_type": "code",
   "execution_count": 4,
   "id": "018895f3-1c19-4bb0-8d6a-4fe6a4f69a6b",
   "metadata": {},
   "outputs": [
    {
     "data": {
      "text/plain": [
       "3"
      ]
     },
     "execution_count": 4,
     "metadata": {},
     "output_type": "execute_result"
    }
   ],
   "source": [
    "next(primes_under_five)"
   ]
  },
  {
   "cell_type": "code",
   "execution_count": 5,
   "id": "65926fc0-3ad9-4670-aa71-267c7249ad5f",
   "metadata": {},
   "outputs": [
    {
     "ename": "StopIteration",
     "evalue": "",
     "output_type": "error",
     "traceback": [
      "\u001b[1;31m---------------------------------------------------------------------------\u001b[0m",
      "\u001b[1;31mStopIteration\u001b[0m                             Traceback (most recent call last)",
      "Cell \u001b[1;32mIn[5], line 1\u001b[0m\n\u001b[1;32m----> 1\u001b[0m \u001b[38;5;28mnext\u001b[39m(primes_under_five)\n",
      "Cell \u001b[1;32mIn[1], line 10\u001b[0m, in \u001b[0;36mPrimesBelow.__next__\u001b[1;34m(self)\u001b[0m\n\u001b[0;32m      8\u001b[0m \u001b[38;5;28;01mdef\u001b[39;00m \u001b[38;5;21m__next__\u001b[39m(\u001b[38;5;28mself\u001b[39m):\n\u001b[0;32m      9\u001b[0m     \u001b[38;5;28;01mif\u001b[39;00m \u001b[38;5;28mlen\u001b[39m(\u001b[38;5;28mself\u001b[39m\u001b[38;5;241m.\u001b[39mcandidate_numbers) \u001b[38;5;241m==\u001b[39m \u001b[38;5;241m0\u001b[39m:\n\u001b[1;32m---> 10\u001b[0m         \u001b[38;5;28;01mraise\u001b[39;00m \u001b[38;5;167;01mStopIteration\u001b[39;00m\n\u001b[0;32m     11\u001b[0m     next_prime \u001b[38;5;241m=\u001b[39m \u001b[38;5;28mself\u001b[39m\u001b[38;5;241m.\u001b[39mcandidate_numbers[\u001b[38;5;241m0\u001b[39m]\n\u001b[0;32m     12\u001b[0m     \u001b[38;5;28mself\u001b[39m\u001b[38;5;241m.\u001b[39mcandidate_numbers \u001b[38;5;241m=\u001b[39m [x \u001b[38;5;28;01mfor\u001b[39;00m x \u001b[38;5;129;01min\u001b[39;00m \u001b[38;5;28mself\u001b[39m\u001b[38;5;241m.\u001b[39mcandidate_numbers \u001b[38;5;28;01mif\u001b[39;00m x \u001b[38;5;241m%\u001b[39m next_prime \u001b[38;5;241m!=\u001b[39m \u001b[38;5;241m0\u001b[39m]\n",
      "\u001b[1;31mStopIteration\u001b[0m: "
     ]
    }
   ],
   "source": [
    "next(primes_under_five)"
   ]
  },
  {
   "cell_type": "code",
   "execution_count": null,
   "id": "433cfb9a-c5ae-471f-9bf9-f94868668464",
   "metadata": {},
   "outputs": [],
   "source": []
  }
 ],
 "metadata": {
  "kernelspec": {
   "display_name": "Python 3 (ipykernel)",
   "language": "python",
   "name": "python3"
  },
  "language_info": {
   "codemirror_mode": {
    "name": "ipython",
    "version": 3
   },
   "file_extension": ".py",
   "mimetype": "text/x-python",
   "name": "python",
   "nbconvert_exporter": "python",
   "pygments_lexer": "ipython3",
   "version": "3.12.4"
  }
 },
 "nbformat": 4,
 "nbformat_minor": 5
}
