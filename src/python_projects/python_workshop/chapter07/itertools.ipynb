{
 "cells": [
  {
   "cell_type": "code",
   "execution_count": 1,
   "id": "dea3e505-5e1e-417c-aca9-84b6716302f5",
   "metadata": {},
   "outputs": [],
   "source": [
    "import itertools"
   ]
  },
  {
   "cell_type": "markdown",
   "id": "d3a7786c-083c-40a0-9780-e9df5cd0aebc",
   "metadata": {},
   "source": [
    "**Infinite iterators**."
   ]
  },
  {
   "cell_type": "markdown",
   "id": "311dd576-56d4-4565-b70a-29f09e3dbfb1",
   "metadata": {},
   "source": [
    "count(start=0, step=1): Creates an iterator that generates an infinite sequence of numbers, starting from start and incrementing by step."
   ]
  },
  {
   "cell_type": "code",
   "execution_count": 2,
   "id": "e21008af-3401-4aed-9536-ab5ff1cb8769",
   "metadata": {},
   "outputs": [
    {
     "name": "stdout",
     "output_type": "stream",
     "text": [
      "10\n",
      "12\n",
      "14\n",
      "16\n",
      "18\n",
      "20\n"
     ]
    }
   ],
   "source": [
    "for i in itertools.count(10, 2):\n",
    "    if i > 20:\n",
    "        break\n",
    "    print(i)  # Output: 10, 12, 14, 16, 18, 20"
   ]
  },
  {
   "cell_type": "markdown",
   "id": "87fdb322-e23e-425b-9298-9d701563738f",
   "metadata": {},
   "source": [
    "cycle(iterable): Creates an iterator that cycles through the elements of iterable infinitely."
   ]
  },
  {
   "cell_type": "code",
   "execution_count": 3,
   "id": "321daf72-e2b4-4af1-9b15-5b5da2e6b765",
   "metadata": {},
   "outputs": [
    {
     "name": "stdout",
     "output_type": "stream",
     "text": [
      "a\n",
      "b\n",
      "c\n",
      "a\n",
      "b\n",
      "c\n",
      "a\n",
      "b\n",
      "c\n"
     ]
    }
   ],
   "source": [
    "stopper = 10\n",
    "for i in itertools.cycle(['a', 'b', 'c']):\n",
    "    stopper -= 1\n",
    "    if stopper == 0:\n",
    "        break\n",
    "    print(i)  # Output: a, b, c, a, b, c, ..."
   ]
  },
  {
   "cell_type": "markdown",
   "id": "61b60346-52ed-4c41-948d-a38df98f10c3",
   "metadata": {},
   "source": [
    "repeat(object, times=None): Creates an iterator that repeats object infinitely or a specified number of times."
   ]
  },
  {
   "cell_type": "code",
   "execution_count": 4,
   "id": "3141a102-4298-4c5d-81e2-072727fc568a",
   "metadata": {},
   "outputs": [
    {
     "name": "stdout",
     "output_type": "stream",
     "text": [
      "hello\n",
      "hello\n",
      "hello\n"
     ]
    }
   ],
   "source": [
    "for i in itertools.repeat('hello', 3):\n",
    "    print(i)  # Output: hello, hello, hello"
   ]
  },
  {
   "cell_type": "markdown",
   "id": "6bbbb5a6-ba85-4978-b4b7-fa30e0a80888",
   "metadata": {},
   "source": [
    "**Combinatoric iterators**"
   ]
  },
  {
   "cell_type": "markdown",
   "id": "f581548e-b1c3-42ab-9e80-aa2d8d0284c1",
   "metadata": {},
   "source": [
    "product(*iterables, repeat=1): Creates an iterator that generates the Cartesian product of the input iterables."
   ]
  },
  {
   "cell_type": "code",
   "execution_count": 5,
   "id": "8942f0e0-655f-468f-ab52-428a1a400dbd",
   "metadata": {},
   "outputs": [
    {
     "name": "stdout",
     "output_type": "stream",
     "text": [
      "('A', 'C')\n",
      "('A', 'D')\n",
      "('B', 'C')\n",
      "('B', 'D')\n"
     ]
    }
   ],
   "source": [
    "for i in itertools.product('AB', 'CD'):\n",
    "    print(i)  # Output: ('A', 'C'), ('A', 'D'), ('B', 'C'), ('B', 'D')"
   ]
  },
  {
   "cell_type": "markdown",
   "id": "bb155994-6595-44ee-b725-104a05f8d8a8",
   "metadata": {},
   "source": [
    "permutations(iterable, r=None): Creates an iterator that generates all possible permutations of length r from the elements of iterable."
   ]
  },
  {
   "cell_type": "code",
   "execution_count": 6,
   "id": "a0206527-f416-46db-8038-09414c415975",
   "metadata": {},
   "outputs": [
    {
     "name": "stdout",
     "output_type": "stream",
     "text": [
      "('A', 'B')\n",
      "('A', 'C')\n",
      "('B', 'A')\n",
      "('B', 'C')\n",
      "('C', 'A')\n",
      "('C', 'B')\n"
     ]
    }
   ],
   "source": [
    "for i in itertools.permutations('ABC', 2):\n",
    "    print(i)  # Output: ('A', 'B'), ('A', 'C'), ('B', 'A'), ('B', 'C'), ('C', 'A'), ('C', 'B')"
   ]
  },
  {
   "cell_type": "markdown",
   "id": "3688765f-b0ec-4c72-82e5-4b6ec28fed25",
   "metadata": {},
   "source": [
    "combinations(iterable, r): Creates an iterator that generates all possible combinations of length r from the elements of iterable."
   ]
  },
  {
   "cell_type": "code",
   "execution_count": 7,
   "id": "321988dd-5180-4fab-8cfc-0a33a12c4334",
   "metadata": {},
   "outputs": [
    {
     "name": "stdout",
     "output_type": "stream",
     "text": [
      "('A', 'B')\n",
      "('A', 'C')\n",
      "('B', 'C')\n"
     ]
    }
   ],
   "source": [
    "for i in itertools.combinations('ABC', 2):\n",
    "    print(i)  # Output: ('A', 'B'), ('A', 'C'), ('B', 'C')"
   ]
  },
  {
   "cell_type": "markdown",
   "id": "36295746-acde-443b-8443-aa8551eb79bf",
   "metadata": {},
   "source": [
    "**Terminating iterators**"
   ]
  },
  {
   "cell_type": "markdown",
   "id": "083c603c-3ac1-402b-9e0a-2a47856251ad",
   "metadata": {},
   "source": [
    "chain(*iterables): Chains multiple iterables together into a single iterator."
   ]
  },
  {
   "cell_type": "code",
   "execution_count": 8,
   "id": "427f957a-a0fe-4b7f-862b-7800aa03afe7",
   "metadata": {},
   "outputs": [
    {
     "name": "stdout",
     "output_type": "stream",
     "text": [
      "1\n",
      "2\n",
      "a\n",
      "b\n"
     ]
    }
   ],
   "source": [
    "for i in itertools.chain([1, 2], ['a', 'b']):\n",
    "    print(i)  # Output: 1, 2, a, b"
   ]
  },
  {
   "cell_type": "markdown",
   "id": "27d9f705-3a22-4b54-a00e-49877b70d239",
   "metadata": {},
   "source": [
    "zip_longest(*iterables, fillvalue=None): Zips multiple iterables together, filling in missing values with fillvalue."
   ]
  },
  {
   "cell_type": "code",
   "execution_count": 9,
   "id": "37a010e3-cc95-4428-b534-cad44629605f",
   "metadata": {},
   "outputs": [
    {
     "name": "stdout",
     "output_type": "stream",
     "text": [
      "(1, 'a')\n",
      "(2, 'b')\n",
      "('-', 'c')\n"
     ]
    }
   ],
   "source": [
    "for i in itertools.zip_longest([1, 2], ['a', 'b', 'c'], fillvalue='-'):\n",
    "    print(i)  # Output: (1, 'a'), (2, 'b'), ('-', 'c')"
   ]
  },
  {
   "cell_type": "markdown",
   "id": "652985dd-c6b1-4678-bab5-3f4b1a379d7c",
   "metadata": {},
   "source": [
    "islice(iterable, start, stop[, step]): Slices an iterator, similar to list slicing."
   ]
  },
  {
   "cell_type": "code",
   "execution_count": 10,
   "id": "df864781-5321-4ef8-b879-4e87eae486d8",
   "metadata": {},
   "outputs": [
    {
     "name": "stdout",
     "output_type": "stream",
     "text": [
      "2\n",
      "4\n",
      "6\n"
     ]
    }
   ],
   "source": [
    "for i in itertools.islice(range(10), 2, 8, 2):\n",
    "    print(i)  # Output: 2, 4, 6"
   ]
  },
  {
   "cell_type": "code",
   "execution_count": null,
   "id": "692fef0f-5e97-4d4f-87c7-97a40bda7b80",
   "metadata": {},
   "outputs": [],
   "source": []
  }
 ],
 "metadata": {
  "kernelspec": {
   "display_name": "Python 3 (ipykernel)",
   "language": "python",
   "name": "python3"
  },
  "language_info": {
   "codemirror_mode": {
    "name": "ipython",
    "version": 3
   },
   "file_extension": ".py",
   "mimetype": "text/x-python",
   "name": "python",
   "nbconvert_exporter": "python",
   "pygments_lexer": "ipython3",
   "version": "3.12.4"
  }
 },
 "nbformat": 4,
 "nbformat_minor": 5
}
