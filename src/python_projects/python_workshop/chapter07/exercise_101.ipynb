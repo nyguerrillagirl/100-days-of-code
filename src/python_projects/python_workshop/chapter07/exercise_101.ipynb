{
 "cells": [
  {
   "cell_type": "markdown",
   "id": "d9fcef77-24ad-493d-acf4-5aa2bdf84a65",
   "metadata": {},
   "source": [
    "### Exercise 101: Using Set Comprehensions"
   ]
  },
  {
   "cell_type": "code",
   "execution_count": 2,
   "id": "a76b2a77-2df3-48c6-ac2a-f986940835ac",
   "metadata": {},
   "outputs": [
    {
     "name": "stdout",
     "output_type": "stream",
     "text": [
      "[4, 3, 2, 1, 5, 4, 3, 2, 6, 5, 4, 3, 7, 6, 5, 4]\n"
     ]
    }
   ],
   "source": [
    "print([a + b for a in [0,1,2,3] for b in [4,3,2,1]])"
   ]
  },
  {
   "cell_type": "code",
   "execution_count": 3,
   "id": "7d557953-7e3c-48b1-a50e-4987e189b791",
   "metadata": {},
   "outputs": [
    {
     "name": "stdout",
     "output_type": "stream",
     "text": [
      "{1, 2, 3, 4, 5, 6, 7}\n"
     ]
    }
   ],
   "source": [
    "# Change the result into a set\n",
    "print({a+b for a in [0, 1, 2, 3] for b in [4,3,2,1]})"
   ]
  },
  {
   "cell_type": "code",
   "execution_count": null,
   "id": "d505a213-de52-417c-93ae-e6344b02d3d7",
   "metadata": {},
   "outputs": [],
   "source": []
  }
 ],
 "metadata": {
  "kernelspec": {
   "display_name": "Python 3 (ipykernel)",
   "language": "python",
   "name": "python3"
  },
  "language_info": {
   "codemirror_mode": {
    "name": "ipython",
    "version": 3
   },
   "file_extension": ".py",
   "mimetype": "text/x-python",
   "name": "python",
   "nbconvert_exporter": "python",
   "pygments_lexer": "ipython3",
   "version": "3.12.4"
  }
 },
 "nbformat": 4,
 "nbformat_minor": 5
}
