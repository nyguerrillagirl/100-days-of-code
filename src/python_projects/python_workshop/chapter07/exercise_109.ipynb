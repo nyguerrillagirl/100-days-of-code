{
 "cells": [
  {
   "cell_type": "markdown",
   "id": "78859c09-7a33-4060-bc3d-243da21507c0",
   "metadata": {},
   "source": [
    "### Exercise 109: Generating a Sieve"
   ]
  },
  {
   "cell_type": "code",
   "execution_count": 2,
   "id": "fffb1c50-e484-4cf2-8e78-f6c63981f38c",
   "metadata": {},
   "outputs": [],
   "source": [
    "def primes_below(bound):\n",
    "    candidates = list(range(2,bound))\n",
    "    while(len(candidates) > 0):\n",
    "        yield candidates[0]\n",
    "        candidates = [c for c in candidates if c % candidates[0] != 0]"
   ]
  },
  {
   "cell_type": "code",
   "execution_count": 3,
   "id": "ccd00896-3f05-4407-8632-3966892eba3a",
   "metadata": {},
   "outputs": [
    {
     "data": {
      "text/plain": [
       "[2,\n",
       " 3,\n",
       " 5,\n",
       " 7,\n",
       " 11,\n",
       " 13,\n",
       " 17,\n",
       " 19,\n",
       " 23,\n",
       " 29,\n",
       " 31,\n",
       " 37,\n",
       " 41,\n",
       " 43,\n",
       " 47,\n",
       " 53,\n",
       " 59,\n",
       " 61,\n",
       " 67,\n",
       " 71,\n",
       " 73,\n",
       " 79,\n",
       " 83,\n",
       " 89,\n",
       " 97]"
      ]
     },
     "execution_count": 3,
     "metadata": {},
     "output_type": "execute_result"
    }
   ],
   "source": [
    "[prime for prime in primes_below(100)]"
   ]
  },
  {
   "cell_type": "code",
   "execution_count": null,
   "id": "707ae7fb-2691-4a82-a17d-c0efc2265306",
   "metadata": {},
   "outputs": [],
   "source": []
  }
 ],
 "metadata": {
  "kernelspec": {
   "display_name": "Python 3 (ipykernel)",
   "language": "python",
   "name": "python3"
  },
  "language_info": {
   "codemirror_mode": {
    "name": "ipython",
    "version": 3
   },
   "file_extension": ".py",
   "mimetype": "text/x-python",
   "name": "python",
   "nbconvert_exporter": "python",
   "pygments_lexer": "ipython3",
   "version": "3.12.4"
  }
 },
 "nbformat": 4,
 "nbformat_minor": 5
}
