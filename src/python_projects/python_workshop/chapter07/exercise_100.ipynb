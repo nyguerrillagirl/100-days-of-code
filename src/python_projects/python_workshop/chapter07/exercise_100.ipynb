{
 "cells": [
  {
   "cell_type": "markdown",
   "id": "29bfaff4-5981-49cd-9bc9-9fd2906c028b",
   "metadata": {},
   "source": [
    "### Exercise 100: Using Multiple Input Lists"
   ]
  },
  {
   "cell_type": "code",
   "execution_count": 1,
   "id": "1bd2aa99-e21a-4c8e-8433-4aaaf4b2bc76",
   "metadata": {},
   "outputs": [
    {
     "name": "stdout",
     "output_type": "stream",
     "text": [
      "['spam', 'spamspam', 'spamspamspam', 'eggs', 'eggseggs', 'eggseggseggs', 'chips', 'chipschips', 'chipschipschips']\n"
     ]
    }
   ],
   "source": [
    "print([x*y for x in ['spam', 'eggs', 'chips'] for y in [1,2,3]])"
   ]
  },
  {
   "cell_type": "code",
   "execution_count": 2,
   "id": "4a696b0d-6963-4b7a-a13b-0818db188ad9",
   "metadata": {},
   "outputs": [
    {
     "name": "stdout",
     "output_type": "stream",
     "text": [
      "['spam', 'eggs', 'chips', 'spamspam', 'eggseggs', 'chipschips', 'spamspamspam', 'eggseggseggs', 'chipschipschips']\n"
     ]
    }
   ],
   "source": [
    "print([x * y for x in [1,2,3] for y in ['spam', 'eggs', 'chips']])"
   ]
  },
  {
   "cell_type": "code",
   "execution_count": 4,
   "id": "6ba53317-b8b2-4fdf-a0ac-81af378df5eb",
   "metadata": {},
   "outputs": [
    {
     "data": {
      "text/plain": [
       "'spam'"
      ]
     },
     "execution_count": 4,
     "metadata": {},
     "output_type": "execute_result"
    }
   ],
   "source": [
    "1 * 'spam'"
   ]
  },
  {
   "cell_type": "code",
   "execution_count": 5,
   "id": "c8a785ce-829d-4d7b-8b39-da94a0edf70a",
   "metadata": {},
   "outputs": [
    {
     "data": {
      "text/plain": [
       "'spam'"
      ]
     },
     "execution_count": 5,
     "metadata": {},
     "output_type": "execute_result"
    }
   ],
   "source": [
    "'spam' * 1"
   ]
  },
  {
   "cell_type": "code",
   "execution_count": null,
   "id": "43b9eb16-a1f3-43e8-9ed7-055c515a54a2",
   "metadata": {},
   "outputs": [],
   "source": [
    "numbers = [1,2,3]\n"
   ]
  }
 ],
 "metadata": {
  "kernelspec": {
   "display_name": "Python 3 (ipykernel)",
   "language": "python",
   "name": "python3"
  },
  "language_info": {
   "codemirror_mode": {
    "name": "ipython",
    "version": 3
   },
   "file_extension": ".py",
   "mimetype": "text/x-python",
   "name": "python",
   "nbconvert_exporter": "python",
   "pygments_lexer": "ipython3",
   "version": "3.12.4"
  }
 },
 "nbformat": 4,
 "nbformat_minor": 5
}
