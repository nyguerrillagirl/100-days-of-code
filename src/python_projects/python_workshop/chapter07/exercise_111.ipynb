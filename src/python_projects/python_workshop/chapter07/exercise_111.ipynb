{
 "cells": [
  {
   "cell_type": "markdown",
   "id": "08afbe6a-8e49-4d45-b2cd-d11b40bc8489",
   "metadata": {},
   "source": [
    "### Exercise 111: Using Regular Expressions to Replace Text"
   ]
  },
  {
   "cell_type": "code",
   "execution_count": 1,
   "id": "3db44a0b-14af-4a45-b8e1-7f4328407d49",
   "metadata": {},
   "outputs": [],
   "source": [
    "import re"
   ]
  },
  {
   "cell_type": "code",
   "execution_count": 2,
   "id": "2cf95130-1157-4d9b-a9a6-2186ac39f666",
   "metadata": {},
   "outputs": [],
   "source": [
    "description = \"The Norwegian Blue is a wonderful parrot. This parrot is notable of its exquisite plumage.\""
   ]
  },
  {
   "cell_type": "code",
   "execution_count": 3,
   "id": "6318c86d-b17f-4566-83f8-79bfd491b84c",
   "metadata": {},
   "outputs": [],
   "source": [
    "pattern = \"(parrot)\"\n",
    "replacement = \"ex-\\\\1\""
   ]
  },
  {
   "cell_type": "code",
   "execution_count": 4,
   "id": "ac0b4ffe-55e4-4d2a-b5fc-42f600222ac8",
   "metadata": {},
   "outputs": [
    {
     "name": "stdout",
     "output_type": "stream",
     "text": [
      "The Norwegian Blue is a wonderful ex-parrot. This ex-parrot is notable of its exquisite plumage.\n"
     ]
    }
   ],
   "source": [
    "print(re.sub(pattern, replacement, description))"
   ]
  },
  {
   "cell_type": "code",
   "execution_count": null,
   "id": "165a44d7-bf28-48ab-953d-c15bebfed28f",
   "metadata": {},
   "outputs": [],
   "source": []
  }
 ],
 "metadata": {
  "kernelspec": {
   "display_name": "Python 3 (ipykernel)",
   "language": "python",
   "name": "python3"
  },
  "language_info": {
   "codemirror_mode": {
    "name": "ipython",
    "version": 3
   },
   "file_extension": ".py",
   "mimetype": "text/x-python",
   "name": "python",
   "nbconvert_exporter": "python",
   "pygments_lexer": "ipython3",
   "version": "3.12.4"
  }
 },
 "nbformat": 4,
 "nbformat_minor": 5
}
