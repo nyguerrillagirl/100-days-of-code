{
 "cells": [
  {
   "cell_type": "markdown",
   "id": "9214c17e-3833-4268-b674-91313e39828f",
   "metadata": {},
   "source": [
    "# Activity 20: Using Random Numbers to Find the Value of Pi\n",
    "\n",
    "<div style=\"font-size:1.5em\">\n",
    "The Monte Carlo method is a technique that is used for approximating a numerical \r\n",
    "solution using random numbers. Named after the famous casino, chance is at the core \r\n",
    "of Monte Carlo methods. They use random sampling to obtain information about a \r\n",
    "function that will be difficult to calculate deterministically. Monte Carlo methods are \r\n",
    "frequently used in scientific computation to explore probability distributions, and in \r\n",
    "other fields including quantum physics and computational biology. They're also used \r\n",
    "in economics to explore the behavior of financial instruments under different market \r\n",
    "conditions. There are many applications for the Monte Carlo principle.\r\n",
    "In this activity, you'll use a Monte Carlo method to find an approximate value for π. \r\n",
    "Here's how it works: two random numbers, (x,y), somewhere between (0,0) and (1,1), \r\n",
    "represent a random point in a square positioned at (0,0) with sides of\n",
    "\n",
    "![random_point_in_square](random_point_in_square.png)\n",
    "\n",
    "Using Pythagoras' Theorem, if the value of $$\\sqrt{x^2 + y^2}$$ is less than 1, then the \r\n",
    "point is also in the top-right corner of a circle centered at (0,0) with a radius of -1\n",
    "\n",
    "![random_point_in_square](random_point_in_square2.png)\n",
    "\n",
    "Generate lots of points, count how many are within the circle segment, and divide the \r\n",
    "number of points within the circle by the total number of points generated. This gives \r\n",
    "you an approximation of the area of the circle segment, which should be π/4. Multiply \r\n",
    "by 4, and you have an approximate value of π. Data scientists often use this technique to \r\n",
    "find the area under more complex curves that represent probability distributi\n",
    "</div>ons.: length 1:"
   ]
  },
  {
   "cell_type": "code",
   "execution_count": 1,
   "id": "2fe26911-48e4-4a68-95be-049f54cc78d7",
   "metadata": {},
   "outputs": [],
   "source": [
    "import math\n",
    "import random"
   ]
  },
  {
   "cell_type": "code",
   "execution_count": 4,
   "id": "ada6d1da-fb3e-4452-9785-3cf73ddcbe41",
   "metadata": {},
   "outputs": [],
   "source": [
    "def approximate_pi():\n",
    "    total_points = 0\n",
    "    within_circle = 0\n",
    "    for i in range(10001):\n",
    "        x = random.random()\n",
    "        y = random.random()\n",
    "        total_points += 1\n",
    "        distance = math.sqrt(x**2+y**2)\n",
    "        if distance < 1:\n",
    "            within_circle += 1\n",
    "        if total_points % 1000 == 0:\n",
    "            pi_estimate = 4 * within_circle / total_points\n",
    "            if total_points == 10000:\n",
    "                return pi_estimate\n",
    "            else:\n",
    "                yield pi_estimate"
   ]
  },
  {
   "cell_type": "code",
   "execution_count": 5,
   "id": "2e332b83-8e0d-4190-b5db-42e35f40dcfb",
   "metadata": {},
   "outputs": [],
   "source": [
    "estimates = [estimate for estimate in approximate_pi()]"
   ]
  },
  {
   "cell_type": "code",
   "execution_count": 6,
   "id": "f1f555de-c2e6-43c2-816f-3856a919ba48",
   "metadata": {},
   "outputs": [],
   "source": [
    "errors = [estimate - math.pi for estimate in estimates]"
   ]
  },
  {
   "cell_type": "code",
   "execution_count": 7,
   "id": "a8c4c18e-d657-465b-868f-4076550c115e",
   "metadata": {},
   "outputs": [
    {
     "data": {
      "text/plain": [
       "9"
      ]
     },
     "execution_count": 7,
     "metadata": {},
     "output_type": "execute_result"
    }
   ],
   "source": [
    "len(estimates)"
   ]
  },
  {
   "cell_type": "code",
   "execution_count": 8,
   "id": "d4caaa20-5360-4745-90bb-cc44ddef782d",
   "metadata": {},
   "outputs": [
    {
     "name": "stdout",
     "output_type": "stream",
     "text": [
      "[3.18, 3.164, 3.1613333333333333, 3.157, 3.1584, 3.1546666666666665, 3.1514285714285712, 3.1565, 3.1422222222222222]\n"
     ]
    }
   ],
   "source": [
    "print(estimates)"
   ]
  },
  {
   "cell_type": "code",
   "execution_count": 9,
   "id": "28b8fab4-4a66-407d-b983-35c6a8eb1adc",
   "metadata": {},
   "outputs": [
    {
     "name": "stdout",
     "output_type": "stream",
     "text": [
      "[0.038407346410207044, 0.02240734641020703, 0.019740679743540213, 0.015407346410206912, 0.016807346410206758, 0.013074013076873392, 0.00983591783877813, 0.014907346410206745, 0.0006295686324291339]\n"
     ]
    }
   ],
   "source": [
    "print(errors)"
   ]
  },
  {
   "cell_type": "code",
   "execution_count": null,
   "id": "3886e541-ad3f-4555-b603-853376d57022",
   "metadata": {},
   "outputs": [],
   "source": []
  }
 ],
 "metadata": {
  "kernelspec": {
   "display_name": "Python 3 (ipykernel)",
   "language": "python",
   "name": "python3"
  },
  "language_info": {
   "codemirror_mode": {
    "name": "ipython",
    "version": 3
   },
   "file_extension": ".py",
   "mimetype": "text/x-python",
   "name": "python",
   "nbconvert_exporter": "python",
   "pygments_lexer": "ipython3",
   "version": "3.12.4"
  }
 },
 "nbformat": 4,
 "nbformat_minor": 5
}
