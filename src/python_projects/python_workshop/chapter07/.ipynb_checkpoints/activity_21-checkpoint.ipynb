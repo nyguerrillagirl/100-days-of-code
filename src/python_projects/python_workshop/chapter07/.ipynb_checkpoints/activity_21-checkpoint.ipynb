{
 "cells": [
  {
   "cell_type": "markdown",
   "id": "f994a31f-08cf-4c7e-9f27-23209104059a",
   "metadata": {},
   "source": [
    "# Activity 21: Regular Expressions\n",
    "\n",
    "At your online retail company, your manager has had an idea for a promotion. There is a \r\n",
    "whole load of old \"The X-Files\" DVDs in the warehouse, and she has decided to give one \r\n",
    "away for free to any customer whose name contains the letter \n",
    "x.\r\n",
    "In this activity, you will be using Python's re module to find winning customers. The x \r\n",
    "could be capitalized if it's their initial, or lower case if it's in the middle of their name, so \r\n",
    "use the regular expression [Xx] to search for both cases:"
   ]
  },
  {
   "cell_type": "code",
   "execution_count": 1,
   "id": "fa37efd6-089b-4a78-aa3e-515bd48c665f",
   "metadata": {},
   "outputs": [],
   "source": [
    "customers = ['Xander Harris', 'Jennifer Smith', 'Timothy Jones', 'Amy Alexandrescu', 'Peter Price', 'Weifung Xu']"
   ]
  },
  {
   "cell_type": "code",
   "execution_count": 2,
   "id": "e0f2d67e-e515-49b4-8de7-65a5d62a60c7",
   "metadata": {},
   "outputs": [],
   "source": [
    "import re"
   ]
  },
  {
   "cell_type": "code",
   "execution_count": 4,
   "id": "04463e79-16fe-4d07-bc75-fd4d5c4983b5",
   "metadata": {},
   "outputs": [],
   "source": [
    "winning_customers = [x for x in customers if re.search(\"[xX]\", x) != None]"
   ]
  },
  {
   "cell_type": "code",
   "execution_count": 5,
   "id": "e418f901-04ed-457a-bcf9-bf7ec536d337",
   "metadata": {},
   "outputs": [
    {
     "data": {
      "text/plain": [
       "['Xander Harris', 'Amy Alexandrescu', 'Weifung Xu']"
      ]
     },
     "execution_count": 5,
     "metadata": {},
     "output_type": "execute_result"
    }
   ],
   "source": [
    "winning_customers"
   ]
  },
  {
   "cell_type": "code",
   "execution_count": null,
   "id": "db1192ab-c7c9-43f2-8cfc-ad72875df434",
   "metadata": {},
   "outputs": [],
   "source": []
  }
 ],
 "metadata": {
  "kernelspec": {
   "display_name": "Python 3 (ipykernel)",
   "language": "python",
   "name": "python3"
  },
  "language_info": {
   "codemirror_mode": {
    "name": "ipython",
    "version": 3
   },
   "file_extension": ".py",
   "mimetype": "text/x-python",
   "name": "python",
   "nbconvert_exporter": "python",
   "pygments_lexer": "ipython3",
   "version": "3.12.4"
  }
 },
 "nbformat": 4,
 "nbformat_minor": 5
}
