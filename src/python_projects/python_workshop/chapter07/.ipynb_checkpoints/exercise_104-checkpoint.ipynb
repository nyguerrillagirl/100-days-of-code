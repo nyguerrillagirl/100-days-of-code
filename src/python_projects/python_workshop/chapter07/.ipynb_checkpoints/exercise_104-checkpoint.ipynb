{
 "cells": [
  {
   "cell_type": "markdown",
   "id": "14d4b799-d174-441d-b70a-502277c2db5e",
   "metadata": {},
   "source": [
    "### Exercise 104: The Simplest Iterator"
   ]
  },
  {
   "cell_type": "code",
   "execution_count": 1,
   "id": "c6b28065-1e80-4132-9290-1374f40a4eb9",
   "metadata": {},
   "outputs": [],
   "source": [
    "class Interrogator:\n",
    "    def __init__(self, questions):\n",
    "        self.questions = questions\n",
    "\n",
    "    def __iter__(self):\n",
    "        return self.questions.__iter__()"
   ]
  },
  {
   "cell_type": "code",
   "execution_count": 2,
   "id": "b6b61a01-7803-446c-a5e6-17eb48c01417",
   "metadata": {},
   "outputs": [],
   "source": [
    "questions = [\"What is your name?\", \"What is your quest?\", \"What is the average airspeed velocity of an unladen swallow?\"]"
   ]
  },
  {
   "cell_type": "code",
   "execution_count": 3,
   "id": "c4cb36c5-b492-4967-93a9-9d9d1bbf09a2",
   "metadata": {},
   "outputs": [],
   "source": [
    "awkward_person = Interrogator(questions)"
   ]
  },
  {
   "cell_type": "code",
   "execution_count": 4,
   "id": "ec413184-822c-4dc6-8ee4-e988b3f55efb",
   "metadata": {},
   "outputs": [
    {
     "name": "stdout",
     "output_type": "stream",
     "text": [
      "What is your name?\n",
      "What is your quest?\n",
      "What is the average airspeed velocity of an unladen swallow?\n"
     ]
    }
   ],
   "source": [
    "for question in awkward_person:\n",
    "    print(question)"
   ]
  },
  {
   "cell_type": "code",
   "execution_count": null,
   "id": "9f66d4b0-b291-430f-8986-6f433f5df773",
   "metadata": {},
   "outputs": [],
   "source": []
  }
 ],
 "metadata": {
  "kernelspec": {
   "display_name": "Python 3 (ipykernel)",
   "language": "python",
   "name": "python3"
  },
  "language_info": {
   "codemirror_mode": {
    "name": "ipython",
    "version": 3
   },
   "file_extension": ".py",
   "mimetype": "text/x-python",
   "name": "python",
   "nbconvert_exporter": "python",
   "pygments_lexer": "ipython3",
   "version": "3.12.4"
  }
 },
 "nbformat": 4,
 "nbformat_minor": 5
}
