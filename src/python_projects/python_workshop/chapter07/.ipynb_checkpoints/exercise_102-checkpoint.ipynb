{
 "cells": [
  {
   "cell_type": "markdown",
   "id": "07bf2493-a3c5-4c49-bda5-63858b6e3a30",
   "metadata": {},
   "source": [
    "### Exercise 102: Using Dictionary Comprehensions"
   ]
  },
  {
   "cell_type": "code",
   "execution_count": 1,
   "id": "6e8d8333-a62b-4713-a335-98ebc7e9fbb1",
   "metadata": {},
   "outputs": [],
   "source": [
    "names = [\"Eric\", \"Graham\", \"Terry\", \"John\", \"Terry\"]"
   ]
  },
  {
   "cell_type": "code",
   "execution_count": 3,
   "id": "e978ea1d-c922-4e39-9454-af669159b194",
   "metadata": {},
   "outputs": [
    {
     "name": "stdout",
     "output_type": "stream",
     "text": [
      "{'Eric': 4, 'Graham': 6, 'Terry': 5, 'John': 4}\n"
     ]
    }
   ],
   "source": [
    "print( { k : len(k) for k in names})"
   ]
  },
  {
   "cell_type": "code",
   "execution_count": null,
   "id": "34a91a8a-89d2-43bf-b9fc-e00b204378dc",
   "metadata": {},
   "outputs": [],
   "source": []
  }
 ],
 "metadata": {
  "kernelspec": {
   "display_name": "Python 3 (ipykernel)",
   "language": "python",
   "name": "python3"
  },
  "language_info": {
   "codemirror_mode": {
    "name": "ipython",
    "version": 3
   },
   "file_extension": ".py",
   "mimetype": "text/x-python",
   "name": "python",
   "nbconvert_exporter": "python",
   "pygments_lexer": "ipython3",
   "version": "3.12.4"
  }
 },
 "nbformat": 4,
 "nbformat_minor": 5
}
