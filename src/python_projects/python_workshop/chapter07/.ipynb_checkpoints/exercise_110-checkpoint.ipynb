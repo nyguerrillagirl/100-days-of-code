{
 "cells": [
  {
   "cell_type": "markdown",
   "id": "daf19c7c-bfad-4af1-84b4-550a1e99e12f",
   "metadata": {},
   "source": [
    "### Exercise 110: Matching Text with Regular Expressions"
   ]
  },
  {
   "cell_type": "code",
   "execution_count": 1,
   "id": "b34309bf-f375-4f96-a76d-d2bd64e8c655",
   "metadata": {},
   "outputs": [],
   "source": [
    "import re"
   ]
  },
  {
   "cell_type": "code",
   "execution_count": 6,
   "id": "4d8c91f0-119d-4c52-8494-f5cfe404717b",
   "metadata": {},
   "outputs": [],
   "source": [
    "title = \"And now for something completely different\"\n",
    "pattern = \"(\\\\w)\\\\1+\""
   ]
  },
  {
   "cell_type": "code",
   "execution_count": 7,
   "id": "0200a01f-655d-4d9b-8505-133afd05797b",
   "metadata": {},
   "outputs": [
    {
     "name": "stdout",
     "output_type": "stream",
     "text": [
      "<re.Match object; span=(35, 37), match='ff'>\n"
     ]
    }
   ],
   "source": [
    "print(re.search(pattern, title))"
   ]
  },
  {
   "cell_type": "code",
   "execution_count": null,
   "id": "e58e03fb-6b5c-49a6-8c22-2afb26a6a471",
   "metadata": {},
   "outputs": [],
   "source": []
  }
 ],
 "metadata": {
  "kernelspec": {
   "display_name": "Python 3 (ipykernel)",
   "language": "python",
   "name": "python3"
  },
  "language_info": {
   "codemirror_mode": {
    "name": "ipython",
    "version": 3
   },
   "file_extension": ".py",
   "mimetype": "text/x-python",
   "name": "python",
   "nbconvert_exporter": "python",
   "pygments_lexer": "ipython3",
   "version": "3.12.4"
  }
 },
 "nbformat": 4,
 "nbformat_minor": 5
}
