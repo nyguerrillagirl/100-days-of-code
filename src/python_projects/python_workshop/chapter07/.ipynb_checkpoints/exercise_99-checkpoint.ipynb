{
 "cells": [
  {
   "cell_type": "markdown",
   "id": "106ed4c1-1347-4d0e-a7ce-eae7bbd34ac3",
   "metadata": {},
   "source": [
    "### Exercise 99: Introducing List Comprehensions"
   ]
  },
  {
   "cell_type": "code",
   "execution_count": 2,
   "id": "9266f8ed-767d-4f9f-85c0-080ad461ec97",
   "metadata": {},
   "outputs": [
    {
     "name": "stdout",
     "output_type": "stream",
     "text": [
      "[1, 8, 27, 64, 125]\n"
     ]
    }
   ],
   "source": [
    "cubes = []\n",
    "for x in [1,2,3,4,5]:\n",
    "    cubes.append(x**3)\n",
    "print(cubes)"
   ]
  },
  {
   "cell_type": "code",
   "execution_count": 3,
   "id": "602dba4e-64a3-4be1-bf89-e3c7cc4b73d7",
   "metadata": {},
   "outputs": [
    {
     "name": "stdout",
     "output_type": "stream",
     "text": [
      "[1, 8, 27, 64, 125]\n"
     ]
    }
   ],
   "source": [
    "cubes = [x**3 for x in [1,2,3,4,5]]\n",
    "print(cubes)"
   ]
  },
  {
   "cell_type": "code",
   "execution_count": 4,
   "id": "772cf56b-c1e1-477b-9a5c-3a7ddb6a4ffd",
   "metadata": {},
   "outputs": [
    {
     "name": "stdout",
     "output_type": "stream",
     "text": [
      "[1, 8, 27, 64, 125]\n"
     ]
    }
   ],
   "source": [
    "cubes = [x**3 for x in range(1,6)]\n",
    "print(cubes)"
   ]
  },
  {
   "cell_type": "code",
   "execution_count": 5,
   "id": "c13e96e1-a0ee-4811-ae1a-5db048367c7f",
   "metadata": {},
   "outputs": [
    {
     "name": "stdout",
     "output_type": "stream",
     "text": [
      "[8, 64]\n"
     ]
    }
   ],
   "source": [
    "cubes = [x**3 for x in range(1,6) if x % 2 == 0]\n",
    "print(cubes)"
   ]
  },
  {
   "cell_type": "code",
   "execution_count": 6,
   "id": "67a73f20-f7c2-484e-b660-f4d210be63b7",
   "metadata": {},
   "outputs": [],
   "source": [
    "names = [\"Graham Chapman\", \"John Cleese\", \"Terry Gilliam\", \"Eric Idle\", \"Terry Jones\"]"
   ]
  },
  {
   "cell_type": "code",
   "execution_count": 7,
   "id": "e8369895-9cee-40f3-a0bd-32213ebb07c1",
   "metadata": {},
   "outputs": [
    {
     "name": "stdout",
     "output_type": "stream",
     "text": [
      "['TERRY GILLIAM', 'TERRY JONES']\n"
     ]
    }
   ],
   "source": [
    "print([name.upper() for name in names if name.startswith(\"T\")])"
   ]
  },
  {
   "cell_type": "code",
   "execution_count": null,
   "id": "d63acf56-5044-4e05-a316-afcc962b1931",
   "metadata": {},
   "outputs": [],
   "source": []
  }
 ],
 "metadata": {
  "kernelspec": {
   "display_name": "Python 3 (ipykernel)",
   "language": "python",
   "name": "python3"
  },
  "language_info": {
   "codemirror_mode": {
    "name": "ipython",
    "version": 3
   },
   "file_extension": ".py",
   "mimetype": "text/x-python",
   "name": "python",
   "nbconvert_exporter": "python",
   "pygments_lexer": "ipython3",
   "version": "3.12.4"
  }
 },
 "nbformat": 4,
 "nbformat_minor": 5
}
