{
 "cells": [
  {
   "cell_type": "markdown",
   "id": "b611f09a-15f0-4139-b754-ec95554f51e0",
   "metadata": {},
   "source": [
    "# Activity 19: Building a Scorecard Using Dictionary Comprehensions and Multiple Lists\n",
    "\n",
    "You are the backend developer for a renowned college. The management has asked you \r\n",
    "to build a demo scorecard for their students based on the marks they have achieved in \r\n",
    "their exams\n",
    ". \r\n",
    "Your goal in this activity is to use dictionary comprehension and lists in Python to build \r\n",
    "a demo scorecard for four students in the college."
   ]
  },
  {
   "cell_type": "code",
   "execution_count": 1,
   "id": "36d3056d-d512-4301-9c80-1b4241b61059",
   "metadata": {},
   "outputs": [],
   "source": [
    "students = [\"Mbl\", \"Hera\", \"Viper\", \"Daut\"]\n",
    "scores = [91, 98, 96, 89]"
   ]
  },
  {
   "cell_type": "code",
   "execution_count": 5,
   "id": "acd4adbc-dc20-4dfe-996e-2c9db6a84610",
   "metadata": {},
   "outputs": [],
   "source": [
    "scorecard = { students[i]: scores[i] for i in range(len(students))}"
   ]
  },
  {
   "cell_type": "code",
   "execution_count": 6,
   "id": "1fef4e22-e3f7-4112-9848-d79e42f6d430",
   "metadata": {},
   "outputs": [
    {
     "name": "stdout",
     "output_type": "stream",
     "text": [
      "{'Mbl': 91, 'Hera': 98, 'Viper': 96, 'Daut': 89}\n"
     ]
    }
   ],
   "source": [
    "print(scorecard)"
   ]
  },
  {
   "cell_type": "code",
   "execution_count": null,
   "id": "48543576-275d-45fd-84b3-8850beb15bfa",
   "metadata": {},
   "outputs": [],
   "source": []
  }
 ],
 "metadata": {
  "kernelspec": {
   "display_name": "Python 3 (ipykernel)",
   "language": "python",
   "name": "python3"
  },
  "language_info": {
   "codemirror_mode": {
    "name": "ipython",
    "version": 3
   },
   "file_extension": ".py",
   "mimetype": "text/x-python",
   "name": "python",
   "nbconvert_exporter": "python",
   "pygments_lexer": "ipython3",
   "version": "3.12.4"
  }
 },
 "nbformat": 4,
 "nbformat_minor": 5
}
