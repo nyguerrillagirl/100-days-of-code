{
 "cells": [
  {
   "cell_type": "markdown",
   "id": "658a632a-70a2-4880-92fe-eae3ac4a3cb2",
   "metadata": {},
   "source": [
    "### Exercise 108: Turning a Finite Sequence into an Infinite One, and Back Again"
   ]
  },
  {
   "cell_type": "code",
   "execution_count": 1,
   "id": "62d8e21f-7ce7-40c2-a143-2a44a44488ad",
   "metadata": {},
   "outputs": [],
   "source": [
    "import itertools\n",
    "players = ['White', 'Black']"
   ]
  },
  {
   "cell_type": "code",
   "execution_count": 2,
   "id": "4ad3e7d1-0c4d-47e7-928e-2d392d2d5e39",
   "metadata": {},
   "outputs": [],
   "source": [
    "turns = itertools.cycle(players)"
   ]
  },
  {
   "cell_type": "code",
   "execution_count": 3,
   "id": "9df3e0d0-5e4b-4403-bae1-1c07b99dc537",
   "metadata": {},
   "outputs": [
    {
     "name": "stdout",
     "output_type": "stream",
     "text": [
      "['White', 'Black', 'White', 'Black', 'White', 'Black', 'White', 'Black', 'White', 'Black']\n"
     ]
    }
   ],
   "source": [
    "countdown = itertools.count(10, -1)\n",
    "print([turn for turn in itertools.takewhile(lambda x:next(countdown)>0, turns)])"
   ]
  },
  {
   "cell_type": "code",
   "execution_count": null,
   "id": "4f37ff64-9196-49b8-94d3-672d8c29b401",
   "metadata": {},
   "outputs": [],
   "source": []
  }
 ],
 "metadata": {
  "kernelspec": {
   "display_name": "Python 3 (ipykernel)",
   "language": "python",
   "name": "python3"
  },
  "language_info": {
   "codemirror_mode": {
    "name": "ipython",
    "version": 3
   },
   "file_extension": ".py",
   "mimetype": "text/x-python",
   "name": "python",
   "nbconvert_exporter": "python",
   "pygments_lexer": "ipython3",
   "version": "3.12.4"
  }
 },
 "nbformat": 4,
 "nbformat_minor": 5
}
