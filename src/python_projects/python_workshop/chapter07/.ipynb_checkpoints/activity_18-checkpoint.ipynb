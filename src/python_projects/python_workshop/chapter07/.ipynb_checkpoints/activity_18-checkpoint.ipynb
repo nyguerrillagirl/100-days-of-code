{
 "cells": [
  {
   "cell_type": "markdown",
   "id": "22d2b232-dad2-4828-9a50-03e6f63fefc3",
   "metadata": {},
   "source": [
    "# Activity 18: Building a Chess \n",
    "\n",
    "In this activity, you will use a list comprehension to create the fixtures for a chess \r\n",
    "tournament. Fixtures are strings of the form \"player 1 versus player 2.\" Because there \r\n",
    "is a slight advantage to playing as white, you also want to generate the \"player 2 versus \r\n",
    "player 1\" fixture so that the tournament is fair. But you do not want people playing \r\n",
    "against themselves, so you should also filter out fixtures such as \"player 1 versus player \r\n",
    "1.\""
   ]
  },
  {
   "cell_type": "code",
   "execution_count": 1,
   "id": "fbb0ea77-af84-4da6-9459-3c6bade91199",
   "metadata": {},
   "outputs": [],
   "source": [
    "players = [\"Magnus Carlen\", \"Fabiano Caruana\", \"Yifan Hou\", \"Wenjun Ju\"]"
   ]
  },
  {
   "cell_type": "code",
   "execution_count": 10,
   "id": "d9292ce8-488f-44bd-a63a-9b2f76fd3363",
   "metadata": {},
   "outputs": [
    {
     "name": "stdout",
     "output_type": "stream",
     "text": [
      "player Magnus Carlen versus player Fabiano Caruana\n",
      "player Magnus Carlen versus player Yifan Hou\n",
      "player Magnus Carlen versus player Wenjun Ju\n",
      "player Fabiano Caruana versus player Magnus Carlen\n",
      "player Fabiano Caruana versus player Yifan Hou\n",
      "player Fabiano Caruana versus player Wenjun Ju\n",
      "player Yifan Hou versus player Magnus Carlen\n",
      "player Yifan Hou versus player Fabiano Caruana\n",
      "player Yifan Hou versus player Wenjun Ju\n",
      "player Wenjun Ju versus player Magnus Carlen\n",
      "player Wenjun Ju versus player Fabiano Caruana\n",
      "player Wenjun Ju versus player Yifan Hou\n"
     ]
    },
    {
     "data": {
      "text/plain": [
       "[None, None, None, None, None, None, None, None, None, None, None, None]"
      ]
     },
     "execution_count": 10,
     "metadata": {},
     "output_type": "execute_result"
    }
   ],
   "source": [
    "[print(\"player \" + x + \" versus player \" + y) for x in players for y in players if x != y ]"
   ]
  },
  {
   "cell_type": "code",
   "execution_count": 11,
   "id": "77446f65-1c65-4e23-b6b5-7792609882d1",
   "metadata": {},
   "outputs": [
    {
     "name": "stdout",
     "output_type": "stream",
     "text": [
      "['Magnus Carlen vs. Fabiano Caruana', 'Magnus Carlen vs. Yifan Hou', 'Magnus Carlen vs. Wenjun Ju', 'Fabiano Caruana vs. Magnus Carlen', 'Fabiano Caruana vs. Yifan Hou', 'Fabiano Caruana vs. Wenjun Ju', 'Yifan Hou vs. Magnus Carlen', 'Yifan Hou vs. Fabiano Caruana', 'Yifan Hou vs. Wenjun Ju', 'Wenjun Ju vs. Magnus Carlen', 'Wenjun Ju vs. Fabiano Caruana', 'Wenjun Ju vs. Yifan Hou']\n"
     ]
    }
   ],
   "source": [
    "fixtures = [f\"{p1} vs. {p2}\" for p1 in players for p2 in players if p1 != p2]\n",
    "print(fixtures)"
   ]
  },
  {
   "cell_type": "code",
   "execution_count": null,
   "id": "3e11c5ef-95f7-4db8-9bc2-dbdd8f928c5b",
   "metadata": {},
   "outputs": [],
   "source": []
  }
 ],
 "metadata": {
  "kernelspec": {
   "display_name": "Python 3 (ipykernel)",
   "language": "python",
   "name": "python3"
  },
  "language_info": {
   "codemirror_mode": {
    "name": "ipython",
    "version": 3
   },
   "file_extension": ".py",
   "mimetype": "text/x-python",
   "name": "python",
   "nbconvert_exporter": "python",
   "pygments_lexer": "ipython3",
   "version": "3.12.4"
  }
 },
 "nbformat": 4,
 "nbformat_minor": 5
}
