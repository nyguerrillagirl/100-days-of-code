{
 "cells": [
  {
   "cell_type": "code",
   "execution_count": 1,
   "id": "cc9dbf3e-642b-4974-a1b3-90a9acfdb91e",
   "metadata": {},
   "outputs": [
    {
     "data": {
      "text/plain": [
       "7"
      ]
     },
     "execution_count": 1,
     "metadata": {},
     "output_type": "execute_result"
    }
   ],
   "source": [
    "5 + 2"
   ]
  },
  {
   "cell_type": "code",
   "execution_count": 2,
   "id": "7c0921d5-4701-42d7-a377-3b4ec93a0c9f",
   "metadata": {},
   "outputs": [
    {
     "data": {
      "text/plain": [
       "3"
      ]
     },
     "execution_count": 2,
     "metadata": {},
     "output_type": "execute_result"
    }
   ],
   "source": [
    "5 - 2"
   ]
  },
  {
   "cell_type": "code",
   "execution_count": 3,
   "id": "3176f622-2acc-4bf1-9937-4324a9b844b9",
   "metadata": {},
   "outputs": [
    {
     "data": {
      "text/plain": [
       "2.5"
      ]
     },
     "execution_count": 3,
     "metadata": {},
     "output_type": "execute_result"
    }
   ],
   "source": [
    "5 / 2"
   ]
  },
  {
   "cell_type": "code",
   "execution_count": 4,
   "id": "7992629f-58eb-448e-acbf-911460c376e9",
   "metadata": {},
   "outputs": [
    {
     "data": {
      "text/plain": [
       "2"
      ]
     },
     "execution_count": 4,
     "metadata": {},
     "output_type": "execute_result"
    }
   ],
   "source": [
    "5 // 2"
   ]
  },
  {
   "cell_type": "code",
   "execution_count": 5,
   "id": "ba820334-37ae-43ba-b2ac-8ef60fabf801",
   "metadata": {},
   "outputs": [
    {
     "data": {
      "text/plain": [
       "25"
      ]
     },
     "execution_count": 5,
     "metadata": {},
     "output_type": "execute_result"
    }
   ],
   "source": [
    "5 ** 2"
   ]
  },
  {
   "cell_type": "code",
   "execution_count": 6,
   "id": "1a165e00-0975-4ff0-b7cb-aa40b0995cc3",
   "metadata": {},
   "outputs": [
    {
     "data": {
      "text/plain": [
       "1"
      ]
     },
     "execution_count": 6,
     "metadata": {},
     "output_type": "execute_result"
    }
   ],
   "source": [
    "5 % 2"
   ]
  },
  {
   "cell_type": "code",
   "execution_count": 7,
   "id": "f7e93673-b82a-44c8-88d9-2aaa0dff146c",
   "metadata": {},
   "outputs": [
    {
     "data": {
      "text/plain": [
       "-5.0"
      ]
     },
     "execution_count": 7,
     "metadata": {},
     "output_type": "execute_result"
    }
   ],
   "source": [
    "(100 - 5 ** 3) / 5"
   ]
  },
  {
   "cell_type": "code",
   "execution_count": 8,
   "id": "51808ce7-87b4-4355-92c8-d639b367bfba",
   "metadata": {},
   "outputs": [
    {
     "data": {
      "text/plain": [
       "int"
      ]
     },
     "execution_count": 8,
     "metadata": {},
     "output_type": "execute_result"
    }
   ],
   "source": [
    "type(6)"
   ]
  },
  {
   "cell_type": "code",
   "execution_count": 9,
   "id": "edae2f36-b58f-4901-b1bd-af8856292395",
   "metadata": {},
   "outputs": [
    {
     "data": {
      "text/plain": [
       "float"
      ]
     },
     "execution_count": 9,
     "metadata": {},
     "output_type": "execute_result"
    }
   ],
   "source": [
    "type(6.0)"
   ]
  },
  {
   "cell_type": "code",
   "execution_count": 10,
   "id": "350efd61-4292-4315-8b09-e4ffc036b31b",
   "metadata": {},
   "outputs": [],
   "source": [
    "sum = 5 + 3.14"
   ]
  },
  {
   "cell_type": "code",
   "execution_count": 11,
   "id": "2c97ad6c-753e-4540-a7fb-4e6d5f6d2820",
   "metadata": {},
   "outputs": [
    {
     "data": {
      "text/plain": [
       "float"
      ]
     },
     "execution_count": 11,
     "metadata": {},
     "output_type": "execute_result"
    }
   ],
   "source": [
    "type(sum)"
   ]
  },
  {
   "cell_type": "code",
   "execution_count": 12,
   "id": "66394bad-ff6a-494a-a64a-99b1ef326682",
   "metadata": {},
   "outputs": [
    {
     "data": {
      "text/plain": [
       "7"
      ]
     },
     "execution_count": 12,
     "metadata": {},
     "output_type": "execute_result"
    }
   ],
   "source": [
    "int(7.999999999)"
   ]
  },
  {
   "cell_type": "code",
   "execution_count": 13,
   "id": "d84574e3-7e77-4809-974b-5b2ae0d0fb08",
   "metadata": {},
   "outputs": [
    {
     "data": {
      "text/plain": [
       "6.0"
      ]
     },
     "execution_count": 13,
     "metadata": {},
     "output_type": "execute_result"
    }
   ],
   "source": [
    "float(6)"
   ]
  },
  {
   "cell_type": "code",
   "execution_count": 14,
   "id": "0aef83ee-583d-4d91-9e03-2376f5f9331e",
   "metadata": {},
   "outputs": [
    {
     "data": {
      "text/plain": [
       "(-0.5+0.5j)"
      ]
     },
     "execution_count": 14,
     "metadata": {},
     "output_type": "execute_result"
    }
   ],
   "source": [
    "(2 + 3j) / (1 - 5j)"
   ]
  },
  {
   "cell_type": "markdown",
   "id": "dc8d5095-b991-4940-a205-b11bbfdd4921",
   "metadata": {},
   "source": [
    "# Activity 1: Assignment Values to Variables"
   ]
  },
  {
   "cell_type": "code",
   "execution_count": 26,
   "id": "51b42abb-f6ac-4976-a068-8d7c84245263",
   "metadata": {},
   "outputs": [],
   "source": [
    "# 1. First, set 14 to the x variable\n",
    "x = 14"
   ]
  },
  {
   "cell_type": "code",
   "execution_count": 27,
   "id": "357882e4-d99f-4af2-93d7-bd4cb9766d1b",
   "metadata": {},
   "outputs": [],
   "source": [
    "# 2. Now, add 1 to x\n",
    "x += 1"
   ]
  },
  {
   "cell_type": "code",
   "execution_count": 28,
   "id": "e8e9ad58-329b-45e8-bfc0-678fb57b4d2d",
   "metadata": {},
   "outputs": [],
   "source": [
    "# 3. Finally, divide x by 5 and square it\n",
    "x = (x / 5) ** 2"
   ]
  },
  {
   "cell_type": "code",
   "execution_count": 29,
   "id": "a3da9148-6af8-4756-a11f-66192a0a2cbb",
   "metadata": {},
   "outputs": [
    {
     "name": "stdout",
     "output_type": "stream",
     "text": [
      "9.0\n"
     ]
    }
   ],
   "source": [
    "print(x)"
   ]
  },
  {
   "cell_type": "markdown",
   "id": "38763167-2e23-46a5-b6c5-99b222a7c412",
   "metadata": {},
   "source": [
    "### Activity 1 - DONE"
   ]
  },
  {
   "cell_type": "code",
   "execution_count": 30,
   "id": "c0709fc0-b398-4278-aaf3-18f6217881f5",
   "metadata": {},
   "outputs": [
    {
     "name": "stdout",
     "output_type": "stream",
     "text": [
      "['False', 'None', 'True', 'and', 'as', 'assert', 'async', 'await', 'break', 'class', 'continue', 'def', 'del', 'elif', 'else', 'except', 'finally', 'for', 'from', 'global', 'if', 'import', 'in', 'is', 'lambda', 'nonlocal', 'not', 'or', 'pass', 'raise', 'return', 'try', 'while', 'with', 'yield']\n"
     ]
    }
   ],
   "source": [
    "import keyword\n",
    "print(keyword.kwlist)"
   ]
  },
  {
   "cell_type": "markdown",
   "id": "f80c5b01-5b34-4802-ac47-2c7c265449eb",
   "metadata": {},
   "source": [
    "### Exercise 4: Variable Names"
   ]
  },
  {
   "cell_type": "code",
   "execution_count": 32,
   "id": "01202160-dbb8-49c7-85f9-2c34b747c717",
   "metadata": {},
   "outputs": [
    {
     "ename": "SyntaxError",
     "evalue": "invalid decimal literal (1203185488.py, line 1)",
     "output_type": "error",
     "traceback": [
      "\u001b[1;36m  Cell \u001b[1;32mIn[32], line 1\u001b[1;36m\u001b[0m\n\u001b[1;33m    1st_number = 1\u001b[0m\n\u001b[1;37m    ^\u001b[0m\n\u001b[1;31mSyntaxError\u001b[0m\u001b[1;31m:\u001b[0m invalid decimal literal\n"
     ]
    }
   ],
   "source": [
    "1st_number = 1"
   ]
  },
  {
   "cell_type": "code",
   "execution_count": 33,
   "id": "4515c298-ef84-417a-9475-76c9410fd408",
   "metadata": {},
   "outputs": [],
   "source": [
    "first_number = 1"
   ]
  },
  {
   "cell_type": "code",
   "execution_count": 34,
   "id": "d5bd3c2f-3bc4-4f76-a275-1ed5d0c84338",
   "metadata": {},
   "outputs": [
    {
     "ename": "SyntaxError",
     "evalue": "invalid syntax (60417283.py, line 1)",
     "output_type": "error",
     "traceback": [
      "\u001b[1;36m  Cell \u001b[1;32mIn[34], line 1\u001b[1;36m\u001b[0m\n\u001b[1;33m    my_$ = 1000.00\u001b[0m\n\u001b[1;37m       ^\u001b[0m\n\u001b[1;31mSyntaxError\u001b[0m\u001b[1;31m:\u001b[0m invalid syntax\n"
     ]
    }
   ],
   "source": [
    "my_$ = 1000.00"
   ]
  },
  {
   "cell_type": "code",
   "execution_count": 35,
   "id": "739da319-56cc-44ba-b6cb-ff5ade0cfc16",
   "metadata": {},
   "outputs": [],
   "source": [
    "my_money = 1000.0"
   ]
  },
  {
   "cell_type": "markdown",
   "id": "9b6bac4a-e195-4d93-bb5a-6aa0d630e38c",
   "metadata": {},
   "source": [
    "### Exercise 5: Multiple Variables in Python"
   ]
  },
  {
   "cell_type": "code",
   "execution_count": 36,
   "id": "327c4746-c5b2-468a-9918-dad047807b23",
   "metadata": {},
   "outputs": [],
   "source": [
    "x = 5\n",
    "y = 2"
   ]
  },
  {
   "cell_type": "code",
   "execution_count": 37,
   "id": "9d8d0396-5cf3-4a2d-bb24-38eb695dc0ee",
   "metadata": {},
   "outputs": [
    {
     "data": {
      "text/plain": [
       "6"
      ]
     },
     "execution_count": 37,
     "metadata": {},
     "output_type": "execute_result"
    }
   ],
   "source": [
    "x + x - y ** 2"
   ]
  },
  {
   "cell_type": "code",
   "execution_count": 38,
   "id": "cc7d57bc-df71-4c7a-8522-a49fa7f13a91",
   "metadata": {},
   "outputs": [],
   "source": [
    "x, y = 8, 5"
   ]
  },
  {
   "cell_type": "code",
   "execution_count": 40,
   "id": "a81fd9ae-cc75-4e99-ab18-7ae196199859",
   "metadata": {},
   "outputs": [
    {
     "data": {
      "text/plain": [
       "1"
      ]
     },
     "execution_count": 40,
     "metadata": {},
     "output_type": "execute_result"
    }
   ],
   "source": [
    "x // y"
   ]
  },
  {
   "cell_type": "markdown",
   "id": "845068dd-853b-4dce-9854-4526375ae393",
   "metadata": {},
   "source": [
    "### Exercise 6: Comments in Python"
   ]
  },
  {
   "cell_type": "code",
   "execution_count": 41,
   "id": "b97ca729-6bd0-4c2f-bad9-d5e13e3f1770",
   "metadata": {},
   "outputs": [],
   "source": [
    "# This is a comment"
   ]
  },
  {
   "cell_type": "code",
   "execution_count": 42,
   "id": "741f798e-6b17-47b5-a932-5088a9b65daf",
   "metadata": {},
   "outputs": [],
   "source": [
    "# Set the variable pi equal to 3.14\n",
    "pi = 3.14"
   ]
  },
  {
   "cell_type": "code",
   "execution_count": 43,
   "id": "8058ab70-8502-4042-af96-f7c818f869b4",
   "metadata": {},
   "outputs": [],
   "source": [
    "pi = 3.14 # Set the variable pi equal to 3.14"
   ]
  },
  {
   "cell_type": "code",
   "execution_count": 45,
   "id": "394d17d8-6f29-4cf5-a0d8-35fbacd15c47",
   "metadata": {},
   "outputs": [
    {
     "data": {
      "text/plain": [
       "'\\nThis document will explore why comments are particulary useful \\nwhen writing and reading code.\\n'"
      ]
     },
     "execution_count": 45,
     "metadata": {},
     "output_type": "execute_result"
    }
   ],
   "source": [
    "\"\"\"\n",
    "This document will explore why comments are particulary useful \n",
    "when writing and reading code.\n",
    "\"\"\""
   ]
  },
  {
   "cell_type": "markdown",
   "id": "c0180f84-459f-42b7-b9d9-a17d65b49116",
   "metadata": {},
   "source": [
    "# Activity 2: Finding a Solution Using the Pythagorean Theorem in Python"
   ]
  },
  {
   "cell_type": "code",
   "execution_count": null,
   "id": "3cf099e5-e6c9-4398-a6e6-f3bbabdfb7ba",
   "metadata": {},
   "outputs": [],
   "source": [
    "\"\"\"\n",
    "You need to assign numbers to the x, y, and z variables, square \n",
    "\"\"\""
   ]
  }
 ],
 "metadata": {
  "kernelspec": {
   "display_name": "Python 3 (ipykernel)",
   "language": "python",
   "name": "python3"
  },
  "language_info": {
   "codemirror_mode": {
    "name": "ipython",
    "version": 3
   },
   "file_extension": ".py",
   "mimetype": "text/x-python",
   "name": "python",
   "nbconvert_exporter": "python",
   "pygments_lexer": "ipython3",
   "version": "3.12.4"
  }
 },
 "nbformat": 4,
 "nbformat_minor": 5
}
