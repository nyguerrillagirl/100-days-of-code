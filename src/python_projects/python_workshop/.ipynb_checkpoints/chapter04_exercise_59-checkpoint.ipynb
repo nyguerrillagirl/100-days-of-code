{
 "cells": [
  {
   "cell_type": "markdown",
   "id": "6c3095cc-59c9-4495-b42a-aaf3be05ea1b",
   "metadata": {},
   "source": [
    "### Exercise 59: Reading Partial Content from a Text File"
   ]
  },
  {
   "cell_type": "code",
   "execution_count": 1,
   "id": "e1aea657-a123-4e6a-931d-45d42989aa76",
   "metadata": {},
   "outputs": [
    {
     "name": "stdout",
     "output_type": "stream",
     "text": [
      "The P\n"
     ]
    }
   ],
   "source": [
    "with open(\"pg37431.txt\") as f:\n",
    "    print(f.read(5))"
   ]
  },
  {
   "cell_type": "code",
   "execution_count": 2,
   "id": "048d9528-6c33-425a-b1e0-65dd5a49f2d3",
   "metadata": {},
   "outputs": [
    {
     "name": "stdout",
     "output_type": "stream",
     "text": [
      "The Project Gutenberg EBook of Pride and Prejudice, a play, by \n",
      "\n"
     ]
    }
   ],
   "source": [
    "with open(\"pg37431.txt\") as f:\n",
    "    print(f.readline())"
   ]
  },
  {
   "cell_type": "code",
   "execution_count": null,
   "id": "9f842931-c9de-4f8c-ad2d-00423df47766",
   "metadata": {},
   "outputs": [],
   "source": []
  }
 ],
 "metadata": {
  "kernelspec": {
   "display_name": "Python 3 (ipykernel)",
   "language": "python",
   "name": "python3"
  },
  "language_info": {
   "codemirror_mode": {
    "name": "ipython",
    "version": 3
   },
   "file_extension": ".py",
   "mimetype": "text/x-python",
   "name": "python",
   "nbconvert_exporter": "python",
   "pygments_lexer": "ipython3",
   "version": "3.12.4"
  }
 },
 "nbformat": 4,
 "nbformat_minor": 5
}
