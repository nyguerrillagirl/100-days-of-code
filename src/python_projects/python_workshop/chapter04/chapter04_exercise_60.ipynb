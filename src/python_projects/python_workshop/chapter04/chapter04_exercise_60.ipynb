{
 "cells": [
  {
   "cell_type": "markdown",
   "id": "abd362ae-bdfa-492e-b20e-726c79ba3733",
   "metadata": {},
   "source": [
    "### Exercise 60: Creating and Writing Content to Files to Record the Date and Time in a Text File"
   ]
  },
  {
   "cell_type": "code",
   "execution_count": 1,
   "id": "bbce4d4a-fca9-4037-9788-6508b66943a5",
   "metadata": {},
   "outputs": [],
   "source": [
    "f = open('log.txt', 'w')"
   ]
  },
  {
   "cell_type": "code",
   "execution_count": 3,
   "id": "fa1164e3-caf3-4364-be0c-8dab54e0d6c5",
   "metadata": {},
   "outputs": [
    {
     "name": "stdout",
     "output_type": "stream",
     "text": [
      "20240919_12:23:17 -  0\n",
      "20240919_12:23:18 -  1\n",
      "20240919_12:23:19 -  2\n",
      "20240919_12:23:20 -  3\n",
      "20240919_12:23:21 -  4\n",
      "20240919_12:23:22 -  5\n",
      "20240919_12:23:23 -  6\n",
      "20240919_12:23:24 -  7\n",
      "20240919_12:23:25 -  8\n",
      "20240919_12:23:26 -  9\n"
     ]
    }
   ],
   "source": [
    "from datetime import datetime\n",
    "import time\n",
    "for i in range(0,10):\n",
    "    print(datetime.now().strftime('%Y%m%d_%H:%M:%S - '),i)\n",
    "    f.write(datetime.now().strftime('%Y%m%d_%H:%M:%S - '))\n",
    "    time.sleep(1)\n",
    "    f.write(str(i))\n",
    "    f.write(\"\\n\")\n",
    "f.close()"
   ]
  },
  {
   "cell_type": "code",
   "execution_count": 4,
   "id": "7a9b5bf4-79b3-4cf9-9b14-6044e1f2a984",
   "metadata": {},
   "outputs": [
    {
     "name": "stdout",
     "output_type": "stream",
     "text": [
      "20240919_12:23:17 - 0\n",
      "20240919_12:23:18 - 1\n",
      "20240919_12:23:19 - 2\n",
      "20240919_12:23:20 - 3\n",
      "20240919_12:23:21 - 4\n",
      "20240919_12:23:22 - 5\n",
      "20240919_12:23:23 - 6\n",
      "20240919_12:23:24 - 7\n",
      "20240919_12:23:25 - 8\n",
      "20240919_12:23:26 - 9\n",
      "\n"
     ]
    }
   ],
   "source": [
    "f = open('log.txt')\n",
    "text = f.read()\n",
    "print(text)"
   ]
  },
  {
   "cell_type": "code",
   "execution_count": 5,
   "id": "d3ec86ef-bb69-4681-af79-8ee7527ae357",
   "metadata": {},
   "outputs": [],
   "source": [
    "x = 1"
   ]
  },
  {
   "cell_type": "code",
   "execution_count": 6,
   "id": "dfdbfe7b-d21c-493a-b8c7-940ff2aee0a7",
   "metadata": {},
   "outputs": [
    {
     "ename": "AssertionError",
     "evalue": "Invalid value",
     "output_type": "error",
     "traceback": [
      "\u001b[1;31m---------------------------------------------------------------------------\u001b[0m",
      "\u001b[1;31mAssertionError\u001b[0m                            Traceback (most recent call last)",
      "Cell \u001b[1;32mIn[6], line 1\u001b[0m\n\u001b[1;32m----> 1\u001b[0m \u001b[38;5;28;01massert\u001b[39;00m x \u001b[38;5;241m<\u001b[39m \u001b[38;5;241m1\u001b[39m, \u001b[38;5;124m\"\u001b[39m\u001b[38;5;124mInvalid value\u001b[39m\u001b[38;5;124m\"\u001b[39m\n",
      "\u001b[1;31mAssertionError\u001b[0m: Invalid value"
     ]
    }
   ],
   "source": [
    "assert x < 1, \"Invalid value\""
   ]
  },
  {
   "cell_type": "code",
   "execution_count": null,
   "id": "e4dd3705-d594-46ec-9c19-f47fd5bfac85",
   "metadata": {},
   "outputs": [],
   "source": []
  }
 ],
 "metadata": {
  "kernelspec": {
   "display_name": "Python 3 (ipykernel)",
   "language": "python",
   "name": "python3"
  },
  "language_info": {
   "codemirror_mode": {
    "name": "ipython",
    "version": 3
   },
   "file_extension": ".py",
   "mimetype": "text/x-python",
   "name": "python",
   "nbconvert_exporter": "python",
   "pygments_lexer": "ipython3",
   "version": "3.12.4"
  }
 },
 "nbformat": 4,
 "nbformat_minor": 5
}
