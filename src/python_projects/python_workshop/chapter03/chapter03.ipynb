{
 "cells": [
  {
   "cell_type": "markdown",
   "id": "2eb0c9c5-9e69-492a-ba44-2fc70b462139",
   "metadata": {},
   "source": [
    "### Exercise 51: Factorials with Iteration and Recursion"
   ]
  },
  {
   "cell_type": "code",
   "execution_count": 2,
   "id": "d7c0c7f0-dec1-4bc8-babf-903f09c574ce",
   "metadata": {},
   "outputs": [],
   "source": [
    "def factorial_iterative(n):\n",
    "    result = 1\n",
    "    for i in range(n):\n",
    "        result *= i + 1\n",
    "    return result"
   ]
  },
  {
   "cell_type": "code",
   "execution_count": 3,
   "id": "cac21980-f4e7-4056-9dfb-481547537ccb",
   "metadata": {},
   "outputs": [
    {
     "data": {
      "text/plain": [
       "120"
      ]
     },
     "execution_count": 3,
     "metadata": {},
     "output_type": "execute_result"
    }
   ],
   "source": [
    "factorial_iterative(5)"
   ]
  },
  {
   "cell_type": "code",
   "execution_count": 4,
   "id": "bec94fe8-3058-47f5-8e79-ac029da3aba4",
   "metadata": {},
   "outputs": [],
   "source": [
    "def factorial_recursive(n):\n",
    "    if n == 1:\n",
    "        return 1\n",
    "    else:\n",
    "        return n * factorial_recursive(n-1)"
   ]
  },
  {
   "cell_type": "code",
   "execution_count": 5,
   "id": "28a136a0-e5bd-42d9-9eb4-9fa8ae22f7cc",
   "metadata": {},
   "outputs": [
    {
     "data": {
      "text/plain": [
       "120"
      ]
     },
     "execution_count": 5,
     "metadata": {},
     "output_type": "execute_result"
    }
   ],
   "source": [
    "factorial_recursive(5)"
   ]
  },
  {
   "cell_type": "markdown",
   "id": "c06c768a-4d50-427c-978b-f24b7954e19e",
   "metadata": {},
   "source": [
    "# Activity 11: Fibonacci Function with Recursion"
   ]
  },
  {
   "cell_type": "code",
   "execution_count": 6,
   "id": "4d613f5f-5bcc-49b9-ba87-3f0ddcc14808",
   "metadata": {},
   "outputs": [],
   "source": [
    "def fibonacci_recursive(n):\n",
    "    if n == 0:\n",
    "        return 0\n",
    "    if n == 1:\n",
    "        return 1\n",
    "    return fibonacci_recursive(n-1) + fibonacci_recursive(n-2)\n",
    "    "
   ]
  },
  {
   "cell_type": "code",
   "execution_count": 8,
   "id": "706882cb-ea01-4556-a47b-5c336c8bdab6",
   "metadata": {},
   "outputs": [
    {
     "data": {
      "text/plain": [
       "55"
      ]
     },
     "execution_count": 8,
     "metadata": {},
     "output_type": "execute_result"
    }
   ],
   "source": [
    "fibonacci_recursive(10)"
   ]
  },
  {
   "cell_type": "markdown",
   "id": "01c5aa4c-6b2e-4711-b22b-dba875a7afb4",
   "metadata": {},
   "source": [
    "### Exercise 52: Summing Integer"
   ]
  },
  {
   "cell_type": "code",
   "execution_count": 16,
   "id": "69509fe9-2995-4e5c-87ce-8ab7172c9cfc",
   "metadata": {},
   "outputs": [],
   "source": [
    "import time\n",
    "stored_results = {}\n",
    "def sum_to_n(n):\n",
    "    start_time = time.perf_counter()\n",
    "    result = 0\n",
    "    for i in reversed(range(n)):\n",
    "        if i+1 in stored_results:\n",
    "            print(\"Stopping sum at %s because we have previously computed it\" % str(i+1))\n",
    "            result += stored_results[i+1]\n",
    "            break\n",
    "        else:\n",
    "            result += i + 1\n",
    "            \n",
    "    stored_results[n] = result\n",
    "    print(time.perf_counter() - start_time, \"seconds\")\n",
    "\n",
    "    return result"
   ]
  },
  {
   "cell_type": "code",
   "execution_count": 18,
   "id": "a6d8ad4d-0008-4346-a29d-db9f7169a17f",
   "metadata": {},
   "outputs": [
    {
     "name": "stdout",
     "output_type": "stream",
     "text": [
      "Stopping sum at 1000000 because we have previously computed it\n",
      "5.709996912628412e-05 seconds\n"
     ]
    },
    {
     "data": {
      "text/plain": [
       "500000500000"
      ]
     },
     "execution_count": 18,
     "metadata": {},
     "output_type": "execute_result"
    }
   ],
   "source": [
    "sum_to_n(1000000)"
   ]
  },
  {
   "cell_type": "code",
   "execution_count": 14,
   "id": "f2c6ff11-4603-4c4b-9f06-38d3192ccb4d",
   "metadata": {},
   "outputs": [
    {
     "name": "stdout",
     "output_type": "stream",
     "text": [
      "Stopping sum at 5 because we have previously computed it\n"
     ]
    },
    {
     "data": {
      "text/plain": [
       "21"
      ]
     },
     "execution_count": 14,
     "metadata": {},
     "output_type": "execute_result"
    }
   ],
   "source": [
    "sum_to_n(6)"
   ]
  },
  {
   "cell_type": "markdown",
   "id": "be069acd-760d-4c10-806a-8414dae3209d",
   "metadata": {},
   "source": [
    "### Exercise 53: Timing Your Code"
   ]
  },
  {
   "cell_type": "markdown",
   "id": "f1e1d152-e507-46fd-8251-c542f38e3863",
   "metadata": {},
   "source": [
    "# Activity 12: The Fibonacci Function with Dynamic Programming"
   ]
  },
  {
   "cell_type": "code",
   "execution_count": 1,
   "id": "dcf47452-a836-409d-ae39-a22180b6158d",
   "metadata": {},
   "outputs": [],
   "source": [
    "fibonacci_results = {}\n",
    "# Add the first two\n",
    "fibonacci_results[0] = 0\n",
    "fibonacci_results[1] = 1\n",
    "def fibonacci_dynamic(n):\n",
    "    if n in fibonacci_results:\n",
    "        return fibonacci_results[n]\n",
    "\n",
    "    if n-2 in fibonacci_results:\n",
    "        result_n_min_2 = fibonacci_results[n-2]\n",
    "    else:\n",
    "        result_n_min_2 = fibonacci_dynamic(n-2)\n",
    "        fibonacci_results[n-2] = result_n_min_2\n",
    "\n",
    "    if n-1 in fibonacci_results:\n",
    "        result_n_min_1 = fibonacci_results[n-1]\n",
    "    else:\n",
    "        result_n_min_1 = fibonacci_dynamic(n-1)\n",
    "        fibonacci_results[n-1] = result_n_min_1\n",
    "\n",
    "    \n",
    "    return result_n_min_2 + result_n_min_1"
   ]
  },
  {
   "cell_type": "code",
   "execution_count": 4,
   "id": "39af81e5-a8a3-4d23-ace1-38bc7344404e",
   "metadata": {},
   "outputs": [
    {
     "data": {
      "text/plain": [
       "55"
      ]
     },
     "execution_count": 4,
     "metadata": {},
     "output_type": "execute_result"
    }
   ],
   "source": [
    "fibonacci_dynamic(10)"
   ]
  },
  {
   "cell_type": "code",
   "execution_count": 5,
   "id": "28a77294-6695-4d90-8112-adac9719c419",
   "metadata": {},
   "outputs": [
    {
     "name": "stdout",
     "output_type": "stream",
     "text": [
      "y = 2\n",
      "x = 4\n"
     ]
    }
   ],
   "source": [
    "x = 2\n",
    "y = x\n",
    "x = 4\n",
    "print(\"y = \" + str(y))\n",
    "print(\"x = \" + str(x))"
   ]
  },
  {
   "cell_type": "code",
   "execution_count": 8,
   "id": "b16958c8-0161-4b6b-bdbb-2fd03fa6d23c",
   "metadata": {},
   "outputs": [
    {
     "name": "stdout",
     "output_type": "stream",
     "text": [
      "score: 100\n"
     ]
    }
   ],
   "source": [
    "score = 0\n",
    "def update_score(new_score):\n",
    "    global score \n",
    "    score = new_score\n",
    "\n",
    "update_score(100)\n",
    "print(\"score: \" + str(score))"
   ]
  },
  {
   "cell_type": "code",
   "execution_count": 9,
   "id": "d4dccd81-3338-4a1f-9449-aaefbf111138",
   "metadata": {},
   "outputs": [
    {
     "name": "stdout",
     "output_type": "stream",
     "text": [
      "3\n"
     ]
    }
   ],
   "source": [
    "x = 4\n",
    "def myfunc():\n",
    "    x = 3\n",
    "    def inner():\n",
    "        nonlocal x\n",
    "        print(x)\n",
    "    inner()\n",
    "\n",
    "myfunc()"
   ]
  },
  {
   "cell_type": "code",
   "execution_count": 10,
   "id": "035828d5-2e07-436d-90ba-0c0d59226feb",
   "metadata": {},
   "outputs": [
    {
     "name": "stdout",
     "output_type": "stream",
     "text": [
      "7\n"
     ]
    }
   ],
   "source": [
    "add_up = lambda x, y: x + y\n",
    "print(add_up(2,5))"
   ]
  },
  {
   "cell_type": "markdown",
   "id": "59a46959-8cda-4754-b231-8064efccd519",
   "metadata": {},
   "source": [
    "### Exercise 55: The First Item in a List"
   ]
  },
  {
   "cell_type": "code",
   "execution_count": 11,
   "id": "319f9987-3317-4f9e-bec0-75b69821fde8",
   "metadata": {},
   "outputs": [],
   "source": [
    "first_item = lambda my_list: my_list[0]"
   ]
  },
  {
   "cell_type": "code",
   "execution_count": 13,
   "id": "340eeb1b-b37f-4c62-8f33-0b4ae7b346e3",
   "metadata": {},
   "outputs": [
    {
     "data": {
      "text/plain": [
       "'cat'"
      ]
     },
     "execution_count": 13,
     "metadata": {},
     "output_type": "execute_result"
    }
   ],
   "source": [
    "first_item(['cat', 'dog', 'mouse'])"
   ]
  },
  {
   "cell_type": "code",
   "execution_count": 16,
   "id": "2f0b99e6-2fc5-4683-b453-30f52048a3c4",
   "metadata": {},
   "outputs": [],
   "source": [
    "names = ['Magda', 'Jose', 'Anne']"
   ]
  },
  {
   "cell_type": "code",
   "execution_count": 17,
   "id": "97fd643b-0dd5-43b4-931f-ef2550374f2d",
   "metadata": {},
   "outputs": [
    {
     "data": {
      "text/plain": [
       "[5, 4, 4]"
      ]
     },
     "execution_count": 17,
     "metadata": {},
     "output_type": "execute_result"
    }
   ],
   "source": [
    "lengths = []\n",
    "for name in names:\n",
    "    lengths.append(len(name))\n",
    "lengths"
   ]
  },
  {
   "cell_type": "code",
   "execution_count": 18,
   "id": "425291ec-08fd-4ce9-af69-cd0538547aa7",
   "metadata": {},
   "outputs": [
    {
     "name": "stdout",
     "output_type": "stream",
     "text": [
      "[5, 4, 4]\n"
     ]
    }
   ],
   "source": [
    "lengths = list(map(len, names))\n",
    "print(lengths)"
   ]
  },
  {
   "cell_type": "code",
   "execution_count": 19,
   "id": "c2fe6d3f-3d6f-4e9f-a068-8499b8f809b9",
   "metadata": {},
   "outputs": [
    {
     "data": {
      "text/plain": [
       "4.333333333333333"
      ]
     },
     "execution_count": 19,
     "metadata": {},
     "output_type": "execute_result"
    }
   ],
   "source": [
    "sum(lengths) / len(lengths)"
   ]
  },
  {
   "cell_type": "markdown",
   "id": "555ad8b0-a92d-44e5-a8b1-ac812b94593e",
   "metadata": {},
   "source": [
    "### Exercise 56: Mapping with a Logistic Transform"
   ]
  },
  {
   "cell_type": "code",
   "execution_count": 20,
   "id": "9acafbb4-4bd7-4779-af7d-a7bb1ec3bddc",
   "metadata": {},
   "outputs": [
    {
     "data": {
      "text/plain": [
       "[0.04742587317756678,\n",
       " 0.0066928509242848554,\n",
       " 0.7310585786300049,\n",
       " 0.9820137900379085]"
      ]
     },
     "execution_count": 20,
     "metadata": {},
     "output_type": "execute_result"
    }
   ],
   "source": [
    "import math\n",
    "nums = [-3, -5, 1, 4]\n",
    "list(map(lambda x: 1 / (1 + math.exp(-x)), nums))"
   ]
  },
  {
   "cell_type": "code",
   "execution_count": 21,
   "id": "0399dad5-bd60-47fe-a63d-406add993320",
   "metadata": {},
   "outputs": [
    {
     "data": {
      "text/plain": [
       "['Jim', 'Kim']"
      ]
     },
     "execution_count": 21,
     "metadata": {},
     "output_type": "execute_result"
    }
   ],
   "source": [
    "names = ['Karen', 'Jim', 'Kim']\n",
    "list(filter(lambda name: len(name) == 3, names))"
   ]
  },
  {
   "cell_type": "markdown",
   "id": "21f5f090-0345-431b-9383-07150d8e1e06",
   "metadata": {},
   "source": [
    "### Exercise 57: Using the Filter Lambda"
   ]
  },
  {
   "cell_type": "code",
   "execution_count": 22,
   "id": "63aa4434-cb6b-445c-a574-3e93a1100771",
   "metadata": {},
   "outputs": [],
   "source": [
    "nums = list(range(1000))"
   ]
  },
  {
   "cell_type": "code",
   "execution_count": 23,
   "id": "248b9c5d-2c4c-4ac8-9f97-cbec8da4d30d",
   "metadata": {},
   "outputs": [],
   "source": [
    "filtered = filter(lambda x: x % 3 == 0 or x % 7 == 0, nums)"
   ]
  },
  {
   "cell_type": "code",
   "execution_count": 24,
   "id": "e2cd3f2b-21b3-4755-bfe2-9b17a64c96ef",
   "metadata": {},
   "outputs": [
    {
     "data": {
      "text/plain": [
       "214216"
      ]
     },
     "execution_count": 24,
     "metadata": {},
     "output_type": "execute_result"
    }
   ],
   "source": [
    "sum(filtered)"
   ]
  },
  {
   "cell_type": "code",
   "execution_count": null,
   "id": "e064dfbc-e4bf-4862-a705-b899f651385b",
   "metadata": {},
   "outputs": [],
   "source": []
  }
 ],
 "metadata": {
  "kernelspec": {
   "display_name": "Python 3 (ipykernel)",
   "language": "python",
   "name": "python3"
  },
  "language_info": {
   "codemirror_mode": {
    "name": "ipython",
    "version": 3
   },
   "file_extension": ".py",
   "mimetype": "text/x-python",
   "name": "python",
   "nbconvert_exporter": "python",
   "pygments_lexer": "ipython3",
   "version": "3.12.4"
  }
 },
 "nbformat": 4,
 "nbformat_minor": 5
}
