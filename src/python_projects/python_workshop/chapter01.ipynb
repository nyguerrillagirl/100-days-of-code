{
 "cells": [
  {
   "cell_type": "code",
   "execution_count": 1,
   "id": "cc9dbf3e-642b-4974-a1b3-90a9acfdb91e",
   "metadata": {},
   "outputs": [
    {
     "data": {
      "text/plain": [
       "7"
      ]
     },
     "execution_count": 1,
     "metadata": {},
     "output_type": "execute_result"
    }
   ],
   "source": [
    "5 + 2"
   ]
  },
  {
   "cell_type": "code",
   "execution_count": 2,
   "id": "7c0921d5-4701-42d7-a377-3b4ec93a0c9f",
   "metadata": {},
   "outputs": [
    {
     "data": {
      "text/plain": [
       "3"
      ]
     },
     "execution_count": 2,
     "metadata": {},
     "output_type": "execute_result"
    }
   ],
   "source": [
    "5 - 2"
   ]
  },
  {
   "cell_type": "code",
   "execution_count": 3,
   "id": "3176f622-2acc-4bf1-9937-4324a9b844b9",
   "metadata": {},
   "outputs": [
    {
     "data": {
      "text/plain": [
       "2.5"
      ]
     },
     "execution_count": 3,
     "metadata": {},
     "output_type": "execute_result"
    }
   ],
   "source": [
    "5 / 2"
   ]
  },
  {
   "cell_type": "code",
   "execution_count": 4,
   "id": "7992629f-58eb-448e-acbf-911460c376e9",
   "metadata": {},
   "outputs": [
    {
     "data": {
      "text/plain": [
       "2"
      ]
     },
     "execution_count": 4,
     "metadata": {},
     "output_type": "execute_result"
    }
   ],
   "source": [
    "5 // 2"
   ]
  },
  {
   "cell_type": "code",
   "execution_count": 5,
   "id": "ba820334-37ae-43ba-b2ac-8ef60fabf801",
   "metadata": {},
   "outputs": [
    {
     "data": {
      "text/plain": [
       "25"
      ]
     },
     "execution_count": 5,
     "metadata": {},
     "output_type": "execute_result"
    }
   ],
   "source": [
    "5 ** 2"
   ]
  },
  {
   "cell_type": "code",
   "execution_count": 6,
   "id": "1a165e00-0975-4ff0-b7cb-aa40b0995cc3",
   "metadata": {},
   "outputs": [
    {
     "data": {
      "text/plain": [
       "1"
      ]
     },
     "execution_count": 6,
     "metadata": {},
     "output_type": "execute_result"
    }
   ],
   "source": [
    "5 % 2"
   ]
  },
  {
   "cell_type": "code",
   "execution_count": 7,
   "id": "f7e93673-b82a-44c8-88d9-2aaa0dff146c",
   "metadata": {},
   "outputs": [
    {
     "data": {
      "text/plain": [
       "-5.0"
      ]
     },
     "execution_count": 7,
     "metadata": {},
     "output_type": "execute_result"
    }
   ],
   "source": [
    "(100 - 5 ** 3) / 5"
   ]
  },
  {
   "cell_type": "code",
   "execution_count": 8,
   "id": "51808ce7-87b4-4355-92c8-d639b367bfba",
   "metadata": {},
   "outputs": [
    {
     "data": {
      "text/plain": [
       "int"
      ]
     },
     "execution_count": 8,
     "metadata": {},
     "output_type": "execute_result"
    }
   ],
   "source": [
    "type(6)"
   ]
  },
  {
   "cell_type": "code",
   "execution_count": 9,
   "id": "edae2f36-b58f-4901-b1bd-af8856292395",
   "metadata": {},
   "outputs": [
    {
     "data": {
      "text/plain": [
       "float"
      ]
     },
     "execution_count": 9,
     "metadata": {},
     "output_type": "execute_result"
    }
   ],
   "source": [
    "type(6.0)"
   ]
  },
  {
   "cell_type": "code",
   "execution_count": 10,
   "id": "350efd61-4292-4315-8b09-e4ffc036b31b",
   "metadata": {},
   "outputs": [],
   "source": [
    "sum = 5 + 3.14"
   ]
  },
  {
   "cell_type": "code",
   "execution_count": 11,
   "id": "2c97ad6c-753e-4540-a7fb-4e6d5f6d2820",
   "metadata": {},
   "outputs": [
    {
     "data": {
      "text/plain": [
       "float"
      ]
     },
     "execution_count": 11,
     "metadata": {},
     "output_type": "execute_result"
    }
   ],
   "source": [
    "type(sum)"
   ]
  },
  {
   "cell_type": "code",
   "execution_count": 12,
   "id": "66394bad-ff6a-494a-a64a-99b1ef326682",
   "metadata": {},
   "outputs": [
    {
     "data": {
      "text/plain": [
       "7"
      ]
     },
     "execution_count": 12,
     "metadata": {},
     "output_type": "execute_result"
    }
   ],
   "source": [
    "int(7.999999999)"
   ]
  },
  {
   "cell_type": "code",
   "execution_count": 13,
   "id": "d84574e3-7e77-4809-974b-5b2ae0d0fb08",
   "metadata": {},
   "outputs": [
    {
     "data": {
      "text/plain": [
       "6.0"
      ]
     },
     "execution_count": 13,
     "metadata": {},
     "output_type": "execute_result"
    }
   ],
   "source": [
    "float(6)"
   ]
  },
  {
   "cell_type": "code",
   "execution_count": 14,
   "id": "0aef83ee-583d-4d91-9e03-2376f5f9331e",
   "metadata": {},
   "outputs": [
    {
     "data": {
      "text/plain": [
       "(-0.5+0.5j)"
      ]
     },
     "execution_count": 14,
     "metadata": {},
     "output_type": "execute_result"
    }
   ],
   "source": [
    "(2 + 3j) / (1 - 5j)"
   ]
  },
  {
   "cell_type": "markdown",
   "id": "dc8d5095-b991-4940-a205-b11bbfdd4921",
   "metadata": {},
   "source": [
    "# Activity 1: Assignment Values to Variables"
   ]
  },
  {
   "cell_type": "code",
   "execution_count": 26,
   "id": "51b42abb-f6ac-4976-a068-8d7c84245263",
   "metadata": {},
   "outputs": [],
   "source": [
    "# 1. First, set 14 to the x variable\n",
    "x = 14"
   ]
  },
  {
   "cell_type": "code",
   "execution_count": 27,
   "id": "357882e4-d99f-4af2-93d7-bd4cb9766d1b",
   "metadata": {},
   "outputs": [],
   "source": [
    "# 2. Now, add 1 to x\n",
    "x += 1"
   ]
  },
  {
   "cell_type": "code",
   "execution_count": 28,
   "id": "e8e9ad58-329b-45e8-bfc0-678fb57b4d2d",
   "metadata": {},
   "outputs": [],
   "source": [
    "# 3. Finally, divide x by 5 and square it\n",
    "x = (x / 5) ** 2"
   ]
  },
  {
   "cell_type": "code",
   "execution_count": 29,
   "id": "a3da9148-6af8-4756-a11f-66192a0a2cbb",
   "metadata": {},
   "outputs": [
    {
     "name": "stdout",
     "output_type": "stream",
     "text": [
      "9.0\n"
     ]
    }
   ],
   "source": [
    "print(x)"
   ]
  },
  {
   "cell_type": "markdown",
   "id": "38763167-2e23-46a5-b6c5-99b222a7c412",
   "metadata": {},
   "source": [
    "### Activity 1 - DONE"
   ]
  },
  {
   "cell_type": "code",
   "execution_count": 30,
   "id": "c0709fc0-b398-4278-aaf3-18f6217881f5",
   "metadata": {},
   "outputs": [
    {
     "name": "stdout",
     "output_type": "stream",
     "text": [
      "['False', 'None', 'True', 'and', 'as', 'assert', 'async', 'await', 'break', 'class', 'continue', 'def', 'del', 'elif', 'else', 'except', 'finally', 'for', 'from', 'global', 'if', 'import', 'in', 'is', 'lambda', 'nonlocal', 'not', 'or', 'pass', 'raise', 'return', 'try', 'while', 'with', 'yield']\n"
     ]
    }
   ],
   "source": [
    "import keyword\n",
    "print(keyword.kwlist)"
   ]
  },
  {
   "cell_type": "markdown",
   "id": "f80c5b01-5b34-4802-ac47-2c7c265449eb",
   "metadata": {},
   "source": [
    "### Exercise 4: Variable Names"
   ]
  },
  {
   "cell_type": "code",
   "execution_count": 32,
   "id": "01202160-dbb8-49c7-85f9-2c34b747c717",
   "metadata": {},
   "outputs": [
    {
     "ename": "SyntaxError",
     "evalue": "invalid decimal literal (1203185488.py, line 1)",
     "output_type": "error",
     "traceback": [
      "\u001b[1;36m  Cell \u001b[1;32mIn[32], line 1\u001b[1;36m\u001b[0m\n\u001b[1;33m    1st_number = 1\u001b[0m\n\u001b[1;37m    ^\u001b[0m\n\u001b[1;31mSyntaxError\u001b[0m\u001b[1;31m:\u001b[0m invalid decimal literal\n"
     ]
    }
   ],
   "source": [
    "1st_number = 1"
   ]
  },
  {
   "cell_type": "code",
   "execution_count": 33,
   "id": "4515c298-ef84-417a-9475-76c9410fd408",
   "metadata": {},
   "outputs": [],
   "source": [
    "first_number = 1"
   ]
  },
  {
   "cell_type": "code",
   "execution_count": 34,
   "id": "d5bd3c2f-3bc4-4f76-a275-1ed5d0c84338",
   "metadata": {},
   "outputs": [
    {
     "ename": "SyntaxError",
     "evalue": "invalid syntax (60417283.py, line 1)",
     "output_type": "error",
     "traceback": [
      "\u001b[1;36m  Cell \u001b[1;32mIn[34], line 1\u001b[1;36m\u001b[0m\n\u001b[1;33m    my_$ = 1000.00\u001b[0m\n\u001b[1;37m       ^\u001b[0m\n\u001b[1;31mSyntaxError\u001b[0m\u001b[1;31m:\u001b[0m invalid syntax\n"
     ]
    }
   ],
   "source": [
    "my_$ = 1000.00"
   ]
  },
  {
   "cell_type": "code",
   "execution_count": 35,
   "id": "739da319-56cc-44ba-b6cb-ff5ade0cfc16",
   "metadata": {},
   "outputs": [],
   "source": [
    "my_money = 1000.0"
   ]
  },
  {
   "cell_type": "markdown",
   "id": "9b6bac4a-e195-4d93-bb5a-6aa0d630e38c",
   "metadata": {},
   "source": [
    "### Exercise 5: Multiple Variables in Python"
   ]
  },
  {
   "cell_type": "code",
   "execution_count": 36,
   "id": "327c4746-c5b2-468a-9918-dad047807b23",
   "metadata": {},
   "outputs": [],
   "source": [
    "x = 5\n",
    "y = 2"
   ]
  },
  {
   "cell_type": "code",
   "execution_count": 37,
   "id": "9d8d0396-5cf3-4a2d-bb24-38eb695dc0ee",
   "metadata": {},
   "outputs": [
    {
     "data": {
      "text/plain": [
       "6"
      ]
     },
     "execution_count": 37,
     "metadata": {},
     "output_type": "execute_result"
    }
   ],
   "source": [
    "x + x - y ** 2"
   ]
  },
  {
   "cell_type": "code",
   "execution_count": 38,
   "id": "cc7d57bc-df71-4c7a-8522-a49fa7f13a91",
   "metadata": {},
   "outputs": [],
   "source": [
    "x, y = 8, 5"
   ]
  },
  {
   "cell_type": "code",
   "execution_count": 40,
   "id": "a81fd9ae-cc75-4e99-ab18-7ae196199859",
   "metadata": {},
   "outputs": [
    {
     "data": {
      "text/plain": [
       "1"
      ]
     },
     "execution_count": 40,
     "metadata": {},
     "output_type": "execute_result"
    }
   ],
   "source": [
    "x // y"
   ]
  },
  {
   "cell_type": "markdown",
   "id": "845068dd-853b-4dce-9854-4526375ae393",
   "metadata": {},
   "source": [
    "### Exercise 6: Comments in Python"
   ]
  },
  {
   "cell_type": "code",
   "execution_count": 41,
   "id": "b97ca729-6bd0-4c2f-bad9-d5e13e3f1770",
   "metadata": {},
   "outputs": [],
   "source": [
    "# This is a comment"
   ]
  },
  {
   "cell_type": "code",
   "execution_count": 42,
   "id": "741f798e-6b17-47b5-a932-5088a9b65daf",
   "metadata": {},
   "outputs": [],
   "source": [
    "# Set the variable pi equal to 3.14\n",
    "pi = 3.14"
   ]
  },
  {
   "cell_type": "code",
   "execution_count": 43,
   "id": "8058ab70-8502-4042-af96-f7c818f869b4",
   "metadata": {},
   "outputs": [],
   "source": [
    "pi = 3.14 # Set the variable pi equal to 3.14"
   ]
  },
  {
   "cell_type": "code",
   "execution_count": 45,
   "id": "394d17d8-6f29-4cf5-a0d8-35fbacd15c47",
   "metadata": {},
   "outputs": [
    {
     "data": {
      "text/plain": [
       "'\\nThis document will explore why comments are particulary useful \\nwhen writing and reading code.\\n'"
      ]
     },
     "execution_count": 45,
     "metadata": {},
     "output_type": "execute_result"
    }
   ],
   "source": [
    "\"\"\"\n",
    "This document will explore why comments are particulary useful \n",
    "when writing and reading code.\n",
    "\"\"\""
   ]
  },
  {
   "cell_type": "markdown",
   "id": "c0180f84-459f-42b7-b9d9-a17d65b49116",
   "metadata": {},
   "source": [
    "# Activity 2: Finding a Solution Using the Pythagorean Theorem in Python"
   ]
  },
  {
   "cell_type": "code",
   "execution_count": 1,
   "id": "3cf099e5-e6c9-4398-a6e6-f3bbabdfb7ba",
   "metadata": {},
   "outputs": [
    {
     "data": {
      "text/plain": [
       "'\\nYou need to assign numbers to the x, y, and z variables, square the variables, \\nand take the square root to obtain the distance.\\nWe will determining the Pythagorean distance between three points.\\n'"
      ]
     },
     "execution_count": 1,
     "metadata": {},
     "output_type": "execute_result"
    }
   ],
   "source": [
    "\"\"\"\n",
    "You need to assign numbers to the x, y, and z variables, square the variables, \n",
    "and take the square root to obtain the distance.\n",
    "We will determining the Pythagorean distance between three points.\n",
    "\"\"\""
   ]
  },
  {
   "cell_type": "code",
   "execution_count": 3,
   "id": "161bee59-7bd3-47bb-8d14-486e9761f27e",
   "metadata": {},
   "outputs": [
    {
     "name": "stdout",
     "output_type": "stream",
     "text": [
      "pythagorean_distance:  5.385164807134504\n"
     ]
    }
   ],
   "source": [
    "import math\n",
    "x, y, z = 2, 3, 4\n",
    "pythagorean_distance = math.sqrt(x ** 2 + y ** 2 + z ** 2)\n",
    "print(\"pythagorean_distance: \", pythagorean_distance)"
   ]
  },
  {
   "cell_type": "markdown",
   "id": "02c764d6-5bcf-41e8-9f80-6198c15a643c",
   "metadata": {},
   "source": [
    "### Activity 2 - DONE"
   ]
  },
  {
   "cell_type": "code",
   "execution_count": 4,
   "id": "991b86e8-2c4b-4c1d-9ce5-cc83b413afbd",
   "metadata": {},
   "outputs": [],
   "source": [
    "bookstore = 'City Lights'"
   ]
  },
  {
   "cell_type": "code",
   "execution_count": 5,
   "id": "aba9c9be-c079-4a36-9089-a61668d79b9a",
   "metadata": {},
   "outputs": [
    {
     "ename": "SyntaxError",
     "evalue": "unterminated string literal (detected at line 1) (2747506218.py, line 1)",
     "output_type": "error",
     "traceback": [
      "\u001b[1;36m  Cell \u001b[1;32mIn[5], line 1\u001b[1;36m\u001b[0m\n\u001b[1;33m    bookstore = 'City Lights\"\u001b[0m\n\u001b[1;37m                ^\u001b[0m\n\u001b[1;31mSyntaxError\u001b[0m\u001b[1;31m:\u001b[0m unterminated string literal (detected at line 1)\n"
     ]
    }
   ],
   "source": [
    "bookstore = 'City Lights\""
   ]
  },
  {
   "cell_type": "code",
   "execution_count": 6,
   "id": "959ac186-c011-4245-9f8e-e1402d86e223",
   "metadata": {},
   "outputs": [],
   "source": [
    "bookstore = \"Moe's\""
   ]
  },
  {
   "cell_type": "code",
   "execution_count": 7,
   "id": "78b7e871-eebd-41af-b099-4a97374ebde4",
   "metadata": {},
   "outputs": [
    {
     "ename": "SyntaxError",
     "evalue": "unterminated string literal (detected at line 1) (857763567.py, line 1)",
     "output_type": "error",
     "traceback": [
      "\u001b[1;36m  Cell \u001b[1;32mIn[7], line 1\u001b[1;36m\u001b[0m\n\u001b[1;33m    bookstore = 'Moe's'\u001b[0m\n\u001b[1;37m                      ^\u001b[0m\n\u001b[1;31mSyntaxError\u001b[0m\u001b[1;31m:\u001b[0m unterminated string literal (detected at line 1)\n"
     ]
    }
   ],
   "source": [
    "bookstore = 'Moe's'"
   ]
  },
  {
   "cell_type": "code",
   "execution_count": 8,
   "id": "dc941637-f2ef-49e4-bd00-135dc8c20666",
   "metadata": {},
   "outputs": [
    {
     "name": "stdout",
     "output_type": "stream",
     "text": [
      "\u0007\u0007\u0007\u0007\u0007\u0007\n"
     ]
    }
   ],
   "source": [
    "print(\"\\a\\a\\a\\a\\a\\a\")"
   ]
  },
  {
   "cell_type": "code",
   "execution_count": 9,
   "id": "b7728de2-65c3-46da-8657-ef1a8eb62835",
   "metadata": {},
   "outputs": [],
   "source": [
    "bookstore = 'Moe\\'s'"
   ]
  },
  {
   "cell_type": "code",
   "execution_count": 10,
   "id": "9d8778d6-ee3c-4031-8ee4-02626a17ac42",
   "metadata": {},
   "outputs": [
    {
     "name": "stdout",
     "output_type": "stream",
     "text": [
      "Moe's\n"
     ]
    }
   ],
   "source": [
    "print(bookstore)"
   ]
  },
  {
   "cell_type": "code",
   "execution_count": 11,
   "id": "50961648-a497-4a6f-bc10-109db4018aba",
   "metadata": {},
   "outputs": [],
   "source": [
    "vacation_note = '''\n",
    "During our vacation to San Francisco, we waited in a long line by\n",
    "Powell St. Station to take the cable car. Tap dancers performed on\n",
    "wooden boards. By the time our cable car arrived, we started looking online\n",
    "for a good place to eat. We're heading to North Beach.\n",
    "'''"
   ]
  },
  {
   "cell_type": "code",
   "execution_count": 12,
   "id": "6497999c-7956-433e-aee3-48bf4355f276",
   "metadata": {},
   "outputs": [
    {
     "name": "stdout",
     "output_type": "stream",
     "text": [
      "\n",
      "During our vacation to San Francisco, we waited in a long line by\n",
      "Powell St. Station to take the cable car. Tap dancers performed on\n",
      "wooden boards. By the time our cable car arrived, we started looking online\n",
      "for a good place to eat. We're heading to North Beach.\n",
      "\n"
     ]
    }
   ],
   "source": [
    "print(vacation_note)"
   ]
  },
  {
   "cell_type": "markdown",
   "id": "e09df144-e7b6-4163-bb6f-a2544f648e06",
   "metadata": {},
   "source": [
    "### Exercise 8: Displaying Strings"
   ]
  },
  {
   "cell_type": "code",
   "execution_count": 13,
   "id": "6b03cd5a-aff0-4cf9-9dd1-110db9d60d2f",
   "metadata": {},
   "outputs": [
    {
     "name": "stdout",
     "output_type": "stream",
     "text": [
      "Hello\n"
     ]
    }
   ],
   "source": [
    "greeting = 'Hello'\n",
    "print(greeting)"
   ]
  },
  {
   "cell_type": "code",
   "execution_count": 14,
   "id": "c1e149ee-40c7-42fc-a9a5-303bbe1d2385",
   "metadata": {},
   "outputs": [
    {
     "data": {
      "text/plain": [
       "'Hello'"
      ]
     },
     "execution_count": 14,
     "metadata": {},
     "output_type": "execute_result"
    }
   ],
   "source": [
    "greeting"
   ]
  },
  {
   "cell_type": "code",
   "execution_count": 15,
   "id": "ff3d4a2a-86ac-4f44-8414-0449a0134088",
   "metadata": {},
   "outputs": [],
   "source": [
    "spanish_greeting = \"Hola.\"\n",
    "spanish_greeting\n",
    "arabic_greeting = 'Ahlan wa sahlan.'"
   ]
  },
  {
   "cell_type": "code",
   "execution_count": 16,
   "id": "211fe112-ca4d-4f2a-b57d-832f5a0ed83a",
   "metadata": {},
   "outputs": [
    {
     "name": "stdout",
     "output_type": "stream",
     "text": [
      "Hola.\n"
     ]
    }
   ],
   "source": [
    "spanish_greeting = \"Hola.\"\n",
    "print(spanish_greeting)"
   ]
  },
  {
   "cell_type": "code",
   "execution_count": 17,
   "id": "76938f52-db5b-4e3a-83bf-d68ab26a5f32",
   "metadata": {},
   "outputs": [
    {
     "name": "stdout",
     "output_type": "stream",
     "text": [
      "Ahlan wa sahlan.\n"
     ]
    }
   ],
   "source": [
    "arabic_greeting = 'Ahlan wa sahlan.'\n",
    "print(arabic_greeting)"
   ]
  },
  {
   "cell_type": "markdown",
   "id": "46655637-e92a-4647-9153-9ebe116c621d",
   "metadata": {},
   "source": [
    "### Exercise 9: String Concatenation"
   ]
  },
  {
   "cell_type": "code",
   "execution_count": 18,
   "id": "6e342795-95a3-4f21-a896-5de4ea1263fd",
   "metadata": {},
   "outputs": [
    {
     "name": "stdout",
     "output_type": "stream",
     "text": [
      "HolaSenor.\n"
     ]
    }
   ],
   "source": [
    "spanish_greeting = \"Hola\"\n",
    "print(spanish_greeting + 'Senor.')"
   ]
  },
  {
   "cell_type": "code",
   "execution_count": 19,
   "id": "8c0206a4-56a8-4a7b-b632-80e9ad17b72d",
   "metadata": {},
   "outputs": [
    {
     "name": "stdout",
     "output_type": "stream",
     "text": [
      "Hola Senor.\n"
     ]
    }
   ],
   "source": [
    "spanish_greeting = \"Hola \"\n",
    "print(spanish_greeting + 'Senor.')"
   ]
  },
  {
   "cell_type": "code",
   "execution_count": 20,
   "id": "85142278-4e73-407c-b658-ae9a44d6c7d1",
   "metadata": {},
   "outputs": [
    {
     "name": "stdout",
     "output_type": "stream",
     "text": [
      "HelloHelloHelloHelloHello\n"
     ]
    }
   ],
   "source": [
    "greeting = 'Hello'\n",
    "print(greeting * 5)"
   ]
  },
  {
   "cell_type": "code",
   "execution_count": 21,
   "id": "89840a21-c9e3-4d57-8841-183737752620",
   "metadata": {},
   "outputs": [
    {
     "name": "stdout",
     "output_type": "stream",
     "text": [
      "Should we greet people with Ciao in North Beach?\n"
     ]
    }
   ],
   "source": [
    "italian_greeting = 'Ciao'\n",
    "print('Should we greet people with', italian_greeting, 'in North Beach?')"
   ]
  },
  {
   "cell_type": "code",
   "execution_count": 22,
   "id": "6ece4746-1a3f-4a88-8d58-075221fe2d86",
   "metadata": {},
   "outputs": [
    {
     "name": "stdout",
     "output_type": "stream",
     "text": [
      "The founder of City Lights Bookstore, Lawrence Ferlinghetti, is now 100 years old.\n"
     ]
    }
   ],
   "source": [
    "owner = 'Lawrence Ferlinghetti'\n",
    "age = 100\n",
    "print('The founder of City Lights Bookstore, {}, is now {} years old.'.format(owner, age))"
   ]
  },
  {
   "cell_type": "code",
   "execution_count": 23,
   "id": "0beea8fc-7c25-4e04-a668-1e87647bc2f4",
   "metadata": {},
   "outputs": [
    {
     "data": {
      "text/plain": [
       "16"
      ]
     },
     "execution_count": 23,
     "metadata": {},
     "output_type": "execute_result"
    }
   ],
   "source": [
    "len(arabic_greeting)"
   ]
  },
  {
   "cell_type": "markdown",
   "id": "1c0c21db-187b-45ac-bc62-a3f5086bb6f9",
   "metadata": {},
   "source": [
    "### Exercise 10: String Methods"
   ]
  },
  {
   "cell_type": "code",
   "execution_count": 24,
   "id": "bf1de692-c9e7-4784-8af3-0fb105c44445",
   "metadata": {},
   "outputs": [],
   "source": [
    "name = 'Corey'"
   ]
  },
  {
   "cell_type": "code",
   "execution_count": 25,
   "id": "4af22b04-6359-4657-9f77-108b5d5f22c3",
   "metadata": {},
   "outputs": [
    {
     "data": {
      "text/plain": [
       "'corey'"
      ]
     },
     "execution_count": 25,
     "metadata": {},
     "output_type": "execute_result"
    }
   ],
   "source": [
    "name.lower()"
   ]
  },
  {
   "cell_type": "code",
   "execution_count": 26,
   "id": "d379554f-9fbd-4204-85d2-7842a40276fa",
   "metadata": {},
   "outputs": [
    {
     "data": {
      "text/plain": [
       "'Corey'"
      ]
     },
     "execution_count": 26,
     "metadata": {},
     "output_type": "execute_result"
    }
   ],
   "source": [
    "name.capitalize()"
   ]
  },
  {
   "cell_type": "code",
   "execution_count": 27,
   "id": "7b6e5fe7-583f-4908-8233-df39c629a0fd",
   "metadata": {},
   "outputs": [
    {
     "data": {
      "text/plain": [
       "'COREY'"
      ]
     },
     "execution_count": 27,
     "metadata": {},
     "output_type": "execute_result"
    }
   ],
   "source": [
    "name.upper()"
   ]
  },
  {
   "cell_type": "code",
   "execution_count": 28,
   "id": "5cad814e-3686-423b-9df9-4bf2bc49ba7e",
   "metadata": {},
   "outputs": [
    {
     "data": {
      "text/plain": [
       "1"
      ]
     },
     "execution_count": 28,
     "metadata": {},
     "output_type": "execute_result"
    }
   ],
   "source": [
    "name.count('o')"
   ]
  },
  {
   "cell_type": "markdown",
   "id": "a0ff3e91-bef3-4a5b-bed7-2080cfafdad1",
   "metadata": {},
   "source": [
    "### Exercise 11: Types and Casting"
   ]
  },
  {
   "cell_type": "code",
   "execution_count": 29,
   "id": "1a090e41-0f1b-4677-9bdd-b6aa3e15052a",
   "metadata": {},
   "outputs": [
    {
     "data": {
      "text/plain": [
       "str"
      ]
     },
     "execution_count": 29,
     "metadata": {},
     "output_type": "execute_result"
    }
   ],
   "source": [
    "type('5')"
   ]
  },
  {
   "cell_type": "code",
   "execution_count": 30,
   "id": "81257811-5bb3-4846-9f7c-5daddcfc6bb7",
   "metadata": {},
   "outputs": [
    {
     "data": {
      "text/plain": [
       "'57'"
      ]
     },
     "execution_count": 30,
     "metadata": {},
     "output_type": "execute_result"
    }
   ],
   "source": [
    "'5' + '7'"
   ]
  },
  {
   "cell_type": "code",
   "execution_count": 31,
   "id": "17f95262-b407-45ac-b2bd-efc7318bc01e",
   "metadata": {},
   "outputs": [
    {
     "data": {
      "text/plain": [
       "5"
      ]
     },
     "execution_count": 31,
     "metadata": {},
     "output_type": "execute_result"
    }
   ],
   "source": [
    "int ('5')"
   ]
  },
  {
   "cell_type": "code",
   "execution_count": 32,
   "id": "5fc4c149-1dde-4d7f-9205-714d3704d172",
   "metadata": {},
   "outputs": [
    {
     "data": {
      "text/plain": [
       "12"
      ]
     },
     "execution_count": 32,
     "metadata": {},
     "output_type": "execute_result"
    }
   ],
   "source": [
    "int('5') + int('7')"
   ]
  },
  {
   "cell_type": "markdown",
   "id": "069e83de-78c2-466a-92d9-9c898cd35499",
   "metadata": {},
   "source": [
    "### Exercise 12: The input() Function"
   ]
  },
  {
   "cell_type": "code",
   "execution_count": 34,
   "id": "98b9f033-0e44-455b-adb7-ee488f3cc269",
   "metadata": {},
   "outputs": [
    {
     "name": "stdout",
     "output_type": "stream",
     "text": [
      "What is your name?\n"
     ]
    }
   ],
   "source": [
    "# Choose a question to ask\n",
    "print('What is your name?')"
   ]
  },
  {
   "cell_type": "code",
   "execution_count": 35,
   "id": "d22b6222-29ef-48cb-94a8-d36f6a972a74",
   "metadata": {},
   "outputs": [
    {
     "name": "stdin",
     "output_type": "stream",
     "text": [
      " Corey\n"
     ]
    }
   ],
   "source": [
    "name = input()"
   ]
  },
  {
   "cell_type": "code",
   "execution_count": 36,
   "id": "6df86608-92cd-4632-b95e-bff6f79ce58f",
   "metadata": {},
   "outputs": [
    {
     "name": "stdout",
     "output_type": "stream",
     "text": [
      "Hello, Corey.\n"
     ]
    }
   ],
   "source": [
    "print('Hello, ' + name + '.')"
   ]
  },
  {
   "cell_type": "markdown",
   "id": "1e0f6590-d51e-4dce-bca4-fb0f7ab0451c",
   "metadata": {},
   "source": [
    "# Activity 3: Using the input() Function to Rate Your Day"
   ]
  },
  {
   "cell_type": "code",
   "execution_count": 38,
   "id": "42f2a4da-255f-488f-82d0-1ce9397e041a",
   "metadata": {},
   "outputs": [
    {
     "name": "stdout",
     "output_type": "stream",
     "text": [
      "Rate your day from a scale of 1 to 10.\n"
     ]
    },
    {
     "name": "stdin",
     "output_type": "stream",
     "text": [
      " 3\n"
     ]
    },
    {
     "name": "stdout",
     "output_type": "stream",
     "text": [
      "So you rated the day as 3.\n"
     ]
    }
   ],
   "source": [
    "print('Rate your day from a scale of 1 to 10.')\n",
    "rating = input()\n",
    "print('So you rated the day as {}.'.format(rating))"
   ]
  },
  {
   "cell_type": "markdown",
   "id": "af59bf56-0018-4c37-98bc-b42aa8fc53b3",
   "metadata": {},
   "source": [
    "### Activity 3 DONE"
   ]
  },
  {
   "cell_type": "code",
   "execution_count": 39,
   "id": "22a69620-f56f-4be7-89b6-ad9c4db39351",
   "metadata": {},
   "outputs": [],
   "source": [
    "destination = 'San Francisco'"
   ]
  },
  {
   "cell_type": "code",
   "execution_count": 40,
   "id": "567528b6-d766-4f51-8065-cd1d8c40640e",
   "metadata": {},
   "outputs": [
    {
     "data": {
      "text/plain": [
       "'S'"
      ]
     },
     "execution_count": 40,
     "metadata": {},
     "output_type": "execute_result"
    }
   ],
   "source": [
    "destination[0]"
   ]
  },
  {
   "cell_type": "code",
   "execution_count": 41,
   "id": "f1e98247-179a-4e8d-ba2d-54929efd3e40",
   "metadata": {},
   "outputs": [
    {
     "data": {
      "text/plain": [
       "'a'"
      ]
     },
     "execution_count": 41,
     "metadata": {},
     "output_type": "execute_result"
    }
   ],
   "source": [
    "destination[1]"
   ]
  },
  {
   "cell_type": "code",
   "execution_count": 42,
   "id": "ec398f97-7469-4b27-937b-47f6c097a552",
   "metadata": {},
   "outputs": [
    {
     "data": {
      "text/plain": [
       "'n'"
      ]
     },
     "execution_count": 42,
     "metadata": {},
     "output_type": "execute_result"
    }
   ],
   "source": [
    "destination[2]"
   ]
  },
  {
   "cell_type": "code",
   "execution_count": 43,
   "id": "5ef1c489-f06d-421f-a636-cb6416254f49",
   "metadata": {},
   "outputs": [
    {
     "data": {
      "text/plain": [
       "'o'"
      ]
     },
     "execution_count": 43,
     "metadata": {},
     "output_type": "execute_result"
    }
   ],
   "source": [
    "destination[-1]"
   ]
  },
  {
   "cell_type": "code",
   "execution_count": 44,
   "id": "c5f233ba-29bf-40ed-9655-d56931800d23",
   "metadata": {},
   "outputs": [
    {
     "data": {
      "text/plain": [
       "'o'"
      ]
     },
     "execution_count": 44,
     "metadata": {},
     "output_type": "execute_result"
    }
   ],
   "source": [
    "destination[len(destination)-1]"
   ]
  },
  {
   "cell_type": "code",
   "execution_count": 45,
   "id": "a848fbf6-b72b-4d03-9ae0-eb2de06c871e",
   "metadata": {},
   "outputs": [
    {
     "data": {
      "text/plain": [
       "'c'"
      ]
     },
     "execution_count": 45,
     "metadata": {},
     "output_type": "execute_result"
    }
   ],
   "source": [
    "destination[-2]"
   ]
  },
  {
   "cell_type": "code",
   "execution_count": 46,
   "id": "882749d8-7de7-4ecc-a54e-93fbf449a1f9",
   "metadata": {},
   "outputs": [
    {
     "data": {
      "text/plain": [
       "'c'"
      ]
     },
     "execution_count": 46,
     "metadata": {},
     "output_type": "execute_result"
    }
   ],
   "source": [
    "destination[len(destination)-2]"
   ]
  },
  {
   "cell_type": "code",
   "execution_count": 47,
   "id": "c3430d2b-cfbb-46b7-87e3-633009915c13",
   "metadata": {},
   "outputs": [
    {
     "data": {
      "text/plain": [
       "' '"
      ]
     },
     "execution_count": 47,
     "metadata": {},
     "output_type": "execute_result"
    }
   ],
   "source": [
    "bridge = 'Golden Gate'\n",
    "bridge[6]"
   ]
  },
  {
   "cell_type": "code",
   "execution_count": 48,
   "id": "fae91707-f869-471d-a4ff-21f753f02b6e",
   "metadata": {},
   "outputs": [
    {
     "data": {
      "text/plain": [
       "'Francis'"
      ]
     },
     "execution_count": 48,
     "metadata": {},
     "output_type": "execute_result"
    }
   ],
   "source": [
    "destination[4:11]"
   ]
  },
  {
   "cell_type": "code",
   "execution_count": 49,
   "id": "88fcde80-d9a3-455d-8bac-3355c33d7c46",
   "metadata": {},
   "outputs": [
    {
     "data": {
      "text/plain": [
       "'San'"
      ]
     },
     "execution_count": 49,
     "metadata": {},
     "output_type": "execute_result"
    }
   ],
   "source": [
    "destination[0:3]"
   ]
  },
  {
   "cell_type": "code",
   "execution_count": 52,
   "id": "405261a4-4331-47fe-aa65-3ae4cb2cdc32",
   "metadata": {},
   "outputs": [
    {
     "data": {
      "text/plain": [
       "'San'"
      ]
     },
     "execution_count": 52,
     "metadata": {},
     "output_type": "execute_result"
    }
   ],
   "source": [
    "destination[:3]"
   ]
  },
  {
   "cell_type": "code",
   "execution_count": 53,
   "id": "fb345845-d618-4018-9f49-3f94538e2af4",
   "metadata": {},
   "outputs": [
    {
     "data": {
      "text/plain": [
       "'sco'"
      ]
     },
     "execution_count": 53,
     "metadata": {},
     "output_type": "execute_result"
    }
   ],
   "source": [
    "destination[-3:]"
   ]
  },
  {
   "cell_type": "code",
   "execution_count": 1,
   "id": "e697e390-7cc7-423c-b2dd-b62de026cf6e",
   "metadata": {},
   "outputs": [
    {
     "data": {
      "text/plain": [
       "bool"
      ]
     },
     "execution_count": 1,
     "metadata": {},
     "output_type": "execute_result"
    }
   ],
   "source": [
    "over_18 = True\n",
    "type(over_18)"
   ]
  },
  {
   "cell_type": "code",
   "execution_count": 2,
   "id": "3a7b6786-7ea6-48d1-8204-b7d4125e6a2a",
   "metadata": {},
   "outputs": [
    {
     "data": {
      "text/plain": [
       "bool"
      ]
     },
     "execution_count": 2,
     "metadata": {},
     "output_type": "execute_result"
    }
   ],
   "source": [
    "over_21 = False\n",
    "type(over_21)"
   ]
  },
  {
   "cell_type": "code",
   "execution_count": 3,
   "id": "9d010cda-c754-47d7-bac4-43fcf5f14bc8",
   "metadata": {},
   "outputs": [
    {
     "name": "stdout",
     "output_type": "stream",
     "text": [
      "False\n"
     ]
    }
   ],
   "source": [
    "# Predict False\n",
    "print(over_18 and over_21)"
   ]
  },
  {
   "cell_type": "code",
   "execution_count": 5,
   "id": "21492495-b9a4-43e0-b11e-76146e660943",
   "metadata": {},
   "outputs": [
    {
     "name": "stdout",
     "output_type": "stream",
     "text": [
      "True\n"
     ]
    }
   ],
   "source": [
    "# Predict True\n",
    "print(over_18 or over_21)"
   ]
  },
  {
   "cell_type": "code",
   "execution_count": 6,
   "id": "1ea8f56f-1e08-4ca2-8087-ec3f37ca93dc",
   "metadata": {},
   "outputs": [
    {
     "name": "stdout",
     "output_type": "stream",
     "text": [
      "False\n"
     ]
    }
   ],
   "source": [
    "# Predict False\n",
    "print (not over_18)"
   ]
  },
  {
   "cell_type": "code",
   "execution_count": 7,
   "id": "a41d177e-690c-4c03-b7f0-266c8522e20a",
   "metadata": {},
   "outputs": [
    {
     "name": "stdout",
     "output_type": "stream",
     "text": [
      "True\n"
     ]
    }
   ],
   "source": [
    "# Predict True\n",
    "print (not over_21 or (over_21 or over_18))"
   ]
  },
  {
   "cell_type": "markdown",
   "id": "64daae40-eeec-4ab7-b1ef-a2d7ba7e615b",
   "metadata": {},
   "source": [
    "### Exercise 14: Comparison Operators"
   ]
  },
  {
   "cell_type": "code",
   "execution_count": 8,
   "id": "143f892e-4511-4857-b683-bd3d7b42c1ab",
   "metadata": {},
   "outputs": [
    {
     "data": {
      "text/plain": [
       "False"
      ]
     },
     "execution_count": 8,
     "metadata": {},
     "output_type": "execute_result"
    }
   ],
   "source": [
    "age = 20\n",
    "age < 13"
   ]
  },
  {
   "cell_type": "code",
   "execution_count": 9,
   "id": "03f889a7-ea7a-42a4-81cb-8c84b7e1e968",
   "metadata": {},
   "outputs": [
    {
     "data": {
      "text/plain": [
       "True"
      ]
     },
     "execution_count": 9,
     "metadata": {},
     "output_type": "execute_result"
    }
   ],
   "source": [
    "age >= 20 and age <= 21"
   ]
  },
  {
   "cell_type": "code",
   "execution_count": 10,
   "id": "62c5f266-ad50-46a3-9181-9786613bbf4b",
   "metadata": {},
   "outputs": [
    {
     "data": {
      "text/plain": [
       "True"
      ]
     },
     "execution_count": 10,
     "metadata": {},
     "output_type": "execute_result"
    }
   ],
   "source": [
    "age != 21"
   ]
  },
  {
   "cell_type": "code",
   "execution_count": 11,
   "id": "109084b5-99a0-4786-a19d-c6f3c3555d67",
   "metadata": {},
   "outputs": [
    {
     "data": {
      "text/plain": [
       "False"
      ]
     },
     "execution_count": 11,
     "metadata": {},
     "output_type": "execute_result"
    }
   ],
   "source": [
    "age == 19"
   ]
  },
  {
   "cell_type": "code",
   "execution_count": 12,
   "id": "25d146a0-645c-4a3e-9cc3-3d1d5bc95e09",
   "metadata": {},
   "outputs": [
    {
     "data": {
      "text/plain": [
       "True"
      ]
     },
     "execution_count": 12,
     "metadata": {},
     "output_type": "execute_result"
    }
   ],
   "source": [
    "6 == 6.0"
   ]
  },
  {
   "cell_type": "code",
   "execution_count": 13,
   "id": "d7bf8a51-e50d-4c6c-8ad7-c09cb2143056",
   "metadata": {},
   "outputs": [
    {
     "data": {
      "text/plain": [
       "False"
      ]
     },
     "execution_count": 13,
     "metadata": {},
     "output_type": "execute_result"
    }
   ],
   "source": [
    "6 == '6'"
   ]
  },
  {
   "cell_type": "code",
   "execution_count": 14,
   "id": "1ec9b2a5-b68c-4cb2-961f-00ffc45da361",
   "metadata": {},
   "outputs": [
    {
     "data": {
      "text/plain": [
       "True"
      ]
     },
     "execution_count": 14,
     "metadata": {},
     "output_type": "execute_result"
    }
   ],
   "source": [
    "(age >= 20 and age < 30) or (age >= 30 and age < 40)"
   ]
  },
  {
   "cell_type": "code",
   "execution_count": 15,
   "id": "8ee37e6f-072b-41d5-8ffd-f7796fec76f7",
   "metadata": {},
   "outputs": [
    {
     "data": {
      "text/plain": [
       "True"
      ]
     },
     "execution_count": 15,
     "metadata": {},
     "output_type": "execute_result"
    }
   ],
   "source": [
    "(20 <= age < 30) or (30 <= age < 40)"
   ]
  },
  {
   "cell_type": "markdown",
   "id": "a8ee2428-e69a-4ebe-b9df-dfae0fc772f0",
   "metadata": {},
   "source": [
    "### Exercise 15: Comparing Strings"
   ]
  },
  {
   "cell_type": "code",
   "execution_count": 17,
   "id": "ba51bde7-b75a-44b6-b2b4-246f1a41095f",
   "metadata": {},
   "outputs": [
    {
     "data": {
      "text/plain": [
       "True"
      ]
     },
     "execution_count": 17,
     "metadata": {},
     "output_type": "execute_result"
    }
   ],
   "source": [
    "'a' < 'c'"
   ]
  },
  {
   "cell_type": "code",
   "execution_count": 18,
   "id": "1bc95770-d665-4c0c-a536-3f85f3a19b5c",
   "metadata": {},
   "outputs": [
    {
     "data": {
      "text/plain": [
       "False"
      ]
     },
     "execution_count": 18,
     "metadata": {},
     "output_type": "execute_result"
    }
   ],
   "source": [
    "'New York' > 'San Francisco'"
   ]
  },
  {
   "cell_type": "markdown",
   "id": "22f478e0-0936-4e7b-b2c1-b5d112b013ac",
   "metadata": {},
   "source": [
    "### Exercise 16: Using the if Syntax"
   ]
  },
  {
   "cell_type": "code",
   "execution_count": 19,
   "id": "ce5d8b86-5145-4b55-9002-525cf766c4be",
   "metadata": {},
   "outputs": [
    {
     "name": "stdout",
     "output_type": "stream",
     "text": [
      "At least you can vote.\n",
      "Poker will have to wait.\n"
     ]
    }
   ],
   "source": [
    "age = 20\n",
    "if age >= 18 and age < 21:\n",
    "    print('At least you can vote.')\n",
    "    print('Poker will have to wait.')"
   ]
  },
  {
   "cell_type": "code",
   "execution_count": 20,
   "id": "58ee52ea-6431-4858-b1c2-e9c6cc4bb03e",
   "metadata": {},
   "outputs": [
    {
     "name": "stdout",
     "output_type": "stream",
     "text": [
      "You can vote.\n"
     ]
    }
   ],
   "source": [
    "if age >= 18:\n",
    "    print('You can vote.')\n",
    "    if age >= 21:\n",
    "        print('You can play poker.')"
   ]
  },
  {
   "cell_type": "markdown",
   "id": "5247474d-92c6-4d37-9e69-8fd765202eae",
   "metadata": {},
   "source": [
    "### Exercise 17: Using the if-else Syntax"
   ]
  },
  {
   "cell_type": "code",
   "execution_count": 21,
   "id": "a56b9bab-f5a5-4daf-aa89-976d1bd9772f",
   "metadata": {},
   "outputs": [
    {
     "name": "stdout",
     "output_type": "stream",
     "text": [
      "Welcome to our voting program.\n"
     ]
    }
   ],
   "source": [
    "age = 20\n",
    "if age < 18:\n",
    "    print('You aren\\'t old enough to vote.')\n",
    "else:\n",
    "    print('Welcome to our voting program.')"
   ]
  },
  {
   "cell_type": "code",
   "execution_count": 23,
   "id": "762e606e-80fb-4f8a-9dbf-fc8bae767bcf",
   "metadata": {},
   "outputs": [
    {
     "name": "stdout",
     "output_type": "stream",
     "text": [
      "Welcome to our voting program\n"
     ]
    }
   ],
   "source": [
    "if age >= 18:\n",
    "    print('Welcome to our voting program')\n",
    "else:\n",
    "    print('You aren\\'t old enough to vote.')"
   ]
  },
  {
   "cell_type": "code",
   "execution_count": 24,
   "id": "e08e2327-ad03-4f6e-9b46-2c251355765b",
   "metadata": {},
   "outputs": [
    {
     "name": "stdout",
     "output_type": "stream",
     "text": [
      "Seize the day.\n"
     ]
    }
   ],
   "source": [
    "if (age <= 10):\n",
    "    print('Listen, learn and have fun.')\n",
    "elif age <= 19:\n",
    "    print('Go fearlessly forward.')\n",
    "elif age <= 29:\n",
    "    print('Seize the day.')\n",
    "elif age <= 39:\n",
    "    print('Go for what you want.')\n",
    "elif age <= 59:\n",
    "    print('Stay physically fit and healthy.')\n",
    "else:\n",
    "    print('Each day is magical.')"
   ]
  },
  {
   "cell_type": "code",
   "execution_count": 25,
   "id": "3d18532b-2028-44b6-957b-c09242603901",
   "metadata": {},
   "outputs": [
    {
     "name": "stdout",
     "output_type": "stream",
     "text": [
      "1\n",
      "2\n",
      "3\n",
      "4\n",
      "5\n",
      "6\n",
      "7\n",
      "8\n",
      "9\n",
      "10\n"
     ]
    }
   ],
   "source": [
    "i = 1\n",
    "while i <= 10:\n",
    "    print(i)\n",
    "    i += 1"
   ]
  },
  {
   "cell_type": "code",
   "execution_count": 26,
   "id": "77751a58-c9f8-40ff-8bab-174f6a7aec8e",
   "metadata": {},
   "outputs": [
    {
     "name": "stdout",
     "output_type": "stream",
     "text": [
      " 102 is the first number greater than 100 that is divisible by 17.\n"
     ]
    }
   ],
   "source": [
    "# Find first number greater than 100 and divisible by 17.\n",
    "x = 100\n",
    "while x <= 1000:\n",
    "    x += 1\n",
    "    if x % 17 == 0:\n",
    "        print('', x, 'is the first number greater than 100 that is divisible by 17.')\n",
    "        break"
   ]
  },
  {
   "cell_type": "markdown",
   "id": "53eb620f-29cd-48bd-95f1-9b6da210a59b",
   "metadata": {},
   "source": [
    "# Activity 4: Finding the Least Common Multiple (LCM)"
   ]
  },
  {
   "cell_type": "code",
   "execution_count": 29,
   "id": "0470217f-37d6-4ed4-aecd-8058776e9301",
   "metadata": {},
   "outputs": [
    {
     "name": "stdout",
     "output_type": "stream",
     "text": [
      "lcm:  72\n"
     ]
    }
   ],
   "source": [
    "## The LCM of two divisors is teh first number that both divisors can divide\n",
    "divisor_1, divisor_2 = 24, 36\n",
    "lcm_not_found = True\n",
    "iterator = min(24, 36)\n",
    "while lcm_not_found:\n",
    "    if (iterator % divisor_1 == 0) and (iterator % divisor_2 == 0):\n",
    "        lcm_not_found = False\n",
    "        break\n",
    "    iterator += 1\n",
    "print('lcm: ', iterator)\n",
    "    "
   ]
  },
  {
   "cell_type": "markdown",
   "id": "0103cbf3-b2dc-4fd2-b137-29eeed451bd7",
   "metadata": {},
   "source": [
    "### Exercise 18: Calculating Perfect Squares"
   ]
  },
  {
   "cell_type": "code",
   "execution_count": 31,
   "id": "6ba0efd8-97c5-4670-b340-a763f295cc86",
   "metadata": {},
   "outputs": [
    {
     "name": "stdout",
     "output_type": "stream",
     "text": [
      "Enter a number to see if it's a perfect square.\n"
     ]
    },
    {
     "name": "stdin",
     "output_type": "stream",
     "text": [
      " 64\n"
     ]
    },
    {
     "name": "stdout",
     "output_type": "stream",
     "text": [
      "The square root of 64 is 8 .\n"
     ]
    }
   ],
   "source": [
    "print('Enter a number to see if it\\'s a perfect square.')\n",
    "number = input()\n",
    "number = abs(int(number))\n",
    "i = -1\n",
    "square = False\n",
    "while i < number**0.5:\n",
    "    i += 1\n",
    "    if i*i == number:\n",
    "        square = True\n",
    "        break\n",
    "if square:\n",
    "    print('The square root of', number, 'is', i, '.')\n",
    "else:\n",
    "    print('', number, 'is not a perfect square.')\n",
    "    "
   ]
  },
  {
   "cell_type": "markdown",
   "id": "753e4b66-9dca-4aeb-b8df-da782390c1b7",
   "metadata": {},
   "source": [
    "### Exercise 19: Real Estate Offer"
   ]
  },
  {
   "cell_type": "code",
   "execution_count": 33,
   "id": "68e64950-c7dc-47d1-bc78-b5852853bb6b",
   "metadata": {},
   "outputs": [
    {
     "name": "stdout",
     "output_type": "stream",
     "text": [
      "A one bedroom in the Bay Area is listed at $599,999\n",
      "Enter your first offer on the house.\n"
     ]
    },
    {
     "name": "stdin",
     "output_type": "stream",
     "text": [
      " 500000\n"
     ]
    },
    {
     "name": "stdout",
     "output_type": "stream",
     "text": [
      "Enter your best offer on the house.\n"
     ]
    },
    {
     "name": "stdin",
     "output_type": "stream",
     "text": [
      " 690000\n"
     ]
    },
    {
     "name": "stdout",
     "output_type": "stream",
     "text": [
      "How much more do you want to offer each time?\n"
     ]
    },
    {
     "name": "stdin",
     "output_type": "stream",
     "text": [
      " 50000\n"
     ]
    },
    {
     "name": "stdout",
     "output_type": "stream",
     "text": [
      "We're sorry, your offer of', offer, 'has not been accepted.\n",
      "We're sorry, your offer of', offer, 'has not been accepted.\n",
      "We're sorry, your offer of', offer, 'has not been accepted.\n",
      "Your offer of 650000 has been accepted!\n"
     ]
    }
   ],
   "source": [
    "print('A one bedroom in the Bay Area is listed at $599,999')\n",
    "print('Enter your first offer on the house.')\n",
    "offer = abs(int(input()))\n",
    "print('Enter your best offer on the house.')\n",
    "best = abs(int(input()))\n",
    "print('How much more do you want to offer each time?')\n",
    "increment = abs(int(input()))\n",
    "offer_accepted = False\n",
    "while offer <= best:\n",
    "    if offer >= 650000:\n",
    "        offer_accepted = True\n",
    "        print('Your offer of', offer, 'has been accepted!')\n",
    "        break\n",
    "    print(\"We're sorry, your offer of', offer, 'has not been accepted.\")\n",
    "\n",
    "    offer += increment"
   ]
  },
  {
   "cell_type": "markdown",
   "id": "83cb633e-6180-4be7-8d3d-ab6d6abec0c5",
   "metadata": {},
   "source": [
    "### Exercise 20: Using for Loops"
   ]
  },
  {
   "cell_type": "code",
   "execution_count": 34,
   "id": "d2e7fdd4-b812-4847-8a68-0d3a39c7cf3e",
   "metadata": {},
   "outputs": [
    {
     "name": "stdout",
     "output_type": "stream",
     "text": [
      "P\n",
      "o\n",
      "r\n",
      "t\n",
      "l\n",
      "a\n",
      "n\n",
      "d\n"
     ]
    }
   ],
   "source": [
    "for i in 'Portland':\n",
    "    print(i)"
   ]
  },
  {
   "cell_type": "code",
   "execution_count": 35,
   "id": "7f658c76-7a77-499e-b67b-7829a54def9c",
   "metadata": {},
   "outputs": [
    {
     "name": "stdout",
     "output_type": "stream",
     "text": [
      "1\n",
      "2\n",
      "3\n",
      "4\n",
      "5\n",
      "6\n",
      "7\n",
      "8\n",
      "9\n"
     ]
    }
   ],
   "source": [
    "for i in range(1,10):\n",
    "    print(i)"
   ]
  },
  {
   "cell_type": "code",
   "execution_count": 37,
   "id": "2fc41a82-0773-4d49-affb-4b346c6214ac",
   "metadata": {},
   "outputs": [
    {
     "name": "stdout",
     "output_type": "stream",
     "text": [
      "0\n",
      "1\n",
      "2\n",
      "3\n",
      "4\n",
      "5\n",
      "6\n",
      "7\n",
      "8\n",
      "9\n"
     ]
    }
   ],
   "source": [
    "for i in range(10):\n",
    "    print(i)"
   ]
  },
  {
   "cell_type": "code",
   "execution_count": 38,
   "id": "2550eea6-af15-4b27-8f7e-4eec6348281c",
   "metadata": {},
   "outputs": [
    {
     "name": "stdout",
     "output_type": "stream",
     "text": [
      "1\n",
      "3\n",
      "5\n",
      "7\n",
      "9\n"
     ]
    }
   ],
   "source": [
    "for i in range(1,11,2):\n",
    "    print(i)"
   ]
  },
  {
   "cell_type": "code",
   "execution_count": 39,
   "id": "f001d6a2-3ec8-456d-bb91-345e7c6193ee",
   "metadata": {},
   "outputs": [
    {
     "name": "stdout",
     "output_type": "stream",
     "text": [
      "3\n",
      "2\n",
      "1\n"
     ]
    }
   ],
   "source": [
    "for i in range(3,0,-1):\n",
    "    print(i)"
   ]
  },
  {
   "cell_type": "code",
   "execution_count": 40,
   "id": "e9db940e-aca4-4d48-9c0a-676dc83e8fb0",
   "metadata": {},
   "outputs": [
    {
     "name": "stdout",
     "output_type": "stream",
     "text": [
      "C\n",
      "o\n",
      "r\n",
      "e\n",
      "y\n",
      "C\n",
      "o\n",
      "r\n",
      "e\n",
      "y\n",
      "C\n",
      "o\n",
      "r\n",
      "e\n",
      "y\n"
     ]
    }
   ],
   "source": [
    "name = 'Corey'\n",
    "for i in range(3):\n",
    "    for i in name:\n",
    "        print(i)"
   ]
  },
  {
   "cell_type": "code",
   "execution_count": 41,
   "id": "8fdf86ae-61d1-4a1c-ace0-b90d2a5649a5",
   "metadata": {},
   "outputs": [
    {
     "name": "stdout",
     "output_type": "stream",
     "text": [
      "11\n",
      "13\n",
      "17\n",
      "19\n",
      "23\n",
      "29\n",
      "31\n",
      "37\n",
      "41\n",
      "43\n",
      "47\n",
      "53\n",
      "59\n",
      "61\n",
      "67\n",
      "71\n",
      "73\n",
      "79\n",
      "83\n",
      "89\n",
      "97\n"
     ]
    }
   ],
   "source": [
    "for num in range(10,100):\n",
    "    if num % 2 == 0:\n",
    "        continue\n",
    "    if num % 3 == 0:\n",
    "        continue\n",
    "    if num % 5 == 0:\n",
    "        continue\n",
    "    if num % 7 == 0:\n",
    "        continue\n",
    "    print(num)"
   ]
  },
  {
   "cell_type": "markdown",
   "id": "3f24569e-8202-4689-b648-a73a4c0d6202",
   "metadata": {},
   "source": [
    "# Activity 5: Building Conversational Bots Using Python"
   ]
  },
  {
   "cell_type": "code",
   "execution_count": 48,
   "id": "78d57e8a-9220-457d-bfc5-22609b84dbec",
   "metadata": {},
   "outputs": [
    {
     "name": "stdout",
     "output_type": "stream",
     "text": [
      "How old are you?\n"
     ]
    },
    {
     "name": "stdin",
     "output_type": "stream",
     "text": [
      " 15\n"
     ]
    },
    {
     "name": "stdout",
     "output_type": "stream",
     "text": [
      "Is it hard being 15 years old?\n"
     ]
    },
    {
     "name": "stdin",
     "output_type": "stream",
     "text": [
      " no\n"
     ]
    },
    {
     "name": "stdout",
     "output_type": "stream",
     "text": [
      "I agree with your answer that no being 15 years old is hard.\n"
     ]
    }
   ],
   "source": [
    "print(\"How old are you?\")\n",
    "age = abs(int(input()))\n",
    "print(\"Is it hard being\", age, \"years old?\")\n",
    "difficulty = input()\n",
    "print(\"I agree with your answer that\", difficulty, \"being\", age, \"years old is hard.\")"
   ]
  },
  {
   "cell_type": "code",
   "execution_count": null,
   "id": "82a1d505-c4fa-4433-a984-e96e299c0dea",
   "metadata": {},
   "outputs": [],
   "source": [
    "print(\"How well can you dance? On a scale from 1-10. 1-Can't dance to 10-Professional\")\n",
    "dance_scale = abs(int(input()))\n",
    "if scale <= 5:\n",
    "    print(\"You can always take dance lessons!\")\n",
    "elif scale <= 8:\n",
    "    print(\"A dancer - let's go out!\")\n",
    "else:\n",
    "    print(\"Can't touch "
   ]
  }
 ],
 "metadata": {
  "kernelspec": {
   "display_name": "Python 3 (ipykernel)",
   "language": "python",
   "name": "python3"
  },
  "language_info": {
   "codemirror_mode": {
    "name": "ipython",
    "version": 3
   },
   "file_extension": ".py",
   "mimetype": "text/x-python",
   "name": "python",
   "nbconvert_exporter": "python",
   "pygments_lexer": "ipython3",
   "version": "3.12.4"
  }
 },
 "nbformat": 4,
 "nbformat_minor": 5
}
